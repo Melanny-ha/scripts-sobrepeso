{
 "cells": [
  {
   "cell_type": "code",
   "execution_count": 25,
   "id": "49e89eda",
   "metadata": {},
   "outputs": [],
   "source": [
    "import pandas as pd"
   ]
  },
  {
   "cell_type": "code",
   "execution_count": 26,
   "id": "2e1f8cb6",
   "metadata": {},
   "outputs": [],
   "source": [
    "dataframe = {\n",
    "    'Real_empaque_calculado': [100, 200],\n",
    "    'Debe_ser_empaque_calculado': [95, 190],\n",
    "    'Diferencia_calculado': [5, 10],\n",
    "    'Impte.ML': [10000, 20000],\n",
    "    'Ctd.': [100, 200]\n",
    "}"
   ]
  },
  {
   "cell_type": "code",
   "execution_count": 27,
   "id": "6765afb4",
   "metadata": {},
   "outputs": [],
   "source": [
    "df_prueba = pd.DataFrame(dataframe)"
   ]
  },
  {
   "cell_type": "code",
   "execution_count": 28,
   "id": "cb4134d8",
   "metadata": {},
   "outputs": [],
   "source": [
    "meta = 0.05"
   ]
  },
  {
   "cell_type": "code",
   "execution_count": 29,
   "id": "1010b57c",
   "metadata": {},
   "outputs": [],
   "source": [
    "#Funcion para calcular las columnas Real_empaque, Debe_ser_empaque, Diferencia, Sobrepeso, Meta, Costos y Ahorros_Perdidas\n",
    "def calcular_columnas_totalizado(df, meta):\n",
    "  df['Real_empaque'] = df['Real_empaque_calculado']\n",
    "  df['Debe_ser_empaque'] = df['Debe_ser_empaque_calculado']\n",
    "  df['Diferencia'] = df['Diferencia_calculado']\n",
    "  df['Sobrepeso'] = df['Diferencia'] / df['Debe_ser_empaque']\n",
    "  df['Meta'] = meta\n",
    "  df['Costo/kg'] = df['Impte.ML'] / df['Ctd.']\n",
    "  df['Ahorros_Perdidas'] = (df['Meta'] - df['Sobrepeso']) * df['Real_empaque'] * df['Costo/kg']\n",
    "  return df"
   ]
  },
  {
   "cell_type": "code",
   "execution_count": 30,
   "id": "6b1bf9ed",
   "metadata": {},
   "outputs": [],
   "source": [
    "df_prueba = calcular_columnas_totalizado(df_prueba, meta)"
   ]
  },
  {
   "cell_type": "code",
   "execution_count": 37,
   "id": "2dd0f966",
   "metadata": {},
   "outputs": [
    {
     "name": "stdout",
     "output_type": "stream",
     "text": [
      "   Real_empaque_calculado  Debe_ser_empaque_calculado  Diferencia_calculado  \\\n",
      "0                     100                          95                     5   \n",
      "1                     200                         190                    10   \n",
      "\n",
      "   Sobrepeso  Meta  Costo/kg  Ahorros_Perdidas  \n",
      "0   0.052632  0.05     100.0        -26.315789  \n",
      "1   0.052632  0.05     100.0        -52.631579  \n"
     ]
    }
   ],
   "source": [
    "print(df_prueba[['Real_empaque_calculado', 'Debe_ser_empaque_calculado', 'Diferencia_calculado', 'Sobrepeso', 'Meta', 'Costo/kg', 'Ahorros_Perdidas']])\n",
    "#100\n",
    "#95\n",
    "#5\n",
    "#0,0526315789473684\n",
    "#0.05\n",
    "#100\n",
    "#-26,3157894\n"
   ]
  },
  {
   "cell_type": "code",
   "execution_count": 32,
   "id": "33fe1844",
   "metadata": {},
   "outputs": [],
   "source": [
    "#Funcion para calcular las columnas Real_empaque, Debe_ser_empaque, Diferencia, Sobrepeso y Meta para mezclas segun maquina\n",
    "def calcular_columnas_totalizado_mezclas(df):\n",
    "  df['Real_empaque'] = df['Unidades Producidas (Conformes) :'] * (df['Peso Promedio de la unidad (K):']/1000)\n",
    "  df['Debe_ser_empaque'] = df['Unidades Producidas (Conformes) :'] * (df['Gramaje (K):']/1000)\n",
    "  df['Diferencia'] = df['Real_empaque'] - df['Debe_ser_empaque']\n",
    "  df['Sobrepeso'] = df['Diferencia'] / df['Debe_ser_empaque']\n",
    "  df['Meta'] = df['Máquina / Equipo:'].map({'ENFLEX': 0.0056,\n",
    "                                            'TRANSPACK 2': 0.0033,\n",
    "                                            'INGEPACK': 0.0072,\n",
    "                                            'ROVEMA':0.0078,\n",
    "                                            'LANIC':0.0055,\n",
    "                                            'TOYO 7':0.0065,\n",
    "                                            'TOYO':0.0088,\n",
    "                                            'ENCAPSULADORA':0.006,\n",
    "                                            'INGEPACK 2':0.0068})\n",
    "\n",
    "  df['Costo/kg'] = df['Impte.ML'] / df['Ctd.']\n",
    "  df['Ahorros_Perdidas'] = (df['Meta'] - df['Sobrepeso']) * df['Real_empaque'] * df['Costo/kg']\n",
    "  return df"
   ]
  },
  {
   "cell_type": "code",
   "execution_count": 33,
   "id": "8593eb33",
   "metadata": {},
   "outputs": [
    {
     "name": "stdout",
     "output_type": "stream",
     "text": [
      "   Real_empaque  Debe_ser_empaque  Diferencia  Sobrepeso    Meta  Costo/kg  \\\n",
      "0          12.0              10.0         2.0        0.2  0.0088      80.0   \n",
      "\n",
      "   Ahorros_Perdidas  \n",
      "0          -183.552  \n"
     ]
    }
   ],
   "source": [
    "data_mezclas = {\n",
    "    'Unidades Producidas (Conformes) :': [1000],\n",
    "    'Peso Promedio de la unidad (K):': [12],  # gramos\n",
    "    'Gramaje (K):': [10],  # gramos\n",
    "    'Máquina / Equipo:': ['TOYO'],\n",
    "    'Impte.ML': [12000],\n",
    "    'Ctd.': [150]\n",
    "}\n",
    "df_mezclas = pd.DataFrame(data_mezclas)\n",
    "\n",
    "df_resultado = calcular_columnas_totalizado_mezclas(df_mezclas)\n",
    "print(df_resultado[['Real_empaque', 'Debe_ser_empaque', 'Diferencia', 'Sobrepeso', 'Meta', 'Costo/kg', 'Ahorros_Perdidas']])\n"
   ]
  },
  {
   "cell_type": "code",
   "execution_count": 38,
   "id": "2747a0d5",
   "metadata": {},
   "outputs": [],
   "source": [
    "def calcular_ahorros_perdidas(df):\n",
    "  df['Ahorros_Perdidas'] = (df['Meta'] - df['Sobrepeso_calculado']) * df['Real_empaque_calculado'] * df['Costo/kg']\n",
    "  return df"
   ]
  },
  {
   "cell_type": "code",
   "execution_count": 39,
   "id": "623f3f18",
   "metadata": {},
   "outputs": [],
   "source": [
    "data_simple = {\n",
    "    'Meta': [0.05],\n",
    "    'Sobrepeso_calculado': [0.04],\n",
    "    'Real_empaque_calculado': [100],\n",
    "    'Costo/kg': [50]\n",
    "}\n",
    "df_simple = pd.DataFrame(data_simple)\n",
    "\n",
    "df_resultado = calcular_ahorros_perdidas(df_simple)"
   ]
  },
  {
   "cell_type": "code",
   "execution_count": 40,
   "id": "19b4d33c",
   "metadata": {},
   "outputs": [
    {
     "name": "stdout",
     "output_type": "stream",
     "text": [
      "   Meta  Sobrepeso_calculado  Real_empaque_calculado  Costo/kg  \\\n",
      "0  0.05                 0.04                     100        50   \n",
      "\n",
      "   Ahorros_Perdidas  \n",
      "0              50.0  \n"
     ]
    }
   ],
   "source": [
    "print(df_resultado)"
   ]
  }
 ],
 "metadata": {
  "kernelspec": {
   "display_name": "Python 3",
   "language": "python",
   "name": "python3"
  },
  "language_info": {
   "codemirror_mode": {
    "name": "ipython",
    "version": 3
   },
   "file_extension": ".py",
   "mimetype": "text/x-python",
   "name": "python",
   "nbconvert_exporter": "python",
   "pygments_lexer": "ipython3",
   "version": "3.13.2"
  }
 },
 "nbformat": 4,
 "nbformat_minor": 5
}
