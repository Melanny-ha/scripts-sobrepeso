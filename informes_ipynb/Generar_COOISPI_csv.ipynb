{
 "cells": [
  {
   "cell_type": "code",
   "execution_count": 1,
   "metadata": {
    "executionInfo": {
     "elapsed": 13,
     "status": "ok",
     "timestamp": 1749471968296,
     "user": {
      "displayName": "Melanny Herrera Arenas",
      "userId": "10791965058209715546"
     },
     "user_tz": 300
    },
    "id": "cixYkiq1KUda"
   },
   "outputs": [],
   "source": [
    "import os\n",
    "import funciones_tpm as fc"
   ]
  },
  {
   "cell_type": "code",
   "execution_count": 2,
   "metadata": {
    "executionInfo": {
     "elapsed": 5,
     "status": "ok",
     "timestamp": 1749471968471,
     "user": {
      "displayName": "Melanny Herrera Arenas",
      "userId": "10791965058209715546"
     },
     "user_tz": 300
    },
    "id": "7wv5DVB6KdDH"
   },
   "outputs": [],
   "source": [
    "def rutas(num_cooispi):\n",
    "  #Rutas del archivo de la COOISPI\n",
    "  Ruta_COOISPI_2024 = f\"G:/.shortcut-targets-by-id/1lzhI3V8qzGYIWjuRcohkkLwKGTzfbmsY/Consolidado COOISPI/2024/{num_cooispi}.xlsx\"                                                            # Ruta COOISPI en 2024\n",
    "  Ruta_COOISPI_2025 = f\"G:/.shortcut-targets-by-id/1lzhI3V8qzGYIWjuRcohkkLwKGTzfbmsY/Consolidado COOISPI/2025/{num_cooispi}.xlsx\"                                                            # Ruta COOISPI en 2025\n",
    "\n",
    "  #Validacion de existencia de las rutas\n",
    "  for nombre, ruta in {\n",
    "    \"Ruta_COOISPI_2024\": Ruta_COOISPI_2024,\n",
    "    \"Ruta_COOISPI_2025\": Ruta_COOISPI_2025,\n",
    "  }.items():\n",
    "    if not os.path.exists(ruta):\n",
    "      print(f\"La ruta '{nombre}' no fue encontrada.\")\n",
    "    else:\n",
    "      print(f\"Ruta '{nombre}' encontrada.\")\n",
    "  return Ruta_COOISPI_2024, Ruta_COOISPI_2025"
   ]
  },
  {
   "cell_type": "markdown",
   "metadata": {
    "id": "504n2zPBKzRe"
   },
   "source": [
    "**------------------------------------------------------------------------------------------------------------------------------------------------------------**"
   ]
  },
  {
   "cell_type": "code",
   "execution_count": null,
   "metadata": {
    "executionInfo": {
     "elapsed": 4,
     "status": "ok",
     "timestamp": 1749471968471,
     "user": {
      "displayName": "Melanny Herrera Arenas",
      "userId": "10791965058209715546"
     },
     "user_tz": 300
    },
    "id": "n784TDb4KcqM"
   },
   "outputs": [],
   "source": [
    "def ejecutar_COOISPI(num_arch_cooispi, nombre_arch_salida, almacenes, material=None):\n",
    "  Ruta_COOISPI_2024, Ruta_COOISPI_2025 = rutas(num_arch_cooispi)\n",
    "\n",
    "  #leer_archivos_cooispi\n",
    "  df_COOISPI_2024 = fc.leer_archivo(Ruta_COOISPI_2024, 'Sheet1')\n",
    "  df_COOISPI_2025 = fc.leer_archivo(Ruta_COOISPI_2025, 'Sheet1')\n",
    "\n",
    "  #renombrar_cooispi\n",
    "  df_COOISPI_2024 = fc.renombrar_cooispi(df_COOISPI_2024)\n",
    "  df_COOISPI_2025 = fc.renombrar_cooispi(df_COOISPI_2025)\n",
    "\n",
    "  #procesar_cooispi\n",
    "  df_COOISPI = fc.procesar_cooispi(df_COOISPI_2024, df_COOISPI_2025)\n",
    "\n",
    "  #estandarizar_mes\n",
    "  df_COOISPI = fc.estandarizar_mes(df_COOISPI)\n",
    "\n",
    "  #filtrar_columna, tomar el Almacen para cada informe de TPM\n",
    "  df_COOISPI = fc.filtrar_columna(df_COOISPI, 'Almacén', almacenes)\n",
    "\n",
    "  #filtrar_material que comienzan por 8 y eliminarlos\n",
    "  df_COOISPI = fc.filtrar_material(df_COOISPI, '8')\n",
    "\n",
    "  df_COOISPI['Cl.mov.']=df_COOISPI['Cl.mov.'].astype('int64')\n",
    "\n",
    "  #filtrar_columna, tomar las clases con movimiento 101, 102(Producto terminado), 261, 262(Producto semielaborado)\n",
    "  df_COOISPI_101_102 = fc.filtrar_columna(df_COOISPI, 'Cl.mov.', [101, 102])\n",
    "  df_COOISPI_261_262 = fc.filtrar_columna(df_COOISPI, 'Cl.mov.', [261, 262])\n",
    "\n",
    "  #merge_cooispi/merge\n",
    "  df_COOISPI_COMB = fc.merge_cooispi(df_COOISPI_261_262, df_COOISPI_101_102)\n",
    "\n",
    "  #Filtrar materiales que comiencen por un número específico (solo si se especificó un valor en 'material') osea para Molido - Bogotá\n",
    "  if material is not None:\n",
    "    #Filtrar materiales que comiencen por 3\n",
    "    df_COOISPI_COMB = df_COOISPI_COMB[df_COOISPI_COMB['Material'].str.startswith(f\"{material}\")]\n",
    "    #Asignarle el nombre del centro\n",
    "    df_COOISPI_COMB['Centro']='CM15'\n",
    "  else:\n",
    "    #Asignarle el nombre del centro\n",
    "    df_COOISPI_COMB['Centro']='CM10'\n",
    "\n",
    "  #Renombrar columnas para quedar igual al archivo de Excel de Luz Indira\n",
    "  df_COOISPI_COMB.rename(columns={'Material_producto_term':'Codigo', 'Texto de material_producto_term':'TEXTO PT'},inplace=True)\n",
    "\n",
    "  #Definir columnas para df_COOISPI_COMB y asignarlas\n",
    "  Columnas=['Orden', 'Codigo','TEXTO PT','Doc.mat.','Cl.mov.','Material','Texto de material','Almacén','Lote','Centro','Unidad','Ctd.','Impte.ML','Fecha']\n",
    "  df_COOISPI_COMB=df_COOISPI_COMB[Columnas]\n",
    "\n",
    "  #Quitar Codigos que no empiezen o sean con un valor numerico\n",
    "  df_COOISPI_COMB = df_COOISPI_COMB[df_COOISPI_COMB['Codigo'].astype(str).str.isnumeric()]\n",
    "\n",
    "  #estandarizar la fecha creando la columna Mes y Año a partir de Fecha\n",
    "  df_COOISPI_COMB = fc.estandarizar_mes(df_COOISPI_COMB)\n",
    "\n",
    "  #Forzar el cambio de tipo de dato para un merge futuro en scripts principales\n",
    "  df_COOISPI_COMB['Codigo'] = df_COOISPI_COMB['Codigo'].astype(str)\n",
    "\n",
    "  #Rutas de destino\n",
    "  ruta_destino = r'\\\\10.28.5.232\\s3-1colcafeci-servicios-jtc\\TPM\\Colcafé Formularios\\BD Sobrepeso\\COOISPI'\n",
    "\n",
    "  df_COOISPI_COMB.to_csv(os.path.join(ruta_destino, f\"{nombre_arch_salida}.csv\"), index=False)\n",
    "\n",
    "  return df_COOISPI_COMB"
   ]
  },
  {
   "cell_type": "code",
   "execution_count": null,
   "metadata": {
    "colab": {
     "base_uri": "https://localhost:8080/"
    },
    "executionInfo": {
     "elapsed": 198477,
     "status": "ok",
     "timestamp": 1749472166945,
     "user": {
      "displayName": "Melanny Herrera Arenas",
      "userId": "10791965058209715546"
     },
     "user_tz": 300
    },
    "id": "OEo96yY6Kcms",
    "outputId": "d0511d38-6f94-4b96-a731-28b67164110c"
   },
   "outputs": [
    {
     "name": "stdout",
     "output_type": "stream",
     "text": [
      "Procesando archivo 'Datos_COOISPI_Empaques2'...\n",
      "Ruta 'Ruta_COOISPI_2024' encontrada.\n",
      "Ruta 'Ruta_COOISPI_2025' encontrada.\n",
      "✅ Archivo 'Datos_COOISPI_Empaques2' procesado correctamente. Registros: 9820\n",
      "\n",
      "Procesando archivo 'Datos_COOISPI_Env_Sol'...\n",
      "Ruta 'Ruta_COOISPI_2024' encontrada.\n",
      "Ruta 'Ruta_COOISPI_2025' encontrada.\n",
      "✅ Archivo 'Datos_COOISPI_Env_Sol' procesado correctamente. Registros: 26976\n",
      "\n",
      "Procesando archivo 'Datos_COOISPI_Mezclas'...\n",
      "Ruta 'Ruta_COOISPI_2024' encontrada.\n",
      "Ruta 'Ruta_COOISPI_2025' encontrada.\n",
      "✅ Archivo 'Datos_COOISPI_Mezclas' procesado correctamente. Registros: 20258\n",
      "\n",
      "Procesando archivo 'Datos_COOISPI_Molido'...\n",
      "Ruta 'Ruta_COOISPI_2024' encontrada.\n",
      "Ruta 'Ruta_COOISPI_2025' encontrada.\n",
      "✅ Archivo 'Datos_COOISPI_Molido' procesado correctamente. Registros: 12566\n",
      "\n",
      "Procesando archivo 'Datos_COOISPI_Molido_Bog'...\n",
      "Ruta 'Ruta_COOISPI_2024' encontrada.\n",
      "Ruta 'Ruta_COOISPI_2025' encontrada.\n",
      "✅ Archivo 'Datos_COOISPI_Molido_Bog' procesado correctamente. Registros: 14783\n",
      "\n"
     ]
    }
   ],
   "source": [
    "#Diccionario de datos de entrada por informe de TPM\n",
    "archivos = [\n",
    "  {\"codigo_ruta\": \"Z10\", \"nombre_arch\": \"Datos_COOISPI_Empaques2\", \"almacenes\": [1028, 1001], \"material\": None},\n",
    "  {\"codigo_ruta\": \"Z06\", \"nombre_arch\": \"Datos_COOISPI_Env_Sol\", \"almacenes\": [1035, 1001], \"material\": None},\n",
    "  {\"codigo_ruta\": \"Z09\", \"nombre_arch\": \"Datos_COOISPI_Mezclas\", \"almacenes\": [1038, 1001], \"material\": None},\n",
    "  {\"codigo_ruta\": \"Z02\", \"nombre_arch\": \"Datos_COOISPI_Molido\", \"almacenes\": [1030, 1001], \"material\": None},\n",
    "  {\"codigo_ruta\": \"Z02\", \"nombre_arch\": \"Datos_COOISPI_Molido_Bog\", \"almacenes\": [1530, 1501], \"material\": 3},\n",
    "]\n",
    "\n",
    "#Ejecucion de todos los informes\n",
    "resultados = {}\n",
    "\n",
    "for archivo in archivos:\n",
    "  print(f\"Procesando archivo '{archivo['nombre_arch']}'...\")\n",
    "  try:\n",
    "    df_resultado = ejecutar_COOISPI(\n",
    "      num_arch_cooispi = archivo[\"codigo_ruta\"],\n",
    "      nombre_arch_salida = archivo[\"nombre_arch\"],\n",
    "      almacenes = archivo[\"almacenes\"],\n",
    "      material = archivo[\"material\"],\n",
    "    )\n",
    "    resultados[archivo[\"nombre_arch\"]] = df_resultado\n",
    "    print(f\"✅ Archivo '{archivo['nombre_arch']}' procesado correctamente. Registros: {df_resultado.shape[0]}\\n\")\n",
    "  except Exception as e:\n",
    "    print(f\"❌ Error al procesar '{archivo['nombre_arch']}': {e}\\n\")"
   ]
  }
 ],
 "metadata": {
  "colab": {
   "authorship_tag": "ABX9TyNghsoKyscFhoNB1QIVh1ea",
   "provenance": []
  },
  "kernelspec": {
   "display_name": "Python 3",
   "name": "python3"
  },
  "language_info": {
   "codemirror_mode": {
    "name": "ipython",
    "version": 3
   },
   "file_extension": ".py",
   "mimetype": "text/x-python",
   "name": "python",
   "nbconvert_exporter": "python",
   "pygments_lexer": "ipython3",
   "version": "3.13.2"
  }
 },
 "nbformat": 4,
 "nbformat_minor": 0
}
