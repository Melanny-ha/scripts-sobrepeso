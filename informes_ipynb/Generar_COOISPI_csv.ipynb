{
 "cells": [
  {
   "cell_type": "code",
   "execution_count": 1,
   "metadata": {
    "executionInfo": {
     "elapsed": 13,
     "status": "ok",
     "timestamp": 1749471968296,
     "user": {
      "displayName": "Melanny Herrera Arenas",
      "userId": "10791965058209715546"
     },
     "user_tz": 300
    },
    "id": "cixYkiq1KUda"
   },
   "outputs": [],
   "source": [
    "import pandas as pd\n",
    "import os\n",
    "from openpyxl import load_workbook"
   ]
  },
  {
   "cell_type": "code",
   "execution_count": 2,
   "metadata": {
    "executionInfo": {
     "elapsed": 35,
     "status": "ok",
     "timestamp": 1749471968332,
     "user": {
      "displayName": "Melanny Herrera Arenas",
      "userId": "10791965058209715546"
     },
     "user_tz": 300
    },
    "id": "M6Kjs3KuKdle"
   },
   "outputs": [],
   "source": [
    "#Funcion para definir numero del mes segun nombre\n",
    "def mes_a_numero():\n",
    "  return {\n",
    "  \"Enero\": 1,\n",
    "  \"Febrero\": 2,\n",
    "  \"Marzo\": 3,\n",
    "  \"Abril\": 4,\n",
    "  \"Mayo\": 5,\n",
    "  \"Junio\": 6,\n",
    "  \"Julio\": 7,\n",
    "  \"Agosto\": 8,\n",
    "  \"Septiembre\": 9,\n",
    "  \"Octubre\": 10,\n",
    "  \"Noviembre\": 11,\n",
    "  \"Diciembre\": 12\n",
    "  }"
   ]
  },
  {
   "cell_type": "code",
   "execution_count": 3,
   "metadata": {
    "executionInfo": {
     "elapsed": 3,
     "status": "ok",
     "timestamp": 1749471968332,
     "user": {
      "displayName": "Melanny Herrera Arenas",
      "userId": "10791965058209715546"
     },
     "user_tz": 300
    },
    "id": "PFKiUkuXKdiN"
   },
   "outputs": [],
   "source": [
    "#Funcion para convertir mes de ingles a español\n",
    "def mes_eng_esp():\n",
    "  return {\n",
    "  \"January\":\"Enero\",\n",
    "  \"February\":\"Febrero\",\n",
    "  \"March\":\"Marzo\",\n",
    "  \"April\":\"Abril\",\n",
    "  \"May\":\"Mayo\",\n",
    "  \"June\":\"Junio\",\n",
    "  \"July\":\"Julio\",\n",
    "  \"August\":\"Agosto\",\n",
    "  \"September\":\"Septiembre\",\n",
    "  \"October\":\"Octubre\",\n",
    "  \"November\":\"Noviembre\",\n",
    "  \"December\":\"Diciembre\"\n",
    "  }"
   ]
  },
  {
   "cell_type": "code",
   "execution_count": 4,
   "metadata": {
    "executionInfo": {
     "elapsed": 3,
     "status": "ok",
     "timestamp": 1749471968382,
     "user": {
      "displayName": "Melanny Herrera Arenas",
      "userId": "10791965058209715546"
     },
     "user_tz": 300
    },
    "id": "FnKZMWEcKdcc"
   },
   "outputs": [],
   "source": [
    "#Funcion para leer los archivos de la COOISPI\n",
    "def leer_archivo(ruta, hoja=None):\n",
    "  try:\n",
    "    if not os.path.exists(ruta):  #Validar si la ruta existe\n",
    "      raise FileNotFoundError(f\"La ruta '{ruta}' no existe.\")\n",
    "\n",
    "    if ruta.lower().endswith('.csv'):  #Si la ruta es un csv\n",
    "      df = pd.read_csv(ruta)\n",
    "      return df\n",
    "    elif ruta.lower().endswith(('.xlsx', 'xls')):  #Sino, si es un xlsx o xls\n",
    "      excel = pd.ExcelFile(ruta)\n",
    "\n",
    "      if hoja not in excel.sheet_names:  #Verificar que la hoja solicitada exista\n",
    "        raise ValueError(f\"La hoja '{hoja}' no existe en el archivo. Hojas disponibles: {excel.sheet_names}\")\n",
    "\n",
    "      df = pd.read_excel(excel, sheet_name=hoja)  #Leer directamente la hoja\n",
    "      return df\n",
    "    else:\n",
    "      raise ValueError(\"Formato no soportado. Solo se permiten archivos CSV y Excel.\")\n",
    "  except Exception as e:\n",
    "    raise RuntimeError(f\"Error al leer archivo: {e}\")"
   ]
  },
  {
   "cell_type": "code",
   "execution_count": 5,
   "metadata": {
    "executionInfo": {
     "elapsed": 2,
     "status": "ok",
     "timestamp": 1749471968382,
     "user": {
      "displayName": "Melanny Herrera Arenas",
      "userId": "10791965058209715546"
     },
     "user_tz": 300
    },
    "id": "KwQ8kgRDKdZk"
   },
   "outputs": [],
   "source": [
    "#Funcion para renombrar las columnas de la COOISPI\n",
    "def renombrar_cooispi(df):\n",
    "  if df.empty:\n",
    "    print(\"El DataFrame está vacío.\")\n",
    "    return df\n",
    "\n",
    "  #Definir posibles diccionarios de renombrado\n",
    "  opcion_1 = {\n",
    "    'Unnamed: 0': 'Orden',\n",
    "    'Unnamed: 1': 'Material',\n",
    "    'Unnamed: 2': 'Texto de material',\n",
    "    'Unnamed: 3': 'Ctd.',\n",
    "    'Unnamed: 4': 'Lote',\n",
    "    'Unnamed: 5': 'Almacén',\n",
    "    'Unnamed: 6': 'Cl.mov.',\n",
    "    'Unnamed: 7': 'Unidad',\n",
    "    'Unnamed: 8': 'Doc.mat.',\n",
    "    'Unnamed: 9': 'Pto.desc.',\n",
    "    'Unnamed: 10': 'Fecha',\n",
    "    'Unnamed: 11': 'ctd.UME',\n",
    "    'Unnamed: 12': 'Impte.ML'\n",
    "  }\n",
    "\n",
    "  opcion_2 = {\n",
    "    'Orden': 'Orden',\n",
    "    'Material': 'Material',\n",
    "    'Texto de material': 'Texto de material',\n",
    "    'Ctd.en UM base y signo +/- (MEINS)': 'Ctd.',\n",
    "    'Lote': 'Lote',\n",
    "    'Almacén': 'Almacén',\n",
    "    'Clase de movimiento': 'Cl.mov.',\n",
    "    'Unidad medida base (=MEINS)': 'Unidad',\n",
    "    'Documento material': 'Doc.mat.',\n",
    "    'Puesto descarga': 'Pto.desc.',\n",
    "    'Fe.contabilización': 'Fecha',\n",
    "    'Ctd.en UM entrada (/CWM/ERFME)': 'ctd.UME',\n",
    "    'Importe ML (WAERS)': 'Impte.ML'\n",
    "  }\n",
    "\n",
    "  df_COOISPI = df.copy(deep=True) #Crear una copia completa de todo df\n",
    "\n",
    "  #Identificar las columnas actuales del DataFrame\n",
    "  columnas_actuales = df_COOISPI.columns\n",
    "\n",
    "  #Seleccionar el diccionario de renombrado adecuado\n",
    "  if set(opcion_1.keys()).issubset(columnas_actuales):\n",
    "    df_COOISPI.rename(columns=opcion_1, inplace=True)\n",
    "  elif set(opcion_2.keys()).issubset(columnas_actuales):\n",
    "    df_COOISPI.rename(columns=opcion_2, inplace=True)\n",
    "  else:\n",
    "    print(\"No se encontraron columnas coincidentes para renombrar.\")\n",
    "\n",
    "  return df_COOISPI"
   ]
  },
  {
   "cell_type": "code",
   "execution_count": 6,
   "metadata": {
    "executionInfo": {
     "elapsed": 2,
     "status": "ok",
     "timestamp": 1749471968383,
     "user": {
      "displayName": "Melanny Herrera Arenas",
      "userId": "10791965058209715546"
     },
     "user_tz": 300
    },
    "id": "NcGjy_KoKdWc"
   },
   "outputs": [],
   "source": [
    "#Funcion para normalizar dataframes\n",
    "def normalizar_dataframe(df):\n",
    "  if df.empty:\n",
    "    print(\"El DataFrame está vacío. No es posible normalizar.\")\n",
    "    return df\n",
    "  for col in df.columns:\n",
    "    #Convertir a str y eliminar espacios en columnas de tipo 'object'/strings\n",
    "    if df[col].dtype == 'object':\n",
    "      df[col] = df[col].astype(str).str.strip()\n",
    "  return df"
   ]
  },
  {
   "cell_type": "code",
   "execution_count": 7,
   "metadata": {
    "executionInfo": {
     "elapsed": 1,
     "status": "ok",
     "timestamp": 1749471968385,
     "user": {
      "displayName": "Melanny Herrera Arenas",
      "userId": "10791965058209715546"
     },
     "user_tz": 300
    },
    "id": "9cf2A1NlKdS0"
   },
   "outputs": [],
   "source": [
    "#Funcion para limpiar y unir dos DataFrames\n",
    "def procesar_cooispi(df1, df2):\n",
    "  if df1.empty or df2.empty:\n",
    "    raise ValueError(f\"Uno o ambos DataFrame están vacíos. Se requieren ambos para el procesamiento.\")\n",
    "\n",
    "  #Cambia los tipos de datos de las columnas de 2025 para que coincidan con los de 2024\n",
    "  #dtype= muestra tipo de dato, astype=metodo para convertir tipo de dato\n",
    "  df2 = df2.astype(df1.dtypes)\n",
    "\n",
    "  # Aplicar normalización(limpieza de columnas) a ambos DataFrames\n",
    "  df1 = normalizar_dataframe(df1)\n",
    "  df2 = normalizar_dataframe(df2)\n",
    "\n",
    "  if list(df1.columns) != list(df2.columns):\n",
    "    raise ValueError(f\"Las columnas de {df1} y {df2} no coinciden. No se puede continuar.\")\n",
    "\n",
    "  #Une ambos DataFrames verticalmente\n",
    "  df_COOISPI = pd.concat([df1, df2], ignore_index=True)\n",
    "\n",
    "  #Crea una copia completa de df_COOISPI\n",
    "  df_COOISPI = df_COOISPI.copy(deep=True)\n",
    "\n",
    "  return df_COOISPI"
   ]
  },
  {
   "cell_type": "code",
   "execution_count": 8,
   "metadata": {
    "executionInfo": {
     "elapsed": 45,
     "status": "ok",
     "timestamp": 1749471968433,
     "user": {
      "displayName": "Melanny Herrera Arenas",
      "userId": "10791965058209715546"
     },
     "user_tz": 300
    },
    "id": "bP2DmeEZKdP9"
   },
   "outputs": [],
   "source": [
    "#Funcion para estandarizar meses en ingles\n",
    "def estandarizar_mes(df):\n",
    "  if 'Fecha' not in df.columns:\n",
    "    print(f\"La columna 'Fecha' no existe en el DataFrame.\")\n",
    "    return df\n",
    "  df = df.copy()\n",
    "  df['Mes:'] = df['Fecha'].dt.strftime('%B').str.capitalize().map(mes_eng_esp())\n",
    "  df['Año:'] = df['Fecha'].dt.year.astype(int)\n",
    "  return df"
   ]
  },
  {
   "cell_type": "code",
   "execution_count": 9,
   "metadata": {
    "executionInfo": {
     "elapsed": 5,
     "status": "ok",
     "timestamp": 1749471968434,
     "user": {
      "displayName": "Melanny Herrera Arenas",
      "userId": "10791965058209715546"
     },
     "user_tz": 300
    },
    "id": "OecmZwD0KdNN"
   },
   "outputs": [],
   "source": [
    "#Funcion para filtrar columna por valor especifico\n",
    "def filtrar_columna(df, columna, valores):\n",
    "  if columna not in df.columns:\n",
    "    print(f\"La columna '{columna}' no existe en el DataFrame.\")\n",
    "    return df\n",
    "  return df[df[columna].isin(valores)]"
   ]
  },
  {
   "cell_type": "code",
   "execution_count": 10,
   "metadata": {
    "executionInfo": {
     "elapsed": 3,
     "status": "ok",
     "timestamp": 1749471968434,
     "user": {
      "displayName": "Melanny Herrera Arenas",
      "userId": "10791965058209715546"
     },
     "user_tz": 300
    },
    "id": "eajutvSBKdKM"
   },
   "outputs": [],
   "source": [
    "#Funcion para quitar los Materiales que empiezan en 8\n",
    "def filtrar_material(df, prefijo):\n",
    "  if 'Material' not in df.columns:\n",
    "    print(\"La columna 'Material' no existe en el DataFrame.\")\n",
    "    return df\n",
    "  return df[~df['Material'].astype(str).str.startswith(str(prefijo))]"
   ]
  },
  {
   "cell_type": "code",
   "execution_count": 11,
   "metadata": {
    "executionInfo": {
     "elapsed": 38,
     "status": "ok",
     "timestamp": 1749471968470,
     "user": {
      "displayName": "Melanny Herrera Arenas",
      "userId": "10791965058209715546"
     },
     "user_tz": 300
    },
    "id": "9u7IzsXlKdGU"
   },
   "outputs": [],
   "source": [
    "#Funcion para realizar un \"left join\" entre df_COOISPI_261_262 y df_COOISPI_101_102\n",
    "def merge_cooispi(df2, df1):\n",
    "  df_COOISPI_COMB = pd.merge(\n",
    "    df2,                                              #DataFrame base\n",
    "    df1[['Orden', 'Material', 'Texto de material']],  #DataFrame a unir\n",
    "    on='Orden',                                       #Llave de unión\n",
    "    how='left',                                       #Se quedan todas las filas de la izquierda(df2) y solo las coincidentes de la derecha(df1)\n",
    "    suffixes=('', '_producto_term')                   #Si hay columnas con el mismo nombre, las del segundo DataFrame tendrán el sufijo _producto_term\n",
    "  )\n",
    "  #Eliminar filas duplicadas\n",
    "  df_COOISPI_COMB.drop_duplicates(inplace=True)\n",
    "  return df_COOISPI_COMB"
   ]
  },
  {
   "cell_type": "code",
   "execution_count": null,
   "metadata": {
    "executionInfo": {
     "elapsed": 5,
     "status": "ok",
     "timestamp": 1749471968471,
     "user": {
      "displayName": "Melanny Herrera Arenas",
      "userId": "10791965058209715546"
     },
     "user_tz": 300
    },
    "id": "7wv5DVB6KdDH"
   },
   "outputs": [],
   "source": [
    "def rutas(num_cooispi):\n",
    "  #Rutas del archivo de la COOISPI\n",
    "  Ruta_COOISPI_2024 = f\"/content/drive/MyDrive/Consolidado COOISPI/2024/{num_cooispi}.xlsx\"                                                            # Ruta COOISPI en 2024\n",
    "  Ruta_COOISPI_2025 = f\"/content/drive/MyDrive/Consolidado COOISPI/2025/{num_cooispi}.xlsx\"                                                            # Ruta COOISPI en 2025\n",
    "\n",
    "  #Validacion de existencia de las rutas\n",
    "  for nombre, ruta in {\n",
    "    \"Ruta_COOISPI_2024\": Ruta_COOISPI_2024,\n",
    "    \"Ruta_COOISPI_2025\": Ruta_COOISPI_2025,\n",
    "  }.items():\n",
    "    if not os.path.exists(ruta):\n",
    "      print(f\"La ruta '{nombre}' no fue encontrada.\")\n",
    "    else:\n",
    "      print(f\"Ruta '{nombre}' encontrada.\")\n",
    "  return Ruta_COOISPI_2024, Ruta_COOISPI_2025"
   ]
  },
  {
   "cell_type": "markdown",
   "metadata": {
    "id": "504n2zPBKzRe"
   },
   "source": [
    "**------------------------------------------------------------------------------------------------------------------------------------------------------------**"
   ]
  },
  {
   "cell_type": "code",
   "execution_count": 13,
   "metadata": {
    "executionInfo": {
     "elapsed": 4,
     "status": "ok",
     "timestamp": 1749471968471,
     "user": {
      "displayName": "Melanny Herrera Arenas",
      "userId": "10791965058209715546"
     },
     "user_tz": 300
    },
    "id": "n784TDb4KcqM"
   },
   "outputs": [],
   "source": [
    "def ejecutar_COOISPI(num_arch_cooispi, nombre_arch_salida, almacenes):\n",
    "  Ruta_COOISPI_2024, Ruta_COOISPI_2025 = rutas(num_arch_cooispi)\n",
    "\n",
    "  #leer_archivos_cooispi\n",
    "  df_COOISPI_2024 = leer_archivo(Ruta_COOISPI_2024, 'Sheet1')\n",
    "  df_COOISPI_2025 = leer_archivo(Ruta_COOISPI_2025, 'Sheet1')\n",
    "\n",
    "  #renombrar_cooispi\n",
    "  df_COOISPI_2024 = renombrar_cooispi(df_COOISPI_2024)\n",
    "  df_COOISPI_2025 = renombrar_cooispi(df_COOISPI_2025)\n",
    "\n",
    "  #procesar_cooispi\n",
    "  df_COOISPI = procesar_cooispi(df_COOISPI_2024, df_COOISPI_2025)\n",
    "\n",
    "  #estandarizar_mes\n",
    "  df_COOISPI = estandarizar_mes(df_COOISPI)\n",
    "\n",
    "  #filtrar_columna, tomar el Almacen para cada informe de TPM\n",
    "  df_COOISPI = filtrar_columna(df_COOISPI, 'Almacén', almacenes)\n",
    "\n",
    "  #filtrar_material que comienzan por 8 y eliminarlos\n",
    "  df_COOISPI = filtrar_material(df_COOISPI, '8')\n",
    "\n",
    "  df_COOISPI['Cl.mov.']=df_COOISPI['Cl.mov.'].astype('int64')\n",
    "\n",
    "  #filtrar_columna, tomar las clases con movimiento 101, 102(Producto terminado), 261, 262(Producto semielaborado)\n",
    "  df_COOISPI_101_102 = filtrar_columna(df_COOISPI, 'Cl.mov.', [101, 102])\n",
    "  df_COOISPI_261_262 = filtrar_columna(df_COOISPI, 'Cl.mov.', [261, 262])\n",
    "\n",
    "  #merge_cooispi/merge\n",
    "  df_COOISPI_COMB = merge_cooispi(df_COOISPI_261_262, df_COOISPI_101_102)\n",
    "\n",
    "  #Renombrar columnas para quedar igual al archivo de Excel de Luz Indira\n",
    "  df_COOISPI_COMB.rename(columns={'Material_producto_term':'Codigo', 'Texto de material_producto_term':'TEXTO PT'},inplace=True)\n",
    "\n",
    "  #Asignarle el nombre del centro\n",
    "  df_COOISPI_COMB['Centro']='CM10'\n",
    "\n",
    "  #Definir columnas para df_COOISPI_COMB y asignarlas\n",
    "  Columnas=['Orden', 'Codigo','TEXTO PT','Doc.mat.','Cl.mov.','Material','Texto de material','Almacén','Lote','Centro','Unidad','Ctd.','Impte.ML','Fecha']\n",
    "  df_COOISPI_COMB=df_COOISPI_COMB[Columnas]\n",
    "\n",
    "  #Quitar Codigos que no empiezen o sean con un valor numerico\n",
    "  df_COOISPI_COMB = df_COOISPI_COMB[df_COOISPI_COMB['Codigo'].astype(str).str.isnumeric()]\n",
    "\n",
    "  #estandarizar la fecha creando la columna Mes y Año a partir de Fecha\n",
    "  df_COOISPI_COMB = estandarizar_mes(df_COOISPI_COMB)\n",
    "\n",
    "  #Forzar el cambio de tipo de dato para un merge futuro en scripts principales\n",
    "  df_COOISPI_COMB['Codigo'] = df_COOISPI_COMB['Codigo'].astype(str)\n",
    "\n",
    "  return df_COOISPI_COMB.to_csv(f\"/content/drive/MyDrive/SIRI_2024_INFORMES_SOBREPESO/DATOS/{nombre_arch_salida}.csv\", index=False)\n"
   ]
  },
  {
   "cell_type": "code",
   "execution_count": null,
   "metadata": {
    "colab": {
     "base_uri": "https://localhost:8080/"
    },
    "executionInfo": {
     "elapsed": 198477,
     "status": "ok",
     "timestamp": 1749472166945,
     "user": {
      "displayName": "Melanny Herrera Arenas",
      "userId": "10791965058209715546"
     },
     "user_tz": 300
    },
    "id": "OEo96yY6Kcms",
    "outputId": "d0511d38-6f94-4b96-a731-28b67164110c"
   },
   "outputs": [
    {
     "name": "stdout",
     "output_type": "stream",
     "text": [
      "Procesando archivo 'Datos_COOISPI_Empaques2'...\n",
      "La ruta 'Ruta_COOISPI_2024' no fue encontrada.\n",
      "La ruta 'Ruta_COOISPI_2025' no fue encontrada.\n",
      "Error al procesar 'Datos_COOISPI_Empaques2': Error al leer archivo: La ruta '/content/drive/MyDrive/Consolidado COOISPI/2024/Z10.xlsx' no existe.\n",
      "\n",
      "Procesando archivo 'Datos_COOISPI_Mezclas'...\n",
      "La ruta 'Ruta_COOISPI_2024' no fue encontrada.\n",
      "La ruta 'Ruta_COOISPI_2025' no fue encontrada.\n",
      "Error al procesar 'Datos_COOISPI_Mezclas': Error al leer archivo: La ruta '/content/drive/MyDrive/Consolidado COOISPI/2024/Z09.xlsx' no existe.\n",
      "\n",
      "Procesando archivo 'Datos_COOISPI_Molido'...\n",
      "La ruta 'Ruta_COOISPI_2024' no fue encontrada.\n",
      "La ruta 'Ruta_COOISPI_2025' no fue encontrada.\n",
      "Error al procesar 'Datos_COOISPI_Molido': Error al leer archivo: La ruta '/content/drive/MyDrive/Consolidado COOISPI/2024/Z02.xlsx' no existe.\n",
      "\n",
      "Procesando archivo 'Datos_COOISPI_Env_Sol'...\n",
      "La ruta 'Ruta_COOISPI_2024' no fue encontrada.\n",
      "La ruta 'Ruta_COOISPI_2025' no fue encontrada.\n",
      "Error al procesar 'Datos_COOISPI_Env_Sol': Error al leer archivo: La ruta '/content/drive/MyDrive/Consolidado COOISPI/2024/Z06.xlsx' no existe.\n",
      "\n"
     ]
    }
   ],
   "source": [
    "#iniciar_credenciales, si algo falla aquí, el script se detiene\n",
    "#gc = iniciar_credenciales()\n",
    "\n",
    "#Diccionario de datos de entrada por informe de TPM\n",
    "archivos = [\n",
    "  {\"codigo_ruta\": \"Z10\", \"nombre_arch\": \"Datos_COOISPI_Empaques2\", \"almacenes\": [1028, 1001]},\n",
    "  {\"codigo_ruta\": \"Z06\", \"nombre_arch\": \"Datos_COOISPI_Env_Sol\", \"almacenes\": [1035, 1001]},\n",
    "  {\"codigo_ruta\": \"Z09\", \"nombre_arch\": \"Datos_COOISPI_Mezclas\", \"almacenes\": [1038, 1001]},\n",
    "  {\"codigo_ruta\": \"Z02\", \"nombre_arch\": \"Datos_COOISPI_Molido\", \"almacenes\": [1030, 1001]},\n",
    "]\n",
    "\n",
    "#Ejecucion de todos los informes\n",
    "for archivo in archivos:\n",
    "  print(f\"Procesando archivo '{archivo['nombre_arch']}'...\")\n",
    "  try:\n",
    "    ejecutar_COOISPI(\n",
    "      num_arch_cooispi = archivo[\"codigo_ruta\"],\n",
    "      nombre_arch_salida = archivo[\"nombre_arch\"],\n",
    "      almacenes = archivo[\"almacenes\"]\n",
    "    )\n",
    "    print(f\"✅ Archivo '{archivo['nombre_arch']}' procesado correctamente.\\n\")\n",
    "  except Exception as e:\n",
    "    print(f\"Error al procesar '{archivo['nombre_arch']}': {e}\\n\")"
   ]
  }
 ],
 "metadata": {
  "colab": {
   "authorship_tag": "ABX9TyNghsoKyscFhoNB1QIVh1ea",
   "provenance": []
  },
  "kernelspec": {
   "display_name": "Python 3",
   "name": "python3"
  },
  "language_info": {
   "codemirror_mode": {
    "name": "ipython",
    "version": 3
   },
   "file_extension": ".py",
   "mimetype": "text/x-python",
   "name": "python",
   "nbconvert_exporter": "python",
   "pygments_lexer": "ipython3",
   "version": "3.13.2"
  }
 },
 "nbformat": 4,
 "nbformat_minor": 0
}
