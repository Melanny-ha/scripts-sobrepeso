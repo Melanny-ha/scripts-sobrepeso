{
 "cells": [
  {
   "cell_type": "markdown",
   "metadata": {
    "id": "DrPuNpEvPoA7"
   },
   "source": [
    "**Script compacto sobrepeso - Envase Soluble**"
   ]
  },
  {
   "cell_type": "code",
   "execution_count": 217,
   "metadata": {
    "executionInfo": {
     "elapsed": 17,
     "status": "ok",
     "timestamp": 1751892401870,
     "user": {
      "displayName": "Melanny Herrera Arenas",
      "userId": "10791965058209715546"
     },
     "user_tz": 300
    },
    "id": "IB-2G14MPzSV"
   },
   "outputs": [],
   "source": [
    "import os\n",
    "import numpy as np\n",
    "import pandas as pd\n",
    "import warnings\n",
    "import funciones_tpm as fc"
   ]
  },
  {
   "cell_type": "code",
   "execution_count": 218,
   "metadata": {},
   "outputs": [],
   "source": [
    "#Ocultar advertencias/warnings mas no los borra\n",
    "warnings.filterwarnings(\"ignore\", category=pd.errors.DtypeWarning)"
   ]
  },
  {
   "cell_type": "code",
   "execution_count": 219,
   "metadata": {},
   "outputs": [],
   "source": [
    "#Año evaluado\n",
    "Añoeval = 2025"
   ]
  },
  {
   "cell_type": "markdown",
   "metadata": {
    "id": "Tp7dnEZh6Yp4"
   },
   "source": [
    "**Variables globales de las rutas necesarias**"
   ]
  },
  {
   "cell_type": "code",
   "execution_count": 220,
   "metadata": {
    "colab": {
     "base_uri": "https://localhost:8080/"
    },
    "executionInfo": {
     "elapsed": 2152,
     "status": "ok",
     "timestamp": 1751892434262,
     "user": {
      "displayName": "Melanny Herrera Arenas",
      "userId": "10791965058209715546"
     },
     "user_tz": 300
    },
    "id": "rlq8SeXnqwCz",
    "outputId": "6bfd938d-91cc-40e8-d5eb-8e498f411987"
   },
   "outputs": [
    {
     "name": "stdout",
     "output_type": "stream",
     "text": [
      "Ruta 'Ruta_COOISPI' encontrada.\n",
      "Ruta 'Ruta_Archivo_EGE' encontrada.\n",
      "Ruta 'Ruta_Novedades' encontrada.\n",
      "Ruta 'Ruta_Consolidados' encontrada.\n",
      "Ruta 'Ruta_Env_Sol' encontrada.\n",
      "Ruta 'Ruta_Metas_Sobrepeso' encontrada.\n"
     ]
    }
   ],
   "source": [
    "#Rutas del archivo de la COOISPI\n",
    "Ruta_COOISPI = r'\\\\10.28.5.232\\s3-1colcafeci-servicios-jtc\\TPM\\Colcafé Formularios\\BD Sobrepeso\\COOISPI\\Datos_COOISPI_Env_Sol.csv'                                    # Ruta COOISPI en csv\n",
    "\n",
    "#Rutas del archivo del EGE\n",
    "Ruta_Archivo_EGE = r'\\\\10.28.5.232\\s3-1colcafeci-servicios-jtc\\TPM\\Colcafé Formularios\\BD Sobrepeso\\Backup_BD_Salones\\Datos_Env_Soluble_2021.csv'                     # Ruta Envase Soluble\n",
    "\n",
    "#Rutas del archivo de Novedades\n",
    "Ruta_Novedades = r'\\\\10.28.5.232\\s3-1colcafeci-servicios-jtc\\TPM\\Colcafé Formularios\\BD Sobrepeso\\Consolidados_Salones\\Envase_Soluble\\Env_Soluble_Novedades_V2.xlsx'  # Ruta del archivo de Novedades\n",
    "\n",
    "#Rutas del archivo de Consolidados\n",
    "Ruta_Consolidados = r'\\\\10.28.5.232\\s3-1colcafeci-servicios-jtc\\TPM\\Colcafé Formularios\\BD Sobrepeso\\Consolidados_Salones\\Envase_Soluble\\Consolidado_V2.xlsx'        # Ruta del archivo de Consolidados\n",
    "\n",
    "#Ruta de salida\n",
    "Ruta_Env_Sol = r'G:\\.shortcut-targets-by-id\\1rqpfbdZ6z51epFv6ZwognhckW7HqBMjN\\SIRI_2024_INFORMES_SOBREPESO\\INFORME_ENVASE_SOLUBLE_MEDELLIN'                          # DB_Envase_Soluble_Out_vf.csv\n",
    "\n",
    "#Ruta - Metas de Sobrepeso - Env Soluble\n",
    "Ruta_Metas_Sobrepeso = r'G:\\.shortcut-targets-by-id\\1rqpfbdZ6z51epFv6ZwognhckW7HqBMjN\\SIRI_2024_INFORMES_SOBREPESO\\INFORME_ENVASE_SOLUBLE_MEDELLIN/Metas_Env_Sol_2025.xlsx'  #Ruta del archivo metas sobrepeso\n",
    "\n",
    "\n",
    "#Validacion de existencia de las rutas\n",
    "for nombre, ruta in {\n",
    "    \"Ruta_COOISPI\": Ruta_COOISPI,\n",
    "    \"Ruta_Archivo_EGE\": Ruta_Archivo_EGE,\n",
    "    \"Ruta_Novedades\": Ruta_Novedades,\n",
    "    \"Ruta_Consolidados\": Ruta_Consolidados,\n",
    "    \"Ruta_Env_Sol\": Ruta_Env_Sol,\n",
    "    \"Ruta_Metas_Sobrepeso\": Ruta_Metas_Sobrepeso,\n",
    "}.items():\n",
    "  if not os.path.exists(ruta):\n",
    "    print(f\"La ruta '{nombre}' no fue encontrada.\")\n",
    "  else:\n",
    "    print(f\"Ruta '{nombre}' encontrada.\")"
   ]
  },
  {
   "cell_type": "code",
   "execution_count": 221,
   "metadata": {
    "executionInfo": {
     "elapsed": 892,
     "status": "ok",
     "timestamp": 1751892435165,
     "user": {
      "displayName": "Melanny Herrera Arenas",
      "userId": "10791965058209715546"
     },
     "user_tz": 300
    },
    "id": "7Xe5T47r2ZNA"
   },
   "outputs": [
    {
     "name": "stdout",
     "output_type": "stream",
     "text": [
      "Leyendo archivo...\n"
     ]
    }
   ],
   "source": [
    "#leer_archivo COOISPI csv\n",
    "df_COOISPI_COMB = fc.leer_archivo(Ruta_COOISPI)"
   ]
  },
  {
   "cell_type": "code",
   "execution_count": 222,
   "metadata": {
    "executionInfo": {
     "elapsed": 22,
     "status": "ok",
     "timestamp": 1751892435186,
     "user": {
      "displayName": "Melanny Herrera Arenas",
      "userId": "10791965058209715546"
     },
     "user_tz": 300
    },
    "id": "eYFrPLbt5z4O"
   },
   "outputs": [],
   "source": [
    "#Convertir columna 'Codigo' a str para futuros procesor (merge y tabla pivote)\n",
    "df_COOISPI_COMB['Codigo'] = df_COOISPI_COMB['Codigo'].astype(str)"
   ]
  },
  {
   "cell_type": "code",
   "execution_count": 223,
   "metadata": {
    "colab": {
     "base_uri": "https://localhost:8080/"
    },
    "executionInfo": {
     "elapsed": 1528,
     "status": "ok",
     "timestamp": 1751892436715,
     "user": {
      "displayName": "Melanny Herrera Arenas",
      "userId": "10791965058209715546"
     },
     "user_tz": 300
    },
    "id": "JGJElO9POZDQ",
    "outputId": "49de0721-68e2-49e0-bd98-1efcb3670c92"
   },
   "outputs": [
    {
     "name": "stdout",
     "output_type": "stream",
     "text": [
      "Leyendo archivo...\n",
      "(14512, 262)\n"
     ]
    }
   ],
   "source": [
    "#Funcion para leer archivo el EGE/TPM\n",
    "df_Env_Sol = fc.leer_archivo(Ruta_Archivo_EGE, 'Datos')\n",
    "print(df_Env_Sol.shape)"
   ]
  },
  {
   "cell_type": "code",
   "execution_count": 224,
   "metadata": {
    "colab": {
     "base_uri": "https://localhost:8080/"
    },
    "executionInfo": {
     "elapsed": 653,
     "status": "ok",
     "timestamp": 1751892437369,
     "user": {
      "displayName": "Melanny Herrera Arenas",
      "userId": "10791965058209715546"
     },
     "user_tz": 300
    },
    "id": "oWzNxelK1RoA",
    "outputId": "fb03e32a-ffac-4524-fc4b-be0f190c9ad8"
   },
   "outputs": [
    {
     "name": "stdout",
     "output_type": "stream",
     "text": [
      "Leyendo archivo...\n",
      "    Codigo                      Código y Descrip. / Producto:  Peso Neto  \\\n",
      "0  1003350                  ['1003350 COLCAFE ST 250 X 12 3']      250.0   \n",
      "1  1003351  ['1003351 Cafe COLCAFE vainilla 50g 24fco.'\\n ...       50.0   \n",
      "2  1003353               ['1003353 COLCAFE ST 170 X 12 2.04']      170.0   \n",
      "3  1003354                  ['1003354 COLCAFE ST 85X24 2.04']       85.0   \n",
      "4  1003355                 ['1003355 COLCAFE ST 50 X 24 1.2']       50.0   \n",
      "\n",
      "   Meta Sobrepeso  Linea  \n",
      "0           0.010    NaN  \n",
      "1           0.015    NaN  \n",
      "2           0.010    NaN  \n",
      "3           0.014    NaN  \n",
      "4           0.012    NaN  \n"
     ]
    }
   ],
   "source": [
    "df_Env_Sol_Metas = fc.leer_archivo(Ruta_Metas_Sobrepeso, 'Hoja1')\n",
    "print(df_Env_Sol_Metas.head())"
   ]
  },
  {
   "cell_type": "code",
   "execution_count": 225,
   "metadata": {
    "colab": {
     "base_uri": "https://localhost:8080/",
     "height": 533
    },
    "executionInfo": {
     "elapsed": 75,
     "status": "ok",
     "timestamp": 1751892437460,
     "user": {
      "displayName": "Melanny Herrera Arenas",
      "userId": "10791965058209715546"
     },
     "user_tz": 300
    },
    "id": "QmGEfYT06xFV",
    "outputId": "058d7f0f-8b3b-4243-aed5-97401912c880"
   },
   "outputs": [
    {
     "data": {
      "text/html": [
       "<div>\n",
       "<style scoped>\n",
       "    .dataframe tbody tr th:only-of-type {\n",
       "        vertical-align: middle;\n",
       "    }\n",
       "\n",
       "    .dataframe tbody tr th {\n",
       "        vertical-align: top;\n",
       "    }\n",
       "\n",
       "    .dataframe thead th {\n",
       "        text-align: right;\n",
       "    }\n",
       "</style>\n",
       "<table border=\"1\" class=\"dataframe\">\n",
       "  <thead>\n",
       "    <tr style=\"text-align: right;\">\n",
       "      <th></th>\n",
       "      <th>Número</th>\n",
       "      <th>Dia</th>\n",
       "      <th>Mes:</th>\n",
       "      <th>Año:</th>\n",
       "      <th>Semana:</th>\n",
       "      <th>Turno:</th>\n",
       "      <th>Hora de Inicio:</th>\n",
       "      <th>Hora Final:</th>\n",
       "      <th>Máquina / Equipo:</th>\n",
       "      <th>Código y Descrip. / Producto:</th>\n",
       "      <th>...</th>\n",
       "      <th>Apariencia\\nTapadora Ev</th>\n",
       "      <th>Apariencia\\nEtiquetadora Ev</th>\n",
       "      <th>Apariencia\\nGenerica Ev</th>\n",
       "      <th>Legal Contractual\\nPeso min</th>\n",
       "      <th>Legal Contractual\\nMarcación min</th>\n",
       "      <th>Legal Contractual\\nOtros min</th>\n",
       "      <th>Legal Contractual\\nPeso EV</th>\n",
       "      <th>Legal Contractual\\nMarcación Ev</th>\n",
       "      <th>Legal Contractual\\nOtros Ev</th>\n",
       "      <th>Kg Producidos (Conforme)</th>\n",
       "    </tr>\n",
       "  </thead>\n",
       "  <tbody>\n",
       "    <tr>\n",
       "      <th>0</th>\n",
       "      <td>34242</td>\n",
       "      <td>4</td>\n",
       "      <td>Enero</td>\n",
       "      <td>2021</td>\n",
       "      <td>1.0</td>\n",
       "      <td>1</td>\n",
       "      <td>05:35:00</td>\n",
       "      <td>07:22:05</td>\n",
       "      <td>Linea B</td>\n",
       "      <td>1033009 Cafe COLCAFE granulado fco 50g 60un</td>\n",
       "      <td>...</td>\n",
       "      <td>NaN</td>\n",
       "      <td>4.0</td>\n",
       "      <td>NaN</td>\n",
       "      <td>NaN</td>\n",
       "      <td>NaN</td>\n",
       "      <td>NaN</td>\n",
       "      <td>NaN</td>\n",
       "      <td>NaN</td>\n",
       "      <td>NaN</td>\n",
       "      <td>183.2400</td>\n",
       "    </tr>\n",
       "    <tr>\n",
       "      <th>1</th>\n",
       "      <td>34243</td>\n",
       "      <td>4</td>\n",
       "      <td>Enero</td>\n",
       "      <td>2021</td>\n",
       "      <td>1.0</td>\n",
       "      <td>1</td>\n",
       "      <td>06:10:18</td>\n",
       "      <td>10:34:43</td>\n",
       "      <td>Linea A</td>\n",
       "      <td>1026755 Coffee Crem Colcafe 650g 12un</td>\n",
       "      <td>...</td>\n",
       "      <td>NaN</td>\n",
       "      <td>NaN</td>\n",
       "      <td>8.0</td>\n",
       "      <td>NaN</td>\n",
       "      <td>NaN</td>\n",
       "      <td>NaN</td>\n",
       "      <td>NaN</td>\n",
       "      <td>NaN</td>\n",
       "      <td>NaN</td>\n",
       "      <td>6289.4172</td>\n",
       "    </tr>\n",
       "    <tr>\n",
       "      <th>2</th>\n",
       "      <td>34244</td>\n",
       "      <td>4</td>\n",
       "      <td>Enero</td>\n",
       "      <td>2021</td>\n",
       "      <td>1.0</td>\n",
       "      <td>1</td>\n",
       "      <td>10:34:43</td>\n",
       "      <td>12:25:05</td>\n",
       "      <td>Linea A</td>\n",
       "      <td>1003408 COFFEE CREM 175X24 4.2</td>\n",
       "      <td>...</td>\n",
       "      <td>NaN</td>\n",
       "      <td>NaN</td>\n",
       "      <td>NaN</td>\n",
       "      <td>NaN</td>\n",
       "      <td>NaN</td>\n",
       "      <td>NaN</td>\n",
       "      <td>NaN</td>\n",
       "      <td>NaN</td>\n",
       "      <td>NaN</td>\n",
       "      <td>717.6960</td>\n",
       "    </tr>\n",
       "    <tr>\n",
       "      <th>3</th>\n",
       "      <td>34245</td>\n",
       "      <td>4</td>\n",
       "      <td>Enero</td>\n",
       "      <td>2021</td>\n",
       "      <td>1.0</td>\n",
       "      <td>1</td>\n",
       "      <td>12:25:05</td>\n",
       "      <td>13:19:38</td>\n",
       "      <td>Linea A</td>\n",
       "      <td>1003409 COFFEE CREM 290X24 6.96</td>\n",
       "      <td>...</td>\n",
       "      <td>NaN</td>\n",
       "      <td>NaN</td>\n",
       "      <td>NaN</td>\n",
       "      <td>NaN</td>\n",
       "      <td>NaN</td>\n",
       "      <td>NaN</td>\n",
       "      <td>NaN</td>\n",
       "      <td>NaN</td>\n",
       "      <td>NaN</td>\n",
       "      <td>769.8888</td>\n",
       "    </tr>\n",
       "    <tr>\n",
       "      <th>4</th>\n",
       "      <td>34246</td>\n",
       "      <td>4</td>\n",
       "      <td>Enero</td>\n",
       "      <td>2021</td>\n",
       "      <td>1.0</td>\n",
       "      <td>1</td>\n",
       "      <td>07:22:05</td>\n",
       "      <td>13:16:26</td>\n",
       "      <td>Linea B</td>\n",
       "      <td>1014989 Cafe COLCAFE granulado fco 50g 24un</td>\n",
       "      <td>...</td>\n",
       "      <td>NaN</td>\n",
       "      <td>3.0</td>\n",
       "      <td>NaN</td>\n",
       "      <td>NaN</td>\n",
       "      <td>NaN</td>\n",
       "      <td>NaN</td>\n",
       "      <td>NaN</td>\n",
       "      <td>NaN</td>\n",
       "      <td>NaN</td>\n",
       "      <td>956.6640</td>\n",
       "    </tr>\n",
       "  </tbody>\n",
       "</table>\n",
       "<p>5 rows × 262 columns</p>\n",
       "</div>"
      ],
      "text/plain": [
       "   Número  Dia    Mes:  Año:  Semana:  Turno: Hora de Inicio: Hora Final:  \\\n",
       "0   34242     4  Enero  2021      1.0       1        05:35:00    07:22:05   \n",
       "1   34243     4  Enero  2021      1.0       1        06:10:18    10:34:43   \n",
       "2   34244     4  Enero  2021      1.0       1        10:34:43    12:25:05   \n",
       "3   34245     4  Enero  2021      1.0       1        12:25:05    13:19:38   \n",
       "4   34246     4  Enero  2021      1.0       1        07:22:05    13:16:26   \n",
       "\n",
       "  Máquina / Equipo:                Código y Descrip. / Producto:  ...  \\\n",
       "0           Linea B  1033009 Cafe COLCAFE granulado fco 50g 60un  ...   \n",
       "1           Linea A        1026755 Coffee Crem Colcafe 650g 12un  ...   \n",
       "2           Linea A               1003408 COFFEE CREM 175X24 4.2  ...   \n",
       "3           Linea A              1003409 COFFEE CREM 290X24 6.96  ...   \n",
       "4           Linea B  1014989 Cafe COLCAFE granulado fco 50g 24un  ...   \n",
       "\n",
       "  Apariencia\\nTapadora Ev Apariencia\\nEtiquetadora Ev  \\\n",
       "0                     NaN                         4.0   \n",
       "1                     NaN                         NaN   \n",
       "2                     NaN                         NaN   \n",
       "3                     NaN                         NaN   \n",
       "4                     NaN                         3.0   \n",
       "\n",
       "   Apariencia\\nGenerica Ev  Legal Contractual\\nPeso min  \\\n",
       "0                      NaN                          NaN   \n",
       "1                      8.0                          NaN   \n",
       "2                      NaN                          NaN   \n",
       "3                      NaN                          NaN   \n",
       "4                      NaN                          NaN   \n",
       "\n",
       "  Legal Contractual\\nMarcación min  Legal Contractual\\nOtros min  \\\n",
       "0                              NaN                           NaN   \n",
       "1                              NaN                           NaN   \n",
       "2                              NaN                           NaN   \n",
       "3                              NaN                           NaN   \n",
       "4                              NaN                           NaN   \n",
       "\n",
       "   Legal Contractual\\nPeso EV  Legal Contractual\\nMarcación Ev  \\\n",
       "0                         NaN                              NaN   \n",
       "1                         NaN                              NaN   \n",
       "2                         NaN                              NaN   \n",
       "3                         NaN                              NaN   \n",
       "4                         NaN                              NaN   \n",
       "\n",
       "   Legal Contractual\\nOtros Ev  Kg Producidos (Conforme)  \n",
       "0                          NaN                  183.2400  \n",
       "1                          NaN                 6289.4172  \n",
       "2                          NaN                  717.6960  \n",
       "3                          NaN                  769.8888  \n",
       "4                          NaN                  956.6640  \n",
       "\n",
       "[5 rows x 262 columns]"
      ]
     },
     "execution_count": 225,
     "metadata": {},
     "output_type": "execute_result"
    }
   ],
   "source": [
    "df_Env_Sol.head()"
   ]
  },
  {
   "cell_type": "code",
   "execution_count": 226,
   "metadata": {
    "executionInfo": {
     "elapsed": 2,
     "status": "ok",
     "timestamp": 1751892437476,
     "user": {
      "displayName": "Melanny Herrera Arenas",
      "userId": "10791965058209715546"
     },
     "user_tz": 300
    },
    "id": "Aj1tM8ANvYbh"
   },
   "outputs": [],
   "source": [
    "#Reemplazar el nombre de la columna \"Día:\" y \"Mes_N\" para estandarizar los scripts\n",
    "df_Env_Sol.rename(columns={\"Dia \":\"Dia\", \"Mes_N\":\"IdMes\"}, inplace=True)"
   ]
  },
  {
   "cell_type": "code",
   "execution_count": 227,
   "metadata": {
    "colab": {
     "base_uri": "https://localhost:8080/",
     "height": 150
    },
    "executionInfo": {
     "elapsed": 28,
     "status": "ok",
     "timestamp": 1751892437505,
     "user": {
      "displayName": "Melanny Herrera Arenas",
      "userId": "10791965058209715546"
     },
     "user_tz": 300
    },
    "id": "CMqUpb3m1Fve",
    "outputId": "5596c527-421c-4d02-a376-bb6cf29b8f2c"
   },
   "outputs": [
    {
     "data": {
      "text/html": [
       "<div>\n",
       "<style scoped>\n",
       "    .dataframe tbody tr th:only-of-type {\n",
       "        vertical-align: middle;\n",
       "    }\n",
       "\n",
       "    .dataframe tbody tr th {\n",
       "        vertical-align: top;\n",
       "    }\n",
       "\n",
       "    .dataframe thead th {\n",
       "        text-align: right;\n",
       "    }\n",
       "</style>\n",
       "<table border=\"1\" class=\"dataframe\">\n",
       "  <thead>\n",
       "    <tr style=\"text-align: right;\">\n",
       "      <th></th>\n",
       "      <th>Número</th>\n",
       "      <th>Dia</th>\n",
       "      <th>Mes:</th>\n",
       "      <th>Año:</th>\n",
       "      <th>Semana:</th>\n",
       "      <th>Turno:</th>\n",
       "      <th>Hora de Inicio:</th>\n",
       "      <th>Hora Final:</th>\n",
       "      <th>Máquina / Equipo:</th>\n",
       "      <th>Código y Descrip. / Producto:</th>\n",
       "      <th>...</th>\n",
       "      <th>Apariencia\\nTapadora Ev</th>\n",
       "      <th>Apariencia\\nEtiquetadora Ev</th>\n",
       "      <th>Apariencia\\nGenerica Ev</th>\n",
       "      <th>Legal Contractual\\nPeso min</th>\n",
       "      <th>Legal Contractual\\nMarcación min</th>\n",
       "      <th>Legal Contractual\\nOtros min</th>\n",
       "      <th>Legal Contractual\\nPeso EV</th>\n",
       "      <th>Legal Contractual\\nMarcación Ev</th>\n",
       "      <th>Legal Contractual\\nOtros Ev</th>\n",
       "      <th>Kg Producidos (Conforme)</th>\n",
       "    </tr>\n",
       "  </thead>\n",
       "  <tbody>\n",
       "  </tbody>\n",
       "</table>\n",
       "<p>0 rows × 262 columns</p>\n",
       "</div>"
      ],
      "text/plain": [
       "Empty DataFrame\n",
       "Columns: [Número, Dia, Mes:, Año:, Semana:, Turno:, Hora de Inicio:, Hora Final:, Máquina / Equipo:, Código y Descrip. / Producto:, Operario Responsable:, Coordinador de Turno:, Orden de Producción:, Unidades Producidas (Conformes) :, Peso Promedio de la unidad (K):, Gramaje (K):, Mantenimiento Planeado, Reuniones / Formaciones, Alimentacion, Mantenimiento Autónomo, Ensayos, Pausas Activas, Montajes, Simulacros (Emergencia), TOTAL PÉRDIDAS PROGRAMADAS, Eléctricas min, Mecánicas min, Instrumentación min, TOTAL AVERIAS min, Cambio de Formato min, Cambio de Referencia min, Aseos (No Programados) min, TOTAL ALISTAMIENTOS Y AJUSTES min, Cambio de Bobina min, Cambio de Cuchillas min, Cambio de Cintas/Tinta/Resella/Tin-tie min, Cambio de Filtros min, Cambio de Cauchos, Teflones min, Cambio de Fechadores min, CAMBIO DE ELEMENTOS Y PIEZAS min, Arranques min, TOTAL ARRANQUES min, Locativo min, Espera por Instrucciones min, Esperas min, Administrativas (Logística Externa) min, Logística (Interna) min, Falta de Habilidad min, Emergencias min, TOTAL ADMINISTRATIVAS min, Falta de Personal min, TOTAL ORG DE LÍNEA min, Inocuidad/HACCP min, Apariencia min, Conservación min, Funcionalidad min, Propiedades Físico - Químicas min, Legal - Contractual min, Material Defectuoso min, TOTAL AJUSTES DE CALIDAD min, Energía min, Agua min, Nitrógeno min, Vapor min, Refrigeración min, Gas/ACPM min, Conectividad min, Aire Comprimido min, TOTAL SERVICIOS min, TOTAL PÉRDIDAS DE DISPONIBILIDAD min, PEQUEÑAS PARADAS (Paros <= 5 min) min, VELOCIDAD REDUCIDA, TOTAL PÉRDIDAS DE DESEMPEÑO O RENDIMIENTO, Reproceso, No Reprocesable, TOTAL UNIDADES DEFECTUOSAS, Baja Velocidad, Autorizado por:, Eléctricas EV, Mecánicas EV, Instrumentación EV, TOTAL AVERIAS EV, Cambio de Formato EV, Cambio de Referencia EV, Aseos (No Programados) EV, TOTAL ALISTAMIENTOS Y AJUSTES EV, Cambio de Bobina EV, Cambio de Cuchillas EV, Cambio de Cintas/Tinta/Resella/Tin-tie EV, Cambio de Filtros EV, Cambio de Cauchos, Teflones EV, Cambio de Fechadores EV, CAMBIO DE ELEMENTOS Y PIEZAS EV, Arranques EV, TOTAL ARRANQUES EV, Locativo EV, Espera por Instrucciones EV, Esperas EV, Administrativas (Logística Externa) EV, Logística (Interna) EV, ...]\n",
       "Index: []\n",
       "\n",
       "[0 rows x 262 columns]"
      ]
     },
     "execution_count": 227,
     "metadata": {},
     "output_type": "execute_result"
    }
   ],
   "source": [
    "#eliminar_filas_vacias\n",
    "numeros_vacios_filtrados = fc.eliminar_filas_vacias(df_Env_Sol, 'Número')\n",
    "numeros_vacios_filtrados.head()"
   ]
  },
  {
   "cell_type": "code",
   "execution_count": 228,
   "metadata": {
    "colab": {
     "base_uri": "https://localhost:8080/"
    },
    "executionInfo": {
     "elapsed": 10,
     "status": "ok",
     "timestamp": 1751892437506,
     "user": {
      "displayName": "Melanny Herrera Arenas",
      "userId": "10791965058209715546"
     },
     "user_tz": 300
    },
    "id": "r6qXjjIL6Ywu",
    "outputId": "5b2c0412-51dc-4758-bb33-7b7e757b047f"
   },
   "outputs": [
    {
     "data": {
      "text/plain": [
       "(14512, 262)"
      ]
     },
     "execution_count": 228,
     "metadata": {},
     "output_type": "execute_result"
    }
   ],
   "source": [
    "df_Env_Sol.shape"
   ]
  },
  {
   "cell_type": "code",
   "execution_count": 229,
   "metadata": {
    "colab": {
     "base_uri": "https://localhost:8080/",
     "height": 301
    },
    "executionInfo": {
     "elapsed": 56,
     "status": "ok",
     "timestamp": 1751892437558,
     "user": {
      "displayName": "Melanny Herrera Arenas",
      "userId": "10791965058209715546"
     },
     "user_tz": 300
    },
    "id": "-Ga1J-Bb1ke5",
    "outputId": "704163ff-77cb-4d6b-fa42-535c19f6b6ff"
   },
   "outputs": [
    {
     "name": "stdout",
     "output_type": "stream",
     "text": [
      "(14512, 264)\n"
     ]
    },
    {
     "data": {
      "text/html": [
       "<div>\n",
       "<style scoped>\n",
       "    .dataframe tbody tr th:only-of-type {\n",
       "        vertical-align: middle;\n",
       "    }\n",
       "\n",
       "    .dataframe tbody tr th {\n",
       "        vertical-align: top;\n",
       "    }\n",
       "\n",
       "    .dataframe thead th {\n",
       "        text-align: right;\n",
       "    }\n",
       "</style>\n",
       "<table border=\"1\" class=\"dataframe\">\n",
       "  <thead>\n",
       "    <tr style=\"text-align: right;\">\n",
       "      <th></th>\n",
       "      <th>Número</th>\n",
       "      <th>Dia</th>\n",
       "      <th>Mes:</th>\n",
       "      <th>Año:</th>\n",
       "      <th>Semana:</th>\n",
       "      <th>Turno:</th>\n",
       "      <th>Hora de Inicio:</th>\n",
       "      <th>Hora Final:</th>\n",
       "      <th>Máquina / Equipo:</th>\n",
       "      <th>Código y Descrip. / Producto:</th>\n",
       "      <th>...</th>\n",
       "      <th>Apariencia\\nGenerica Ev</th>\n",
       "      <th>Legal Contractual\\nPeso min</th>\n",
       "      <th>Legal Contractual\\nMarcación min</th>\n",
       "      <th>Legal Contractual\\nOtros min</th>\n",
       "      <th>Legal Contractual\\nPeso EV</th>\n",
       "      <th>Legal Contractual\\nMarcación Ev</th>\n",
       "      <th>Legal Contractual\\nOtros Ev</th>\n",
       "      <th>Kg Producidos (Conforme)</th>\n",
       "      <th>IdMes</th>\n",
       "      <th>Fecha</th>\n",
       "    </tr>\n",
       "  </thead>\n",
       "  <tbody>\n",
       "    <tr>\n",
       "      <th>0</th>\n",
       "      <td>34242</td>\n",
       "      <td>4</td>\n",
       "      <td>Enero</td>\n",
       "      <td>2021</td>\n",
       "      <td>1.0</td>\n",
       "      <td>1</td>\n",
       "      <td>05:35:00</td>\n",
       "      <td>07:22:05</td>\n",
       "      <td>Linea B</td>\n",
       "      <td>1033009 Cafe COLCAFE granulado fco 50g 60un</td>\n",
       "      <td>...</td>\n",
       "      <td>NaN</td>\n",
       "      <td>NaN</td>\n",
       "      <td>NaN</td>\n",
       "      <td>NaN</td>\n",
       "      <td>NaN</td>\n",
       "      <td>NaN</td>\n",
       "      <td>NaN</td>\n",
       "      <td>183.2400</td>\n",
       "      <td>1</td>\n",
       "      <td>2021-01-04</td>\n",
       "    </tr>\n",
       "    <tr>\n",
       "      <th>1</th>\n",
       "      <td>34243</td>\n",
       "      <td>4</td>\n",
       "      <td>Enero</td>\n",
       "      <td>2021</td>\n",
       "      <td>1.0</td>\n",
       "      <td>1</td>\n",
       "      <td>06:10:18</td>\n",
       "      <td>10:34:43</td>\n",
       "      <td>Linea A</td>\n",
       "      <td>1026755 Coffee Crem Colcafe 650g 12un</td>\n",
       "      <td>...</td>\n",
       "      <td>8.0</td>\n",
       "      <td>NaN</td>\n",
       "      <td>NaN</td>\n",
       "      <td>NaN</td>\n",
       "      <td>NaN</td>\n",
       "      <td>NaN</td>\n",
       "      <td>NaN</td>\n",
       "      <td>6289.4172</td>\n",
       "      <td>1</td>\n",
       "      <td>2021-01-04</td>\n",
       "    </tr>\n",
       "  </tbody>\n",
       "</table>\n",
       "<p>2 rows × 264 columns</p>\n",
       "</div>"
      ],
      "text/plain": [
       "   Número  Dia   Mes:  Año:  Semana:  Turno: Hora de Inicio: Hora Final:  \\\n",
       "0   34242    4  Enero  2021      1.0       1        05:35:00    07:22:05   \n",
       "1   34243    4  Enero  2021      1.0       1        06:10:18    10:34:43   \n",
       "\n",
       "  Máquina / Equipo:                Código y Descrip. / Producto:  ...  \\\n",
       "0           Linea B  1033009 Cafe COLCAFE granulado fco 50g 60un  ...   \n",
       "1           Linea A        1026755 Coffee Crem Colcafe 650g 12un  ...   \n",
       "\n",
       "  Apariencia\\nGenerica Ev Legal Contractual\\nPeso min  \\\n",
       "0                     NaN                         NaN   \n",
       "1                     8.0                         NaN   \n",
       "\n",
       "   Legal Contractual\\nMarcación min  Legal Contractual\\nOtros min  \\\n",
       "0                               NaN                           NaN   \n",
       "1                               NaN                           NaN   \n",
       "\n",
       "  Legal Contractual\\nPeso EV  Legal Contractual\\nMarcación Ev  \\\n",
       "0                        NaN                              NaN   \n",
       "1                        NaN                              NaN   \n",
       "\n",
       "   Legal Contractual\\nOtros Ev  Kg Producidos (Conforme)  IdMes       Fecha  \n",
       "0                          NaN                  183.2400      1  2021-01-04  \n",
       "1                          NaN                 6289.4172      1  2021-01-04  \n",
       "\n",
       "[2 rows x 264 columns]"
      ]
     },
     "execution_count": 229,
     "metadata": {},
     "output_type": "execute_result"
    }
   ],
   "source": [
    "#crear_fecha\n",
    "df_Env_Sol = fc.crear_fecha(df_Env_Sol)\n",
    "print(df_Env_Sol.shape)\n",
    "df_Env_Sol.head(2)"
   ]
  },
  {
   "cell_type": "code",
   "execution_count": 230,
   "metadata": {
    "colab": {
     "base_uri": "https://localhost:8080/"
    },
    "executionInfo": {
     "elapsed": 10,
     "status": "ok",
     "timestamp": 1751892437569,
     "user": {
      "displayName": "Melanny Herrera Arenas",
      "userId": "10791965058209715546"
     },
     "user_tz": 300
    },
    "id": "a5_k6t2V1kcB",
    "outputId": "e4ea9cea-9ec0-47be-f07b-4910f23139e8"
   },
   "outputs": [
    {
     "data": {
      "text/plain": [
       "Index(['Número', 'Dia', 'Fecha', 'Mes:', 'IdMes', 'Año:', 'Máquina / Equipo:',\n",
       "       'Semana:', 'Turno:', 'Código y Descrip. / Producto:',\n",
       "       'Unidades Producidas (Conformes) :', 'Peso Promedio de la unidad (K):',\n",
       "       'Gramaje (K):'],\n",
       "      dtype='object')"
      ]
     },
     "execution_count": 230,
     "metadata": {},
     "output_type": "execute_result"
    }
   ],
   "source": [
    "#Tomar solo las columnas de interes del informe de Envase Soluble para el sobrepeso\n",
    "columnas=['Número','Dia','Fecha','Mes:','IdMes','Año:','Máquina / Equipo:','Semana:','Turno:','Código y Descrip. / Producto:','Unidades Producidas (Conformes) :', 'Peso Promedio de la unidad (K):','Gramaje (K):']\n",
    "df_Env_Sol = df_Env_Sol[columnas]\n",
    "df_Env_Sol.columns"
   ]
  },
  {
   "cell_type": "code",
   "execution_count": 231,
   "metadata": {
    "colab": {
     "base_uri": "https://localhost:8080/",
     "height": 491
    },
    "executionInfo": {
     "elapsed": 31,
     "status": "ok",
     "timestamp": 1751892437624,
     "user": {
      "displayName": "Melanny Herrera Arenas",
      "userId": "10791965058209715546"
     },
     "user_tz": 300
    },
    "id": "xOjyaugp1kPm",
    "outputId": "70894872-f93a-4921-8b94-999a3d000533"
   },
   "outputs": [
    {
     "data": {
      "text/plain": [
       "Número                                 int64\n",
       "Dia                                    int64\n",
       "Fecha                                 object\n",
       "Mes:                                  object\n",
       "IdMes                                  int64\n",
       "Año:                                   int64\n",
       "Máquina / Equipo:                     object\n",
       "Semana:                              float64\n",
       "Turno:                                 int64\n",
       "Código y Descrip. / Producto:         object\n",
       "Unidades Producidas (Conformes) :    float64\n",
       "Peso Promedio de la unidad (K):       object\n",
       "Gramaje (K):                         float64\n",
       "dtype: object"
      ]
     },
     "execution_count": 231,
     "metadata": {},
     "output_type": "execute_result"
    }
   ],
   "source": [
    "df_Env_Sol.dtypes"
   ]
  },
  {
   "cell_type": "code",
   "execution_count": 232,
   "metadata": {
    "colab": {
     "base_uri": "https://localhost:8080/",
     "height": 182
    },
    "executionInfo": {
     "elapsed": 46,
     "status": "ok",
     "timestamp": 1751892437648,
     "user": {
      "displayName": "Melanny Herrera Arenas",
      "userId": "10791965058209715546"
     },
     "user_tz": 300
    },
    "id": "hosjMOrG46fN",
    "outputId": "251c1006-183c-43df-cb62-aadcbfebcd38"
   },
   "outputs": [
    {
     "name": "stdout",
     "output_type": "stream",
     "text": [
      "(4739, 13)\n"
     ]
    },
    {
     "data": {
      "text/html": [
       "<div>\n",
       "<style scoped>\n",
       "    .dataframe tbody tr th:only-of-type {\n",
       "        vertical-align: middle;\n",
       "    }\n",
       "\n",
       "    .dataframe tbody tr th {\n",
       "        vertical-align: top;\n",
       "    }\n",
       "\n",
       "    .dataframe thead th {\n",
       "        text-align: right;\n",
       "    }\n",
       "</style>\n",
       "<table border=\"1\" class=\"dataframe\">\n",
       "  <thead>\n",
       "    <tr style=\"text-align: right;\">\n",
       "      <th></th>\n",
       "      <th>Número</th>\n",
       "      <th>Dia</th>\n",
       "      <th>Fecha</th>\n",
       "      <th>Mes:</th>\n",
       "      <th>IdMes</th>\n",
       "      <th>Año:</th>\n",
       "      <th>Máquina / Equipo:</th>\n",
       "      <th>Semana:</th>\n",
       "      <th>Turno:</th>\n",
       "      <th>Código y Descrip. / Producto:</th>\n",
       "      <th>Unidades Producidas (Conformes) :</th>\n",
       "      <th>Peso Promedio de la unidad (K):</th>\n",
       "      <th>Gramaje (K):</th>\n",
       "    </tr>\n",
       "  </thead>\n",
       "  <tbody>\n",
       "    <tr>\n",
       "      <th>9773</th>\n",
       "      <td>44090</td>\n",
       "      <td>2</td>\n",
       "      <td>2024-01-02</td>\n",
       "      <td>Enero</td>\n",
       "      <td>1</td>\n",
       "      <td>2024</td>\n",
       "      <td>Linea B</td>\n",
       "      <td>1.0</td>\n",
       "      <td>1</td>\n",
       "      <td>1050712 Cafe Sprouts Dark Organic 100g x 6</td>\n",
       "      <td>14400.0</td>\n",
       "      <td>0.10073</td>\n",
       "      <td>0.100</td>\n",
       "    </tr>\n",
       "    <tr>\n",
       "      <th>9774</th>\n",
       "      <td>44091</td>\n",
       "      <td>2</td>\n",
       "      <td>2024-01-02</td>\n",
       "      <td>Enero</td>\n",
       "      <td>1</td>\n",
       "      <td>2024</td>\n",
       "      <td>Linea A</td>\n",
       "      <td>1.0</td>\n",
       "      <td>1</td>\n",
       "      <td>1036993 Cafe COLCAFE clas. pol. 85gx24 España</td>\n",
       "      <td>4800.0</td>\n",
       "      <td>0.08604</td>\n",
       "      <td>0.085</td>\n",
       "    </tr>\n",
       "  </tbody>\n",
       "</table>\n",
       "</div>"
      ],
      "text/plain": [
       "      Número  Dia       Fecha   Mes:  IdMes  Año: Máquina / Equipo:  Semana:  \\\n",
       "9773   44090    2  2024-01-02  Enero      1  2024           Linea B      1.0   \n",
       "9774   44091    2  2024-01-02  Enero      1  2024           Linea A      1.0   \n",
       "\n",
       "      Turno:                  Código y Descrip. / Producto:  \\\n",
       "9773       1    1050712 Cafe Sprouts Dark Organic 100g x 6    \n",
       "9774       1  1036993 Cafe COLCAFE clas. pol. 85gx24 España   \n",
       "\n",
       "      Unidades Producidas (Conformes) : Peso Promedio de la unidad (K):  \\\n",
       "9773                            14400.0                         0.10073   \n",
       "9774                             4800.0                         0.08604   \n",
       "\n",
       "      Gramaje (K):  \n",
       "9773         0.100  \n",
       "9774         0.085  "
      ]
     },
     "execution_count": 232,
     "metadata": {},
     "output_type": "execute_result"
    }
   ],
   "source": [
    "#filtrar_desde_anio\n",
    "df_Env_Sol = fc.filtrar_desde_anio(df_Env_Sol, 2024)\n",
    "print(df_Env_Sol.shape)\n",
    "df_Env_Sol.head(2)"
   ]
  },
  {
   "cell_type": "code",
   "execution_count": 233,
   "metadata": {
    "executionInfo": {
     "elapsed": 37,
     "status": "ok",
     "timestamp": 1751892437685,
     "user": {
      "displayName": "Melanny Herrera Arenas",
      "userId": "10791965058209715546"
     },
     "user_tz": 300
    },
    "id": "Sdbnd8Vx46c9"
   },
   "outputs": [],
   "source": [
    "# Especificar las columnas en las que deseas aplicar el filtro para eliminar los valores nulos de las columnas de Gramaje, Unidades producidas y Peso promedio\n",
    "columnas_filtrar_nulos = ['Gramaje (K):', 'Unidades Producidas (Conformes) :', 'Peso Promedio de la unidad (K):']"
   ]
  },
  {
   "cell_type": "code",
   "execution_count": 234,
   "metadata": {
    "colab": {
     "base_uri": "https://localhost:8080/"
    },
    "executionInfo": {
     "elapsed": 8,
     "status": "ok",
     "timestamp": 1751892437686,
     "user": {
      "displayName": "Melanny Herrera Arenas",
      "userId": "10791965058209715546"
     },
     "user_tz": 300
    },
    "id": "Gl2QFmImGwIH",
    "outputId": "9eb670f5-9151-4be7-ddfb-590fd5647729"
   },
   "outputs": [
    {
     "data": {
      "text/plain": [
       "(4739, 13)"
      ]
     },
     "execution_count": 234,
     "metadata": {},
     "output_type": "execute_result"
    }
   ],
   "source": [
    "#filtrar_nulos\n",
    "df_Env_Sol_nan_ceros, df_Env_Sol = fc.filtrar_nulos(df_Env_Sol, columnas_filtrar_nulos)\n",
    "df_Env_Sol_nan_ceros.shape\n",
    "df_Env_Sol.shape"
   ]
  },
  {
   "cell_type": "code",
   "execution_count": 235,
   "metadata": {
    "colab": {
     "base_uri": "https://localhost:8080/",
     "height": 66
    },
    "executionInfo": {
     "elapsed": 68,
     "status": "ok",
     "timestamp": 1751892437751,
     "user": {
      "displayName": "Melanny Herrera Arenas",
      "userId": "10791965058209715546"
     },
     "user_tz": 300
    },
    "id": "QrxBN7rP-T9M",
    "outputId": "c7c53b3a-5e46-4b4c-b591-04392ff10659"
   },
   "outputs": [
    {
     "data": {
      "text/html": [
       "<div>\n",
       "<style scoped>\n",
       "    .dataframe tbody tr th:only-of-type {\n",
       "        vertical-align: middle;\n",
       "    }\n",
       "\n",
       "    .dataframe tbody tr th {\n",
       "        vertical-align: top;\n",
       "    }\n",
       "\n",
       "    .dataframe thead th {\n",
       "        text-align: right;\n",
       "    }\n",
       "</style>\n",
       "<table border=\"1\" class=\"dataframe\">\n",
       "  <thead>\n",
       "    <tr style=\"text-align: right;\">\n",
       "      <th></th>\n",
       "      <th>Número</th>\n",
       "      <th>Dia</th>\n",
       "      <th>Fecha</th>\n",
       "      <th>Mes:</th>\n",
       "      <th>IdMes</th>\n",
       "      <th>Año:</th>\n",
       "      <th>Máquina / Equipo:</th>\n",
       "      <th>Semana:</th>\n",
       "      <th>Turno:</th>\n",
       "      <th>Código y Descrip. / Producto:</th>\n",
       "      <th>Unidades Producidas (Conformes) :</th>\n",
       "      <th>Peso Promedio de la unidad (K):</th>\n",
       "      <th>Gramaje (K):</th>\n",
       "    </tr>\n",
       "  </thead>\n",
       "  <tbody>\n",
       "  </tbody>\n",
       "</table>\n",
       "</div>"
      ],
      "text/plain": [
       "Empty DataFrame\n",
       "Columns: [Número, Dia, Fecha, Mes:, IdMes, Año:, Máquina / Equipo:, Semana:, Turno:, Código y Descrip. / Producto:, Unidades Producidas (Conformes) :, Peso Promedio de la unidad (K):, Gramaje (K):]\n",
       "Index: []"
      ]
     },
     "execution_count": 235,
     "metadata": {},
     "output_type": "execute_result"
    }
   ],
   "source": [
    "df_Env_Sol_nan_ceros.head()"
   ]
  },
  {
   "cell_type": "markdown",
   "metadata": {
    "id": "PPTIPU8oe4O1"
   },
   "source": [
    "**Modificación de los tipos de datos del archivo de TPM de Envase Soluble**"
   ]
  },
  {
   "cell_type": "code",
   "execution_count": 236,
   "metadata": {
    "colab": {
     "base_uri": "https://localhost:8080/"
    },
    "executionInfo": {
     "elapsed": 11,
     "status": "ok",
     "timestamp": 1751892437752,
     "user": {
      "displayName": "Melanny Herrera Arenas",
      "userId": "10791965058209715546"
     },
     "user_tz": 300
    },
    "id": "idsQEqeq46WN",
    "outputId": "6ba5be63-4946-4877-83ce-0ad1636a86a7"
   },
   "outputs": [
    {
     "name": "stdout",
     "output_type": "stream",
     "text": [
      "(4739, 13)\n",
      "(0, 13)\n"
     ]
    }
   ],
   "source": [
    "#filtrar_nulos\n",
    "df_non_conver, df_Env_Sol = fc.validar_numericos(df_Env_Sol, 'Peso Promedio de la unidad (K):')\n",
    "print(df_Env_Sol.shape)\n",
    "print(df_non_conver.shape)"
   ]
  },
  {
   "cell_type": "code",
   "execution_count": 237,
   "metadata": {
    "colab": {
     "base_uri": "https://localhost:8080/",
     "height": 66
    },
    "executionInfo": {
     "elapsed": 43,
     "status": "ok",
     "timestamp": 1751892437791,
     "user": {
      "displayName": "Melanny Herrera Arenas",
      "userId": "10791965058209715546"
     },
     "user_tz": 300
    },
    "id": "DFh1Zrn5f43b",
    "outputId": "a2e96342-3879-4910-a1f7-80274c38b2ba"
   },
   "outputs": [
    {
     "data": {
      "text/html": [
       "<div>\n",
       "<style scoped>\n",
       "    .dataframe tbody tr th:only-of-type {\n",
       "        vertical-align: middle;\n",
       "    }\n",
       "\n",
       "    .dataframe tbody tr th {\n",
       "        vertical-align: top;\n",
       "    }\n",
       "\n",
       "    .dataframe thead th {\n",
       "        text-align: right;\n",
       "    }\n",
       "</style>\n",
       "<table border=\"1\" class=\"dataframe\">\n",
       "  <thead>\n",
       "    <tr style=\"text-align: right;\">\n",
       "      <th></th>\n",
       "      <th>Número</th>\n",
       "      <th>Dia</th>\n",
       "      <th>Fecha</th>\n",
       "      <th>Mes:</th>\n",
       "      <th>IdMes</th>\n",
       "      <th>Año:</th>\n",
       "      <th>Máquina / Equipo:</th>\n",
       "      <th>Semana:</th>\n",
       "      <th>Turno:</th>\n",
       "      <th>Código y Descrip. / Producto:</th>\n",
       "      <th>Unidades Producidas (Conformes) :</th>\n",
       "      <th>Peso Promedio de la unidad (K):</th>\n",
       "      <th>Gramaje (K):</th>\n",
       "    </tr>\n",
       "  </thead>\n",
       "  <tbody>\n",
       "  </tbody>\n",
       "</table>\n",
       "</div>"
      ],
      "text/plain": [
       "Empty DataFrame\n",
       "Columns: [Número, Dia, Fecha, Mes:, IdMes, Año:, Máquina / Equipo:, Semana:, Turno:, Código y Descrip. / Producto:, Unidades Producidas (Conformes) :, Peso Promedio de la unidad (K):, Gramaje (K):]\n",
       "Index: []"
      ]
     },
     "execution_count": 237,
     "metadata": {},
     "output_type": "execute_result"
    }
   ],
   "source": [
    "df_non_conver.head()"
   ]
  },
  {
   "cell_type": "code",
   "execution_count": 238,
   "metadata": {
    "colab": {
     "base_uri": "https://localhost:8080/"
    },
    "executionInfo": {
     "elapsed": 9,
     "status": "ok",
     "timestamp": 1751892437791,
     "user": {
      "displayName": "Melanny Herrera Arenas",
      "userId": "10791965058209715546"
     },
     "user_tz": 300
    },
    "id": "GzYA2PpHZOvV",
    "outputId": "9197a1ca-2205-43b6-9d79-706fb4464a11"
   },
   "outputs": [
    {
     "data": {
      "text/plain": [
       "array(['1050712', '1036993', '1003495', '1003354', '1035163', '1036086',\n",
       "       '1036085', '1035162', '1043503', '1003496', '1003355', '1064489',\n",
       "       '1035164', '1058635', '1003353', '1034633', '1003350', '1014989',\n",
       "       '1011228', '1058118', '1065297', '1036080', '1014990', '1014991',\n",
       "       '1064451', '1064467', '1035545', '1013910', '1035434', '1065083',\n",
       "       '1064802', '1064801', '1030755', '1055015', '1003351', '1033931',\n",
       "       '1033932', '1034530', '1036089', '1034529', '1059907', '1036079',\n",
       "       '1035538', '1033009', '1003509', '1003593', '1030757', '1034632',\n",
       "       '1023722', '1059904', '1059909', '1030758', '1035468', '1032133',\n",
       "       '1045032', '1035814', '1036233', '1003757', '1065335', '1035469',\n",
       "       '1032134', '1036081', '1035544', '1035287', '1035543', '1036234',\n",
       "       '1035815', '1033008', '1035286', '1035540', '1034638', '1032596',\n",
       "       '1047939', '1003521', '1056520', '1035284', '1035285', '1035532',\n",
       "       '1003535', '1064969', '1003377', '1034794', '1035467', '1064332',\n",
       "       '1032132', '1069604', '1035533', '1003570', '1036232', '1035813',\n",
       "       '1064331', '1059906', '1013909', '1035466', '1036078', '1034154',\n",
       "       '1014306', '1034792', '1064466', '1055565', '1027720', '1014992',\n",
       "       '1034853', '1035541', '1050715', '1035549', '1044235', '1034532',\n",
       "       '1035883', '1035547', '1064333', '1064330', '1035546', '1035548',\n",
       "       '1065764', '1070899', '1071048', '1070892', '1071047', '1070900',\n",
       "       '1070893', '1070897', '1071051', '1070898', '1026524', '1057868',\n",
       "       '1057869', '1070896', '1050714', '1024586', '1070922', '1070127',\n",
       "       '1070128', '1049921', '1062103', '1071203', '1068611', '1071204',\n",
       "       '1059902', '1070419', '1005757', '1035433', '1050713', '1068362',\n",
       "       '1003364', '1072113', '1072114', '1072115', '1074283', '1008136',\n",
       "       '1074254', '1069818', '1073744', '1074236', '1073827', '1073826',\n",
       "       '1073891', '1072236', '1072237', '1075625', '1074284', '1018785',\n",
       "       '1076641', '1076939', '1069342', '1062102'], dtype=object)"
      ]
     },
     "execution_count": 238,
     "metadata": {},
     "output_type": "execute_result"
    }
   ],
   "source": [
    "#extraer_codigo\n",
    "df_Env_Sol = fc.extraer_codigo(df_Env_Sol)\n",
    "df_Env_Sol['Codigo'].unique()"
   ]
  },
  {
   "cell_type": "code",
   "execution_count": 239,
   "metadata": {
    "colab": {
     "base_uri": "https://localhost:8080/",
     "height": 66
    },
    "executionInfo": {
     "elapsed": 36,
     "status": "ok",
     "timestamp": 1751892437826,
     "user": {
      "displayName": "Melanny Herrera Arenas",
      "userId": "10791965058209715546"
     },
     "user_tz": 300
    },
    "id": "arlIP4QpZXuh",
    "outputId": "1c844a0d-b3cf-4846-b7aa-225c5392615b"
   },
   "outputs": [
    {
     "data": {
      "text/html": [
       "<div>\n",
       "<style scoped>\n",
       "    .dataframe tbody tr th:only-of-type {\n",
       "        vertical-align: middle;\n",
       "    }\n",
       "\n",
       "    .dataframe tbody tr th {\n",
       "        vertical-align: top;\n",
       "    }\n",
       "\n",
       "    .dataframe thead th {\n",
       "        text-align: right;\n",
       "    }\n",
       "</style>\n",
       "<table border=\"1\" class=\"dataframe\">\n",
       "  <thead>\n",
       "    <tr style=\"text-align: right;\">\n",
       "      <th></th>\n",
       "      <th>Número</th>\n",
       "      <th>Dia</th>\n",
       "      <th>Fecha</th>\n",
       "      <th>Mes:</th>\n",
       "      <th>IdMes</th>\n",
       "      <th>Año:</th>\n",
       "      <th>Máquina / Equipo:</th>\n",
       "      <th>Semana:</th>\n",
       "      <th>Turno:</th>\n",
       "      <th>Código y Descrip. / Producto:</th>\n",
       "      <th>Unidades Producidas (Conformes) :</th>\n",
       "      <th>Peso Promedio de la unidad (K):</th>\n",
       "      <th>Gramaje (K):</th>\n",
       "    </tr>\n",
       "  </thead>\n",
       "  <tbody>\n",
       "  </tbody>\n",
       "</table>\n",
       "</div>"
      ],
      "text/plain": [
       "Empty DataFrame\n",
       "Columns: [Número, Dia, Fecha, Mes:, IdMes, Año:, Máquina / Equipo:, Semana:, Turno:, Código y Descrip. / Producto:, Unidades Producidas (Conformes) :, Peso Promedio de la unidad (K):, Gramaje (K):]\n",
       "Index: []"
      ]
     },
     "execution_count": 239,
     "metadata": {},
     "output_type": "execute_result"
    }
   ],
   "source": [
    "df_Env_Sol_nan_ceros.head()"
   ]
  },
  {
   "cell_type": "markdown",
   "metadata": {
    "id": "s00bmSY_AQ2G"
   },
   "source": [
    "**Generar un dataframe con los códigos y descripción de códigos**"
   ]
  },
  {
   "cell_type": "code",
   "execution_count": 240,
   "metadata": {
    "colab": {
     "base_uri": "https://localhost:8080/",
     "height": 206
    },
    "executionInfo": {
     "elapsed": 26,
     "status": "ok",
     "timestamp": 1751892437851,
     "user": {
      "displayName": "Melanny Herrera Arenas",
      "userId": "10791965058209715546"
     },
     "user_tz": 300
    },
    "id": "ZszYsY4f-rkW",
    "outputId": "ea20ae53-ec7d-4f90-f0e1-d0070d9afa8f"
   },
   "outputs": [
    {
     "data": {
      "text/html": [
       "<div>\n",
       "<style scoped>\n",
       "    .dataframe tbody tr th:only-of-type {\n",
       "        vertical-align: middle;\n",
       "    }\n",
       "\n",
       "    .dataframe tbody tr th {\n",
       "        vertical-align: top;\n",
       "    }\n",
       "\n",
       "    .dataframe thead th {\n",
       "        text-align: right;\n",
       "    }\n",
       "</style>\n",
       "<table border=\"1\" class=\"dataframe\">\n",
       "  <thead>\n",
       "    <tr style=\"text-align: right;\">\n",
       "      <th></th>\n",
       "      <th>Codigo</th>\n",
       "      <th>Código y Descrip. / Producto:</th>\n",
       "    </tr>\n",
       "  </thead>\n",
       "  <tbody>\n",
       "    <tr>\n",
       "      <th>0</th>\n",
       "      <td>1003350</td>\n",
       "      <td>[1003350 COLCAFE ST 250 X 12 3]</td>\n",
       "    </tr>\n",
       "    <tr>\n",
       "      <th>1</th>\n",
       "      <td>1003351</td>\n",
       "      <td>[1003351 Cafe COLCAFE vainilla 50g 24fco., 100...</td>\n",
       "    </tr>\n",
       "    <tr>\n",
       "      <th>2</th>\n",
       "      <td>1003353</td>\n",
       "      <td>[1003353 COLCAFE ST 170 X 12 2.04]</td>\n",
       "    </tr>\n",
       "    <tr>\n",
       "      <th>3</th>\n",
       "      <td>1003354</td>\n",
       "      <td>[1003354 COLCAFE ST 85X24 2.04]</td>\n",
       "    </tr>\n",
       "    <tr>\n",
       "      <th>4</th>\n",
       "      <td>1003355</td>\n",
       "      <td>[1003355 COLCAFE ST 50 X 24 1.2]</td>\n",
       "    </tr>\n",
       "  </tbody>\n",
       "</table>\n",
       "</div>"
      ],
      "text/plain": [
       "    Codigo                      Código y Descrip. / Producto:\n",
       "0  1003350                    [1003350 COLCAFE ST 250 X 12 3]\n",
       "1  1003351  [1003351 Cafe COLCAFE vainilla 50g 24fco., 100...\n",
       "2  1003353                 [1003353 COLCAFE ST 170 X 12 2.04]\n",
       "3  1003354                    [1003354 COLCAFE ST 85X24 2.04]\n",
       "4  1003355                   [1003355 COLCAFE ST 50 X 24 1.2]"
      ]
     },
     "execution_count": 240,
     "metadata": {},
     "output_type": "execute_result"
    }
   ],
   "source": [
    "#Se genera un dataframe con codigos y descripcion de codigos en el cual si hay descripciones repetidas las agrupa en una lista para verificaciones futuras\n",
    "df_pivot_Codigos = df_Env_Sol.groupby('Codigo')['Código y Descrip. / Producto:'].unique().reset_index() #Para cada Codigo, toma los valores unicos de cod/descrip y coloca los indices en una columna\n",
    "df_pivot_Codigos.head()"
   ]
  },
  {
   "cell_type": "markdown",
   "metadata": {
    "id": "gFiPyISoAjkR"
   },
   "source": [
    "**Identificación de Codigos con mas de una descripción**"
   ]
  },
  {
   "cell_type": "code",
   "execution_count": 241,
   "metadata": {
    "colab": {
     "base_uri": "https://localhost:8080/",
     "height": 206
    },
    "executionInfo": {
     "elapsed": 5,
     "status": "ok",
     "timestamp": 1751892437857,
     "user": {
      "displayName": "Melanny Herrera Arenas",
      "userId": "10791965058209715546"
     },
     "user_tz": 300
    },
    "id": "50uwDsd-Ap_R",
    "outputId": "e9d400b1-538d-4df9-e15e-b75b8a586811"
   },
   "outputs": [
    {
     "data": {
      "text/html": [
       "<div>\n",
       "<style scoped>\n",
       "    .dataframe tbody tr th:only-of-type {\n",
       "        vertical-align: middle;\n",
       "    }\n",
       "\n",
       "    .dataframe tbody tr th {\n",
       "        vertical-align: top;\n",
       "    }\n",
       "\n",
       "    .dataframe thead th {\n",
       "        text-align: right;\n",
       "    }\n",
       "</style>\n",
       "<table border=\"1\" class=\"dataframe\">\n",
       "  <thead>\n",
       "    <tr style=\"text-align: right;\">\n",
       "      <th></th>\n",
       "      <th>Codigo</th>\n",
       "      <th>Código y Descrip. / Producto:</th>\n",
       "    </tr>\n",
       "  </thead>\n",
       "  <tbody>\n",
       "    <tr>\n",
       "      <th>1</th>\n",
       "      <td>1003351</td>\n",
       "      <td>2</td>\n",
       "    </tr>\n",
       "    <tr>\n",
       "      <th>57</th>\n",
       "      <td>1035287</td>\n",
       "      <td>2</td>\n",
       "    </tr>\n",
       "    <tr>\n",
       "      <th>71</th>\n",
       "      <td>1035545</td>\n",
       "      <td>2</td>\n",
       "    </tr>\n",
       "    <tr>\n",
       "      <th>83</th>\n",
       "      <td>1036081</td>\n",
       "      <td>2</td>\n",
       "    </tr>\n",
       "    <tr>\n",
       "      <th>124</th>\n",
       "      <td>1064969</td>\n",
       "      <td>2</td>\n",
       "    </tr>\n",
       "  </tbody>\n",
       "</table>\n",
       "</div>"
      ],
      "text/plain": [
       "      Codigo  Código y Descrip. / Producto:\n",
       "1    1003351                              2\n",
       "57   1035287                              2\n",
       "71   1035545                              2\n",
       "83   1036081                              2\n",
       "124  1064969                              2"
      ]
     },
     "execution_count": 241,
     "metadata": {},
     "output_type": "execute_result"
    }
   ],
   "source": [
    "#Agrupar por Código y contar descripciones únicas\n",
    "#df_con_multiples_desc = df_pivot_Codigos[df_pivot_Codigos['Código y Descrip. / Producto:'].apply(len) > 1]\n",
    "df_con_multiples_desc = df_Env_Sol.groupby('Codigo')['Código y Descrip. / Producto:'].nunique().reset_index() #.nunique() trae CUANTAS descrip unicas hay por codigo\n",
    "df_con_multiples_desc = df_con_multiples_desc[df_con_multiples_desc['Código y Descrip. / Producto:'] > 1] #filtra los codigos en el que la descrip (que ya es un numero) sea > 1\n",
    "df_con_multiples_desc.head()"
   ]
  },
  {
   "cell_type": "code",
   "execution_count": 242,
   "metadata": {
    "colab": {
     "base_uri": "https://localhost:8080/",
     "height": 146
    },
    "executionInfo": {
     "elapsed": 32,
     "status": "ok",
     "timestamp": 1751892437891,
     "user": {
      "displayName": "Melanny Herrera Arenas",
      "userId": "10791965058209715546"
     },
     "user_tz": 300
    },
    "id": "Zu0kuFE897I2",
    "outputId": "f556011c-5280-4a88-8a40-c9c3500c2301"
   },
   "outputs": [
    {
     "data": {
      "text/plain": [
       "Codigo                           object\n",
       "Código y Descrip. / Producto:    object\n",
       "dtype: object"
      ]
     },
     "execution_count": 242,
     "metadata": {},
     "output_type": "execute_result"
    }
   ],
   "source": [
    "df_pivot_Codigos.dtypes"
   ]
  },
  {
   "cell_type": "markdown",
   "metadata": {
    "id": "KX3P3wxB5T_t"
   },
   "source": [
    "**Identificación y supresión de aquellos códigos con valores nulos**"
   ]
  },
  {
   "cell_type": "code",
   "execution_count": 243,
   "metadata": {
    "colab": {
     "base_uri": "https://localhost:8080/"
    },
    "executionInfo": {
     "elapsed": 7,
     "status": "ok",
     "timestamp": 1751892437899,
     "user": {
      "displayName": "Melanny Herrera Arenas",
      "userId": "10791965058209715546"
     },
     "user_tz": 300
    },
    "id": "ud5egM2FzM7D",
    "outputId": "78c6b386-6969-4d90-e785-a48265a33598"
   },
   "outputs": [
    {
     "name": "stdout",
     "output_type": "stream",
     "text": [
      "(4739, 14)\n",
      "(0, 14)\n"
     ]
    }
   ],
   "source": [
    "#eliminar_codigos_nan\n",
    "df_Env_Sol, df_Env_Sol_Codigos_nan = fc.eliminar_codigos_nan(df_Env_Sol)\n",
    "print(df_Env_Sol.shape)\n",
    "print(df_Env_Sol_Codigos_nan.shape)"
   ]
  },
  {
   "cell_type": "code",
   "execution_count": 244,
   "metadata": {
    "colab": {
     "base_uri": "https://localhost:8080/",
     "height": 66
    },
    "executionInfo": {
     "elapsed": 3,
     "status": "ok",
     "timestamp": 1751892437903,
     "user": {
      "displayName": "Melanny Herrera Arenas",
      "userId": "10791965058209715546"
     },
     "user_tz": 300
    },
    "id": "syaUfG0z46Rw",
    "outputId": "5b33d5c5-44ca-4917-8bdd-15811361b56e"
   },
   "outputs": [
    {
     "data": {
      "text/html": [
       "<div>\n",
       "<style scoped>\n",
       "    .dataframe tbody tr th:only-of-type {\n",
       "        vertical-align: middle;\n",
       "    }\n",
       "\n",
       "    .dataframe tbody tr th {\n",
       "        vertical-align: top;\n",
       "    }\n",
       "\n",
       "    .dataframe thead th {\n",
       "        text-align: right;\n",
       "    }\n",
       "</style>\n",
       "<table border=\"1\" class=\"dataframe\">\n",
       "  <thead>\n",
       "    <tr style=\"text-align: right;\">\n",
       "      <th></th>\n",
       "      <th>Número</th>\n",
       "      <th>Dia</th>\n",
       "      <th>Fecha</th>\n",
       "      <th>Mes:</th>\n",
       "      <th>IdMes</th>\n",
       "      <th>Año:</th>\n",
       "      <th>Máquina / Equipo:</th>\n",
       "      <th>Semana:</th>\n",
       "      <th>Turno:</th>\n",
       "      <th>Código y Descrip. / Producto:</th>\n",
       "      <th>Unidades Producidas (Conformes) :</th>\n",
       "      <th>Peso Promedio de la unidad (K):</th>\n",
       "      <th>Gramaje (K):</th>\n",
       "      <th>Codigo</th>\n",
       "    </tr>\n",
       "  </thead>\n",
       "  <tbody>\n",
       "  </tbody>\n",
       "</table>\n",
       "</div>"
      ],
      "text/plain": [
       "Empty DataFrame\n",
       "Columns: [Número, Dia, Fecha, Mes:, IdMes, Año:, Máquina / Equipo:, Semana:, Turno:, Código y Descrip. / Producto:, Unidades Producidas (Conformes) :, Peso Promedio de la unidad (K):, Gramaje (K):, Codigo]\n",
       "Index: []"
      ]
     },
     "execution_count": 244,
     "metadata": {},
     "output_type": "execute_result"
    }
   ],
   "source": [
    "df_Env_Sol_Codigos_nan = df_Env_Sol_Codigos_nan[df_Env_Sol_Codigos_nan['Año:'] == Añoeval]\n",
    "df_Env_Sol_Codigos_nan.head()"
   ]
  },
  {
   "cell_type": "code",
   "execution_count": 245,
   "metadata": {
    "colab": {
     "base_uri": "https://localhost:8080/",
     "height": 523
    },
    "executionInfo": {
     "elapsed": 5,
     "status": "ok",
     "timestamp": 1751892437909,
     "user": {
      "displayName": "Melanny Herrera Arenas",
      "userId": "10791965058209715546"
     },
     "user_tz": 300
    },
    "id": "pUb4cNhs8d_X",
    "outputId": "5ff029b0-f454-4ae4-bdb8-1cf4217c6f35"
   },
   "outputs": [
    {
     "data": {
      "text/plain": [
       "Número                                 int64\n",
       "Dia                                    int64\n",
       "Fecha                                 object\n",
       "Mes:                                  object\n",
       "IdMes                                  int64\n",
       "Año:                                   int64\n",
       "Máquina / Equipo:                     object\n",
       "Semana:                              float64\n",
       "Turno:                                 int64\n",
       "Código y Descrip. / Producto:         object\n",
       "Unidades Producidas (Conformes) :    float64\n",
       "Peso Promedio de la unidad (K):      float64\n",
       "Gramaje (K):                         float64\n",
       "Codigo                                object\n",
       "dtype: object"
      ]
     },
     "execution_count": 245,
     "metadata": {},
     "output_type": "execute_result"
    }
   ],
   "source": [
    "df_Env_Sol.dtypes"
   ]
  },
  {
   "cell_type": "markdown",
   "metadata": {
    "id": "EJu3FcyE80O1"
   },
   "source": [
    "**Por temas de sobrepeso se borrará el Codigo 1055015 del archivo de TPM**"
   ]
  },
  {
   "cell_type": "code",
   "execution_count": 246,
   "metadata": {
    "executionInfo": {
     "elapsed": 24,
     "status": "ok",
     "timestamp": 1751892437936,
     "user": {
      "displayName": "Melanny Herrera Arenas",
      "userId": "10791965058209715546"
     },
     "user_tz": 300
    },
    "id": "qEp6Z9jG46PF"
   },
   "outputs": [],
   "source": [
    "#Por temas de Sobrepeso se borrará el código 1055015 del archivo de TPM\n",
    "indices_to_drop = df_Env_Sol[(df_Env_Sol['Codigo'] == \"1055015\")].index\n",
    "df_Env_Sol.drop(indices_to_drop, inplace=True)  #inplace=True asegura que la eliminación se haga sobre df_Env_Sol"
   ]
  },
  {
   "cell_type": "code",
   "execution_count": 247,
   "metadata": {
    "colab": {
     "base_uri": "https://localhost:8080/",
     "height": 66
    },
    "executionInfo": {
     "elapsed": 12,
     "status": "ok",
     "timestamp": 1751892437951,
     "user": {
      "displayName": "Melanny Herrera Arenas",
      "userId": "10791965058209715546"
     },
     "user_tz": 300
    },
    "id": "ONEXVtFS8Mn0",
    "outputId": "ab75c02e-d445-4562-e347-0cf1e374117f"
   },
   "outputs": [
    {
     "data": {
      "text/html": [
       "<div>\n",
       "<style scoped>\n",
       "    .dataframe tbody tr th:only-of-type {\n",
       "        vertical-align: middle;\n",
       "    }\n",
       "\n",
       "    .dataframe tbody tr th {\n",
       "        vertical-align: top;\n",
       "    }\n",
       "\n",
       "    .dataframe thead th {\n",
       "        text-align: right;\n",
       "    }\n",
       "</style>\n",
       "<table border=\"1\" class=\"dataframe\">\n",
       "  <thead>\n",
       "    <tr style=\"text-align: right;\">\n",
       "      <th></th>\n",
       "      <th>Número</th>\n",
       "      <th>Dia</th>\n",
       "      <th>Fecha</th>\n",
       "      <th>Mes:</th>\n",
       "      <th>IdMes</th>\n",
       "      <th>Año:</th>\n",
       "      <th>Máquina / Equipo:</th>\n",
       "      <th>Semana:</th>\n",
       "      <th>Turno:</th>\n",
       "      <th>Código y Descrip. / Producto:</th>\n",
       "      <th>Unidades Producidas (Conformes) :</th>\n",
       "      <th>Peso Promedio de la unidad (K):</th>\n",
       "      <th>Gramaje (K):</th>\n",
       "      <th>Codigo</th>\n",
       "    </tr>\n",
       "  </thead>\n",
       "  <tbody>\n",
       "  </tbody>\n",
       "</table>\n",
       "</div>"
      ],
      "text/plain": [
       "Empty DataFrame\n",
       "Columns: [Número, Dia, Fecha, Mes:, IdMes, Año:, Máquina / Equipo:, Semana:, Turno:, Código y Descrip. / Producto:, Unidades Producidas (Conformes) :, Peso Promedio de la unidad (K):, Gramaje (K):, Codigo]\n",
       "Index: []"
      ]
     },
     "execution_count": 247,
     "metadata": {},
     "output_type": "execute_result"
    }
   ],
   "source": [
    "#columnas_a_filtrar = 'Gramaje (K):', 'Unidades Producidas (Conformes) :', 'Peso Promedio de la unidad (K):'\n",
    "filtro_nan_ceros = df_Env_Sol[columnas_filtrar_nulos].isna().any(axis=1) | (df_Env_Sol[columnas_filtrar_nulos] == 0).any(axis=1)\n",
    "df_Env_Sol_nan_ceros = df_Env_Sol[filtro_nan_ceros]\n",
    "df_Env_Sol = df_Env_Sol[~filtro_nan_ceros]\n",
    "df_Env_Sol_nan_ceros.head()"
   ]
  },
  {
   "cell_type": "code",
   "execution_count": 248,
   "metadata": {
    "colab": {
     "base_uri": "https://localhost:8080/",
     "height": 523
    },
    "executionInfo": {
     "elapsed": 36,
     "status": "ok",
     "timestamp": 1751892438004,
     "user": {
      "displayName": "Melanny Herrera Arenas",
      "userId": "10791965058209715546"
     },
     "user_tz": 300
    },
    "id": "12Yfe-CcoTlL",
    "outputId": "0dc128d2-0b6b-45a7-bc83-cb96e290162d"
   },
   "outputs": [
    {
     "data": {
      "text/plain": [
       "Número                                 int64\n",
       "Dia                                    int64\n",
       "Fecha                                 object\n",
       "Mes:                                  object\n",
       "IdMes                                  int64\n",
       "Año:                                   int64\n",
       "Máquina / Equipo:                     object\n",
       "Semana:                              float64\n",
       "Turno:                                 int64\n",
       "Código y Descrip. / Producto:         object\n",
       "Unidades Producidas (Conformes) :    float64\n",
       "Peso Promedio de la unidad (K):      float64\n",
       "Gramaje (K):                         float64\n",
       "Codigo                                object\n",
       "dtype: object"
      ]
     },
     "execution_count": 248,
     "metadata": {},
     "output_type": "execute_result"
    }
   ],
   "source": [
    "df_Env_Sol_nan_ceros.dtypes"
   ]
  },
  {
   "cell_type": "code",
   "execution_count": 249,
   "metadata": {
    "colab": {
     "base_uri": "https://localhost:8080/"
    },
    "executionInfo": {
     "elapsed": 10,
     "status": "ok",
     "timestamp": 1751892438005,
     "user": {
      "displayName": "Melanny Herrera Arenas",
      "userId": "10791965058209715546"
     },
     "user_tz": 300
    },
    "id": "CEU8C-mkITFV",
    "outputId": "7cb78ddc-23fc-41d0-9c10-e7f54ae43231"
   },
   "outputs": [
    {
     "data": {
      "text/plain": [
       "(0, 14)"
      ]
     },
     "execution_count": 249,
     "metadata": {},
     "output_type": "execute_result"
    }
   ],
   "source": [
    "df_Env_Sol_nan_ceros.shape"
   ]
  },
  {
   "cell_type": "code",
   "execution_count": 250,
   "metadata": {
    "colab": {
     "base_uri": "https://localhost:8080/",
     "height": 375
    },
    "executionInfo": {
     "elapsed": 31,
     "status": "ok",
     "timestamp": 1751892438033,
     "user": {
      "displayName": "Melanny Herrera Arenas",
      "userId": "10791965058209715546"
     },
     "user_tz": 300
    },
    "id": "_iCfmXwX8MiO",
    "outputId": "96f61850-7566-447f-fd5d-81586f695074"
   },
   "outputs": [
    {
     "data": {
      "text/html": [
       "<div>\n",
       "<style scoped>\n",
       "    .dataframe tbody tr th:only-of-type {\n",
       "        vertical-align: middle;\n",
       "    }\n",
       "\n",
       "    .dataframe tbody tr th {\n",
       "        vertical-align: top;\n",
       "    }\n",
       "\n",
       "    .dataframe thead th {\n",
       "        text-align: right;\n",
       "    }\n",
       "</style>\n",
       "<table border=\"1\" class=\"dataframe\">\n",
       "  <thead>\n",
       "    <tr style=\"text-align: right;\">\n",
       "      <th></th>\n",
       "      <th>Número</th>\n",
       "      <th>Dia</th>\n",
       "      <th>Fecha</th>\n",
       "      <th>Mes:</th>\n",
       "      <th>IdMes</th>\n",
       "      <th>Año:</th>\n",
       "      <th>Máquina / Equipo:</th>\n",
       "      <th>Semana:</th>\n",
       "      <th>Turno:</th>\n",
       "      <th>Código y Descrip. / Producto:</th>\n",
       "      <th>Unidades Producidas (Conformes) :</th>\n",
       "      <th>Peso Promedio de la unidad (K):</th>\n",
       "      <th>Gramaje (K):</th>\n",
       "      <th>Codigo</th>\n",
       "      <th>Real_empaque_calculado</th>\n",
       "      <th>Debe_ser_empaque_calculado</th>\n",
       "      <th>Diferencia_calculado</th>\n",
       "      <th>Sobrepeso_calculado</th>\n",
       "    </tr>\n",
       "  </thead>\n",
       "  <tbody>\n",
       "    <tr>\n",
       "      <th>9773</th>\n",
       "      <td>44090</td>\n",
       "      <td>2</td>\n",
       "      <td>2024-01-02</td>\n",
       "      <td>Enero</td>\n",
       "      <td>1</td>\n",
       "      <td>2024</td>\n",
       "      <td>Linea B</td>\n",
       "      <td>1.0</td>\n",
       "      <td>1</td>\n",
       "      <td>1050712 Cafe Sprouts Dark Organic 100g x 6</td>\n",
       "      <td>14400.0</td>\n",
       "      <td>0.10073</td>\n",
       "      <td>0.100</td>\n",
       "      <td>1050712</td>\n",
       "      <td>1450.512</td>\n",
       "      <td>1440.0</td>\n",
       "      <td>10.512</td>\n",
       "      <td>0.007300</td>\n",
       "    </tr>\n",
       "    <tr>\n",
       "      <th>9774</th>\n",
       "      <td>44091</td>\n",
       "      <td>2</td>\n",
       "      <td>2024-01-02</td>\n",
       "      <td>Enero</td>\n",
       "      <td>1</td>\n",
       "      <td>2024</td>\n",
       "      <td>Linea A</td>\n",
       "      <td>1.0</td>\n",
       "      <td>1</td>\n",
       "      <td>1036993 Cafe COLCAFE clas. pol. 85gx24 España</td>\n",
       "      <td>4800.0</td>\n",
       "      <td>0.08604</td>\n",
       "      <td>0.085</td>\n",
       "      <td>1036993</td>\n",
       "      <td>412.992</td>\n",
       "      <td>408.0</td>\n",
       "      <td>4.992</td>\n",
       "      <td>0.012235</td>\n",
       "    </tr>\n",
       "  </tbody>\n",
       "</table>\n",
       "</div>"
      ],
      "text/plain": [
       "      Número  Dia       Fecha   Mes:  IdMes  Año: Máquina / Equipo:  Semana:  \\\n",
       "9773   44090    2  2024-01-02  Enero      1  2024           Linea B      1.0   \n",
       "9774   44091    2  2024-01-02  Enero      1  2024           Linea A      1.0   \n",
       "\n",
       "      Turno:                  Código y Descrip. / Producto:  \\\n",
       "9773       1    1050712 Cafe Sprouts Dark Organic 100g x 6    \n",
       "9774       1  1036993 Cafe COLCAFE clas. pol. 85gx24 España   \n",
       "\n",
       "      Unidades Producidas (Conformes) :  Peso Promedio de la unidad (K):  \\\n",
       "9773                            14400.0                          0.10073   \n",
       "9774                             4800.0                          0.08604   \n",
       "\n",
       "      Gramaje (K):   Codigo  Real_empaque_calculado  \\\n",
       "9773         0.100  1050712                1450.512   \n",
       "9774         0.085  1036993                 412.992   \n",
       "\n",
       "      Debe_ser_empaque_calculado  Diferencia_calculado  Sobrepeso_calculado  \n",
       "9773                      1440.0                10.512             0.007300  \n",
       "9774                       408.0                 4.992             0.012235  "
      ]
     },
     "execution_count": 250,
     "metadata": {},
     "output_type": "execute_result"
    }
   ],
   "source": [
    "#calcular_columnas\n",
    "df_Env_Sol = fc.calcular_columnas(df_Env_Sol)\n",
    "df_Env_Sol.head(2)"
   ]
  },
  {
   "cell_type": "markdown",
   "metadata": {
    "id": "v0X2nPlWessd"
   },
   "source": [
    "**Generación de Novedades**"
   ]
  },
  {
   "cell_type": "code",
   "execution_count": 251,
   "metadata": {
    "executionInfo": {
     "elapsed": 3,
     "status": "ok",
     "timestamp": 1751892438034,
     "user": {
      "displayName": "Melanny Herrera Arenas",
      "userId": "10791965058209715546"
     },
     "user_tz": 300
    },
    "id": "OO1N4fZWOfRx"
   },
   "outputs": [],
   "source": [
    "Sobrepeso_Novedades = 0.5  #50% de sobrepeso"
   ]
  },
  {
   "cell_type": "code",
   "execution_count": 252,
   "metadata": {
    "colab": {
     "base_uri": "https://localhost:8080/",
     "height": 139
    },
    "executionInfo": {
     "elapsed": 38,
     "status": "ok",
     "timestamp": 1751892438072,
     "user": {
      "displayName": "Melanny Herrera Arenas",
      "userId": "10791965058209715546"
     },
     "user_tz": 300
    },
    "id": "B3M_F_Z18Mb-",
    "outputId": "c2bfbdc5-673a-49a5-c2fd-8d46b7783d2c"
   },
   "outputs": [
    {
     "data": {
      "text/html": [
       "<div>\n",
       "<style scoped>\n",
       "    .dataframe tbody tr th:only-of-type {\n",
       "        vertical-align: middle;\n",
       "    }\n",
       "\n",
       "    .dataframe tbody tr th {\n",
       "        vertical-align: top;\n",
       "    }\n",
       "\n",
       "    .dataframe thead th {\n",
       "        text-align: right;\n",
       "    }\n",
       "</style>\n",
       "<table border=\"1\" class=\"dataframe\">\n",
       "  <thead>\n",
       "    <tr style=\"text-align: right;\">\n",
       "      <th></th>\n",
       "      <th>Número</th>\n",
       "      <th>Dia</th>\n",
       "      <th>Fecha</th>\n",
       "      <th>Mes:</th>\n",
       "      <th>IdMes</th>\n",
       "      <th>Año:</th>\n",
       "      <th>Máquina / Equipo:</th>\n",
       "      <th>Semana:</th>\n",
       "      <th>Turno:</th>\n",
       "      <th>Código y Descrip. / Producto:</th>\n",
       "      <th>Unidades Producidas (Conformes) :</th>\n",
       "      <th>Peso Promedio de la unidad (K):</th>\n",
       "      <th>Gramaje (K):</th>\n",
       "      <th>Codigo</th>\n",
       "      <th>Real_empaque_calculado</th>\n",
       "      <th>Debe_ser_empaque_calculado</th>\n",
       "      <th>Diferencia_calculado</th>\n",
       "      <th>Sobrepeso_calculado</th>\n",
       "    </tr>\n",
       "  </thead>\n",
       "  <tbody>\n",
       "  </tbody>\n",
       "</table>\n",
       "</div>"
      ],
      "text/plain": [
       "Empty DataFrame\n",
       "Columns: [Número, Dia, Fecha, Mes:, IdMes, Año:, Máquina / Equipo:, Semana:, Turno:, Código y Descrip. / Producto:, Unidades Producidas (Conformes) :, Peso Promedio de la unidad (K):, Gramaje (K):, Codigo, Real_empaque_calculado, Debe_ser_empaque_calculado, Diferencia_calculado, Sobrepeso_calculado]\n",
       "Index: []"
      ]
     },
     "execution_count": 252,
     "metadata": {},
     "output_type": "execute_result"
    }
   ],
   "source": [
    "#generar_novedades\n",
    "df_Env_Sol_Nov_Sobrepeso = fc.generar_novedades(df_Env_Sol, Sobrepeso_Novedades)\n",
    "df_Env_Sol_Nov_Sobrepeso.head()"
   ]
  },
  {
   "cell_type": "code",
   "execution_count": 253,
   "metadata": {
    "colab": {
     "base_uri": "https://localhost:8080/",
     "height": 375
    },
    "executionInfo": {
     "elapsed": 32,
     "status": "ok",
     "timestamp": 1751892438104,
     "user": {
      "displayName": "Melanny Herrera Arenas",
      "userId": "10791965058209715546"
     },
     "user_tz": 300
    },
    "id": "Zpxm1Qs98MY2",
    "outputId": "abf70574-139c-42f5-f555-e55049bcd1c0"
   },
   "outputs": [
    {
     "data": {
      "text/html": [
       "<div>\n",
       "<style scoped>\n",
       "    .dataframe tbody tr th:only-of-type {\n",
       "        vertical-align: middle;\n",
       "    }\n",
       "\n",
       "    .dataframe tbody tr th {\n",
       "        vertical-align: top;\n",
       "    }\n",
       "\n",
       "    .dataframe thead th {\n",
       "        text-align: right;\n",
       "    }\n",
       "</style>\n",
       "<table border=\"1\" class=\"dataframe\">\n",
       "  <thead>\n",
       "    <tr style=\"text-align: right;\">\n",
       "      <th></th>\n",
       "      <th>Número</th>\n",
       "      <th>Dia</th>\n",
       "      <th>Fecha</th>\n",
       "      <th>Mes:</th>\n",
       "      <th>IdMes</th>\n",
       "      <th>Año:</th>\n",
       "      <th>Máquina / Equipo:</th>\n",
       "      <th>Semana:</th>\n",
       "      <th>Turno:</th>\n",
       "      <th>Código y Descrip. / Producto:</th>\n",
       "      <th>Unidades Producidas (Conformes) :</th>\n",
       "      <th>Peso Promedio de la unidad (K):</th>\n",
       "      <th>Gramaje (K):</th>\n",
       "      <th>Codigo</th>\n",
       "      <th>Real_empaque_calculado</th>\n",
       "      <th>Debe_ser_empaque_calculado</th>\n",
       "      <th>Diferencia_calculado</th>\n",
       "      <th>Sobrepeso_calculado</th>\n",
       "      <th>Costo/kg</th>\n",
       "    </tr>\n",
       "  </thead>\n",
       "  <tbody>\n",
       "    <tr>\n",
       "      <th>9773</th>\n",
       "      <td>44090</td>\n",
       "      <td>2</td>\n",
       "      <td>2024-01-02</td>\n",
       "      <td>Enero</td>\n",
       "      <td>1</td>\n",
       "      <td>2024</td>\n",
       "      <td>Linea B</td>\n",
       "      <td>1.0</td>\n",
       "      <td>1</td>\n",
       "      <td>1050712 Cafe Sprouts Dark Organic 100g x 6</td>\n",
       "      <td>14400.0</td>\n",
       "      <td>0.10073</td>\n",
       "      <td>0.100</td>\n",
       "      <td>1050712</td>\n",
       "      <td>1450.512</td>\n",
       "      <td>1440.0</td>\n",
       "      <td>10.512</td>\n",
       "      <td>0.007300</td>\n",
       "      <td>0.0</td>\n",
       "    </tr>\n",
       "    <tr>\n",
       "      <th>9774</th>\n",
       "      <td>44091</td>\n",
       "      <td>2</td>\n",
       "      <td>2024-01-02</td>\n",
       "      <td>Enero</td>\n",
       "      <td>1</td>\n",
       "      <td>2024</td>\n",
       "      <td>Linea A</td>\n",
       "      <td>1.0</td>\n",
       "      <td>1</td>\n",
       "      <td>1036993 Cafe COLCAFE clas. pol. 85gx24 España</td>\n",
       "      <td>4800.0</td>\n",
       "      <td>0.08604</td>\n",
       "      <td>0.085</td>\n",
       "      <td>1036993</td>\n",
       "      <td>412.992</td>\n",
       "      <td>408.0</td>\n",
       "      <td>4.992</td>\n",
       "      <td>0.012235</td>\n",
       "      <td>0.0</td>\n",
       "    </tr>\n",
       "  </tbody>\n",
       "</table>\n",
       "</div>"
      ],
      "text/plain": [
       "      Número  Dia       Fecha   Mes:  IdMes  Año: Máquina / Equipo:  Semana:  \\\n",
       "9773   44090    2  2024-01-02  Enero      1  2024           Linea B      1.0   \n",
       "9774   44091    2  2024-01-02  Enero      1  2024           Linea A      1.0   \n",
       "\n",
       "      Turno:                  Código y Descrip. / Producto:  \\\n",
       "9773       1    1050712 Cafe Sprouts Dark Organic 100g x 6    \n",
       "9774       1  1036993 Cafe COLCAFE clas. pol. 85gx24 España   \n",
       "\n",
       "      Unidades Producidas (Conformes) :  Peso Promedio de la unidad (K):  \\\n",
       "9773                            14400.0                          0.10073   \n",
       "9774                             4800.0                          0.08604   \n",
       "\n",
       "      Gramaje (K):   Codigo  Real_empaque_calculado  \\\n",
       "9773         0.100  1050712                1450.512   \n",
       "9774         0.085  1036993                 412.992   \n",
       "\n",
       "      Debe_ser_empaque_calculado  Diferencia_calculado  Sobrepeso_calculado  \\\n",
       "9773                      1440.0                10.512             0.007300   \n",
       "9774                       408.0                 4.992             0.012235   \n",
       "\n",
       "      Costo/kg  \n",
       "9773       0.0  \n",
       "9774       0.0  "
      ]
     },
     "execution_count": 253,
     "metadata": {},
     "output_type": "execute_result"
    }
   ],
   "source": [
    "#Agregar columna 'Costo/kg'\n",
    "df_Env_Sol['Costo/kg'] = 0.0\n",
    "df_Env_Sol.head(2)"
   ]
  },
  {
   "cell_type": "markdown",
   "metadata": {
    "id": "Yjw52fxXfHeE"
   },
   "source": [
    "**Tabla de Consolidado Mensual**"
   ]
  },
  {
   "cell_type": "code",
   "execution_count": 254,
   "metadata": {
    "colab": {
     "base_uri": "https://localhost:8080/",
     "height": 223
    },
    "executionInfo": {
     "elapsed": 65,
     "status": "ok",
     "timestamp": 1751892438167,
     "user": {
      "displayName": "Melanny Herrera Arenas",
      "userId": "10791965058209715546"
     },
     "user_tz": 300
    },
    "id": "yfKlTt1Q8MRN",
    "outputId": "3d324d02-e018-4aca-d092-470393b0400d"
   },
   "outputs": [
    {
     "data": {
      "text/html": [
       "<div>\n",
       "<style scoped>\n",
       "    .dataframe tbody tr th:only-of-type {\n",
       "        vertical-align: middle;\n",
       "    }\n",
       "\n",
       "    .dataframe tbody tr th {\n",
       "        vertical-align: top;\n",
       "    }\n",
       "\n",
       "    .dataframe thead th {\n",
       "        text-align: right;\n",
       "    }\n",
       "</style>\n",
       "<table border=\"1\" class=\"dataframe\">\n",
       "  <thead>\n",
       "    <tr style=\"text-align: right;\">\n",
       "      <th></th>\n",
       "      <th>Año:</th>\n",
       "      <th>Mes:</th>\n",
       "      <th>Codigo</th>\n",
       "      <th>Máquina / Equipo:</th>\n",
       "      <th>Debe_ser_empaque_calculado</th>\n",
       "      <th>Diferencia_calculado</th>\n",
       "      <th>Gramaje (K):</th>\n",
       "      <th>Peso Promedio de la unidad (K):</th>\n",
       "      <th>Real_empaque_calculado</th>\n",
       "      <th>Unidades Producidas (Conformes) :</th>\n",
       "    </tr>\n",
       "  </thead>\n",
       "  <tbody>\n",
       "    <tr>\n",
       "      <th>0</th>\n",
       "      <td>2024</td>\n",
       "      <td>Abril</td>\n",
       "      <td>1003350</td>\n",
       "      <td>Linea A</td>\n",
       "      <td>20901.00</td>\n",
       "      <td>204.41352</td>\n",
       "      <td>0.250</td>\n",
       "      <td>0.252471</td>\n",
       "      <td>21105.41352</td>\n",
       "      <td>83604.0</td>\n",
       "    </tr>\n",
       "    <tr>\n",
       "      <th>1</th>\n",
       "      <td>2024</td>\n",
       "      <td>Abril</td>\n",
       "      <td>1003351</td>\n",
       "      <td>Linea B</td>\n",
       "      <td>4033.20</td>\n",
       "      <td>72.64944</td>\n",
       "      <td>0.050</td>\n",
       "      <td>0.050992</td>\n",
       "      <td>4105.84944</td>\n",
       "      <td>80664.0</td>\n",
       "    </tr>\n",
       "    <tr>\n",
       "      <th>2</th>\n",
       "      <td>2024</td>\n",
       "      <td>Abril</td>\n",
       "      <td>1003353</td>\n",
       "      <td>Linea A</td>\n",
       "      <td>9190.20</td>\n",
       "      <td>100.21896</td>\n",
       "      <td>0.170</td>\n",
       "      <td>0.171893</td>\n",
       "      <td>9290.41896</td>\n",
       "      <td>54060.0</td>\n",
       "    </tr>\n",
       "    <tr>\n",
       "      <th>3</th>\n",
       "      <td>2024</td>\n",
       "      <td>Abril</td>\n",
       "      <td>1003354</td>\n",
       "      <td>Linea A</td>\n",
       "      <td>4084.08</td>\n",
       "      <td>41.53248</td>\n",
       "      <td>0.085</td>\n",
       "      <td>0.086035</td>\n",
       "      <td>4125.61248</td>\n",
       "      <td>48048.0</td>\n",
       "    </tr>\n",
       "    <tr>\n",
       "      <th>4</th>\n",
       "      <td>2024</td>\n",
       "      <td>Abril</td>\n",
       "      <td>1003355</td>\n",
       "      <td>Linea A</td>\n",
       "      <td>600.00</td>\n",
       "      <td>5.16000</td>\n",
       "      <td>0.050</td>\n",
       "      <td>0.050430</td>\n",
       "      <td>605.16000</td>\n",
       "      <td>12000.0</td>\n",
       "    </tr>\n",
       "  </tbody>\n",
       "</table>\n",
       "</div>"
      ],
      "text/plain": [
       "   Año:   Mes:   Codigo Máquina / Equipo:  Debe_ser_empaque_calculado  \\\n",
       "0  2024  Abril  1003350           Linea A                    20901.00   \n",
       "1  2024  Abril  1003351           Linea B                     4033.20   \n",
       "2  2024  Abril  1003353           Linea A                     9190.20   \n",
       "3  2024  Abril  1003354           Linea A                     4084.08   \n",
       "4  2024  Abril  1003355           Linea A                      600.00   \n",
       "\n",
       "   Diferencia_calculado  Gramaje (K):  Peso Promedio de la unidad (K):  \\\n",
       "0             204.41352         0.250                         0.252471   \n",
       "1              72.64944         0.050                         0.050992   \n",
       "2             100.21896         0.170                         0.171893   \n",
       "3              41.53248         0.085                         0.086035   \n",
       "4               5.16000         0.050                         0.050430   \n",
       "\n",
       "   Real_empaque_calculado  Unidades Producidas (Conformes) :  \n",
       "0             21105.41352                            83604.0  \n",
       "1              4105.84944                            80664.0  \n",
       "2              9290.41896                            54060.0  \n",
       "3              4125.61248                            48048.0  \n",
       "4               605.16000                            12000.0  "
      ]
     },
     "execution_count": 254,
     "metadata": {},
     "output_type": "execute_result"
    }
   ],
   "source": [
    "#pivote_consolidado\n",
    "df_Env_Sol_Mes = fc.pivote_consolidado(df_Env_Sol)\n",
    "df_Env_Sol_Mes.head()"
   ]
  },
  {
   "cell_type": "code",
   "execution_count": 255,
   "metadata": {
    "colab": {
     "base_uri": "https://localhost:8080/",
     "height": 223
    },
    "executionInfo": {
     "elapsed": 35,
     "status": "ok",
     "timestamp": 1751892438202,
     "user": {
      "displayName": "Melanny Herrera Arenas",
      "userId": "10791965058209715546"
     },
     "user_tz": 300
    },
    "id": "2Dhqgv0cIKeb",
    "outputId": "a953615e-c63c-4dc7-924f-e6e5ba15a9fd"
   },
   "outputs": [
    {
     "data": {
      "text/html": [
       "<div>\n",
       "<style scoped>\n",
       "    .dataframe tbody tr th:only-of-type {\n",
       "        vertical-align: middle;\n",
       "    }\n",
       "\n",
       "    .dataframe tbody tr th {\n",
       "        vertical-align: top;\n",
       "    }\n",
       "\n",
       "    .dataframe thead th {\n",
       "        text-align: right;\n",
       "    }\n",
       "</style>\n",
       "<table border=\"1\" class=\"dataframe\">\n",
       "  <thead>\n",
       "    <tr style=\"text-align: right;\">\n",
       "      <th></th>\n",
       "      <th>Año:</th>\n",
       "      <th>Mes:</th>\n",
       "      <th>Codigo</th>\n",
       "      <th>Máquina / Equipo:</th>\n",
       "      <th>Debe_ser_empaque_calculado</th>\n",
       "      <th>Diferencia_calculado</th>\n",
       "      <th>Gramaje (K):</th>\n",
       "      <th>Peso Promedio de la unidad (K):</th>\n",
       "      <th>Real_empaque_calculado</th>\n",
       "      <th>Unidades Producidas (Conformes) :</th>\n",
       "    </tr>\n",
       "  </thead>\n",
       "  <tbody>\n",
       "    <tr>\n",
       "      <th>0</th>\n",
       "      <td>2024</td>\n",
       "      <td>Abril</td>\n",
       "      <td>1003350</td>\n",
       "      <td>Linea A</td>\n",
       "      <td>20901.00</td>\n",
       "      <td>204.41352</td>\n",
       "      <td>0.250</td>\n",
       "      <td>0.252471</td>\n",
       "      <td>21105.41352</td>\n",
       "      <td>83604.0</td>\n",
       "    </tr>\n",
       "    <tr>\n",
       "      <th>1</th>\n",
       "      <td>2024</td>\n",
       "      <td>Abril</td>\n",
       "      <td>1003351</td>\n",
       "      <td>Linea B</td>\n",
       "      <td>4033.20</td>\n",
       "      <td>72.64944</td>\n",
       "      <td>0.050</td>\n",
       "      <td>0.050992</td>\n",
       "      <td>4105.84944</td>\n",
       "      <td>80664.0</td>\n",
       "    </tr>\n",
       "    <tr>\n",
       "      <th>2</th>\n",
       "      <td>2024</td>\n",
       "      <td>Abril</td>\n",
       "      <td>1003353</td>\n",
       "      <td>Linea A</td>\n",
       "      <td>9190.20</td>\n",
       "      <td>100.21896</td>\n",
       "      <td>0.170</td>\n",
       "      <td>0.171893</td>\n",
       "      <td>9290.41896</td>\n",
       "      <td>54060.0</td>\n",
       "    </tr>\n",
       "    <tr>\n",
       "      <th>3</th>\n",
       "      <td>2024</td>\n",
       "      <td>Abril</td>\n",
       "      <td>1003354</td>\n",
       "      <td>Linea A</td>\n",
       "      <td>4084.08</td>\n",
       "      <td>41.53248</td>\n",
       "      <td>0.085</td>\n",
       "      <td>0.086035</td>\n",
       "      <td>4125.61248</td>\n",
       "      <td>48048.0</td>\n",
       "    </tr>\n",
       "    <tr>\n",
       "      <th>4</th>\n",
       "      <td>2024</td>\n",
       "      <td>Abril</td>\n",
       "      <td>1003355</td>\n",
       "      <td>Linea A</td>\n",
       "      <td>600.00</td>\n",
       "      <td>5.16000</td>\n",
       "      <td>0.050</td>\n",
       "      <td>0.050430</td>\n",
       "      <td>605.16000</td>\n",
       "      <td>12000.0</td>\n",
       "    </tr>\n",
       "  </tbody>\n",
       "</table>\n",
       "</div>"
      ],
      "text/plain": [
       "   Año:   Mes:   Codigo Máquina / Equipo:  Debe_ser_empaque_calculado  \\\n",
       "0  2024  Abril  1003350           Linea A                    20901.00   \n",
       "1  2024  Abril  1003351           Linea B                     4033.20   \n",
       "2  2024  Abril  1003353           Linea A                     9190.20   \n",
       "3  2024  Abril  1003354           Linea A                     4084.08   \n",
       "4  2024  Abril  1003355           Linea A                      600.00   \n",
       "\n",
       "   Diferencia_calculado  Gramaje (K):  Peso Promedio de la unidad (K):  \\\n",
       "0             204.41352         0.250                         0.252471   \n",
       "1              72.64944         0.050                         0.050992   \n",
       "2             100.21896         0.170                         0.171893   \n",
       "3              41.53248         0.085                         0.086035   \n",
       "4               5.16000         0.050                         0.050430   \n",
       "\n",
       "   Real_empaque_calculado  Unidades Producidas (Conformes) :  \n",
       "0             21105.41352                            83604.0  \n",
       "1              4105.84944                            80664.0  \n",
       "2              9290.41896                            54060.0  \n",
       "3              4125.61248                            48048.0  \n",
       "4               605.16000                            12000.0  "
      ]
     },
     "execution_count": 255,
     "metadata": {},
     "output_type": "execute_result"
    }
   ],
   "source": [
    "#Tomar datos desde el año 2024 en adelante\n",
    "df_Env_Sol_Mes = fc.filtrar_desde_anio(df_Env_Sol_Mes, 2024)\n",
    "df_Env_Sol_Mes.head()"
   ]
  },
  {
   "cell_type": "code",
   "execution_count": 256,
   "metadata": {
    "colab": {
     "base_uri": "https://localhost:8080/",
     "height": 240
    },
    "executionInfo": {
     "elapsed": 33,
     "status": "ok",
     "timestamp": 1751892438233,
     "user": {
      "displayName": "Melanny Herrera Arenas",
      "userId": "10791965058209715546"
     },
     "user_tz": 300
    },
    "id": "gKpYX_LT46BQ",
    "outputId": "6cae71ed-0c68-459d-c10c-b9c092326959"
   },
   "outputs": [
    {
     "data": {
      "text/html": [
       "<div>\n",
       "<style scoped>\n",
       "    .dataframe tbody tr th:only-of-type {\n",
       "        vertical-align: middle;\n",
       "    }\n",
       "\n",
       "    .dataframe tbody tr th {\n",
       "        vertical-align: top;\n",
       "    }\n",
       "\n",
       "    .dataframe thead th {\n",
       "        text-align: right;\n",
       "    }\n",
       "</style>\n",
       "<table border=\"1\" class=\"dataframe\">\n",
       "  <thead>\n",
       "    <tr style=\"text-align: right;\">\n",
       "      <th></th>\n",
       "      <th>Año:</th>\n",
       "      <th>Mes:</th>\n",
       "      <th>Codigo</th>\n",
       "      <th>Máquina / Equipo:</th>\n",
       "      <th>Debe_ser_empaque_calculado</th>\n",
       "      <th>Diferencia_calculado</th>\n",
       "      <th>Gramaje (K):</th>\n",
       "      <th>Peso Promedio de la unidad (K):</th>\n",
       "      <th>Real_empaque_calculado</th>\n",
       "      <th>Unidades Producidas (Conformes) :</th>\n",
       "    </tr>\n",
       "  </thead>\n",
       "  <tbody>\n",
       "    <tr>\n",
       "      <th>0</th>\n",
       "      <td>2024</td>\n",
       "      <td>Abril</td>\n",
       "      <td>1003350</td>\n",
       "      <td>Linea A</td>\n",
       "      <td>20901.0</td>\n",
       "      <td>204.41352</td>\n",
       "      <td>0.25</td>\n",
       "      <td>0.252471</td>\n",
       "      <td>21105.41352</td>\n",
       "      <td>83604.0</td>\n",
       "    </tr>\n",
       "    <tr>\n",
       "      <th>103</th>\n",
       "      <td>2024</td>\n",
       "      <td>Agosto</td>\n",
       "      <td>1003350</td>\n",
       "      <td>Linea A</td>\n",
       "      <td>22680.0</td>\n",
       "      <td>259.00716</td>\n",
       "      <td>0.25</td>\n",
       "      <td>0.253040</td>\n",
       "      <td>22939.00716</td>\n",
       "      <td>90720.0</td>\n",
       "    </tr>\n",
       "    <tr>\n",
       "      <th>178</th>\n",
       "      <td>2024</td>\n",
       "      <td>Diciembre</td>\n",
       "      <td>1003350</td>\n",
       "      <td>Linea A</td>\n",
       "      <td>28830.0</td>\n",
       "      <td>307.78884</td>\n",
       "      <td>0.25</td>\n",
       "      <td>0.252635</td>\n",
       "      <td>29137.78884</td>\n",
       "      <td>115320.0</td>\n",
       "    </tr>\n",
       "    <tr>\n",
       "      <th>251</th>\n",
       "      <td>2024</td>\n",
       "      <td>Enero</td>\n",
       "      <td>1003350</td>\n",
       "      <td>Linea A</td>\n",
       "      <td>15714.0</td>\n",
       "      <td>166.35864</td>\n",
       "      <td>0.25</td>\n",
       "      <td>0.252800</td>\n",
       "      <td>15880.35864</td>\n",
       "      <td>62856.0</td>\n",
       "    </tr>\n",
       "    <tr>\n",
       "      <th>343</th>\n",
       "      <td>2024</td>\n",
       "      <td>Febrero</td>\n",
       "      <td>1003350</td>\n",
       "      <td>Linea A</td>\n",
       "      <td>10754.0</td>\n",
       "      <td>108.43680</td>\n",
       "      <td>0.25</td>\n",
       "      <td>0.254230</td>\n",
       "      <td>10862.43680</td>\n",
       "      <td>43016.0</td>\n",
       "    </tr>\n",
       "  </tbody>\n",
       "</table>\n",
       "</div>"
      ],
      "text/plain": [
       "     Año:       Mes:   Codigo Máquina / Equipo:  Debe_ser_empaque_calculado  \\\n",
       "0    2024      Abril  1003350           Linea A                     20901.0   \n",
       "103  2024     Agosto  1003350           Linea A                     22680.0   \n",
       "178  2024  Diciembre  1003350           Linea A                     28830.0   \n",
       "251  2024      Enero  1003350           Linea A                     15714.0   \n",
       "343  2024    Febrero  1003350           Linea A                     10754.0   \n",
       "\n",
       "     Diferencia_calculado  Gramaje (K):  Peso Promedio de la unidad (K):  \\\n",
       "0               204.41352          0.25                         0.252471   \n",
       "103             259.00716          0.25                         0.253040   \n",
       "178             307.78884          0.25                         0.252635   \n",
       "251             166.35864          0.25                         0.252800   \n",
       "343             108.43680          0.25                         0.254230   \n",
       "\n",
       "     Real_empaque_calculado  Unidades Producidas (Conformes) :  \n",
       "0               21105.41352                            83604.0  \n",
       "103             22939.00716                            90720.0  \n",
       "178             29137.78884                           115320.0  \n",
       "251             15880.35864                            62856.0  \n",
       "343             10862.43680                            43016.0  "
      ]
     },
     "execution_count": 256,
     "metadata": {},
     "output_type": "execute_result"
    }
   ],
   "source": [
    "#Visualizacion de EJEMPLO de los datos del consolidado del Mes para el año 2024 y codigo 1003350\n",
    "df_Env_Sol_Mes[(df_Env_Sol_Mes['Año:'] == 2024) & (df_Env_Sol_Mes['Codigo'] == \"1003350\")].head()"
   ]
  },
  {
   "cell_type": "code",
   "execution_count": 257,
   "metadata": {
    "colab": {
     "base_uri": "https://localhost:8080/"
    },
    "executionInfo": {
     "elapsed": 7,
     "status": "ok",
     "timestamp": 1751892438234,
     "user": {
      "displayName": "Melanny Herrera Arenas",
      "userId": "10791965058209715546"
     },
     "user_tz": 300
    },
    "id": "1UNT7wDOXEUp",
    "outputId": "6820982c-324b-4dee-ffb3-136426fcbff8"
   },
   "outputs": [
    {
     "data": {
      "text/plain": [
       "array(['Abril', 'Agosto', 'Diciembre', 'Enero', 'Febrero', 'Julio',\n",
       "       'Junio', 'Marzo', 'Mayo', 'Noviembre', 'Octubre', 'Septiembre'],\n",
       "      dtype=object)"
      ]
     },
     "execution_count": 257,
     "metadata": {},
     "output_type": "execute_result"
    }
   ],
   "source": [
    "#Verificacion de los meses en el DataFrame\n",
    "df_Env_Sol_Mes['Mes:'].unique()"
   ]
  },
  {
   "cell_type": "markdown",
   "metadata": {
    "id": "huUPYfVtR9QX"
   },
   "source": [
    "**Creación de la agrupación Mensual del archivo de semielaborados**"
   ]
  },
  {
   "cell_type": "code",
   "execution_count": 258,
   "metadata": {
    "executionInfo": {
     "elapsed": 3,
     "status": "ok",
     "timestamp": 1751892438234,
     "user": {
      "displayName": "Melanny Herrera Arenas",
      "userId": "10791965058209715546"
     },
     "user_tz": 300
    },
    "id": "Aho5q0MCP9y3"
   },
   "outputs": [],
   "source": [
    "df_costo_semi = df_COOISPI_COMB.copy(deep=True)"
   ]
  },
  {
   "cell_type": "code",
   "execution_count": 259,
   "metadata": {
    "executionInfo": {
     "elapsed": 48,
     "status": "ok",
     "timestamp": 1751892438280,
     "user": {
      "displayName": "Melanny Herrera Arenas",
      "userId": "10791965058209715546"
     },
     "user_tz": 300
    },
    "id": "7JE6dR8-Lx3e"
   },
   "outputs": [],
   "source": [
    "df_costo_semi_Mes = fc.pivote_semielaborados(df_costo_semi)"
   ]
  },
  {
   "cell_type": "code",
   "execution_count": 260,
   "metadata": {
    "colab": {
     "base_uri": "https://localhost:8080/",
     "height": 206
    },
    "executionInfo": {
     "elapsed": 67,
     "status": "ok",
     "timestamp": 1751892438333,
     "user": {
      "displayName": "Melanny Herrera Arenas",
      "userId": "10791965058209715546"
     },
     "user_tz": 300
    },
    "id": "zBAB61p7L3av",
    "outputId": "ddcde7d0-b2ad-425f-c533-33ac508b253c"
   },
   "outputs": [
    {
     "data": {
      "text/html": [
       "<div>\n",
       "<style scoped>\n",
       "    .dataframe tbody tr th:only-of-type {\n",
       "        vertical-align: middle;\n",
       "    }\n",
       "\n",
       "    .dataframe tbody tr th {\n",
       "        vertical-align: top;\n",
       "    }\n",
       "\n",
       "    .dataframe thead th {\n",
       "        text-align: right;\n",
       "    }\n",
       "</style>\n",
       "<table border=\"1\" class=\"dataframe\">\n",
       "  <thead>\n",
       "    <tr style=\"text-align: right;\">\n",
       "      <th></th>\n",
       "      <th>Año:</th>\n",
       "      <th>Mes:</th>\n",
       "      <th>Codigo</th>\n",
       "      <th>Ctd.</th>\n",
       "      <th>Impte.ML</th>\n",
       "      <th>Costo/kg</th>\n",
       "    </tr>\n",
       "  </thead>\n",
       "  <tbody>\n",
       "    <tr>\n",
       "      <th>256</th>\n",
       "      <td>2024</td>\n",
       "      <td>Enero</td>\n",
       "      <td>1003350</td>\n",
       "      <td>16367.0</td>\n",
       "      <td>696339693</td>\n",
       "      <td>42545.346918</td>\n",
       "    </tr>\n",
       "    <tr>\n",
       "      <th>257</th>\n",
       "      <td>2024</td>\n",
       "      <td>Enero</td>\n",
       "      <td>1003351</td>\n",
       "      <td>4096.0</td>\n",
       "      <td>219066368</td>\n",
       "      <td>53483.000000</td>\n",
       "    </tr>\n",
       "    <tr>\n",
       "      <th>258</th>\n",
       "      <td>2024</td>\n",
       "      <td>Enero</td>\n",
       "      <td>1003353</td>\n",
       "      <td>10109.0</td>\n",
       "      <td>423630551</td>\n",
       "      <td>41906.276684</td>\n",
       "    </tr>\n",
       "    <tr>\n",
       "      <th>259</th>\n",
       "      <td>2024</td>\n",
       "      <td>Enero</td>\n",
       "      <td>1003354</td>\n",
       "      <td>20072.0</td>\n",
       "      <td>808639133</td>\n",
       "      <td>40286.923725</td>\n",
       "    </tr>\n",
       "    <tr>\n",
       "      <th>260</th>\n",
       "      <td>2024</td>\n",
       "      <td>Enero</td>\n",
       "      <td>1003355</td>\n",
       "      <td>3537.0</td>\n",
       "      <td>142261677</td>\n",
       "      <td>40221.000000</td>\n",
       "    </tr>\n",
       "  </tbody>\n",
       "</table>\n",
       "</div>"
      ],
      "text/plain": [
       "     Año:   Mes:   Codigo     Ctd.   Impte.ML      Costo/kg\n",
       "256  2024  Enero  1003350  16367.0  696339693  42545.346918\n",
       "257  2024  Enero  1003351   4096.0  219066368  53483.000000\n",
       "258  2024  Enero  1003353  10109.0  423630551  41906.276684\n",
       "259  2024  Enero  1003354  20072.0  808639133  40286.923725\n",
       "260  2024  Enero  1003355   3537.0  142261677  40221.000000"
      ]
     },
     "execution_count": 260,
     "metadata": {},
     "output_type": "execute_result"
    }
   ],
   "source": [
    "df_costo_semi_Mes[df_costo_semi_Mes['Mes:'] == \"Enero\"].head()"
   ]
  },
  {
   "cell_type": "code",
   "execution_count": 261,
   "metadata": {
    "colab": {
     "base_uri": "https://localhost:8080/",
     "height": 206
    },
    "executionInfo": {
     "elapsed": 30,
     "status": "ok",
     "timestamp": 1751892438334,
     "user": {
      "displayName": "Melanny Herrera Arenas",
      "userId": "10791965058209715546"
     },
     "user_tz": 300
    },
    "id": "QcD19GeELxvx",
    "outputId": "c119f6aa-fdd9-43e4-da97-635bd7d30007"
   },
   "outputs": [
    {
     "data": {
      "text/html": [
       "<div>\n",
       "<style scoped>\n",
       "    .dataframe tbody tr th:only-of-type {\n",
       "        vertical-align: middle;\n",
       "    }\n",
       "\n",
       "    .dataframe tbody tr th {\n",
       "        vertical-align: top;\n",
       "    }\n",
       "\n",
       "    .dataframe thead th {\n",
       "        text-align: right;\n",
       "    }\n",
       "</style>\n",
       "<table border=\"1\" class=\"dataframe\">\n",
       "  <thead>\n",
       "    <tr style=\"text-align: right;\">\n",
       "      <th></th>\n",
       "      <th>Año:</th>\n",
       "      <th>Mes:</th>\n",
       "      <th>Codigo</th>\n",
       "      <th>Ctd.</th>\n",
       "      <th>Impte.ML</th>\n",
       "      <th>Costo/kg</th>\n",
       "    </tr>\n",
       "  </thead>\n",
       "  <tbody>\n",
       "    <tr>\n",
       "      <th>1098</th>\n",
       "      <td>2025</td>\n",
       "      <td>Abril</td>\n",
       "      <td>1003350</td>\n",
       "      <td>23597.0</td>\n",
       "      <td>1412233256</td>\n",
       "      <td>59848.0</td>\n",
       "    </tr>\n",
       "    <tr>\n",
       "      <th>1099</th>\n",
       "      <td>2025</td>\n",
       "      <td>Abril</td>\n",
       "      <td>1003351</td>\n",
       "      <td>5297.0</td>\n",
       "      <td>339633046</td>\n",
       "      <td>64118.0</td>\n",
       "    </tr>\n",
       "    <tr>\n",
       "      <th>1100</th>\n",
       "      <td>2025</td>\n",
       "      <td>Abril</td>\n",
       "      <td>1003353</td>\n",
       "      <td>30172.0</td>\n",
       "      <td>1805733856</td>\n",
       "      <td>59848.0</td>\n",
       "    </tr>\n",
       "    <tr>\n",
       "      <th>1101</th>\n",
       "      <td>2025</td>\n",
       "      <td>Abril</td>\n",
       "      <td>1003354</td>\n",
       "      <td>16656.0</td>\n",
       "      <td>996828288</td>\n",
       "      <td>59848.0</td>\n",
       "    </tr>\n",
       "    <tr>\n",
       "      <th>1102</th>\n",
       "      <td>2025</td>\n",
       "      <td>Abril</td>\n",
       "      <td>1003355</td>\n",
       "      <td>3825.0</td>\n",
       "      <td>228918600</td>\n",
       "      <td>59848.0</td>\n",
       "    </tr>\n",
       "  </tbody>\n",
       "</table>\n",
       "</div>"
      ],
      "text/plain": [
       "      Año:   Mes:   Codigo     Ctd.    Impte.ML  Costo/kg\n",
       "1098  2025  Abril  1003350  23597.0  1412233256   59848.0\n",
       "1099  2025  Abril  1003351   5297.0   339633046   64118.0\n",
       "1100  2025  Abril  1003353  30172.0  1805733856   59848.0\n",
       "1101  2025  Abril  1003354  16656.0   996828288   59848.0\n",
       "1102  2025  Abril  1003355   3825.0   228918600   59848.0"
      ]
     },
     "execution_count": 261,
     "metadata": {},
     "output_type": "execute_result"
    }
   ],
   "source": [
    "df_costo_semi_Mes[df_costo_semi_Mes['Año:'] == 2025].head()"
   ]
  },
  {
   "cell_type": "markdown",
   "metadata": {
    "id": "iZsaosVwiHU3"
   },
   "source": [
    "**Generación del nuevo archivo consolidado V2**"
   ]
  },
  {
   "cell_type": "code",
   "execution_count": 262,
   "metadata": {
    "executionInfo": {
     "elapsed": 8,
     "status": "ok",
     "timestamp": 1751892438334,
     "user": {
      "displayName": "Melanny Herrera Arenas",
      "userId": "10791965058209715546"
     },
     "user_tz": 300
    },
    "id": "N_NLuwg9iG03"
   },
   "outputs": [],
   "source": [
    "df_Env_Sol_2 = df_Env_Sol.copy(deep=True)"
   ]
  },
  {
   "cell_type": "code",
   "execution_count": 263,
   "metadata": {
    "colab": {
     "base_uri": "https://localhost:8080/",
     "height": 375
    },
    "executionInfo": {
     "elapsed": 27,
     "status": "ok",
     "timestamp": 1751892438358,
     "user": {
      "displayName": "Melanny Herrera Arenas",
      "userId": "10791965058209715546"
     },
     "user_tz": 300
    },
    "id": "SNensWLgiGxb",
    "outputId": "decda1b0-ab26-4be2-cc0b-5b8808c8c658"
   },
   "outputs": [
    {
     "data": {
      "text/html": [
       "<div>\n",
       "<style scoped>\n",
       "    .dataframe tbody tr th:only-of-type {\n",
       "        vertical-align: middle;\n",
       "    }\n",
       "\n",
       "    .dataframe tbody tr th {\n",
       "        vertical-align: top;\n",
       "    }\n",
       "\n",
       "    .dataframe thead th {\n",
       "        text-align: right;\n",
       "    }\n",
       "</style>\n",
       "<table border=\"1\" class=\"dataframe\">\n",
       "  <thead>\n",
       "    <tr style=\"text-align: right;\">\n",
       "      <th></th>\n",
       "      <th>Número</th>\n",
       "      <th>Dia</th>\n",
       "      <th>Fecha</th>\n",
       "      <th>Mes:</th>\n",
       "      <th>IdMes</th>\n",
       "      <th>Año:</th>\n",
       "      <th>Máquina / Equipo:</th>\n",
       "      <th>Semana:</th>\n",
       "      <th>Turno:</th>\n",
       "      <th>Código y Descrip. / Producto:</th>\n",
       "      <th>Unidades Producidas (Conformes) :</th>\n",
       "      <th>Peso Promedio de la unidad (K):</th>\n",
       "      <th>Gramaje (K):</th>\n",
       "      <th>Codigo</th>\n",
       "      <th>Real_empaque_calculado</th>\n",
       "      <th>Debe_ser_empaque_calculado</th>\n",
       "      <th>Diferencia_calculado</th>\n",
       "      <th>Sobrepeso_calculado</th>\n",
       "      <th>Costo/kg</th>\n",
       "    </tr>\n",
       "  </thead>\n",
       "  <tbody>\n",
       "    <tr>\n",
       "      <th>9773</th>\n",
       "      <td>44090</td>\n",
       "      <td>2</td>\n",
       "      <td>2024-01-02</td>\n",
       "      <td>Enero</td>\n",
       "      <td>1</td>\n",
       "      <td>2024</td>\n",
       "      <td>Linea B</td>\n",
       "      <td>1.0</td>\n",
       "      <td>1</td>\n",
       "      <td>1050712 Cafe Sprouts Dark Organic 100g x 6</td>\n",
       "      <td>14400.0</td>\n",
       "      <td>0.10073</td>\n",
       "      <td>0.100</td>\n",
       "      <td>1050712</td>\n",
       "      <td>1450.512</td>\n",
       "      <td>1440.0</td>\n",
       "      <td>10.512</td>\n",
       "      <td>0.007300</td>\n",
       "      <td>0.0</td>\n",
       "    </tr>\n",
       "    <tr>\n",
       "      <th>9774</th>\n",
       "      <td>44091</td>\n",
       "      <td>2</td>\n",
       "      <td>2024-01-02</td>\n",
       "      <td>Enero</td>\n",
       "      <td>1</td>\n",
       "      <td>2024</td>\n",
       "      <td>Linea A</td>\n",
       "      <td>1.0</td>\n",
       "      <td>1</td>\n",
       "      <td>1036993 Cafe COLCAFE clas. pol. 85gx24 España</td>\n",
       "      <td>4800.0</td>\n",
       "      <td>0.08604</td>\n",
       "      <td>0.085</td>\n",
       "      <td>1036993</td>\n",
       "      <td>412.992</td>\n",
       "      <td>408.0</td>\n",
       "      <td>4.992</td>\n",
       "      <td>0.012235</td>\n",
       "      <td>0.0</td>\n",
       "    </tr>\n",
       "  </tbody>\n",
       "</table>\n",
       "</div>"
      ],
      "text/plain": [
       "      Número  Dia       Fecha   Mes:  IdMes  Año: Máquina / Equipo:  Semana:  \\\n",
       "9773   44090    2  2024-01-02  Enero      1  2024           Linea B      1.0   \n",
       "9774   44091    2  2024-01-02  Enero      1  2024           Linea A      1.0   \n",
       "\n",
       "      Turno:                  Código y Descrip. / Producto:  \\\n",
       "9773       1    1050712 Cafe Sprouts Dark Organic 100g x 6    \n",
       "9774       1  1036993 Cafe COLCAFE clas. pol. 85gx24 España   \n",
       "\n",
       "      Unidades Producidas (Conformes) :  Peso Promedio de la unidad (K):  \\\n",
       "9773                            14400.0                          0.10073   \n",
       "9774                             4800.0                          0.08604   \n",
       "\n",
       "      Gramaje (K):   Codigo  Real_empaque_calculado  \\\n",
       "9773         0.100  1050712                1450.512   \n",
       "9774         0.085  1036993                 412.992   \n",
       "\n",
       "      Debe_ser_empaque_calculado  Diferencia_calculado  Sobrepeso_calculado  \\\n",
       "9773                      1440.0                10.512             0.007300   \n",
       "9774                       408.0                 4.992             0.012235   \n",
       "\n",
       "      Costo/kg  \n",
       "9773       0.0  \n",
       "9774       0.0  "
      ]
     },
     "execution_count": 263,
     "metadata": {},
     "output_type": "execute_result"
    }
   ],
   "source": [
    "df_Env_Sol_2.head(2)"
   ]
  },
  {
   "cell_type": "code",
   "execution_count": 264,
   "metadata": {
    "colab": {
     "base_uri": "https://localhost:8080/",
     "height": 375
    },
    "executionInfo": {
     "elapsed": 82,
     "status": "ok",
     "timestamp": 1751892438439,
     "user": {
      "displayName": "Melanny Herrera Arenas",
      "userId": "10791965058209715546"
     },
     "user_tz": 300
    },
    "id": "_EWP4BcuiGrl",
    "outputId": "aaafbaa0-13b2-42f5-f864-94806dd5d47e"
   },
   "outputs": [
    {
     "data": {
      "text/html": [
       "<div>\n",
       "<style scoped>\n",
       "    .dataframe tbody tr th:only-of-type {\n",
       "        vertical-align: middle;\n",
       "    }\n",
       "\n",
       "    .dataframe tbody tr th {\n",
       "        vertical-align: top;\n",
       "    }\n",
       "\n",
       "    .dataframe thead th {\n",
       "        text-align: right;\n",
       "    }\n",
       "</style>\n",
       "<table border=\"1\" class=\"dataframe\">\n",
       "  <thead>\n",
       "    <tr style=\"text-align: right;\">\n",
       "      <th></th>\n",
       "      <th>Número</th>\n",
       "      <th>Dia</th>\n",
       "      <th>Fecha</th>\n",
       "      <th>Mes:</th>\n",
       "      <th>IdMes</th>\n",
       "      <th>Año:</th>\n",
       "      <th>Máquina / Equipo:</th>\n",
       "      <th>Semana:</th>\n",
       "      <th>Turno:</th>\n",
       "      <th>Código y Descrip. / Producto:</th>\n",
       "      <th>Unidades Producidas (Conformes) :</th>\n",
       "      <th>Peso Promedio de la unidad (K):</th>\n",
       "      <th>Gramaje (K):</th>\n",
       "      <th>Codigo</th>\n",
       "      <th>Real_empaque_calculado</th>\n",
       "      <th>Debe_ser_empaque_calculado</th>\n",
       "      <th>Diferencia_calculado</th>\n",
       "      <th>Sobrepeso_calculado</th>\n",
       "      <th>Costo/kg_x</th>\n",
       "      <th>Costo/kg_y</th>\n",
       "    </tr>\n",
       "  </thead>\n",
       "  <tbody>\n",
       "    <tr>\n",
       "      <th>0</th>\n",
       "      <td>44090</td>\n",
       "      <td>2</td>\n",
       "      <td>2024-01-02</td>\n",
       "      <td>Enero</td>\n",
       "      <td>1</td>\n",
       "      <td>2024</td>\n",
       "      <td>Linea B</td>\n",
       "      <td>1.0</td>\n",
       "      <td>1</td>\n",
       "      <td>1050712 Cafe Sprouts Dark Organic 100g x 6</td>\n",
       "      <td>14400.0</td>\n",
       "      <td>0.10073</td>\n",
       "      <td>0.100</td>\n",
       "      <td>1050712</td>\n",
       "      <td>1450.512</td>\n",
       "      <td>1440.0</td>\n",
       "      <td>10.512</td>\n",
       "      <td>0.007300</td>\n",
       "      <td>0.0</td>\n",
       "      <td>97977.0</td>\n",
       "    </tr>\n",
       "    <tr>\n",
       "      <th>1</th>\n",
       "      <td>44091</td>\n",
       "      <td>2</td>\n",
       "      <td>2024-01-02</td>\n",
       "      <td>Enero</td>\n",
       "      <td>1</td>\n",
       "      <td>2024</td>\n",
       "      <td>Linea A</td>\n",
       "      <td>1.0</td>\n",
       "      <td>1</td>\n",
       "      <td>1036993 Cafe COLCAFE clas. pol. 85gx24 España</td>\n",
       "      <td>4800.0</td>\n",
       "      <td>0.08604</td>\n",
       "      <td>0.085</td>\n",
       "      <td>1036993</td>\n",
       "      <td>412.992</td>\n",
       "      <td>408.0</td>\n",
       "      <td>4.992</td>\n",
       "      <td>0.012235</td>\n",
       "      <td>0.0</td>\n",
       "      <td>55498.0</td>\n",
       "    </tr>\n",
       "  </tbody>\n",
       "</table>\n",
       "</div>"
      ],
      "text/plain": [
       "   Número  Dia       Fecha   Mes:  IdMes  Año: Máquina / Equipo:  Semana:  \\\n",
       "0   44090    2  2024-01-02  Enero      1  2024           Linea B      1.0   \n",
       "1   44091    2  2024-01-02  Enero      1  2024           Linea A      1.0   \n",
       "\n",
       "   Turno:                  Código y Descrip. / Producto:  \\\n",
       "0       1    1050712 Cafe Sprouts Dark Organic 100g x 6    \n",
       "1       1  1036993 Cafe COLCAFE clas. pol. 85gx24 España   \n",
       "\n",
       "   Unidades Producidas (Conformes) :  Peso Promedio de la unidad (K):  \\\n",
       "0                            14400.0                          0.10073   \n",
       "1                             4800.0                          0.08604   \n",
       "\n",
       "   Gramaje (K):   Codigo  Real_empaque_calculado  Debe_ser_empaque_calculado  \\\n",
       "0         0.100  1050712                1450.512                      1440.0   \n",
       "1         0.085  1036993                 412.992                       408.0   \n",
       "\n",
       "   Diferencia_calculado  Sobrepeso_calculado  Costo/kg_x  Costo/kg_y  \n",
       "0                10.512             0.007300         0.0     97977.0  \n",
       "1                 4.992             0.012235         0.0     55498.0  "
      ]
     },
     "execution_count": 264,
     "metadata": {},
     "output_type": "execute_result"
    }
   ],
   "source": [
    "#Traer la columna 'Costo/kg' al dataframe original\n",
    "df_Env_Sol_2 = fc.merge_costo(df_Env_Sol_2, df_costo_semi_Mes)\n",
    "df_Env_Sol_2.head(2)"
   ]
  },
  {
   "cell_type": "code",
   "execution_count": 265,
   "metadata": {
    "colab": {
     "base_uri": "https://localhost:8080/",
     "height": 375
    },
    "executionInfo": {
     "elapsed": 38,
     "status": "ok",
     "timestamp": 1751892438474,
     "user": {
      "displayName": "Melanny Herrera Arenas",
      "userId": "10791965058209715546"
     },
     "user_tz": 300
    },
    "id": "crNAUVZenXDo",
    "outputId": "f3639c7e-8d6b-4eb0-cff8-da150f5ddf4a"
   },
   "outputs": [
    {
     "data": {
      "text/html": [
       "<div>\n",
       "<style scoped>\n",
       "    .dataframe tbody tr th:only-of-type {\n",
       "        vertical-align: middle;\n",
       "    }\n",
       "\n",
       "    .dataframe tbody tr th {\n",
       "        vertical-align: top;\n",
       "    }\n",
       "\n",
       "    .dataframe thead th {\n",
       "        text-align: right;\n",
       "    }\n",
       "</style>\n",
       "<table border=\"1\" class=\"dataframe\">\n",
       "  <thead>\n",
       "    <tr style=\"text-align: right;\">\n",
       "      <th></th>\n",
       "      <th>Número</th>\n",
       "      <th>Dia</th>\n",
       "      <th>Fecha</th>\n",
       "      <th>Mes:</th>\n",
       "      <th>IdMes</th>\n",
       "      <th>Año:</th>\n",
       "      <th>Máquina / Equipo:</th>\n",
       "      <th>Semana:</th>\n",
       "      <th>Turno:</th>\n",
       "      <th>Código y Descrip. / Producto:</th>\n",
       "      <th>Unidades Producidas (Conformes) :</th>\n",
       "      <th>Peso Promedio de la unidad (K):</th>\n",
       "      <th>Gramaje (K):</th>\n",
       "      <th>Codigo</th>\n",
       "      <th>Real_empaque_calculado</th>\n",
       "      <th>Debe_ser_empaque_calculado</th>\n",
       "      <th>Diferencia_calculado</th>\n",
       "      <th>Sobrepeso_calculado</th>\n",
       "      <th>Costo/kg</th>\n",
       "    </tr>\n",
       "  </thead>\n",
       "  <tbody>\n",
       "    <tr>\n",
       "      <th>0</th>\n",
       "      <td>44090</td>\n",
       "      <td>2</td>\n",
       "      <td>2024-01-02</td>\n",
       "      <td>Enero</td>\n",
       "      <td>1</td>\n",
       "      <td>2024</td>\n",
       "      <td>Linea B</td>\n",
       "      <td>1.0</td>\n",
       "      <td>1</td>\n",
       "      <td>1050712 Cafe Sprouts Dark Organic 100g x 6</td>\n",
       "      <td>14400.0</td>\n",
       "      <td>0.10073</td>\n",
       "      <td>0.100</td>\n",
       "      <td>1050712</td>\n",
       "      <td>1450.512</td>\n",
       "      <td>1440.0</td>\n",
       "      <td>10.512</td>\n",
       "      <td>0.007300</td>\n",
       "      <td>97977.0</td>\n",
       "    </tr>\n",
       "    <tr>\n",
       "      <th>1</th>\n",
       "      <td>44091</td>\n",
       "      <td>2</td>\n",
       "      <td>2024-01-02</td>\n",
       "      <td>Enero</td>\n",
       "      <td>1</td>\n",
       "      <td>2024</td>\n",
       "      <td>Linea A</td>\n",
       "      <td>1.0</td>\n",
       "      <td>1</td>\n",
       "      <td>1036993 Cafe COLCAFE clas. pol. 85gx24 España</td>\n",
       "      <td>4800.0</td>\n",
       "      <td>0.08604</td>\n",
       "      <td>0.085</td>\n",
       "      <td>1036993</td>\n",
       "      <td>412.992</td>\n",
       "      <td>408.0</td>\n",
       "      <td>4.992</td>\n",
       "      <td>0.012235</td>\n",
       "      <td>55498.0</td>\n",
       "    </tr>\n",
       "  </tbody>\n",
       "</table>\n",
       "</div>"
      ],
      "text/plain": [
       "   Número  Dia       Fecha   Mes:  IdMes  Año: Máquina / Equipo:  Semana:  \\\n",
       "0   44090    2  2024-01-02  Enero      1  2024           Linea B      1.0   \n",
       "1   44091    2  2024-01-02  Enero      1  2024           Linea A      1.0   \n",
       "\n",
       "   Turno:                  Código y Descrip. / Producto:  \\\n",
       "0       1    1050712 Cafe Sprouts Dark Organic 100g x 6    \n",
       "1       1  1036993 Cafe COLCAFE clas. pol. 85gx24 España   \n",
       "\n",
       "   Unidades Producidas (Conformes) :  Peso Promedio de la unidad (K):  \\\n",
       "0                            14400.0                          0.10073   \n",
       "1                             4800.0                          0.08604   \n",
       "\n",
       "   Gramaje (K):   Codigo  Real_empaque_calculado  Debe_ser_empaque_calculado  \\\n",
       "0         0.100  1050712                1450.512                      1440.0   \n",
       "1         0.085  1036993                 412.992                       408.0   \n",
       "\n",
       "   Diferencia_calculado  Sobrepeso_calculado  Costo/kg  \n",
       "0                10.512             0.007300   97977.0  \n",
       "1                 4.992             0.012235   55498.0  "
      ]
     },
     "execution_count": 265,
     "metadata": {},
     "output_type": "execute_result"
    }
   ],
   "source": [
    "#Eliminar la columna Costo/kg antigua y renombrar la nueva\n",
    "df_Env_Sol_2 = fc.modificar_costo(df_Env_Sol_2)\n",
    "df_Env_Sol_2.head(2)"
   ]
  },
  {
   "cell_type": "markdown",
   "metadata": {
    "id": "GiKNBrDxxrFN"
   },
   "source": [
    "**Asignación de Meta de Envase Soluble por referencia**"
   ]
  },
  {
   "cell_type": "code",
   "execution_count": 266,
   "metadata": {
    "colab": {
     "base_uri": "https://localhost:8080/",
     "height": 143
    },
    "executionInfo": {
     "elapsed": 20,
     "status": "ok",
     "timestamp": 1751892438492,
     "user": {
      "displayName": "Melanny Herrera Arenas",
      "userId": "10791965058209715546"
     },
     "user_tz": 300
    },
    "id": "u4Cyh9FWj8nm",
    "outputId": "d93189f6-c53d-4b8b-88af-3493e27643d9"
   },
   "outputs": [
    {
     "data": {
      "text/html": [
       "<div>\n",
       "<style scoped>\n",
       "    .dataframe tbody tr th:only-of-type {\n",
       "        vertical-align: middle;\n",
       "    }\n",
       "\n",
       "    .dataframe tbody tr th {\n",
       "        vertical-align: top;\n",
       "    }\n",
       "\n",
       "    .dataframe thead th {\n",
       "        text-align: right;\n",
       "    }\n",
       "</style>\n",
       "<table border=\"1\" class=\"dataframe\">\n",
       "  <thead>\n",
       "    <tr style=\"text-align: right;\">\n",
       "      <th></th>\n",
       "      <th>Codigo</th>\n",
       "      <th>Código y Descrip. / Producto:</th>\n",
       "      <th>Peso Neto</th>\n",
       "      <th>Meta Sobrepeso</th>\n",
       "      <th>Linea</th>\n",
       "    </tr>\n",
       "  </thead>\n",
       "  <tbody>\n",
       "    <tr>\n",
       "      <th>0</th>\n",
       "      <td>1003350</td>\n",
       "      <td>['1003350 COLCAFE ST 250 X 12 3']</td>\n",
       "      <td>250.0</td>\n",
       "      <td>0.010</td>\n",
       "      <td>NaN</td>\n",
       "    </tr>\n",
       "    <tr>\n",
       "      <th>1</th>\n",
       "      <td>1003351</td>\n",
       "      <td>['1003351 Cafe COLCAFE vainilla 50g 24fco.'\\n ...</td>\n",
       "      <td>50.0</td>\n",
       "      <td>0.015</td>\n",
       "      <td>NaN</td>\n",
       "    </tr>\n",
       "    <tr>\n",
       "      <th>2</th>\n",
       "      <td>1003353</td>\n",
       "      <td>['1003353 COLCAFE ST 170 X 12 2.04']</td>\n",
       "      <td>170.0</td>\n",
       "      <td>0.010</td>\n",
       "      <td>NaN</td>\n",
       "    </tr>\n",
       "  </tbody>\n",
       "</table>\n",
       "</div>"
      ],
      "text/plain": [
       "    Codigo                      Código y Descrip. / Producto:  Peso Neto  \\\n",
       "0  1003350                  ['1003350 COLCAFE ST 250 X 12 3']      250.0   \n",
       "1  1003351  ['1003351 Cafe COLCAFE vainilla 50g 24fco.'\\n ...       50.0   \n",
       "2  1003353               ['1003353 COLCAFE ST 170 X 12 2.04']      170.0   \n",
       "\n",
       "   Meta Sobrepeso  Linea  \n",
       "0           0.010    NaN  \n",
       "1           0.015    NaN  \n",
       "2           0.010    NaN  "
      ]
     },
     "execution_count": 266,
     "metadata": {},
     "output_type": "execute_result"
    }
   ],
   "source": [
    "df_Env_Sol_Metas.head(3)"
   ]
  },
  {
   "cell_type": "code",
   "execution_count": 267,
   "metadata": {
    "colab": {
     "base_uri": "https://localhost:8080/",
     "height": 143
    },
    "executionInfo": {
     "elapsed": 25,
     "status": "ok",
     "timestamp": 1751892438518,
     "user": {
      "displayName": "Melanny Herrera Arenas",
      "userId": "10791965058209715546"
     },
     "user_tz": 300
    },
    "id": "-8B901KTkUPP",
    "outputId": "2e3bbd5e-44a2-4b25-fa2c-780a4e53e34a"
   },
   "outputs": [
    {
     "data": {
      "text/html": [
       "<div>\n",
       "<style scoped>\n",
       "    .dataframe tbody tr th:only-of-type {\n",
       "        vertical-align: middle;\n",
       "    }\n",
       "\n",
       "    .dataframe tbody tr th {\n",
       "        vertical-align: top;\n",
       "    }\n",
       "\n",
       "    .dataframe thead th {\n",
       "        text-align: right;\n",
       "    }\n",
       "</style>\n",
       "<table border=\"1\" class=\"dataframe\">\n",
       "  <thead>\n",
       "    <tr style=\"text-align: right;\">\n",
       "      <th></th>\n",
       "      <th>Codigo</th>\n",
       "      <th>Meta Sobrepeso</th>\n",
       "    </tr>\n",
       "  </thead>\n",
       "  <tbody>\n",
       "    <tr>\n",
       "      <th>0</th>\n",
       "      <td>1003350</td>\n",
       "      <td>0.010</td>\n",
       "    </tr>\n",
       "    <tr>\n",
       "      <th>1</th>\n",
       "      <td>1003351</td>\n",
       "      <td>0.015</td>\n",
       "    </tr>\n",
       "    <tr>\n",
       "      <th>2</th>\n",
       "      <td>1003353</td>\n",
       "      <td>0.010</td>\n",
       "    </tr>\n",
       "  </tbody>\n",
       "</table>\n",
       "</div>"
      ],
      "text/plain": [
       "    Codigo  Meta Sobrepeso\n",
       "0  1003350           0.010\n",
       "1  1003351           0.015\n",
       "2  1003353           0.010"
      ]
     },
     "execution_count": 267,
     "metadata": {},
     "output_type": "execute_result"
    }
   ],
   "source": [
    "df_Env_Sol_Metas['Codigo'] = df_Env_Sol_Metas['Codigo'].astype(str)\n",
    "df_Env_Sol_Metas = df_Env_Sol_Metas[['Codigo', 'Meta Sobrepeso']].copy()\n",
    "df_Env_Sol_Metas.head(3)"
   ]
  },
  {
   "cell_type": "code",
   "execution_count": 268,
   "metadata": {
    "colab": {
     "base_uri": "https://localhost:8080/",
     "height": 476
    },
    "executionInfo": {
     "elapsed": 45,
     "status": "ok",
     "timestamp": 1751892438561,
     "user": {
      "displayName": "Melanny Herrera Arenas",
      "userId": "10791965058209715546"
     },
     "user_tz": 300
    },
    "id": "3Kw8PMj-xqr4",
    "outputId": "46845f5a-db11-4d09-f61c-e5cab33a0000"
   },
   "outputs": [
    {
     "data": {
      "text/html": [
       "<div>\n",
       "<style scoped>\n",
       "    .dataframe tbody tr th:only-of-type {\n",
       "        vertical-align: middle;\n",
       "    }\n",
       "\n",
       "    .dataframe tbody tr th {\n",
       "        vertical-align: top;\n",
       "    }\n",
       "\n",
       "    .dataframe thead th {\n",
       "        text-align: right;\n",
       "    }\n",
       "</style>\n",
       "<table border=\"1\" class=\"dataframe\">\n",
       "  <thead>\n",
       "    <tr style=\"text-align: right;\">\n",
       "      <th></th>\n",
       "      <th>Número</th>\n",
       "      <th>Dia</th>\n",
       "      <th>Fecha</th>\n",
       "      <th>Mes:</th>\n",
       "      <th>IdMes</th>\n",
       "      <th>Año:</th>\n",
       "      <th>Máquina / Equipo:</th>\n",
       "      <th>Semana:</th>\n",
       "      <th>Turno:</th>\n",
       "      <th>Código y Descrip. / Producto:</th>\n",
       "      <th>Unidades Producidas (Conformes) :</th>\n",
       "      <th>Peso Promedio de la unidad (K):</th>\n",
       "      <th>Gramaje (K):</th>\n",
       "      <th>Codigo</th>\n",
       "      <th>Real_empaque_calculado</th>\n",
       "      <th>Debe_ser_empaque_calculado</th>\n",
       "      <th>Diferencia_calculado</th>\n",
       "      <th>Sobrepeso_calculado</th>\n",
       "      <th>Costo/kg</th>\n",
       "      <th>Meta</th>\n",
       "    </tr>\n",
       "  </thead>\n",
       "  <tbody>\n",
       "    <tr>\n",
       "      <th>0</th>\n",
       "      <td>44090</td>\n",
       "      <td>2</td>\n",
       "      <td>2024-01-02</td>\n",
       "      <td>Enero</td>\n",
       "      <td>1</td>\n",
       "      <td>2024</td>\n",
       "      <td>Linea B</td>\n",
       "      <td>1.0</td>\n",
       "      <td>1</td>\n",
       "      <td>1050712 Cafe Sprouts Dark Organic 100g x 6</td>\n",
       "      <td>14400.0</td>\n",
       "      <td>0.10073</td>\n",
       "      <td>0.100</td>\n",
       "      <td>1050712</td>\n",
       "      <td>1450.512</td>\n",
       "      <td>1440.0</td>\n",
       "      <td>10.512</td>\n",
       "      <td>0.007300</td>\n",
       "      <td>97977.0</td>\n",
       "      <td>0.015</td>\n",
       "    </tr>\n",
       "    <tr>\n",
       "      <th>1</th>\n",
       "      <td>44091</td>\n",
       "      <td>2</td>\n",
       "      <td>2024-01-02</td>\n",
       "      <td>Enero</td>\n",
       "      <td>1</td>\n",
       "      <td>2024</td>\n",
       "      <td>Linea A</td>\n",
       "      <td>1.0</td>\n",
       "      <td>1</td>\n",
       "      <td>1036993 Cafe COLCAFE clas. pol. 85gx24 España</td>\n",
       "      <td>4800.0</td>\n",
       "      <td>0.08604</td>\n",
       "      <td>0.085</td>\n",
       "      <td>1036993</td>\n",
       "      <td>412.992</td>\n",
       "      <td>408.0</td>\n",
       "      <td>4.992</td>\n",
       "      <td>0.012235</td>\n",
       "      <td>55498.0</td>\n",
       "      <td>0.015</td>\n",
       "    </tr>\n",
       "    <tr>\n",
       "      <th>2</th>\n",
       "      <td>44092</td>\n",
       "      <td>2</td>\n",
       "      <td>2024-01-02</td>\n",
       "      <td>Enero</td>\n",
       "      <td>1</td>\n",
       "      <td>2024</td>\n",
       "      <td>Linea A</td>\n",
       "      <td>1.0</td>\n",
       "      <td>1</td>\n",
       "      <td>1003495 POLVO ST 85X24 2.04 ECUADOR</td>\n",
       "      <td>2400.0</td>\n",
       "      <td>0.08572</td>\n",
       "      <td>0.085</td>\n",
       "      <td>1003495</td>\n",
       "      <td>205.728</td>\n",
       "      <td>204.0</td>\n",
       "      <td>1.728</td>\n",
       "      <td>0.008471</td>\n",
       "      <td>55498.0</td>\n",
       "      <td>0.015</td>\n",
       "    </tr>\n",
       "  </tbody>\n",
       "</table>\n",
       "</div>"
      ],
      "text/plain": [
       "   Número  Dia       Fecha   Mes:  IdMes  Año: Máquina / Equipo:  Semana:  \\\n",
       "0   44090    2  2024-01-02  Enero      1  2024           Linea B      1.0   \n",
       "1   44091    2  2024-01-02  Enero      1  2024           Linea A      1.0   \n",
       "2   44092    2  2024-01-02  Enero      1  2024           Linea A      1.0   \n",
       "\n",
       "   Turno:                  Código y Descrip. / Producto:  \\\n",
       "0       1    1050712 Cafe Sprouts Dark Organic 100g x 6    \n",
       "1       1  1036993 Cafe COLCAFE clas. pol. 85gx24 España   \n",
       "2       1            1003495 POLVO ST 85X24 2.04 ECUADOR   \n",
       "\n",
       "   Unidades Producidas (Conformes) :  Peso Promedio de la unidad (K):  \\\n",
       "0                            14400.0                          0.10073   \n",
       "1                             4800.0                          0.08604   \n",
       "2                             2400.0                          0.08572   \n",
       "\n",
       "   Gramaje (K):   Codigo  Real_empaque_calculado  Debe_ser_empaque_calculado  \\\n",
       "0         0.100  1050712                1450.512                      1440.0   \n",
       "1         0.085  1036993                 412.992                       408.0   \n",
       "2         0.085  1003495                 205.728                       204.0   \n",
       "\n",
       "   Diferencia_calculado  Sobrepeso_calculado  Costo/kg   Meta  \n",
       "0                10.512             0.007300   97977.0  0.015  \n",
       "1                 4.992             0.012235   55498.0  0.015  \n",
       "2                 1.728             0.008471   55498.0  0.015  "
      ]
     },
     "execution_count": 268,
     "metadata": {},
     "output_type": "execute_result"
    }
   ],
   "source": [
    "valor_fijo_2024 = 0.015\n",
    "\n",
    "#Renombrar la columna para evitar conflicto temporalmente\n",
    "df_Env_Sol_Metas = df_Env_Sol_Metas.rename(columns={'Meta Sobrepeso': 'Meta_nueva'})\n",
    "\n",
    "#Hacer merge para obtener Meta_nueva segun codigo\n",
    "df_Env_Sol_2 = df_Env_Sol_2.merge(\n",
    "    df_Env_Sol_Metas,\n",
    "    on='Codigo',\n",
    "    how='left'\n",
    ")\n",
    "\n",
    "#Asignar la meta segun la condicion del año\n",
    "df_Env_Sol_2['Meta'] = np.where(\n",
    "    df_Env_Sol_2['Año:'] == 2024,\n",
    "    valor_fijo_2024,                #Si es =2024 queda el valor fijo\n",
    "    df_Env_Sol_2['Meta_nueva']      #Sino valor desde metas_sobrepeso para otros años\n",
    ")\n",
    "\n",
    "#Eliminar la columna temporal\n",
    "df_Env_Sol_2.drop(columns=['Meta_nueva'], inplace=True)\n",
    "df_Env_Sol_2.head(3)"
   ]
  },
  {
   "cell_type": "code",
   "execution_count": 269,
   "metadata": {
    "colab": {
     "base_uri": "https://localhost:8080/",
     "height": 476
    },
    "executionInfo": {
     "elapsed": 37,
     "status": "ok",
     "timestamp": 1751892438599,
     "user": {
      "displayName": "Melanny Herrera Arenas",
      "userId": "10791965058209715546"
     },
     "user_tz": 300
    },
    "id": "7sDGrUrUj8kJ",
    "outputId": "bcc554fd-ee57-401c-f2d3-1ceb1d44531a"
   },
   "outputs": [
    {
     "data": {
      "text/html": [
       "<div>\n",
       "<style scoped>\n",
       "    .dataframe tbody tr th:only-of-type {\n",
       "        vertical-align: middle;\n",
       "    }\n",
       "\n",
       "    .dataframe tbody tr th {\n",
       "        vertical-align: top;\n",
       "    }\n",
       "\n",
       "    .dataframe thead th {\n",
       "        text-align: right;\n",
       "    }\n",
       "</style>\n",
       "<table border=\"1\" class=\"dataframe\">\n",
       "  <thead>\n",
       "    <tr style=\"text-align: right;\">\n",
       "      <th></th>\n",
       "      <th>Número</th>\n",
       "      <th>Dia</th>\n",
       "      <th>Fecha</th>\n",
       "      <th>Mes:</th>\n",
       "      <th>IdMes</th>\n",
       "      <th>Año:</th>\n",
       "      <th>Máquina / Equipo:</th>\n",
       "      <th>Semana:</th>\n",
       "      <th>Turno:</th>\n",
       "      <th>Código y Descrip. / Producto:</th>\n",
       "      <th>Unidades Producidas (Conformes) :</th>\n",
       "      <th>Peso Promedio de la unidad (K):</th>\n",
       "      <th>Gramaje (K):</th>\n",
       "      <th>Codigo</th>\n",
       "      <th>Real_empaque_calculado</th>\n",
       "      <th>Debe_ser_empaque_calculado</th>\n",
       "      <th>Diferencia_calculado</th>\n",
       "      <th>Sobrepeso_calculado</th>\n",
       "      <th>Costo/kg</th>\n",
       "      <th>Meta</th>\n",
       "    </tr>\n",
       "  </thead>\n",
       "  <tbody>\n",
       "    <tr>\n",
       "      <th>3184</th>\n",
       "      <td>47346</td>\n",
       "      <td>2</td>\n",
       "      <td>2025-01-02</td>\n",
       "      <td>Enero</td>\n",
       "      <td>1</td>\n",
       "      <td>2025</td>\n",
       "      <td>Linea A</td>\n",
       "      <td>1.0</td>\n",
       "      <td>1</td>\n",
       "      <td>1026524 Coffee Crem COLCAFE 12x650g EXP</td>\n",
       "      <td>1476.0</td>\n",
       "      <td>0.65153</td>\n",
       "      <td>0.65</td>\n",
       "      <td>1026524</td>\n",
       "      <td>961.65828</td>\n",
       "      <td>959.4</td>\n",
       "      <td>2.25828</td>\n",
       "      <td>0.002354</td>\n",
       "      <td>5332.919345</td>\n",
       "      <td>0.005</td>\n",
       "    </tr>\n",
       "    <tr>\n",
       "      <th>3185</th>\n",
       "      <td>47347</td>\n",
       "      <td>2</td>\n",
       "      <td>2025-01-02</td>\n",
       "      <td>Enero</td>\n",
       "      <td>1</td>\n",
       "      <td>2025</td>\n",
       "      <td>Linea A</td>\n",
       "      <td>1.0</td>\n",
       "      <td>1</td>\n",
       "      <td>1064451 Coffee Crem COLCAFE 650g 12un V2</td>\n",
       "      <td>4032.0</td>\n",
       "      <td>0.65172</td>\n",
       "      <td>0.65</td>\n",
       "      <td>1064451</td>\n",
       "      <td>2627.73504</td>\n",
       "      <td>2620.8</td>\n",
       "      <td>6.93504</td>\n",
       "      <td>0.002646</td>\n",
       "      <td>5302.988561</td>\n",
       "      <td>0.005</td>\n",
       "    </tr>\n",
       "    <tr>\n",
       "      <th>3186</th>\n",
       "      <td>47348</td>\n",
       "      <td>2</td>\n",
       "      <td>2025-01-02</td>\n",
       "      <td>Enero</td>\n",
       "      <td>1</td>\n",
       "      <td>2025</td>\n",
       "      <td>Linea A</td>\n",
       "      <td>1.0</td>\n",
       "      <td>1</td>\n",
       "      <td>1013910 COFFEE CREM 290X24 Panamá</td>\n",
       "      <td>2400.0</td>\n",
       "      <td>0.29175</td>\n",
       "      <td>0.29</td>\n",
       "      <td>1013910</td>\n",
       "      <td>700.20000</td>\n",
       "      <td>696.0</td>\n",
       "      <td>4.20000</td>\n",
       "      <td>0.006034</td>\n",
       "      <td>3580.876874</td>\n",
       "      <td>0.005</td>\n",
       "    </tr>\n",
       "  </tbody>\n",
       "</table>\n",
       "</div>"
      ],
      "text/plain": [
       "      Número  Dia       Fecha   Mes:  IdMes  Año: Máquina / Equipo:  Semana:  \\\n",
       "3184   47346    2  2025-01-02  Enero      1  2025           Linea A      1.0   \n",
       "3185   47347    2  2025-01-02  Enero      1  2025           Linea A      1.0   \n",
       "3186   47348    2  2025-01-02  Enero      1  2025           Linea A      1.0   \n",
       "\n",
       "      Turno:             Código y Descrip. / Producto:  \\\n",
       "3184       1   1026524 Coffee Crem COLCAFE 12x650g EXP   \n",
       "3185       1  1064451 Coffee Crem COLCAFE 650g 12un V2   \n",
       "3186       1         1013910 COFFEE CREM 290X24 Panamá   \n",
       "\n",
       "      Unidades Producidas (Conformes) :  Peso Promedio de la unidad (K):  \\\n",
       "3184                             1476.0                          0.65153   \n",
       "3185                             4032.0                          0.65172   \n",
       "3186                             2400.0                          0.29175   \n",
       "\n",
       "      Gramaje (K):   Codigo  Real_empaque_calculado  \\\n",
       "3184          0.65  1026524               961.65828   \n",
       "3185          0.65  1064451              2627.73504   \n",
       "3186          0.29  1013910               700.20000   \n",
       "\n",
       "      Debe_ser_empaque_calculado  Diferencia_calculado  Sobrepeso_calculado  \\\n",
       "3184                       959.4               2.25828             0.002354   \n",
       "3185                      2620.8               6.93504             0.002646   \n",
       "3186                       696.0               4.20000             0.006034   \n",
       "\n",
       "         Costo/kg   Meta  \n",
       "3184  5332.919345  0.005  \n",
       "3185  5302.988561  0.005  \n",
       "3186  3580.876874  0.005  "
      ]
     },
     "execution_count": 269,
     "metadata": {},
     "output_type": "execute_result"
    }
   ],
   "source": [
    "df_Env_Sol_2[df_Env_Sol_2['Meta'] != valor_fijo_2024].head(3)"
   ]
  },
  {
   "cell_type": "markdown",
   "metadata": {
    "id": "nrow2GEXhCPp"
   },
   "source": [
    "**Calculo de la columna 'Costo/kg' para el año 2025**"
   ]
  },
  {
   "cell_type": "code",
   "execution_count": 270,
   "metadata": {
    "colab": {
     "base_uri": "https://localhost:8080/",
     "height": 323
    },
    "executionInfo": {
     "elapsed": 338,
     "status": "ok",
     "timestamp": 1751892438938,
     "user": {
      "displayName": "Melanny Herrera Arenas",
      "userId": "10791965058209715546"
     },
     "user_tz": 300
    },
    "id": "8zqdioG-hCGW",
    "outputId": "961500b2-7dc3-4e77-f3ee-588bd5c2b9b9"
   },
   "outputs": [
    {
     "name": "stdout",
     "output_type": "stream",
     "text": [
      "Leyendo archivo...\n",
      "Leyendo archivo...\n"
     ]
    },
    {
     "data": {
      "text/html": [
       "<div>\n",
       "<style scoped>\n",
       "    .dataframe tbody tr th:only-of-type {\n",
       "        vertical-align: middle;\n",
       "    }\n",
       "\n",
       "    .dataframe tbody tr th {\n",
       "        vertical-align: top;\n",
       "    }\n",
       "\n",
       "    .dataframe thead th {\n",
       "        text-align: right;\n",
       "    }\n",
       "</style>\n",
       "<table border=\"1\" class=\"dataframe\">\n",
       "  <thead>\n",
       "    <tr style=\"text-align: right;\">\n",
       "      <th></th>\n",
       "      <th>Codigo</th>\n",
       "      <th>Texto Breve del material</th>\n",
       "      <th>Material</th>\n",
       "      <th>Texto Breve del material.1</th>\n",
       "      <th>Material .1</th>\n",
       "      <th>Texto Breve del material.2</th>\n",
       "      <th>Material .2</th>\n",
       "      <th>Texto Breve del material.3</th>\n",
       "      <th>Material .3</th>\n",
       "      <th>Texto Breve del material.4</th>\n",
       "      <th>Unnamed: 10</th>\n",
       "      <th>Texto Breve del material.5</th>\n",
       "      <th>Materia_Prima</th>\n",
       "      <th>Texto Breve del material.6</th>\n",
       "      <th>Proporción</th>\n",
       "    </tr>\n",
       "  </thead>\n",
       "  <tbody>\n",
       "    <tr>\n",
       "      <th>0</th>\n",
       "      <td>1003521.0</td>\n",
       "      <td>1003521 POLVO ST 25 X 24 0.6</td>\n",
       "      <td>NaN</td>\n",
       "      <td>NaN</td>\n",
       "      <td>3002668.0</td>\n",
       "      <td>Polvo STO</td>\n",
       "      <td>3002603.0</td>\n",
       "      <td>Extracto STO</td>\n",
       "      <td>NaN</td>\n",
       "      <td>NaN</td>\n",
       "      <td>3002572.0</td>\n",
       "      <td>Tostado Soluble STO</td>\n",
       "      <td>7009685</td>\n",
       "      <td>Cafe Pasilla Maquinas OTA Eur soluble</td>\n",
       "      <td>1</td>\n",
       "    </tr>\n",
       "    <tr>\n",
       "      <th>1</th>\n",
       "      <td>1035284.0</td>\n",
       "      <td>1035284 Cafe COLCAFE granul fco. 24x25g Caribe</td>\n",
       "      <td>3002687.0</td>\n",
       "      <td>AGLOMERADO GR1L1ST</td>\n",
       "      <td>3002648.0</td>\n",
       "      <td>Polvo ST1</td>\n",
       "      <td>3002600.0</td>\n",
       "      <td>Extracto ST</td>\n",
       "      <td>NaN</td>\n",
       "      <td>NaN</td>\n",
       "      <td>3002570.0</td>\n",
       "      <td>Tostado Soluble ST</td>\n",
       "      <td>7007875</td>\n",
       "      <td>Cafe Pasilla Catadoras Colombia</td>\n",
       "      <td>1</td>\n",
       "    </tr>\n",
       "  </tbody>\n",
       "</table>\n",
       "</div>"
      ],
      "text/plain": [
       "      Codigo                        Texto Breve del material  Material   \\\n",
       "0  1003521.0                    1003521 POLVO ST 25 X 24 0.6        NaN   \n",
       "1  1035284.0  1035284 Cafe COLCAFE granul fco. 24x25g Caribe  3002687.0   \n",
       "\n",
       "  Texto Breve del material.1  Material .1 Texto Breve del material.2  \\\n",
       "0                        NaN    3002668.0                  Polvo STO   \n",
       "1         AGLOMERADO GR1L1ST    3002648.0                  Polvo ST1   \n",
       "\n",
       "   Material .2 Texto Breve del material.3  Material .3  \\\n",
       "0    3002603.0               Extracto STO          NaN   \n",
       "1    3002600.0                Extracto ST          NaN   \n",
       "\n",
       "  Texto Breve del material.4  Unnamed: 10 Texto Breve del material.5  \\\n",
       "0                        NaN    3002572.0        Tostado Soluble STO   \n",
       "1                        NaN    3002570.0         Tostado Soluble ST   \n",
       "\n",
       "   Materia_Prima             Texto Breve del material.6 Proporción  \n",
       "0        7009685  Cafe Pasilla Maquinas OTA Eur soluble          1  \n",
       "1        7007875        Cafe Pasilla Catadoras Colombia          1  "
      ]
     },
     "execution_count": 270,
     "metadata": {},
     "output_type": "execute_result"
    }
   ],
   "source": [
    "df_Costos_Mp = fc.leer_archivo(r\"G:\\.shortcut-targets-by-id\\1rqpfbdZ6z51epFv6ZwognhckW7HqBMjN\\SIRI_2024_INFORMES_SOBREPESO\\INFORME_ENVASE_SOLUBLE_MEDELLIN\\Tablas_Costos_Productos_MP.xlsx\", \"Recetas_solubles_2025\")\n",
    "df_Financiera_Mp = fc.leer_archivo(r\"G:\\.shortcut-targets-by-id\\1rqpfbdZ6z51epFv6ZwognhckW7HqBMjN\\SIRI_2024_INFORMES_SOBREPESO\\INFORME_ENVASE_SOLUBLE_MEDELLIN\\Tablas_Costos_Productos_MP.xlsx\", \"Datos_Financiera_Consolidados\")\n",
    "df_Costos_Mp.head(2)"
   ]
  },
  {
   "cell_type": "code",
   "execution_count": 271,
   "metadata": {
    "colab": {
     "base_uri": "https://localhost:8080/",
     "height": 166
    },
    "executionInfo": {
     "elapsed": 5,
     "status": "ok",
     "timestamp": 1751892438939,
     "user": {
      "displayName": "Melanny Herrera Arenas",
      "userId": "10791965058209715546"
     },
     "user_tz": 300
    },
    "id": "BCFVqvWdhCDd",
    "outputId": "dfa03508-d2a0-42ae-fe87-2f45e4e4b58a"
   },
   "outputs": [
    {
     "data": {
      "text/html": [
       "<div>\n",
       "<style scoped>\n",
       "    .dataframe tbody tr th:only-of-type {\n",
       "        vertical-align: middle;\n",
       "    }\n",
       "\n",
       "    .dataframe tbody tr th {\n",
       "        vertical-align: top;\n",
       "    }\n",
       "\n",
       "    .dataframe thead th {\n",
       "        text-align: right;\n",
       "    }\n",
       "</style>\n",
       "<table border=\"1\" class=\"dataframe\">\n",
       "  <thead>\n",
       "    <tr style=\"text-align: right;\">\n",
       "      <th></th>\n",
       "      <th>Año</th>\n",
       "      <th>Descripción</th>\n",
       "      <th>Materia_Prima</th>\n",
       "      <th>Enero</th>\n",
       "      <th>Febrero</th>\n",
       "      <th>Marzo</th>\n",
       "      <th>Abril</th>\n",
       "      <th>Mayo</th>\n",
       "      <th>Junio</th>\n",
       "      <th>Julio</th>\n",
       "      <th>Agosto</th>\n",
       "      <th>Septiembre</th>\n",
       "      <th>Octubre</th>\n",
       "      <th>Noviembre</th>\n",
       "      <th>Diciembre</th>\n",
       "    </tr>\n",
       "  </thead>\n",
       "  <tbody>\n",
       "    <tr>\n",
       "      <th>0</th>\n",
       "      <td>2025</td>\n",
       "      <td>Cafe Pasilla Catadoras Colombia</td>\n",
       "      <td>7007875</td>\n",
       "      <td>NaN</td>\n",
       "      <td>NaN</td>\n",
       "      <td>19787.0</td>\n",
       "      <td>24055.184006</td>\n",
       "      <td>24055.184006</td>\n",
       "      <td>22612.227625</td>\n",
       "      <td>23766.592730</td>\n",
       "      <td>23333.705816</td>\n",
       "      <td>24055.184006</td>\n",
       "      <td>21890.749435</td>\n",
       "      <td>23766.592730</td>\n",
       "      <td>21890.749435</td>\n",
       "    </tr>\n",
       "    <tr>\n",
       "      <th>1</th>\n",
       "      <td>2025</td>\n",
       "      <td>NaN</td>\n",
       "      <td>7002735</td>\n",
       "      <td>NaN</td>\n",
       "      <td>NaN</td>\n",
       "      <td>23742.0</td>\n",
       "      <td>25126.778514</td>\n",
       "      <td>25126.778514</td>\n",
       "      <td>23773.346204</td>\n",
       "      <td>24856.092052</td>\n",
       "      <td>24450.062359</td>\n",
       "      <td>25126.778514</td>\n",
       "      <td>23096.630048</td>\n",
       "      <td>24856.092052</td>\n",
       "      <td>23096.630048</td>\n",
       "    </tr>\n",
       "  </tbody>\n",
       "</table>\n",
       "</div>"
      ],
      "text/plain": [
       "    Año                      Descripción  Materia_Prima  Enero  Febrero  \\\n",
       "0  2025  Cafe Pasilla Catadoras Colombia        7007875    NaN      NaN   \n",
       "1  2025                              NaN        7002735    NaN      NaN   \n",
       "\n",
       "    Marzo          Abril          Mayo         Junio         Julio  \\\n",
       "0  19787.0  24055.184006  24055.184006  22612.227625  23766.592730   \n",
       "1  23742.0  25126.778514  25126.778514  23773.346204  24856.092052   \n",
       "\n",
       "         Agosto    Septiembre       Octubre     Noviembre     Diciembre  \n",
       "0  23333.705816  24055.184006  21890.749435  23766.592730  21890.749435  \n",
       "1  24450.062359  25126.778514  23096.630048  24856.092052  23096.630048  "
      ]
     },
     "execution_count": 271,
     "metadata": {},
     "output_type": "execute_result"
    }
   ],
   "source": [
    "df_Financiera_Mp.head(2)"
   ]
  },
  {
   "cell_type": "code",
   "execution_count": 272,
   "metadata": {
    "colab": {
     "base_uri": "https://localhost:8080/",
     "height": 554
    },
    "executionInfo": {
     "elapsed": 3,
     "status": "ok",
     "timestamp": 1751892438942,
     "user": {
      "displayName": "Melanny Herrera Arenas",
      "userId": "10791965058209715546"
     },
     "user_tz": 300
    },
    "id": "6UyE4FBVhCA0",
    "outputId": "965bb0f4-0dca-4ce2-84b5-39861fc1a61e"
   },
   "outputs": [
    {
     "data": {
      "text/plain": [
       "Codigo                        float64\n",
       "Texto Breve del material       object\n",
       "Material                      float64\n",
       "Texto Breve del material.1     object\n",
       "Material .1                   float64\n",
       "Texto Breve del material.2     object\n",
       "Material .2                   float64\n",
       "Texto Breve del material.3     object\n",
       "Material .3                   float64\n",
       "Texto Breve del material.4     object\n",
       "Unnamed: 10                   float64\n",
       "Texto Breve del material.5     object\n",
       "Materia_Prima                   int64\n",
       "Texto Breve del material.6     object\n",
       "Proporción                     object\n",
       "dtype: object"
      ]
     },
     "execution_count": 272,
     "metadata": {},
     "output_type": "execute_result"
    }
   ],
   "source": [
    "df_Costos_Mp.dtypes"
   ]
  },
  {
   "cell_type": "code",
   "execution_count": 273,
   "metadata": {
    "colab": {
     "base_uri": "https://localhost:8080/",
     "height": 554
    },
    "executionInfo": {
     "elapsed": 40,
     "status": "ok",
     "timestamp": 1751892438983,
     "user": {
      "displayName": "Melanny Herrera Arenas",
      "userId": "10791965058209715546"
     },
     "user_tz": 300
    },
    "id": "mGeJg28MhB8O",
    "outputId": "93f391f2-0cfb-4eeb-a369-49f06450d7b8"
   },
   "outputs": [
    {
     "data": {
      "text/plain": [
       "Codigo                         object\n",
       "Texto Breve del material       object\n",
       "Material                      float64\n",
       "Texto Breve del material.1     object\n",
       "Material .1                   float64\n",
       "Texto Breve del material.2     object\n",
       "Material .2                   float64\n",
       "Texto Breve del material.3     object\n",
       "Material .3                   float64\n",
       "Texto Breve del material.4     object\n",
       "Unnamed: 10                   float64\n",
       "Texto Breve del material.5     object\n",
       "Materia_Prima                  object\n",
       "Texto Breve del material.6     object\n",
       "Proporción                     object\n",
       "dtype: object"
      ]
     },
     "execution_count": 273,
     "metadata": {},
     "output_type": "execute_result"
    }
   ],
   "source": [
    "#.bfill() (rellenar \"\" o NaN hacia arriba) ------ .ffill() (relleno \"\" o NaN hacia abajo)\n",
    "df_Costos_Mp['Codigo'] = df_Costos_Mp['Codigo'].ffill().astype(int).astype(str)\n",
    "df_Costos_Mp['Materia_Prima'] = df_Costos_Mp['Materia_Prima'].astype(int).astype(str)\n",
    "df_Costos_Mp.dtypes"
   ]
  },
  {
   "cell_type": "code",
   "execution_count": 274,
   "metadata": {
    "colab": {
     "base_uri": "https://localhost:8080/",
     "height": 608
    },
    "executionInfo": {
     "elapsed": 25,
     "status": "ok",
     "timestamp": 1751892439009,
     "user": {
      "displayName": "Melanny Herrera Arenas",
      "userId": "10791965058209715546"
     },
     "user_tz": 300
    },
    "id": "A1uK89dUhB6C",
    "outputId": "9590ff70-02f5-4cfd-dbe1-55e17c18d9d2"
   },
   "outputs": [
    {
     "data": {
      "text/html": [
       "<div>\n",
       "<style scoped>\n",
       "    .dataframe tbody tr th:only-of-type {\n",
       "        vertical-align: middle;\n",
       "    }\n",
       "\n",
       "    .dataframe tbody tr th {\n",
       "        vertical-align: top;\n",
       "    }\n",
       "\n",
       "    .dataframe thead th {\n",
       "        text-align: right;\n",
       "    }\n",
       "</style>\n",
       "<table border=\"1\" class=\"dataframe\">\n",
       "  <thead>\n",
       "    <tr style=\"text-align: right;\">\n",
       "      <th></th>\n",
       "      <th>Codigo</th>\n",
       "      <th>Texto Breve del material</th>\n",
       "      <th>Material</th>\n",
       "      <th>Texto Breve del material.1</th>\n",
       "      <th>Material .1</th>\n",
       "      <th>Texto Breve del material.2</th>\n",
       "      <th>Material .2</th>\n",
       "      <th>Texto Breve del material.3</th>\n",
       "      <th>Material .3</th>\n",
       "      <th>Texto Breve del material.4</th>\n",
       "      <th>Unnamed: 10</th>\n",
       "      <th>Texto Breve del material.5</th>\n",
       "      <th>Materia_Prima</th>\n",
       "      <th>Texto Breve del material.6</th>\n",
       "      <th>Proporción</th>\n",
       "    </tr>\n",
       "  </thead>\n",
       "  <tbody>\n",
       "    <tr>\n",
       "      <th>166</th>\n",
       "      <td>1050714</td>\n",
       "      <td>1050714 Cafe Sprouts Light Organic 100g x 6</td>\n",
       "      <td>NaN</td>\n",
       "      <td>NaN</td>\n",
       "      <td>3025249.0</td>\n",
       "      <td>Polvo TCG1 Organico</td>\n",
       "      <td>3025248.0</td>\n",
       "      <td>Extracto TCG1 Organico</td>\n",
       "      <td>NaN</td>\n",
       "      <td>NaN</td>\n",
       "      <td>3025247.0</td>\n",
       "      <td>Tostado soluble TCG1 Organico</td>\n",
       "      <td>7008237</td>\n",
       "      <td>Cafe Consumo Organico COLOMBIA SOLUBLE</td>\n",
       "      <td>1</td>\n",
       "    </tr>\n",
       "    <tr>\n",
       "      <th>167</th>\n",
       "      <td>1050714</td>\n",
       "      <td>NaN</td>\n",
       "      <td>NaN</td>\n",
       "      <td>NaN</td>\n",
       "      <td>NaN</td>\n",
       "      <td>NaN</td>\n",
       "      <td>NaN</td>\n",
       "      <td>NaN</td>\n",
       "      <td>NaN</td>\n",
       "      <td>NaN</td>\n",
       "      <td>NaN</td>\n",
       "      <td>NaN</td>\n",
       "      <td>7008675</td>\n",
       "      <td>CAFE Pasilla Maquinas Organica SOLUBLE</td>\n",
       "      <td>1</td>\n",
       "    </tr>\n",
       "    <tr>\n",
       "      <th>168</th>\n",
       "      <td>1050713</td>\n",
       "      <td>1050713 Cafe Sprouts Medium Organic 100g x 6</td>\n",
       "      <td>NaN</td>\n",
       "      <td>NaN</td>\n",
       "      <td>3025255.0</td>\n",
       "      <td>Polvo CSM1 Organico</td>\n",
       "      <td>3025253.0</td>\n",
       "      <td>Extracto CSM Organico</td>\n",
       "      <td>NaN</td>\n",
       "      <td>NaN</td>\n",
       "      <td>3025252.0</td>\n",
       "      <td>Tostado soluble CSM Organico</td>\n",
       "      <td>7008237</td>\n",
       "      <td>Cafe Consumo Organico COLOMBIA SOLUBLE</td>\n",
       "      <td>1</td>\n",
       "    </tr>\n",
       "    <tr>\n",
       "      <th>169</th>\n",
       "      <td>1050713</td>\n",
       "      <td>NaN</td>\n",
       "      <td>NaN</td>\n",
       "      <td>NaN</td>\n",
       "      <td>NaN</td>\n",
       "      <td>NaN</td>\n",
       "      <td>NaN</td>\n",
       "      <td>NaN</td>\n",
       "      <td>NaN</td>\n",
       "      <td>NaN</td>\n",
       "      <td>NaN</td>\n",
       "      <td>NaN</td>\n",
       "      <td>7008675</td>\n",
       "      <td>CAFE Pasilla Maquinas Organica SOLUBLE</td>\n",
       "      <td>1</td>\n",
       "    </tr>\n",
       "    <tr>\n",
       "      <th>170</th>\n",
       "      <td>1050715</td>\n",
       "      <td>1050715 Cafe Sprouts MediumDecaf Organic 100g x6</td>\n",
       "      <td>NaN</td>\n",
       "      <td>NaN</td>\n",
       "      <td>3025258.0</td>\n",
       "      <td>Polvo STDW1 Organico</td>\n",
       "      <td>3025257.0</td>\n",
       "      <td>Extracto STDW Organico</td>\n",
       "      <td>NaN</td>\n",
       "      <td>NaN</td>\n",
       "      <td>3025256.0</td>\n",
       "      <td>Tostado STDW Organico</td>\n",
       "      <td>7009892</td>\n",
       "      <td>Cafe 300 Def Honduras Org DECAF MW PV</td>\n",
       "      <td>1</td>\n",
       "    </tr>\n",
       "  </tbody>\n",
       "</table>\n",
       "</div>"
      ],
      "text/plain": [
       "      Codigo                          Texto Breve del material  Material   \\\n",
       "166  1050714       1050714 Cafe Sprouts Light Organic 100g x 6        NaN   \n",
       "167  1050714                                               NaN        NaN   \n",
       "168  1050713      1050713 Cafe Sprouts Medium Organic 100g x 6        NaN   \n",
       "169  1050713                                               NaN        NaN   \n",
       "170  1050715  1050715 Cafe Sprouts MediumDecaf Organic 100g x6        NaN   \n",
       "\n",
       "    Texto Breve del material.1  Material .1 Texto Breve del material.2  \\\n",
       "166                        NaN    3025249.0        Polvo TCG1 Organico   \n",
       "167                        NaN          NaN                        NaN   \n",
       "168                        NaN    3025255.0        Polvo CSM1 Organico   \n",
       "169                        NaN          NaN                        NaN   \n",
       "170                        NaN    3025258.0       Polvo STDW1 Organico   \n",
       "\n",
       "     Material .2 Texto Breve del material.3  Material .3  \\\n",
       "166    3025248.0     Extracto TCG1 Organico          NaN   \n",
       "167          NaN                        NaN          NaN   \n",
       "168    3025253.0      Extracto CSM Organico          NaN   \n",
       "169          NaN                        NaN          NaN   \n",
       "170    3025257.0     Extracto STDW Organico          NaN   \n",
       "\n",
       "    Texto Breve del material.4  Unnamed: 10     Texto Breve del material.5  \\\n",
       "166                        NaN    3025247.0  Tostado soluble TCG1 Organico   \n",
       "167                        NaN          NaN                            NaN   \n",
       "168                        NaN    3025252.0   Tostado soluble CSM Organico   \n",
       "169                        NaN          NaN                            NaN   \n",
       "170                        NaN    3025256.0          Tostado STDW Organico   \n",
       "\n",
       "    Materia_Prima              Texto Breve del material.6 Proporción  \n",
       "166       7008237  Cafe Consumo Organico COLOMBIA SOLUBLE          1  \n",
       "167       7008675  CAFE Pasilla Maquinas Organica SOLUBLE          1  \n",
       "168       7008237  Cafe Consumo Organico COLOMBIA SOLUBLE          1  \n",
       "169       7008675  CAFE Pasilla Maquinas Organica SOLUBLE          1  \n",
       "170       7009892   Cafe 300 Def Honduras Org DECAF MW PV          1  "
      ]
     },
     "execution_count": 274,
     "metadata": {},
     "output_type": "execute_result"
    }
   ],
   "source": [
    "df_Costos_Mp.tail()"
   ]
  },
  {
   "cell_type": "code",
   "execution_count": 275,
   "metadata": {
    "colab": {
     "base_uri": "https://localhost:8080/",
     "height": 695
    },
    "executionInfo": {
     "elapsed": 51,
     "status": "ok",
     "timestamp": 1751892439062,
     "user": {
      "displayName": "Melanny Herrera Arenas",
      "userId": "10791965058209715546"
     },
     "user_tz": 300
    },
    "id": "l8icieOGhB3g",
    "outputId": "aedee5d0-fcab-4add-f86e-f8026f51eb77"
   },
   "outputs": [
    {
     "data": {
      "text/html": [
       "<div>\n",
       "<style scoped>\n",
       "    .dataframe tbody tr th:only-of-type {\n",
       "        vertical-align: middle;\n",
       "    }\n",
       "\n",
       "    .dataframe tbody tr th {\n",
       "        vertical-align: top;\n",
       "    }\n",
       "\n",
       "    .dataframe thead th {\n",
       "        text-align: right;\n",
       "    }\n",
       "</style>\n",
       "<table border=\"1\" class=\"dataframe\">\n",
       "  <thead>\n",
       "    <tr style=\"text-align: right;\">\n",
       "      <th></th>\n",
       "      <th>Codigo</th>\n",
       "      <th>Texto Breve del material</th>\n",
       "      <th>Material</th>\n",
       "      <th>Texto Breve del material.1</th>\n",
       "      <th>Material .1</th>\n",
       "      <th>Texto Breve del material.2</th>\n",
       "      <th>Material .2</th>\n",
       "      <th>Texto Breve del material.3</th>\n",
       "      <th>Material .3</th>\n",
       "      <th>Texto Breve del material.4</th>\n",
       "      <th>Unnamed: 10</th>\n",
       "      <th>Texto Breve del material.5</th>\n",
       "      <th>Materia_Prima</th>\n",
       "      <th>Texto Breve del material.6</th>\n",
       "      <th>Proporción</th>\n",
       "    </tr>\n",
       "  </thead>\n",
       "  <tbody>\n",
       "    <tr>\n",
       "      <th>0</th>\n",
       "      <td>1003521</td>\n",
       "      <td>1003521 POLVO ST 25 X 24 0.6</td>\n",
       "      <td>NaN</td>\n",
       "      <td>NaN</td>\n",
       "      <td>3002668.0</td>\n",
       "      <td>Polvo STO</td>\n",
       "      <td>3002603.0</td>\n",
       "      <td>Extracto STO</td>\n",
       "      <td>NaN</td>\n",
       "      <td>NaN</td>\n",
       "      <td>3002572.0</td>\n",
       "      <td>Tostado Soluble STO</td>\n",
       "      <td>7009685</td>\n",
       "      <td>Cafe Pasilla Maquinas OTA Eur soluble</td>\n",
       "      <td>1.0</td>\n",
       "    </tr>\n",
       "    <tr>\n",
       "      <th>1</th>\n",
       "      <td>1035284</td>\n",
       "      <td>1035284 Cafe COLCAFE granul fco. 24x25g Caribe</td>\n",
       "      <td>3002687.0</td>\n",
       "      <td>AGLOMERADO GR1L1ST</td>\n",
       "      <td>3002648.0</td>\n",
       "      <td>Polvo ST1</td>\n",
       "      <td>3002600.0</td>\n",
       "      <td>Extracto ST</td>\n",
       "      <td>NaN</td>\n",
       "      <td>NaN</td>\n",
       "      <td>3002570.0</td>\n",
       "      <td>Tostado Soluble ST</td>\n",
       "      <td>7007875</td>\n",
       "      <td>Cafe Pasilla Catadoras Colombia</td>\n",
       "      <td>1.0</td>\n",
       "    </tr>\n",
       "    <tr>\n",
       "      <th>2</th>\n",
       "      <td>1035466</td>\n",
       "      <td>1035466 Cafe COLCAFE granul fco. 24x25g Conosur</td>\n",
       "      <td>3002687.0</td>\n",
       "      <td>AGLOMERADO GR1L1ST</td>\n",
       "      <td>3002648.0</td>\n",
       "      <td>Polvo ST1</td>\n",
       "      <td>3002600.0</td>\n",
       "      <td>Extracto ST</td>\n",
       "      <td>NaN</td>\n",
       "      <td>NaN</td>\n",
       "      <td>3002570.0</td>\n",
       "      <td>Tostado Soluble ST</td>\n",
       "      <td>7007875</td>\n",
       "      <td>Cafe Pasilla Catadoras Colombia</td>\n",
       "      <td>1.0</td>\n",
       "    </tr>\n",
       "    <tr>\n",
       "      <th>3</th>\n",
       "      <td>1036078</td>\n",
       "      <td>1036078 Cafe COLCAFE granulado fco. 24x25g ING</td>\n",
       "      <td>3002687.0</td>\n",
       "      <td>AGLOMERADO GR1L1ST</td>\n",
       "      <td>3002648.0</td>\n",
       "      <td>Polvo ST1</td>\n",
       "      <td>3002600.0</td>\n",
       "      <td>Extracto ST</td>\n",
       "      <td>NaN</td>\n",
       "      <td>NaN</td>\n",
       "      <td>3002570.0</td>\n",
       "      <td>Tostado Soluble ST</td>\n",
       "      <td>7007875</td>\n",
       "      <td>Cafe Pasilla Catadoras Colombia</td>\n",
       "      <td>1.0</td>\n",
       "    </tr>\n",
       "    <tr>\n",
       "      <th>4</th>\n",
       "      <td>1047939</td>\n",
       "      <td>1047939 Cafe COLCAFE polvo ST 24 fco x 25g</td>\n",
       "      <td>NaN</td>\n",
       "      <td>NaN</td>\n",
       "      <td>3002668.0</td>\n",
       "      <td>Polvo STO</td>\n",
       "      <td>3002603.0</td>\n",
       "      <td>Extracto STO</td>\n",
       "      <td>NaN</td>\n",
       "      <td>NaN</td>\n",
       "      <td>3002572.0</td>\n",
       "      <td>Tostado Soluble STO</td>\n",
       "      <td>7009685</td>\n",
       "      <td>Cafe Pasilla Maquinas OTA Eur soluble</td>\n",
       "      <td>1.0</td>\n",
       "    </tr>\n",
       "  </tbody>\n",
       "</table>\n",
       "</div>"
      ],
      "text/plain": [
       "    Codigo                         Texto Breve del material  Material   \\\n",
       "0  1003521                     1003521 POLVO ST 25 X 24 0.6        NaN   \n",
       "1  1035284   1035284 Cafe COLCAFE granul fco. 24x25g Caribe  3002687.0   \n",
       "2  1035466  1035466 Cafe COLCAFE granul fco. 24x25g Conosur  3002687.0   \n",
       "3  1036078   1036078 Cafe COLCAFE granulado fco. 24x25g ING  3002687.0   \n",
       "4  1047939       1047939 Cafe COLCAFE polvo ST 24 fco x 25g        NaN   \n",
       "\n",
       "  Texto Breve del material.1  Material .1 Texto Breve del material.2  \\\n",
       "0                        NaN    3002668.0                  Polvo STO   \n",
       "1         AGLOMERADO GR1L1ST    3002648.0                  Polvo ST1   \n",
       "2         AGLOMERADO GR1L1ST    3002648.0                  Polvo ST1   \n",
       "3         AGLOMERADO GR1L1ST    3002648.0                  Polvo ST1   \n",
       "4                        NaN    3002668.0                  Polvo STO   \n",
       "\n",
       "   Material .2 Texto Breve del material.3  Material .3  \\\n",
       "0    3002603.0               Extracto STO          NaN   \n",
       "1    3002600.0                Extracto ST          NaN   \n",
       "2    3002600.0                Extracto ST          NaN   \n",
       "3    3002600.0                Extracto ST          NaN   \n",
       "4    3002603.0               Extracto STO          NaN   \n",
       "\n",
       "  Texto Breve del material.4  Unnamed: 10 Texto Breve del material.5  \\\n",
       "0                        NaN    3002572.0        Tostado Soluble STO   \n",
       "1                        NaN    3002570.0         Tostado Soluble ST   \n",
       "2                        NaN    3002570.0         Tostado Soluble ST   \n",
       "3                        NaN    3002570.0         Tostado Soluble ST   \n",
       "4                        NaN    3002572.0        Tostado Soluble STO   \n",
       "\n",
       "  Materia_Prima             Texto Breve del material.6  Proporción  \n",
       "0       7009685  Cafe Pasilla Maquinas OTA Eur soluble         1.0  \n",
       "1       7007875        Cafe Pasilla Catadoras Colombia         1.0  \n",
       "2       7007875        Cafe Pasilla Catadoras Colombia         1.0  \n",
       "3       7007875        Cafe Pasilla Catadoras Colombia         1.0  \n",
       "4       7009685  Cafe Pasilla Maquinas OTA Eur soluble         1.0  "
      ]
     },
     "execution_count": 275,
     "metadata": {},
     "output_type": "execute_result"
    }
   ],
   "source": [
    "#Dividir metodo validar_numericos\n",
    "df_Costos_Mp['Proporción'] = (df_Costos_Mp['Proporción']\n",
    "    .astype(str)                         # Convertir a string por si hay valores mezclados\n",
    "    .str.replace(',', '.', regex=False)  # Reemplazar coma por punto\n",
    "    .str.strip()                         # Eliminar espacios\n",
    "    .astype(float)                       # Convertir finalmente a float\n",
    ")\n",
    "df_Costos_Mp.head()"
   ]
  },
  {
   "cell_type": "code",
   "execution_count": 276,
   "metadata": {
    "colab": {
     "base_uri": "https://localhost:8080/",
     "height": 387
    },
    "executionInfo": {
     "elapsed": 25,
     "status": "ok",
     "timestamp": 1751892439089,
     "user": {
      "displayName": "Melanny Herrera Arenas",
      "userId": "10791965058209715546"
     },
     "user_tz": 300
    },
    "id": "NBReH724VFBA",
    "outputId": "84a3f938-0e84-4315-a5ca-be472da26c29"
   },
   "outputs": [
    {
     "data": {
      "text/html": [
       "<div>\n",
       "<style scoped>\n",
       "    .dataframe tbody tr th:only-of-type {\n",
       "        vertical-align: middle;\n",
       "    }\n",
       "\n",
       "    .dataframe tbody tr th {\n",
       "        vertical-align: top;\n",
       "    }\n",
       "\n",
       "    .dataframe thead th {\n",
       "        text-align: right;\n",
       "    }\n",
       "</style>\n",
       "<table border=\"1\" class=\"dataframe\">\n",
       "  <thead>\n",
       "    <tr style=\"text-align: right;\">\n",
       "      <th></th>\n",
       "      <th>Número</th>\n",
       "      <th>Dia</th>\n",
       "      <th>Fecha</th>\n",
       "      <th>Mes:</th>\n",
       "      <th>IdMes</th>\n",
       "      <th>Año:</th>\n",
       "      <th>Máquina / Equipo:</th>\n",
       "      <th>Semana:</th>\n",
       "      <th>Turno:</th>\n",
       "      <th>Código y Descrip. / Producto:</th>\n",
       "      <th>...</th>\n",
       "      <th>Texto Breve del material.2</th>\n",
       "      <th>Material .2</th>\n",
       "      <th>Texto Breve del material.3</th>\n",
       "      <th>Material .3</th>\n",
       "      <th>Texto Breve del material.4</th>\n",
       "      <th>Unnamed: 10</th>\n",
       "      <th>Texto Breve del material.5</th>\n",
       "      <th>Materia_Prima</th>\n",
       "      <th>Texto Breve del material.6</th>\n",
       "      <th>Proporción</th>\n",
       "    </tr>\n",
       "  </thead>\n",
       "  <tbody>\n",
       "    <tr>\n",
       "      <th>0</th>\n",
       "      <td>44090</td>\n",
       "      <td>2</td>\n",
       "      <td>2024-01-02</td>\n",
       "      <td>Enero</td>\n",
       "      <td>1</td>\n",
       "      <td>2024</td>\n",
       "      <td>Linea B</td>\n",
       "      <td>1.0</td>\n",
       "      <td>1</td>\n",
       "      <td>1050712 Cafe Sprouts Dark Organic 100g x 6</td>\n",
       "      <td>...</td>\n",
       "      <td>NaN</td>\n",
       "      <td>NaN</td>\n",
       "      <td>NaN</td>\n",
       "      <td>NaN</td>\n",
       "      <td>NaN</td>\n",
       "      <td>NaN</td>\n",
       "      <td>NaN</td>\n",
       "      <td>NaN</td>\n",
       "      <td>NaN</td>\n",
       "      <td>NaN</td>\n",
       "    </tr>\n",
       "    <tr>\n",
       "      <th>1</th>\n",
       "      <td>44091</td>\n",
       "      <td>2</td>\n",
       "      <td>2024-01-02</td>\n",
       "      <td>Enero</td>\n",
       "      <td>1</td>\n",
       "      <td>2024</td>\n",
       "      <td>Linea A</td>\n",
       "      <td>1.0</td>\n",
       "      <td>1</td>\n",
       "      <td>1036993 Cafe COLCAFE clas. pol. 85gx24 España</td>\n",
       "      <td>...</td>\n",
       "      <td>Polvo STO</td>\n",
       "      <td>3002603.0</td>\n",
       "      <td>Extracto STO</td>\n",
       "      <td>NaN</td>\n",
       "      <td>NaN</td>\n",
       "      <td>3002572.0</td>\n",
       "      <td>Tostado Soluble STO</td>\n",
       "      <td>7009685</td>\n",
       "      <td>Cafe Pasilla Maquinas OTA Eur soluble</td>\n",
       "      <td>1.0</td>\n",
       "    </tr>\n",
       "  </tbody>\n",
       "</table>\n",
       "<p>2 rows × 34 columns</p>\n",
       "</div>"
      ],
      "text/plain": [
       "   Número  Dia       Fecha   Mes:  IdMes  Año: Máquina / Equipo:  Semana:  \\\n",
       "0   44090    2  2024-01-02  Enero      1  2024           Linea B      1.0   \n",
       "1   44091    2  2024-01-02  Enero      1  2024           Linea A      1.0   \n",
       "\n",
       "   Turno:                  Código y Descrip. / Producto:  ...  \\\n",
       "0       1    1050712 Cafe Sprouts Dark Organic 100g x 6   ...   \n",
       "1       1  1036993 Cafe COLCAFE clas. pol. 85gx24 España  ...   \n",
       "\n",
       "   Texto Breve del material.2  Material .2  Texto Breve del material.3  \\\n",
       "0                         NaN          NaN                         NaN   \n",
       "1                   Polvo STO    3002603.0                Extracto STO   \n",
       "\n",
       "  Material .3  Texto Breve del material.4  Unnamed: 10  \\\n",
       "0         NaN                         NaN          NaN   \n",
       "1         NaN                         NaN    3002572.0   \n",
       "\n",
       "   Texto Breve del material.5  Materia_Prima  \\\n",
       "0                         NaN            NaN   \n",
       "1         Tostado Soluble STO        7009685   \n",
       "\n",
       "              Texto Breve del material.6  Proporción  \n",
       "0                                    NaN         NaN  \n",
       "1  Cafe Pasilla Maquinas OTA Eur soluble         1.0  \n",
       "\n",
       "[2 rows x 34 columns]"
      ]
     },
     "execution_count": 276,
     "metadata": {},
     "output_type": "execute_result"
    }
   ],
   "source": [
    "df_Costos_merged = df_Env_Sol_2.merge(df_Costos_Mp, on='Codigo', how='left')\n",
    "df_Costos_merged.head(2)"
   ]
  },
  {
   "cell_type": "code",
   "execution_count": 277,
   "metadata": {
    "executionInfo": {
     "elapsed": 4174,
     "status": "ok",
     "timestamp": 1751892443265,
     "user": {
      "displayName": "Melanny Herrera Arenas",
      "userId": "10791965058209715546"
     },
     "user_tz": 300
    },
    "id": "VTGEJrQmhB05"
   },
   "outputs": [],
   "source": [
    "# df_Costos_merged.to_excel(\"df_Costos_merged_V2.xlsx\", index=False)"
   ]
  },
  {
   "cell_type": "code",
   "execution_count": 278,
   "metadata": {
    "colab": {
     "base_uri": "https://localhost:8080/",
     "height": 554
    },
    "executionInfo": {
     "elapsed": 3,
     "status": "ok",
     "timestamp": 1751892443269,
     "user": {
      "displayName": "Melanny Herrera Arenas",
      "userId": "10791965058209715546"
     },
     "user_tz": 300
    },
    "id": "SxkVHFglhByb",
    "outputId": "9e623a1e-30cc-4bb2-dc1e-d47a145ce626"
   },
   "outputs": [
    {
     "data": {
      "text/plain": [
       "Año                int64\n",
       "Descripción       object\n",
       "Materia_Prima      int64\n",
       "Enero            float64\n",
       "Febrero          float64\n",
       "Marzo            float64\n",
       "Abril            float64\n",
       "Mayo             float64\n",
       "Junio            float64\n",
       "Julio            float64\n",
       "Agosto           float64\n",
       "Septiembre       float64\n",
       "Octubre          float64\n",
       "Noviembre        float64\n",
       "Diciembre        float64\n",
       "dtype: object"
      ]
     },
     "execution_count": 278,
     "metadata": {},
     "output_type": "execute_result"
    }
   ],
   "source": [
    "df_Financiera_Mp.dtypes"
   ]
  },
  {
   "cell_type": "code",
   "execution_count": 279,
   "metadata": {
    "colab": {
     "base_uri": "https://localhost:8080/",
     "height": 143
    },
    "executionInfo": {
     "elapsed": 20,
     "status": "ok",
     "timestamp": 1751892443290,
     "user": {
      "displayName": "Melanny Herrera Arenas",
      "userId": "10791965058209715546"
     },
     "user_tz": 300
    },
    "id": "7XmDqIDydxFe",
    "outputId": "80a80283-f156-4d5a-bb00-305faf771020"
   },
   "outputs": [
    {
     "data": {
      "text/html": [
       "<div>\n",
       "<style scoped>\n",
       "    .dataframe tbody tr th:only-of-type {\n",
       "        vertical-align: middle;\n",
       "    }\n",
       "\n",
       "    .dataframe tbody tr th {\n",
       "        vertical-align: top;\n",
       "    }\n",
       "\n",
       "    .dataframe thead th {\n",
       "        text-align: right;\n",
       "    }\n",
       "</style>\n",
       "<table border=\"1\" class=\"dataframe\">\n",
       "  <thead>\n",
       "    <tr style=\"text-align: right;\">\n",
       "      <th></th>\n",
       "      <th>Año:</th>\n",
       "      <th>Descripción</th>\n",
       "      <th>Materia_Prima</th>\n",
       "      <th>Mes:</th>\n",
       "      <th>Costo_materia_kg</th>\n",
       "    </tr>\n",
       "  </thead>\n",
       "  <tbody>\n",
       "    <tr>\n",
       "      <th>0</th>\n",
       "      <td>2025</td>\n",
       "      <td>Cafe Pasilla Catadoras Colombia</td>\n",
       "      <td>7007875</td>\n",
       "      <td>Enero</td>\n",
       "      <td>NaN</td>\n",
       "    </tr>\n",
       "    <tr>\n",
       "      <th>1</th>\n",
       "      <td>2025</td>\n",
       "      <td>NaN</td>\n",
       "      <td>7002735</td>\n",
       "      <td>Enero</td>\n",
       "      <td>NaN</td>\n",
       "    </tr>\n",
       "    <tr>\n",
       "      <th>2</th>\n",
       "      <td>2025</td>\n",
       "      <td>Cafe Pasilla Maquinas OTA Eur soluble</td>\n",
       "      <td>7009685</td>\n",
       "      <td>Enero</td>\n",
       "      <td>NaN</td>\n",
       "    </tr>\n",
       "  </tbody>\n",
       "</table>\n",
       "</div>"
      ],
      "text/plain": [
       "   Año:                            Descripción Materia_Prima   Mes:  \\\n",
       "0  2025        Cafe Pasilla Catadoras Colombia       7007875  Enero   \n",
       "1  2025                                    NaN       7002735  Enero   \n",
       "2  2025  Cafe Pasilla Maquinas OTA Eur soluble       7009685  Enero   \n",
       "\n",
       "   Costo_materia_kg  \n",
       "0               NaN  \n",
       "1               NaN  \n",
       "2               NaN  "
      ]
     },
     "execution_count": 279,
     "metadata": {},
     "output_type": "execute_result"
    }
   ],
   "source": [
    "#Paso 1: cambiar a formato largo para facilitar join(id_vars=columnas fijas, var_name=nombre columna en base a las columnas originales, value_name: el nombre de la columna que contendrá los valores de las originales)\n",
    "df_Financiera_Mp_melted = df_Financiera_Mp.melt(id_vars=['Año', 'Descripción', 'Materia_Prima'],\n",
    "                                                var_name='Mes',\n",
    "                                                value_name='Costo_materia_kg')\n",
    "\n",
    "df_Financiera_Mp_melted['Mes'] = df_Financiera_Mp_melted['Mes'].str.capitalize()\n",
    "df_Financiera_Mp_melted['Materia_Prima'] = df_Financiera_Mp_melted['Materia_Prima'].astype(int).astype(str)\n",
    "df_Financiera_Mp_melted.rename(columns={'Año': 'Año:', 'Mes': 'Mes:'}, inplace=True)\n",
    "df_Financiera_Mp_melted.head(3)"
   ]
  },
  {
   "cell_type": "code",
   "execution_count": 280,
   "metadata": {
    "colab": {
     "base_uri": "https://localhost:8080/",
     "height": 240
    },
    "executionInfo": {
     "elapsed": 3,
     "status": "ok",
     "timestamp": 1751892443294,
     "user": {
      "displayName": "Melanny Herrera Arenas",
      "userId": "10791965058209715546"
     },
     "user_tz": 300
    },
    "id": "xPMRluRKdxCm",
    "outputId": "c21e47fa-9530-438c-e702-98f541f11197"
   },
   "outputs": [
    {
     "data": {
      "text/plain": [
       "Año:                  int64\n",
       "Descripción          object\n",
       "Materia_Prima        object\n",
       "Mes:                 object\n",
       "Costo_materia_kg    float64\n",
       "dtype: object"
      ]
     },
     "execution_count": 280,
     "metadata": {},
     "output_type": "execute_result"
    }
   ],
   "source": [
    "df_Financiera_Mp_melted.dtypes"
   ]
  },
  {
   "cell_type": "code",
   "execution_count": 281,
   "metadata": {
    "executionInfo": {
     "elapsed": 21,
     "status": "ok",
     "timestamp": 1751892443316,
     "user": {
      "displayName": "Melanny Herrera Arenas",
      "userId": "10791965058209715546"
     },
     "user_tz": 300
    },
    "id": "mvsa8Vzndw_2"
   },
   "outputs": [],
   "source": [
    "#Paso 2: hacer un merge entre df_Costos_merged y df_Financiera_Mp_melted\n",
    "df_Cost_Finan_Mp = df_Costos_merged.merge(\n",
    "    df_Financiera_Mp_melted,\n",
    "    on=['Año:', 'Materia_Prima', 'Mes:'],\n",
    "    how='left'\n",
    ")"
   ]
  },
  {
   "cell_type": "code",
   "execution_count": 282,
   "metadata": {
    "colab": {
     "base_uri": "https://localhost:8080/",
     "height": 488
    },
    "executionInfo": {
     "elapsed": 4437,
     "status": "ok",
     "timestamp": 1751892447752,
     "user": {
      "displayName": "Melanny Herrera Arenas",
      "userId": "10791965058209715546"
     },
     "user_tz": 300
    },
    "id": "eVxN8odOdw9f",
    "outputId": "bdb62857-c2de-4c58-8a70-43616928c1f5"
   },
   "outputs": [],
   "source": [
    "# #Paso 3: exportar df_Cost_Finan_Mp como archivo excel\n",
    "# df_Cost_Finan_Mp.to_excel(\"df_Cost_Finan_Mp.xlsx\", index=False)\n",
    "# df_Cost_Finan_Mp.head(3)"
   ]
  },
  {
   "cell_type": "code",
   "execution_count": 283,
   "metadata": {
    "colab": {
     "base_uri": "https://localhost:8080/",
     "height": 488
    },
    "executionInfo": {
     "elapsed": 212,
     "status": "ok",
     "timestamp": 1751892447965,
     "user": {
      "displayName": "Melanny Herrera Arenas",
      "userId": "10791965058209715546"
     },
     "user_tz": 300
    },
    "id": "slnZkFwadw6x",
    "outputId": "4da40709-6f98-4454-93b5-73b382e571dc"
   },
   "outputs": [
    {
     "data": {
      "text/html": [
       "<div>\n",
       "<style scoped>\n",
       "    .dataframe tbody tr th:only-of-type {\n",
       "        vertical-align: middle;\n",
       "    }\n",
       "\n",
       "    .dataframe tbody tr th {\n",
       "        vertical-align: top;\n",
       "    }\n",
       "\n",
       "    .dataframe thead th {\n",
       "        text-align: right;\n",
       "    }\n",
       "</style>\n",
       "<table border=\"1\" class=\"dataframe\">\n",
       "  <thead>\n",
       "    <tr style=\"text-align: right;\">\n",
       "      <th></th>\n",
       "      <th>Número</th>\n",
       "      <th>Dia</th>\n",
       "      <th>Fecha</th>\n",
       "      <th>Mes:</th>\n",
       "      <th>IdMes</th>\n",
       "      <th>Año:</th>\n",
       "      <th>Máquina / Equipo:</th>\n",
       "      <th>Semana:</th>\n",
       "      <th>Turno:</th>\n",
       "      <th>Código y Descrip. / Producto:</th>\n",
       "      <th>...</th>\n",
       "      <th>Material .3</th>\n",
       "      <th>Texto Breve del material.4</th>\n",
       "      <th>Unnamed: 10</th>\n",
       "      <th>Texto Breve del material.5</th>\n",
       "      <th>Materia_Prima</th>\n",
       "      <th>Texto Breve del material.6</th>\n",
       "      <th>Proporción</th>\n",
       "      <th>Descripción</th>\n",
       "      <th>Costo_materia_kg</th>\n",
       "      <th>Costo_proporcional</th>\n",
       "    </tr>\n",
       "  </thead>\n",
       "  <tbody>\n",
       "    <tr>\n",
       "      <th>0</th>\n",
       "      <td>44090</td>\n",
       "      <td>2</td>\n",
       "      <td>2024-01-02</td>\n",
       "      <td>Enero</td>\n",
       "      <td>1</td>\n",
       "      <td>2024</td>\n",
       "      <td>Linea B</td>\n",
       "      <td>1.0</td>\n",
       "      <td>1</td>\n",
       "      <td>1050712 Cafe Sprouts Dark Organic 100g x 6</td>\n",
       "      <td>...</td>\n",
       "      <td>NaN</td>\n",
       "      <td>NaN</td>\n",
       "      <td>NaN</td>\n",
       "      <td>NaN</td>\n",
       "      <td>NaN</td>\n",
       "      <td>NaN</td>\n",
       "      <td>NaN</td>\n",
       "      <td>NaN</td>\n",
       "      <td>NaN</td>\n",
       "      <td>NaN</td>\n",
       "    </tr>\n",
       "    <tr>\n",
       "      <th>1</th>\n",
       "      <td>44091</td>\n",
       "      <td>2</td>\n",
       "      <td>2024-01-02</td>\n",
       "      <td>Enero</td>\n",
       "      <td>1</td>\n",
       "      <td>2024</td>\n",
       "      <td>Linea A</td>\n",
       "      <td>1.0</td>\n",
       "      <td>1</td>\n",
       "      <td>1036993 Cafe COLCAFE clas. pol. 85gx24 España</td>\n",
       "      <td>...</td>\n",
       "      <td>NaN</td>\n",
       "      <td>NaN</td>\n",
       "      <td>3002572.0</td>\n",
       "      <td>Tostado Soluble STO</td>\n",
       "      <td>7009685</td>\n",
       "      <td>Cafe Pasilla Maquinas OTA Eur soluble</td>\n",
       "      <td>1.0</td>\n",
       "      <td>NaN</td>\n",
       "      <td>NaN</td>\n",
       "      <td>NaN</td>\n",
       "    </tr>\n",
       "    <tr>\n",
       "      <th>2</th>\n",
       "      <td>44092</td>\n",
       "      <td>2</td>\n",
       "      <td>2024-01-02</td>\n",
       "      <td>Enero</td>\n",
       "      <td>1</td>\n",
       "      <td>2024</td>\n",
       "      <td>Linea A</td>\n",
       "      <td>1.0</td>\n",
       "      <td>1</td>\n",
       "      <td>1003495 POLVO ST 85X24 2.04 ECUADOR</td>\n",
       "      <td>...</td>\n",
       "      <td>NaN</td>\n",
       "      <td>NaN</td>\n",
       "      <td>3002572.0</td>\n",
       "      <td>Tostado Soluble STO</td>\n",
       "      <td>7009685</td>\n",
       "      <td>Cafe Pasilla Maquinas OTA Eur soluble</td>\n",
       "      <td>1.0</td>\n",
       "      <td>NaN</td>\n",
       "      <td>NaN</td>\n",
       "      <td>NaN</td>\n",
       "    </tr>\n",
       "  </tbody>\n",
       "</table>\n",
       "<p>3 rows × 37 columns</p>\n",
       "</div>"
      ],
      "text/plain": [
       "   Número  Dia       Fecha   Mes:  IdMes  Año: Máquina / Equipo:  Semana:  \\\n",
       "0   44090    2  2024-01-02  Enero      1  2024           Linea B      1.0   \n",
       "1   44091    2  2024-01-02  Enero      1  2024           Linea A      1.0   \n",
       "2   44092    2  2024-01-02  Enero      1  2024           Linea A      1.0   \n",
       "\n",
       "   Turno:                  Código y Descrip. / Producto:  ...  Material .3  \\\n",
       "0       1    1050712 Cafe Sprouts Dark Organic 100g x 6   ...          NaN   \n",
       "1       1  1036993 Cafe COLCAFE clas. pol. 85gx24 España  ...          NaN   \n",
       "2       1            1003495 POLVO ST 85X24 2.04 ECUADOR  ...          NaN   \n",
       "\n",
       "   Texto Breve del material.4  Unnamed: 10 Texto Breve del material.5  \\\n",
       "0                         NaN          NaN                        NaN   \n",
       "1                         NaN    3002572.0        Tostado Soluble STO   \n",
       "2                         NaN    3002572.0        Tostado Soluble STO   \n",
       "\n",
       "   Materia_Prima             Texto Breve del material.6  Proporción  \\\n",
       "0            NaN                                    NaN         NaN   \n",
       "1        7009685  Cafe Pasilla Maquinas OTA Eur soluble         1.0   \n",
       "2        7009685  Cafe Pasilla Maquinas OTA Eur soluble         1.0   \n",
       "\n",
       "   Descripción  Costo_materia_kg  Costo_proporcional  \n",
       "0          NaN               NaN                 NaN  \n",
       "1          NaN               NaN                 NaN  \n",
       "2          NaN               NaN                 NaN  \n",
       "\n",
       "[3 rows x 37 columns]"
      ]
     },
     "execution_count": 283,
     "metadata": {},
     "output_type": "execute_result"
    }
   ],
   "source": [
    "#Paso 4: calcular el costo proporcional por materia prima\n",
    "df_Cost_Finan_Mp['Costo_proporcional'] = df_Cost_Finan_Mp['Proporción'] * df_Cost_Finan_Mp['Costo_materia_kg']\n",
    "df_Cost_Finan_Mp.head(3)"
   ]
  },
  {
   "cell_type": "code",
   "execution_count": 284,
   "metadata": {
    "colab": {
     "base_uri": "https://localhost:8080/",
     "height": 143
    },
    "executionInfo": {
     "elapsed": 48,
     "status": "ok",
     "timestamp": 1751892448014,
     "user": {
      "displayName": "Melanny Herrera Arenas",
      "userId": "10791965058209715546"
     },
     "user_tz": 300
    },
    "id": "VsJIXoJUdw4f",
    "outputId": "4b427337-b1e9-47ff-8020-7ba8600f700a"
   },
   "outputs": [
    {
     "data": {
      "text/html": [
       "<div>\n",
       "<style scoped>\n",
       "    .dataframe tbody tr th:only-of-type {\n",
       "        vertical-align: middle;\n",
       "    }\n",
       "\n",
       "    .dataframe tbody tr th {\n",
       "        vertical-align: top;\n",
       "    }\n",
       "\n",
       "    .dataframe thead th {\n",
       "        text-align: right;\n",
       "    }\n",
       "</style>\n",
       "<table border=\"1\" class=\"dataframe\">\n",
       "  <thead>\n",
       "    <tr style=\"text-align: right;\">\n",
       "      <th></th>\n",
       "      <th>Número</th>\n",
       "      <th>Año:</th>\n",
       "      <th>Mes:</th>\n",
       "      <th>Codigo</th>\n",
       "      <th>Costo/kg</th>\n",
       "    </tr>\n",
       "  </thead>\n",
       "  <tbody>\n",
       "    <tr>\n",
       "      <th>0</th>\n",
       "      <td>44090</td>\n",
       "      <td>2024</td>\n",
       "      <td>Enero</td>\n",
       "      <td>1050712</td>\n",
       "      <td>0.0</td>\n",
       "    </tr>\n",
       "    <tr>\n",
       "      <th>1</th>\n",
       "      <td>44091</td>\n",
       "      <td>2024</td>\n",
       "      <td>Enero</td>\n",
       "      <td>1036993</td>\n",
       "      <td>0.0</td>\n",
       "    </tr>\n",
       "    <tr>\n",
       "      <th>2</th>\n",
       "      <td>44092</td>\n",
       "      <td>2024</td>\n",
       "      <td>Enero</td>\n",
       "      <td>1003495</td>\n",
       "      <td>0.0</td>\n",
       "    </tr>\n",
       "  </tbody>\n",
       "</table>\n",
       "</div>"
      ],
      "text/plain": [
       "   Número  Año:   Mes:   Codigo  Costo/kg\n",
       "0   44090  2024  Enero  1050712       0.0\n",
       "1   44091  2024  Enero  1036993       0.0\n",
       "2   44092  2024  Enero  1003495       0.0"
      ]
     },
     "execution_count": 284,
     "metadata": {},
     "output_type": "execute_result"
    }
   ],
   "source": [
    "df_Costo_Mp_Env_Sol = (\n",
    "    df_Cost_Finan_Mp\n",
    "    .groupby(['Número','Año:', 'Mes:', 'Codigo'])['Costo_proporcional']\n",
    "    .sum()\n",
    "    .reset_index()\n",
    "    .rename(columns={'Costo_proporcional': 'Costo/kg'})\n",
    ")\n",
    "df_Costo_Mp_Env_Sol.head(3)"
   ]
  },
  {
   "cell_type": "code",
   "execution_count": 285,
   "metadata": {
    "colab": {
     "base_uri": "https://localhost:8080/",
     "height": 206
    },
    "executionInfo": {
     "elapsed": 9,
     "status": "ok",
     "timestamp": 1751892448026,
     "user": {
      "displayName": "Melanny Herrera Arenas",
      "userId": "10791965058209715546"
     },
     "user_tz": 300
    },
    "id": "wLP4_F-TCk-H",
    "outputId": "aec73dfe-754f-463b-c874-2cb9184823b1"
   },
   "outputs": [
    {
     "data": {
      "text/html": [
       "<div>\n",
       "<style scoped>\n",
       "    .dataframe tbody tr th:only-of-type {\n",
       "        vertical-align: middle;\n",
       "    }\n",
       "\n",
       "    .dataframe tbody tr th {\n",
       "        vertical-align: top;\n",
       "    }\n",
       "\n",
       "    .dataframe thead th {\n",
       "        text-align: right;\n",
       "    }\n",
       "</style>\n",
       "<table border=\"1\" class=\"dataframe\">\n",
       "  <thead>\n",
       "    <tr style=\"text-align: right;\">\n",
       "      <th></th>\n",
       "      <th>Número</th>\n",
       "      <th>Año:</th>\n",
       "      <th>Mes:</th>\n",
       "      <th>Codigo</th>\n",
       "      <th>Costo/kg</th>\n",
       "    </tr>\n",
       "  </thead>\n",
       "  <tbody>\n",
       "    <tr>\n",
       "      <th>3640</th>\n",
       "      <td>47815</td>\n",
       "      <td>2025</td>\n",
       "      <td>Marzo</td>\n",
       "      <td>1045032</td>\n",
       "      <td>0.0</td>\n",
       "    </tr>\n",
       "    <tr>\n",
       "      <th>3641</th>\n",
       "      <td>47816</td>\n",
       "      <td>2025</td>\n",
       "      <td>Marzo</td>\n",
       "      <td>1003353</td>\n",
       "      <td>0.0</td>\n",
       "    </tr>\n",
       "    <tr>\n",
       "      <th>3642</th>\n",
       "      <td>47817</td>\n",
       "      <td>2025</td>\n",
       "      <td>Marzo</td>\n",
       "      <td>1011228</td>\n",
       "      <td>0.0</td>\n",
       "    </tr>\n",
       "    <tr>\n",
       "      <th>3643</th>\n",
       "      <td>47818</td>\n",
       "      <td>2025</td>\n",
       "      <td>Marzo</td>\n",
       "      <td>1064451</td>\n",
       "      <td>0.0</td>\n",
       "    </tr>\n",
       "    <tr>\n",
       "      <th>3644</th>\n",
       "      <td>47819</td>\n",
       "      <td>2025</td>\n",
       "      <td>Marzo</td>\n",
       "      <td>1064467</td>\n",
       "      <td>0.0</td>\n",
       "    </tr>\n",
       "  </tbody>\n",
       "</table>\n",
       "</div>"
      ],
      "text/plain": [
       "      Número  Año:   Mes:   Codigo  Costo/kg\n",
       "3640   47815  2025  Marzo  1045032       0.0\n",
       "3641   47816  2025  Marzo  1003353       0.0\n",
       "3642   47817  2025  Marzo  1011228       0.0\n",
       "3643   47818  2025  Marzo  1064451       0.0\n",
       "3644   47819  2025  Marzo  1064467       0.0"
      ]
     },
     "execution_count": 285,
     "metadata": {},
     "output_type": "execute_result"
    }
   ],
   "source": [
    "df_Costo_Mp_Env_Sol.loc[(df_Costo_Mp_Env_Sol['Mes:'] == \"Marzo\") & (df_Costo_Mp_Env_Sol['Año:'] == 2025)].head()"
   ]
  },
  {
   "cell_type": "code",
   "execution_count": 286,
   "metadata": {
    "executionInfo": {
     "elapsed": 7,
     "status": "ok",
     "timestamp": 1751892448029,
     "user": {
      "displayName": "Melanny Herrera Arenas",
      "userId": "10791965058209715546"
     },
     "user_tz": 300
    },
    "id": "9eFYIbq-DGoc"
   },
   "outputs": [],
   "source": [
    "orden_meses = [\"Enero\", \"Febrero\", \"Marzo\", \"Abril\", \"Mayo\", \"Junio\", \"Julio\", \"Agosto\", \"Septiembre\", \"Octubre\", \"Noviembre\", \"Diciembre\"]"
   ]
  },
  {
   "cell_type": "code",
   "execution_count": 287,
   "metadata": {
    "executionInfo": {
     "elapsed": 13,
     "status": "ok",
     "timestamp": 1751892448038,
     "user": {
      "displayName": "Melanny Herrera Arenas",
      "userId": "10791965058209715546"
     },
     "user_tz": 300
    },
    "id": "YW5xyZnDDbyd"
   },
   "outputs": [],
   "source": [
    "#Paso 3: hacer merge completo sin sobrescribir 'Costo/kg'\n",
    "df_mergeado = df_Env_Sol_2.merge(\n",
    "    df_Costo_Mp_Env_Sol[['Número', 'Año:', 'Mes:', 'Codigo', 'Costo/kg']],\n",
    "    on=['Número', 'Año:', 'Mes:', 'Codigo'],\n",
    "    how='left',\n",
    "    suffixes=('', '_nuevo')\n",
    ")"
   ]
  },
  {
   "cell_type": "code",
   "execution_count": 288,
   "metadata": {
    "executionInfo": {
     "elapsed": 8,
     "status": "ok",
     "timestamp": 1751892448041,
     "user": {
      "displayName": "Melanny Herrera Arenas",
      "userId": "10791965058209715546"
     },
     "user_tz": 300
    },
    "id": "M3tXf7orDbv5"
   },
   "outputs": [],
   "source": [
    "#Paso 4: Actualizar 'Costo/kg' solo si Año es 2025 y Mes desde Marzo\n",
    "condicion_actualizacion = (\n",
    "    (df_mergeado['Año:'] == 2025) &\n",
    "    (df_mergeado['Mes:'].isin(orden_meses[2:])) &\n",
    "    (df_mergeado['Costo/kg_nuevo'].notna())\n",
    ")"
   ]
  },
  {
   "cell_type": "code",
   "execution_count": 289,
   "metadata": {
    "executionInfo": {
     "elapsed": 6,
     "status": "ok",
     "timestamp": 1751892448042,
     "user": {
      "displayName": "Melanny Herrera Arenas",
      "userId": "10791965058209715546"
     },
     "user_tz": 300
    },
    "id": "It0CxIehEXMU"
   },
   "outputs": [],
   "source": [
    "df_mergeado.loc[condicion_actualizacion, 'Costo/kg'] = df_mergeado.loc[condicion_actualizacion, 'Costo/kg_nuevo']"
   ]
  },
  {
   "cell_type": "code",
   "execution_count": 290,
   "metadata": {
    "executionInfo": {
     "elapsed": 1,
     "status": "ok",
     "timestamp": 1751892448044,
     "user": {
      "displayName": "Melanny Herrera Arenas",
      "userId": "10791965058209715546"
     },
     "user_tz": 300
    },
    "id": "atwS_A-zEXKR"
   },
   "outputs": [],
   "source": [
    "# Paso 5: Eliminar columna auxiliar\n",
    "df_mergeado.drop(columns=['Costo/kg_nuevo'], inplace=True)"
   ]
  },
  {
   "cell_type": "code",
   "execution_count": 291,
   "metadata": {
    "colab": {
     "base_uri": "https://localhost:8080/",
     "height": 625
    },
    "executionInfo": {
     "elapsed": 3,
     "status": "ok",
     "timestamp": 1751892448048,
     "user": {
      "displayName": "Melanny Herrera Arenas",
      "userId": "10791965058209715546"
     },
     "user_tz": 300
    },
    "id": "eD3VWm6aEXHz",
    "outputId": "0fc07fe3-b7ce-4ce0-871b-93e65570f2ae"
   },
   "outputs": [
    {
     "data": {
      "text/html": [
       "<div>\n",
       "<style scoped>\n",
       "    .dataframe tbody tr th:only-of-type {\n",
       "        vertical-align: middle;\n",
       "    }\n",
       "\n",
       "    .dataframe tbody tr th {\n",
       "        vertical-align: top;\n",
       "    }\n",
       "\n",
       "    .dataframe thead th {\n",
       "        text-align: right;\n",
       "    }\n",
       "</style>\n",
       "<table border=\"1\" class=\"dataframe\">\n",
       "  <thead>\n",
       "    <tr style=\"text-align: right;\">\n",
       "      <th></th>\n",
       "      <th>Número</th>\n",
       "      <th>Dia</th>\n",
       "      <th>Fecha</th>\n",
       "      <th>Mes:</th>\n",
       "      <th>IdMes</th>\n",
       "      <th>Año:</th>\n",
       "      <th>Máquina / Equipo:</th>\n",
       "      <th>Semana:</th>\n",
       "      <th>Turno:</th>\n",
       "      <th>Código y Descrip. / Producto:</th>\n",
       "      <th>Unidades Producidas (Conformes) :</th>\n",
       "      <th>Peso Promedio de la unidad (K):</th>\n",
       "      <th>Gramaje (K):</th>\n",
       "      <th>Codigo</th>\n",
       "      <th>Real_empaque_calculado</th>\n",
       "      <th>Debe_ser_empaque_calculado</th>\n",
       "      <th>Diferencia_calculado</th>\n",
       "      <th>Sobrepeso_calculado</th>\n",
       "      <th>Costo/kg</th>\n",
       "      <th>Meta</th>\n",
       "    </tr>\n",
       "  </thead>\n",
       "  <tbody>\n",
       "    <tr>\n",
       "      <th>3640</th>\n",
       "      <td>47815</td>\n",
       "      <td>1</td>\n",
       "      <td>2025-03-01</td>\n",
       "      <td>Marzo</td>\n",
       "      <td>3</td>\n",
       "      <td>2025</td>\n",
       "      <td>Linea B</td>\n",
       "      <td>9.0</td>\n",
       "      <td>1</td>\n",
       "      <td>1045032Cafe COLCAFE Clasic Jarro 100g 29un Nova</td>\n",
       "      <td>7250.0</td>\n",
       "      <td>0.10038</td>\n",
       "      <td>0.10</td>\n",
       "      <td>1045032</td>\n",
       "      <td>727.75500</td>\n",
       "      <td>725.00</td>\n",
       "      <td>2.75500</td>\n",
       "      <td>0.003800</td>\n",
       "      <td>0.0</td>\n",
       "      <td>0.012</td>\n",
       "    </tr>\n",
       "    <tr>\n",
       "      <th>3641</th>\n",
       "      <td>47816</td>\n",
       "      <td>1</td>\n",
       "      <td>2025-03-01</td>\n",
       "      <td>Marzo</td>\n",
       "      <td>3</td>\n",
       "      <td>2025</td>\n",
       "      <td>Linea A</td>\n",
       "      <td>9.0</td>\n",
       "      <td>1</td>\n",
       "      <td>1003353 COLCAFE ST 170 X 12 2.04</td>\n",
       "      <td>18036.0</td>\n",
       "      <td>0.17228</td>\n",
       "      <td>0.17</td>\n",
       "      <td>1003353</td>\n",
       "      <td>3107.24208</td>\n",
       "      <td>3066.12</td>\n",
       "      <td>41.12208</td>\n",
       "      <td>0.013412</td>\n",
       "      <td>0.0</td>\n",
       "      <td>0.010</td>\n",
       "    </tr>\n",
       "    <tr>\n",
       "      <th>3642</th>\n",
       "      <td>47817</td>\n",
       "      <td>1</td>\n",
       "      <td>2025-03-01</td>\n",
       "      <td>Marzo</td>\n",
       "      <td>3</td>\n",
       "      <td>2025</td>\n",
       "      <td>Linea A</td>\n",
       "      <td>9.0</td>\n",
       "      <td>1</td>\n",
       "      <td>1011228 Cafe COLCAFE Clasico 200g Novaventa</td>\n",
       "      <td>9300.0</td>\n",
       "      <td>0.20373</td>\n",
       "      <td>0.20</td>\n",
       "      <td>1011228</td>\n",
       "      <td>1894.68900</td>\n",
       "      <td>1860.00</td>\n",
       "      <td>34.68900</td>\n",
       "      <td>0.018650</td>\n",
       "      <td>0.0</td>\n",
       "      <td>0.010</td>\n",
       "    </tr>\n",
       "    <tr>\n",
       "      <th>3643</th>\n",
       "      <td>47818</td>\n",
       "      <td>3</td>\n",
       "      <td>2025-03-03</td>\n",
       "      <td>Marzo</td>\n",
       "      <td>3</td>\n",
       "      <td>2025</td>\n",
       "      <td>Linea A</td>\n",
       "      <td>10.0</td>\n",
       "      <td>1</td>\n",
       "      <td>1064451 Coffee Crem COLCAFE 650g 12un V2</td>\n",
       "      <td>1176.0</td>\n",
       "      <td>0.65237</td>\n",
       "      <td>0.65</td>\n",
       "      <td>1064451</td>\n",
       "      <td>767.18712</td>\n",
       "      <td>764.40</td>\n",
       "      <td>2.78712</td>\n",
       "      <td>0.003646</td>\n",
       "      <td>0.0</td>\n",
       "      <td>0.005</td>\n",
       "    </tr>\n",
       "    <tr>\n",
       "      <th>3644</th>\n",
       "      <td>47819</td>\n",
       "      <td>3</td>\n",
       "      <td>2025-03-03</td>\n",
       "      <td>Marzo</td>\n",
       "      <td>3</td>\n",
       "      <td>2025</td>\n",
       "      <td>Linea A</td>\n",
       "      <td>10.0</td>\n",
       "      <td>1</td>\n",
       "      <td>1064467 Coffee crem COLCAFE 290g 24fco V2</td>\n",
       "      <td>6576.0</td>\n",
       "      <td>0.29324</td>\n",
       "      <td>0.29</td>\n",
       "      <td>1064467</td>\n",
       "      <td>1928.34624</td>\n",
       "      <td>1907.04</td>\n",
       "      <td>21.30624</td>\n",
       "      <td>0.011172</td>\n",
       "      <td>0.0</td>\n",
       "      <td>0.005</td>\n",
       "    </tr>\n",
       "  </tbody>\n",
       "</table>\n",
       "</div>"
      ],
      "text/plain": [
       "      Número  Dia       Fecha   Mes:  IdMes  Año: Máquina / Equipo:  Semana:  \\\n",
       "3640   47815    1  2025-03-01  Marzo      3  2025           Linea B      9.0   \n",
       "3641   47816    1  2025-03-01  Marzo      3  2025           Linea A      9.0   \n",
       "3642   47817    1  2025-03-01  Marzo      3  2025           Linea A      9.0   \n",
       "3643   47818    3  2025-03-03  Marzo      3  2025           Linea A     10.0   \n",
       "3644   47819    3  2025-03-03  Marzo      3  2025           Linea A     10.0   \n",
       "\n",
       "      Turno:                     Código y Descrip. / Producto:  \\\n",
       "3640       1  1045032Cafe COLCAFE Clasic Jarro 100g 29un Nova    \n",
       "3641       1                  1003353 COLCAFE ST 170 X 12 2.04   \n",
       "3642       1       1011228 Cafe COLCAFE Clasico 200g Novaventa   \n",
       "3643       1          1064451 Coffee Crem COLCAFE 650g 12un V2   \n",
       "3644       1         1064467 Coffee crem COLCAFE 290g 24fco V2   \n",
       "\n",
       "      Unidades Producidas (Conformes) :  Peso Promedio de la unidad (K):  \\\n",
       "3640                             7250.0                          0.10038   \n",
       "3641                            18036.0                          0.17228   \n",
       "3642                             9300.0                          0.20373   \n",
       "3643                             1176.0                          0.65237   \n",
       "3644                             6576.0                          0.29324   \n",
       "\n",
       "      Gramaje (K):   Codigo  Real_empaque_calculado  \\\n",
       "3640          0.10  1045032               727.75500   \n",
       "3641          0.17  1003353              3107.24208   \n",
       "3642          0.20  1011228              1894.68900   \n",
       "3643          0.65  1064451               767.18712   \n",
       "3644          0.29  1064467              1928.34624   \n",
       "\n",
       "      Debe_ser_empaque_calculado  Diferencia_calculado  Sobrepeso_calculado  \\\n",
       "3640                      725.00               2.75500             0.003800   \n",
       "3641                     3066.12              41.12208             0.013412   \n",
       "3642                     1860.00              34.68900             0.018650   \n",
       "3643                      764.40               2.78712             0.003646   \n",
       "3644                     1907.04              21.30624             0.011172   \n",
       "\n",
       "      Costo/kg   Meta  \n",
       "3640       0.0  0.012  \n",
       "3641       0.0  0.010  \n",
       "3642       0.0  0.010  \n",
       "3643       0.0  0.005  \n",
       "3644       0.0  0.005  "
      ]
     },
     "execution_count": 291,
     "metadata": {},
     "output_type": "execute_result"
    }
   ],
   "source": [
    "df_mergeado.loc[(df_mergeado['Mes:'] == \"Marzo\")&(df_mergeado['Año:'] == 2025)].head(5)"
   ]
  },
  {
   "cell_type": "code",
   "execution_count": 292,
   "metadata": {
    "executionInfo": {
     "elapsed": 442,
     "status": "ok",
     "timestamp": 1751892448493,
     "user": {
      "displayName": "Melanny Herrera Arenas",
      "userId": "10791965058209715546"
     },
     "user_tz": 300
    },
    "id": "QoNNfG2pEXFc"
   },
   "outputs": [],
   "source": [
    "df_Env_Sol_2 = df_mergeado.copy()"
   ]
  },
  {
   "cell_type": "code",
   "execution_count": 293,
   "metadata": {
    "colab": {
     "base_uri": "https://localhost:8080/"
    },
    "executionInfo": {
     "elapsed": 8,
     "status": "ok",
     "timestamp": 1751892448502,
     "user": {
      "displayName": "Melanny Herrera Arenas",
      "userId": "10791965058209715546"
     },
     "user_tz": 300
    },
    "id": "8gBycd1LDbtk",
    "outputId": "7313fb83-38f6-48bf-ee00-08e839fcb7ce"
   },
   "outputs": [
    {
     "data": {
      "text/plain": [
       "Index(['Número', 'Dia', 'Fecha', 'Mes:', 'IdMes', 'Año:', 'Máquina / Equipo:',\n",
       "       'Semana:', 'Turno:', 'Código y Descrip. / Producto:',\n",
       "       'Unidades Producidas (Conformes) :', 'Peso Promedio de la unidad (K):',\n",
       "       'Gramaje (K):', 'Codigo', 'Real_empaque_calculado',\n",
       "       'Debe_ser_empaque_calculado', 'Diferencia_calculado',\n",
       "       'Sobrepeso_calculado', 'Costo/kg', 'Meta'],\n",
       "      dtype='object')"
      ]
     },
     "execution_count": 293,
     "metadata": {},
     "output_type": "execute_result"
    }
   ],
   "source": [
    "df_Env_Sol_2.columns"
   ]
  },
  {
   "cell_type": "code",
   "execution_count": 294,
   "metadata": {
    "executionInfo": {
     "elapsed": 136,
     "status": "ok",
     "timestamp": 1751892448640,
     "user": {
      "displayName": "Melanny Herrera Arenas",
      "userId": "10791965058209715546"
     },
     "user_tz": 300
    },
    "id": "3k7Yjt00dw1_"
   },
   "outputs": [],
   "source": [
    "# df_Costo_Mp_Env_Sol.to_excel(\"df_Costo_Mp_Env_Sol.xlsx\", index=False)"
   ]
  },
  {
   "cell_type": "code",
   "execution_count": 295,
   "metadata": {
    "colab": {
     "base_uri": "https://localhost:8080/",
     "height": 505
    },
    "executionInfo": {
     "elapsed": 4,
     "status": "ok",
     "timestamp": 1751892448644,
     "user": {
      "displayName": "Melanny Herrera Arenas",
      "userId": "10791965058209715546"
     },
     "user_tz": 300
    },
    "id": "wFearRkIdwy-",
    "outputId": "324ed2a6-0251-4238-ea48-e0b88787dc5a"
   },
   "outputs": [
    {
     "data": {
      "text/html": [
       "<div>\n",
       "<style scoped>\n",
       "    .dataframe tbody tr th:only-of-type {\n",
       "        vertical-align: middle;\n",
       "    }\n",
       "\n",
       "    .dataframe tbody tr th {\n",
       "        vertical-align: top;\n",
       "    }\n",
       "\n",
       "    .dataframe thead th {\n",
       "        text-align: right;\n",
       "    }\n",
       "</style>\n",
       "<table border=\"1\" class=\"dataframe\">\n",
       "  <thead>\n",
       "    <tr style=\"text-align: right;\">\n",
       "      <th></th>\n",
       "      <th>Número</th>\n",
       "      <th>Dia</th>\n",
       "      <th>Fecha</th>\n",
       "      <th>Mes:</th>\n",
       "      <th>IdMes</th>\n",
       "      <th>Año:</th>\n",
       "      <th>Máquina / Equipo:</th>\n",
       "      <th>Semana:</th>\n",
       "      <th>Turno:</th>\n",
       "      <th>Código y Descrip. / Producto:</th>\n",
       "      <th>...</th>\n",
       "      <th>Peso Promedio de la unidad (K):</th>\n",
       "      <th>Gramaje (K):</th>\n",
       "      <th>Codigo</th>\n",
       "      <th>Real_empaque_calculado</th>\n",
       "      <th>Debe_ser_empaque_calculado</th>\n",
       "      <th>Diferencia_calculado</th>\n",
       "      <th>Sobrepeso_calculado</th>\n",
       "      <th>Costo/kg</th>\n",
       "      <th>Meta</th>\n",
       "      <th>Ahorros/Perdidas</th>\n",
       "    </tr>\n",
       "  </thead>\n",
       "  <tbody>\n",
       "    <tr>\n",
       "      <th>0</th>\n",
       "      <td>44090</td>\n",
       "      <td>2</td>\n",
       "      <td>2024-01-02</td>\n",
       "      <td>Enero</td>\n",
       "      <td>1</td>\n",
       "      <td>2024</td>\n",
       "      <td>Linea B</td>\n",
       "      <td>1.0</td>\n",
       "      <td>1</td>\n",
       "      <td>1050712 Cafe Sprouts Dark Organic 100g x 6</td>\n",
       "      <td>...</td>\n",
       "      <td>0.10073</td>\n",
       "      <td>0.100</td>\n",
       "      <td>1050712</td>\n",
       "      <td>1450.512</td>\n",
       "      <td>1440.0</td>\n",
       "      <td>10.512</td>\n",
       "      <td>0.007300</td>\n",
       "      <td>97977.0</td>\n",
       "      <td>0.015</td>\n",
       "      <td>1.094299e+06</td>\n",
       "    </tr>\n",
       "    <tr>\n",
       "      <th>1</th>\n",
       "      <td>44091</td>\n",
       "      <td>2</td>\n",
       "      <td>2024-01-02</td>\n",
       "      <td>Enero</td>\n",
       "      <td>1</td>\n",
       "      <td>2024</td>\n",
       "      <td>Linea A</td>\n",
       "      <td>1.0</td>\n",
       "      <td>1</td>\n",
       "      <td>1036993 Cafe COLCAFE clas. pol. 85gx24 España</td>\n",
       "      <td>...</td>\n",
       "      <td>0.08604</td>\n",
       "      <td>0.085</td>\n",
       "      <td>1036993</td>\n",
       "      <td>412.992</td>\n",
       "      <td>408.0</td>\n",
       "      <td>4.992</td>\n",
       "      <td>0.012235</td>\n",
       "      <td>55498.0</td>\n",
       "      <td>0.015</td>\n",
       "      <td>6.336769e+04</td>\n",
       "    </tr>\n",
       "    <tr>\n",
       "      <th>2</th>\n",
       "      <td>44092</td>\n",
       "      <td>2</td>\n",
       "      <td>2024-01-02</td>\n",
       "      <td>Enero</td>\n",
       "      <td>1</td>\n",
       "      <td>2024</td>\n",
       "      <td>Linea A</td>\n",
       "      <td>1.0</td>\n",
       "      <td>1</td>\n",
       "      <td>1003495 POLVO ST 85X24 2.04 ECUADOR</td>\n",
       "      <td>...</td>\n",
       "      <td>0.08572</td>\n",
       "      <td>0.085</td>\n",
       "      <td>1003495</td>\n",
       "      <td>205.728</td>\n",
       "      <td>204.0</td>\n",
       "      <td>1.728</td>\n",
       "      <td>0.008471</td>\n",
       "      <td>55498.0</td>\n",
       "      <td>0.015</td>\n",
       "      <td>7.454951e+04</td>\n",
       "    </tr>\n",
       "  </tbody>\n",
       "</table>\n",
       "<p>3 rows × 21 columns</p>\n",
       "</div>"
      ],
      "text/plain": [
       "   Número  Dia       Fecha   Mes:  IdMes  Año: Máquina / Equipo:  Semana:  \\\n",
       "0   44090    2  2024-01-02  Enero      1  2024           Linea B      1.0   \n",
       "1   44091    2  2024-01-02  Enero      1  2024           Linea A      1.0   \n",
       "2   44092    2  2024-01-02  Enero      1  2024           Linea A      1.0   \n",
       "\n",
       "   Turno:                  Código y Descrip. / Producto:  ...  \\\n",
       "0       1    1050712 Cafe Sprouts Dark Organic 100g x 6   ...   \n",
       "1       1  1036993 Cafe COLCAFE clas. pol. 85gx24 España  ...   \n",
       "2       1            1003495 POLVO ST 85X24 2.04 ECUADOR  ...   \n",
       "\n",
       "   Peso Promedio de la unidad (K):  Gramaje (K):   Codigo  \\\n",
       "0                          0.10073         0.100  1050712   \n",
       "1                          0.08604         0.085  1036993   \n",
       "2                          0.08572         0.085  1003495   \n",
       "\n",
       "  Real_empaque_calculado  Debe_ser_empaque_calculado  Diferencia_calculado  \\\n",
       "0               1450.512                      1440.0                10.512   \n",
       "1                412.992                       408.0                 4.992   \n",
       "2                205.728                       204.0                 1.728   \n",
       "\n",
       "   Sobrepeso_calculado  Costo/kg   Meta  Ahorros/Perdidas  \n",
       "0             0.007300   97977.0  0.015      1.094299e+06  \n",
       "1             0.012235   55498.0  0.015      6.336769e+04  \n",
       "2             0.008471   55498.0  0.015      7.454951e+04  \n",
       "\n",
       "[3 rows x 21 columns]"
      ]
     },
     "execution_count": 295,
     "metadata": {},
     "output_type": "execute_result"
    }
   ],
   "source": [
    "df_Env_Sol_2['Ahorros/Perdidas'] = (df_Env_Sol_2['Meta'] - df_Env_Sol_2['Sobrepeso_calculado']) * df_Env_Sol_2['Real_empaque_calculado'] * df_Env_Sol_2['Costo/kg']\n",
    "df_Env_Sol_2.head(3)"
   ]
  },
  {
   "cell_type": "markdown",
   "metadata": {
    "id": "Efu4zCLFV1An"
   },
   "source": [
    "**Unión de los DataFrames en un DataFrame totalizado**"
   ]
  },
  {
   "cell_type": "code",
   "execution_count": 296,
   "metadata": {
    "executionInfo": {
     "elapsed": 41,
     "status": "ok",
     "timestamp": 1751892448687,
     "user": {
      "displayName": "Melanny Herrera Arenas",
      "userId": "10791965058209715546"
     },
     "user_tz": 300
    },
    "id": "Xi75dR9pLxtY"
   },
   "outputs": [],
   "source": [
    "df_totalizado_Mes = df_Env_Sol_Mes.copy(deep=True)"
   ]
  },
  {
   "cell_type": "code",
   "execution_count": 297,
   "metadata": {
    "colab": {
     "base_uri": "https://localhost:8080/",
     "height": 223
    },
    "executionInfo": {
     "elapsed": 61,
     "status": "ok",
     "timestamp": 1751892448746,
     "user": {
      "displayName": "Melanny Herrera Arenas",
      "userId": "10791965058209715546"
     },
     "user_tz": 300
    },
    "id": "oI-z3FCOLxqu",
    "outputId": "b8b30fba-6d73-44a7-feda-430332fd1925"
   },
   "outputs": [
    {
     "data": {
      "text/html": [
       "<div>\n",
       "<style scoped>\n",
       "    .dataframe tbody tr th:only-of-type {\n",
       "        vertical-align: middle;\n",
       "    }\n",
       "\n",
       "    .dataframe tbody tr th {\n",
       "        vertical-align: top;\n",
       "    }\n",
       "\n",
       "    .dataframe thead th {\n",
       "        text-align: right;\n",
       "    }\n",
       "</style>\n",
       "<table border=\"1\" class=\"dataframe\">\n",
       "  <thead>\n",
       "    <tr style=\"text-align: right;\">\n",
       "      <th></th>\n",
       "      <th>Año:</th>\n",
       "      <th>Mes:</th>\n",
       "      <th>Codigo</th>\n",
       "      <th>Máquina / Equipo:</th>\n",
       "      <th>Debe_ser_empaque_calculado</th>\n",
       "      <th>Diferencia_calculado</th>\n",
       "      <th>Gramaje (K):</th>\n",
       "      <th>Peso Promedio de la unidad (K):</th>\n",
       "      <th>Real_empaque_calculado</th>\n",
       "      <th>Unidades Producidas (Conformes) :</th>\n",
       "    </tr>\n",
       "  </thead>\n",
       "  <tbody>\n",
       "    <tr>\n",
       "      <th>1085</th>\n",
       "      <td>2025</td>\n",
       "      <td>Abril</td>\n",
       "      <td>1003350</td>\n",
       "      <td>Linea A</td>\n",
       "      <td>22484.50</td>\n",
       "      <td>185.75026</td>\n",
       "      <td>0.250</td>\n",
       "      <td>0.252270</td>\n",
       "      <td>22670.25026</td>\n",
       "      <td>89938.0</td>\n",
       "    </tr>\n",
       "    <tr>\n",
       "      <th>1086</th>\n",
       "      <td>2025</td>\n",
       "      <td>Abril</td>\n",
       "      <td>1003351</td>\n",
       "      <td>Linea B</td>\n",
       "      <td>5203.20</td>\n",
       "      <td>48.75888</td>\n",
       "      <td>0.050</td>\n",
       "      <td>0.050573</td>\n",
       "      <td>5251.95888</td>\n",
       "      <td>104064.0</td>\n",
       "    </tr>\n",
       "    <tr>\n",
       "      <th>1087</th>\n",
       "      <td>2025</td>\n",
       "      <td>Abril</td>\n",
       "      <td>1003353</td>\n",
       "      <td>Linea A</td>\n",
       "      <td>29008.80</td>\n",
       "      <td>357.85848</td>\n",
       "      <td>0.170</td>\n",
       "      <td>0.171725</td>\n",
       "      <td>29366.65848</td>\n",
       "      <td>170640.0</td>\n",
       "    </tr>\n",
       "    <tr>\n",
       "      <th>1088</th>\n",
       "      <td>2025</td>\n",
       "      <td>Abril</td>\n",
       "      <td>1003354</td>\n",
       "      <td>Linea A</td>\n",
       "      <td>16077.24</td>\n",
       "      <td>180.40632</td>\n",
       "      <td>0.085</td>\n",
       "      <td>0.085972</td>\n",
       "      <td>16257.64632</td>\n",
       "      <td>189144.0</td>\n",
       "    </tr>\n",
       "    <tr>\n",
       "      <th>1089</th>\n",
       "      <td>2025</td>\n",
       "      <td>Abril</td>\n",
       "      <td>1003355</td>\n",
       "      <td>Linea A</td>\n",
       "      <td>3747.60</td>\n",
       "      <td>50.42544</td>\n",
       "      <td>0.050</td>\n",
       "      <td>0.050680</td>\n",
       "      <td>3798.02544</td>\n",
       "      <td>74952.0</td>\n",
       "    </tr>\n",
       "  </tbody>\n",
       "</table>\n",
       "</div>"
      ],
      "text/plain": [
       "      Año:   Mes:   Codigo Máquina / Equipo:  Debe_ser_empaque_calculado  \\\n",
       "1085  2025  Abril  1003350           Linea A                    22484.50   \n",
       "1086  2025  Abril  1003351           Linea B                     5203.20   \n",
       "1087  2025  Abril  1003353           Linea A                    29008.80   \n",
       "1088  2025  Abril  1003354           Linea A                    16077.24   \n",
       "1089  2025  Abril  1003355           Linea A                     3747.60   \n",
       "\n",
       "      Diferencia_calculado  Gramaje (K):  Peso Promedio de la unidad (K):  \\\n",
       "1085             185.75026         0.250                         0.252270   \n",
       "1086              48.75888         0.050                         0.050573   \n",
       "1087             357.85848         0.170                         0.171725   \n",
       "1088             180.40632         0.085                         0.085972   \n",
       "1089              50.42544         0.050                         0.050680   \n",
       "\n",
       "      Real_empaque_calculado  Unidades Producidas (Conformes) :  \n",
       "1085             22670.25026                            89938.0  \n",
       "1086              5251.95888                           104064.0  \n",
       "1087             29366.65848                           170640.0  \n",
       "1088             16257.64632                           189144.0  \n",
       "1089              3798.02544                            74952.0  "
      ]
     },
     "execution_count": 297,
     "metadata": {},
     "output_type": "execute_result"
    }
   ],
   "source": [
    "df_totalizado_Mes[df_totalizado_Mes['Año:'] == 2025].head()"
   ]
  },
  {
   "cell_type": "code",
   "execution_count": 298,
   "metadata": {
    "colab": {
     "base_uri": "https://localhost:8080/",
     "height": 206
    },
    "executionInfo": {
     "elapsed": 4,
     "status": "ok",
     "timestamp": 1751892448747,
     "user": {
      "displayName": "Melanny Herrera Arenas",
      "userId": "10791965058209715546"
     },
     "user_tz": 300
    },
    "id": "gdgfaHnvDUnw",
    "outputId": "34adf936-9744-411b-a860-ffe0b04828ca"
   },
   "outputs": [
    {
     "data": {
      "text/html": [
       "<div>\n",
       "<style scoped>\n",
       "    .dataframe tbody tr th:only-of-type {\n",
       "        vertical-align: middle;\n",
       "    }\n",
       "\n",
       "    .dataframe tbody tr th {\n",
       "        vertical-align: top;\n",
       "    }\n",
       "\n",
       "    .dataframe thead th {\n",
       "        text-align: right;\n",
       "    }\n",
       "</style>\n",
       "<table border=\"1\" class=\"dataframe\">\n",
       "  <thead>\n",
       "    <tr style=\"text-align: right;\">\n",
       "      <th></th>\n",
       "      <th>Año:</th>\n",
       "      <th>Mes:</th>\n",
       "      <th>Codigo</th>\n",
       "      <th>Ctd.</th>\n",
       "      <th>Impte.ML</th>\n",
       "      <th>Costo/kg</th>\n",
       "    </tr>\n",
       "  </thead>\n",
       "  <tbody>\n",
       "    <tr>\n",
       "      <th>1098</th>\n",
       "      <td>2025</td>\n",
       "      <td>Abril</td>\n",
       "      <td>1003350</td>\n",
       "      <td>23597.0</td>\n",
       "      <td>1412233256</td>\n",
       "      <td>59848.0</td>\n",
       "    </tr>\n",
       "    <tr>\n",
       "      <th>1099</th>\n",
       "      <td>2025</td>\n",
       "      <td>Abril</td>\n",
       "      <td>1003351</td>\n",
       "      <td>5297.0</td>\n",
       "      <td>339633046</td>\n",
       "      <td>64118.0</td>\n",
       "    </tr>\n",
       "    <tr>\n",
       "      <th>1100</th>\n",
       "      <td>2025</td>\n",
       "      <td>Abril</td>\n",
       "      <td>1003353</td>\n",
       "      <td>30172.0</td>\n",
       "      <td>1805733856</td>\n",
       "      <td>59848.0</td>\n",
       "    </tr>\n",
       "    <tr>\n",
       "      <th>1101</th>\n",
       "      <td>2025</td>\n",
       "      <td>Abril</td>\n",
       "      <td>1003354</td>\n",
       "      <td>16656.0</td>\n",
       "      <td>996828288</td>\n",
       "      <td>59848.0</td>\n",
       "    </tr>\n",
       "    <tr>\n",
       "      <th>1102</th>\n",
       "      <td>2025</td>\n",
       "      <td>Abril</td>\n",
       "      <td>1003355</td>\n",
       "      <td>3825.0</td>\n",
       "      <td>228918600</td>\n",
       "      <td>59848.0</td>\n",
       "    </tr>\n",
       "  </tbody>\n",
       "</table>\n",
       "</div>"
      ],
      "text/plain": [
       "      Año:   Mes:   Codigo     Ctd.    Impte.ML  Costo/kg\n",
       "1098  2025  Abril  1003350  23597.0  1412233256   59848.0\n",
       "1099  2025  Abril  1003351   5297.0   339633046   64118.0\n",
       "1100  2025  Abril  1003353  30172.0  1805733856   59848.0\n",
       "1101  2025  Abril  1003354  16656.0   996828288   59848.0\n",
       "1102  2025  Abril  1003355   3825.0   228918600   59848.0"
      ]
     },
     "execution_count": 298,
     "metadata": {},
     "output_type": "execute_result"
    }
   ],
   "source": [
    "df_costo_semi_Mes.loc[df_costo_semi_Mes['Año:'] == 2025].head()"
   ]
  },
  {
   "cell_type": "code",
   "execution_count": 299,
   "metadata": {
    "colab": {
     "base_uri": "https://localhost:8080/"
    },
    "executionInfo": {
     "elapsed": 14,
     "status": "ok",
     "timestamp": 1751892448762,
     "user": {
      "displayName": "Melanny Herrera Arenas",
      "userId": "10791965058209715546"
     },
     "user_tz": 300
    },
    "id": "ZhIScYirB6SZ",
    "outputId": "0479c1f4-0d7d-47ad-bdef-a61f55e61c76"
   },
   "outputs": [
    {
     "name": "stdout",
     "output_type": "stream",
     "text": [
      "No hay filas duplicadas.\n"
     ]
    }
   ],
   "source": [
    "fc.filas_repetidas(df_totalizado_Mes)"
   ]
  },
  {
   "cell_type": "code",
   "execution_count": 300,
   "metadata": {
    "executionInfo": {
     "elapsed": 1,
     "status": "ok",
     "timestamp": 1751892448764,
     "user": {
      "displayName": "Melanny Herrera Arenas",
      "userId": "10791965058209715546"
     },
     "user_tz": 300
    },
    "id": "T0kuIaw4Lxle"
   },
   "outputs": [],
   "source": [
    "df_totalizado_Mes = fc.unir_dataframes(df_totalizado_Mes, df_costo_semi_Mes)"
   ]
  },
  {
   "cell_type": "code",
   "execution_count": 301,
   "metadata": {
    "colab": {
     "base_uri": "https://localhost:8080/",
     "height": 275
    },
    "executionInfo": {
     "elapsed": 27,
     "status": "ok",
     "timestamp": 1751892448792,
     "user": {
      "displayName": "Melanny Herrera Arenas",
      "userId": "10791965058209715546"
     },
     "user_tz": 300
    },
    "id": "n-ZTRuWtLxea",
    "outputId": "c3c24d7d-8899-400b-d1d0-e69d03b5b609"
   },
   "outputs": [
    {
     "data": {
      "text/html": [
       "<div>\n",
       "<style scoped>\n",
       "    .dataframe tbody tr th:only-of-type {\n",
       "        vertical-align: middle;\n",
       "    }\n",
       "\n",
       "    .dataframe tbody tr th {\n",
       "        vertical-align: top;\n",
       "    }\n",
       "\n",
       "    .dataframe thead th {\n",
       "        text-align: right;\n",
       "    }\n",
       "</style>\n",
       "<table border=\"1\" class=\"dataframe\">\n",
       "  <thead>\n",
       "    <tr style=\"text-align: right;\">\n",
       "      <th></th>\n",
       "      <th>Año:</th>\n",
       "      <th>Mes:</th>\n",
       "      <th>Codigo</th>\n",
       "      <th>Máquina / Equipo:</th>\n",
       "      <th>Debe_ser_empaque_calculado</th>\n",
       "      <th>Diferencia_calculado</th>\n",
       "      <th>Gramaje (K):</th>\n",
       "      <th>Peso Promedio de la unidad (K):</th>\n",
       "      <th>Real_empaque_calculado</th>\n",
       "      <th>Unidades Producidas (Conformes) :</th>\n",
       "      <th>Ctd.</th>\n",
       "      <th>Impte.ML</th>\n",
       "    </tr>\n",
       "  </thead>\n",
       "  <tbody>\n",
       "    <tr>\n",
       "      <th>1085</th>\n",
       "      <td>2025</td>\n",
       "      <td>Abril</td>\n",
       "      <td>1003350</td>\n",
       "      <td>Linea A</td>\n",
       "      <td>22484.50</td>\n",
       "      <td>185.75026</td>\n",
       "      <td>0.250</td>\n",
       "      <td>0.252270</td>\n",
       "      <td>22670.25026</td>\n",
       "      <td>89938.0</td>\n",
       "      <td>23597.0</td>\n",
       "      <td>1.412233e+09</td>\n",
       "    </tr>\n",
       "    <tr>\n",
       "      <th>1086</th>\n",
       "      <td>2025</td>\n",
       "      <td>Abril</td>\n",
       "      <td>1003351</td>\n",
       "      <td>Linea B</td>\n",
       "      <td>5203.20</td>\n",
       "      <td>48.75888</td>\n",
       "      <td>0.050</td>\n",
       "      <td>0.050573</td>\n",
       "      <td>5251.95888</td>\n",
       "      <td>104064.0</td>\n",
       "      <td>5297.0</td>\n",
       "      <td>3.396330e+08</td>\n",
       "    </tr>\n",
       "    <tr>\n",
       "      <th>1087</th>\n",
       "      <td>2025</td>\n",
       "      <td>Abril</td>\n",
       "      <td>1003353</td>\n",
       "      <td>Linea A</td>\n",
       "      <td>29008.80</td>\n",
       "      <td>357.85848</td>\n",
       "      <td>0.170</td>\n",
       "      <td>0.171725</td>\n",
       "      <td>29366.65848</td>\n",
       "      <td>170640.0</td>\n",
       "      <td>30172.0</td>\n",
       "      <td>1.805734e+09</td>\n",
       "    </tr>\n",
       "    <tr>\n",
       "      <th>1088</th>\n",
       "      <td>2025</td>\n",
       "      <td>Abril</td>\n",
       "      <td>1003354</td>\n",
       "      <td>Linea A</td>\n",
       "      <td>16077.24</td>\n",
       "      <td>180.40632</td>\n",
       "      <td>0.085</td>\n",
       "      <td>0.085972</td>\n",
       "      <td>16257.64632</td>\n",
       "      <td>189144.0</td>\n",
       "      <td>16656.0</td>\n",
       "      <td>9.968283e+08</td>\n",
       "    </tr>\n",
       "    <tr>\n",
       "      <th>1089</th>\n",
       "      <td>2025</td>\n",
       "      <td>Abril</td>\n",
       "      <td>1003355</td>\n",
       "      <td>Linea A</td>\n",
       "      <td>3747.60</td>\n",
       "      <td>50.42544</td>\n",
       "      <td>0.050</td>\n",
       "      <td>0.050680</td>\n",
       "      <td>3798.02544</td>\n",
       "      <td>74952.0</td>\n",
       "      <td>3825.0</td>\n",
       "      <td>2.289186e+08</td>\n",
       "    </tr>\n",
       "  </tbody>\n",
       "</table>\n",
       "</div>"
      ],
      "text/plain": [
       "      Año:   Mes:   Codigo Máquina / Equipo:  Debe_ser_empaque_calculado  \\\n",
       "1085  2025  Abril  1003350           Linea A                    22484.50   \n",
       "1086  2025  Abril  1003351           Linea B                     5203.20   \n",
       "1087  2025  Abril  1003353           Linea A                    29008.80   \n",
       "1088  2025  Abril  1003354           Linea A                    16077.24   \n",
       "1089  2025  Abril  1003355           Linea A                     3747.60   \n",
       "\n",
       "      Diferencia_calculado  Gramaje (K):  Peso Promedio de la unidad (K):  \\\n",
       "1085             185.75026         0.250                         0.252270   \n",
       "1086              48.75888         0.050                         0.050573   \n",
       "1087             357.85848         0.170                         0.171725   \n",
       "1088             180.40632         0.085                         0.085972   \n",
       "1089              50.42544         0.050                         0.050680   \n",
       "\n",
       "      Real_empaque_calculado  Unidades Producidas (Conformes) :     Ctd.  \\\n",
       "1085             22670.25026                            89938.0  23597.0   \n",
       "1086              5251.95888                           104064.0   5297.0   \n",
       "1087             29366.65848                           170640.0  30172.0   \n",
       "1088             16257.64632                           189144.0  16656.0   \n",
       "1089              3798.02544                            74952.0   3825.0   \n",
       "\n",
       "          Impte.ML  \n",
       "1085  1.412233e+09  \n",
       "1086  3.396330e+08  \n",
       "1087  1.805734e+09  \n",
       "1088  9.968283e+08  \n",
       "1089  2.289186e+08  "
      ]
     },
     "execution_count": 301,
     "metadata": {},
     "output_type": "execute_result"
    }
   ],
   "source": [
    "df_totalizado_Mes[df_totalizado_Mes['Año:'] == 2025].head()"
   ]
  },
  {
   "cell_type": "code",
   "execution_count": 302,
   "metadata": {
    "colab": {
     "base_uri": "https://localhost:8080/",
     "height": 275
    },
    "executionInfo": {
     "elapsed": 46,
     "status": "ok",
     "timestamp": 1751892448856,
     "user": {
      "displayName": "Melanny Herrera Arenas",
      "userId": "10791965058209715546"
     },
     "user_tz": 300
    },
    "id": "x8dFEkujCmEn",
    "outputId": "abf0dde5-6d30-4361-e219-e5085951761d"
   },
   "outputs": [
    {
     "data": {
      "text/html": [
       "<div>\n",
       "<style scoped>\n",
       "    .dataframe tbody tr th:only-of-type {\n",
       "        vertical-align: middle;\n",
       "    }\n",
       "\n",
       "    .dataframe tbody tr th {\n",
       "        vertical-align: top;\n",
       "    }\n",
       "\n",
       "    .dataframe thead th {\n",
       "        text-align: right;\n",
       "    }\n",
       "</style>\n",
       "<table border=\"1\" class=\"dataframe\">\n",
       "  <thead>\n",
       "    <tr style=\"text-align: right;\">\n",
       "      <th></th>\n",
       "      <th>Año:</th>\n",
       "      <th>Mes:</th>\n",
       "      <th>Codigo</th>\n",
       "      <th>Máquina / Equipo:</th>\n",
       "      <th>Debe_ser_empaque_calculado</th>\n",
       "      <th>Diferencia_calculado</th>\n",
       "      <th>Gramaje (K):</th>\n",
       "      <th>Peso Promedio de la unidad (K):</th>\n",
       "      <th>Real_empaque_calculado</th>\n",
       "      <th>Unidades Producidas (Conformes) :</th>\n",
       "      <th>Ctd.</th>\n",
       "      <th>Impte.ML</th>\n",
       "    </tr>\n",
       "  </thead>\n",
       "  <tbody>\n",
       "    <tr>\n",
       "      <th>0</th>\n",
       "      <td>2024</td>\n",
       "      <td>Abril</td>\n",
       "      <td>1003350</td>\n",
       "      <td>Linea A</td>\n",
       "      <td>20901.00</td>\n",
       "      <td>204.41352</td>\n",
       "      <td>0.250</td>\n",
       "      <td>0.252471</td>\n",
       "      <td>21105.41352</td>\n",
       "      <td>83604.0</td>\n",
       "      <td>21302.0</td>\n",
       "      <td>858892520.0</td>\n",
       "    </tr>\n",
       "    <tr>\n",
       "      <th>1</th>\n",
       "      <td>2024</td>\n",
       "      <td>Abril</td>\n",
       "      <td>1003351</td>\n",
       "      <td>Linea B</td>\n",
       "      <td>4033.20</td>\n",
       "      <td>72.64944</td>\n",
       "      <td>0.050</td>\n",
       "      <td>0.050992</td>\n",
       "      <td>4105.84944</td>\n",
       "      <td>80664.0</td>\n",
       "      <td>4309.0</td>\n",
       "      <td>175979560.0</td>\n",
       "    </tr>\n",
       "    <tr>\n",
       "      <th>2</th>\n",
       "      <td>2024</td>\n",
       "      <td>Abril</td>\n",
       "      <td>1003353</td>\n",
       "      <td>Linea A</td>\n",
       "      <td>9190.20</td>\n",
       "      <td>100.21896</td>\n",
       "      <td>0.170</td>\n",
       "      <td>0.171893</td>\n",
       "      <td>9290.41896</td>\n",
       "      <td>54060.0</td>\n",
       "      <td>9636.0</td>\n",
       "      <td>357938856.0</td>\n",
       "    </tr>\n",
       "    <tr>\n",
       "      <th>3</th>\n",
       "      <td>2024</td>\n",
       "      <td>Abril</td>\n",
       "      <td>1003354</td>\n",
       "      <td>Linea A</td>\n",
       "      <td>4084.08</td>\n",
       "      <td>41.53248</td>\n",
       "      <td>0.085</td>\n",
       "      <td>0.086035</td>\n",
       "      <td>4125.61248</td>\n",
       "      <td>48048.0</td>\n",
       "      <td>4548.0</td>\n",
       "      <td>203316833.0</td>\n",
       "    </tr>\n",
       "    <tr>\n",
       "      <th>4</th>\n",
       "      <td>2024</td>\n",
       "      <td>Abril</td>\n",
       "      <td>1003355</td>\n",
       "      <td>Linea A</td>\n",
       "      <td>600.00</td>\n",
       "      <td>5.16000</td>\n",
       "      <td>0.050</td>\n",
       "      <td>0.050430</td>\n",
       "      <td>605.16000</td>\n",
       "      <td>12000.0</td>\n",
       "      <td>610.0</td>\n",
       "      <td>22659060.0</td>\n",
       "    </tr>\n",
       "  </tbody>\n",
       "</table>\n",
       "</div>"
      ],
      "text/plain": [
       "   Año:   Mes:   Codigo Máquina / Equipo:  Debe_ser_empaque_calculado  \\\n",
       "0  2024  Abril  1003350           Linea A                    20901.00   \n",
       "1  2024  Abril  1003351           Linea B                     4033.20   \n",
       "2  2024  Abril  1003353           Linea A                     9190.20   \n",
       "3  2024  Abril  1003354           Linea A                     4084.08   \n",
       "4  2024  Abril  1003355           Linea A                      600.00   \n",
       "\n",
       "   Diferencia_calculado  Gramaje (K):  Peso Promedio de la unidad (K):  \\\n",
       "0             204.41352         0.250                         0.252471   \n",
       "1              72.64944         0.050                         0.050992   \n",
       "2             100.21896         0.170                         0.171893   \n",
       "3              41.53248         0.085                         0.086035   \n",
       "4               5.16000         0.050                         0.050430   \n",
       "\n",
       "   Real_empaque_calculado  Unidades Producidas (Conformes) :     Ctd.  \\\n",
       "0             21105.41352                            83604.0  21302.0   \n",
       "1              4105.84944                            80664.0   4309.0   \n",
       "2              9290.41896                            54060.0   9636.0   \n",
       "3              4125.61248                            48048.0   4548.0   \n",
       "4               605.16000                            12000.0    610.0   \n",
       "\n",
       "      Impte.ML  \n",
       "0  858892520.0  \n",
       "1  175979560.0  \n",
       "2  357938856.0  \n",
       "3  203316833.0  \n",
       "4   22659060.0  "
      ]
     },
     "execution_count": 302,
     "metadata": {},
     "output_type": "execute_result"
    }
   ],
   "source": [
    "df_totalizado_Mes.head()"
   ]
  },
  {
   "cell_type": "code",
   "execution_count": 303,
   "metadata": {
    "executionInfo": {
     "elapsed": 3,
     "status": "ok",
     "timestamp": 1751892448861,
     "user": {
      "displayName": "Melanny Herrera Arenas",
      "userId": "10791965058209715546"
     },
     "user_tz": 300
    },
    "id": "ePyjyZ2dHE5Q"
   },
   "outputs": [],
   "source": [
    "df_totalizado_Mes = fc.calcular_columnas_totalizado(df_totalizado_Mes, 0.015)"
   ]
  },
  {
   "cell_type": "code",
   "execution_count": 304,
   "metadata": {
    "colab": {
     "base_uri": "https://localhost:8080/",
     "height": 295
    },
    "executionInfo": {
     "elapsed": 52,
     "status": "ok",
     "timestamp": 1751892448912,
     "user": {
      "displayName": "Melanny Herrera Arenas",
      "userId": "10791965058209715546"
     },
     "user_tz": 300
    },
    "id": "Iqy9YoO9Cl99",
    "outputId": "9b7320ca-ba29-48be-b69d-60f84c8757a0"
   },
   "outputs": [
    {
     "data": {
      "text/html": [
       "<div>\n",
       "<style scoped>\n",
       "    .dataframe tbody tr th:only-of-type {\n",
       "        vertical-align: middle;\n",
       "    }\n",
       "\n",
       "    .dataframe tbody tr th {\n",
       "        vertical-align: top;\n",
       "    }\n",
       "\n",
       "    .dataframe thead th {\n",
       "        text-align: right;\n",
       "    }\n",
       "</style>\n",
       "<table border=\"1\" class=\"dataframe\">\n",
       "  <thead>\n",
       "    <tr style=\"text-align: right;\">\n",
       "      <th></th>\n",
       "      <th>Año:</th>\n",
       "      <th>Mes:</th>\n",
       "      <th>Codigo</th>\n",
       "      <th>Máquina / Equipo:</th>\n",
       "      <th>Debe_ser_empaque_calculado</th>\n",
       "      <th>Diferencia_calculado</th>\n",
       "      <th>Gramaje (K):</th>\n",
       "      <th>Peso Promedio de la unidad (K):</th>\n",
       "      <th>Real_empaque_calculado</th>\n",
       "      <th>Unidades Producidas (Conformes) :</th>\n",
       "      <th>Ctd.</th>\n",
       "      <th>Impte.ML</th>\n",
       "      <th>Real_empaque</th>\n",
       "      <th>Debe_ser_empaque</th>\n",
       "      <th>Diferencia</th>\n",
       "      <th>Sobrepeso</th>\n",
       "      <th>Meta</th>\n",
       "      <th>Costo/kg</th>\n",
       "      <th>Ahorros_Perdidas</th>\n",
       "    </tr>\n",
       "  </thead>\n",
       "  <tbody>\n",
       "    <tr>\n",
       "      <th>0</th>\n",
       "      <td>2024</td>\n",
       "      <td>Abril</td>\n",
       "      <td>1003350</td>\n",
       "      <td>Linea A</td>\n",
       "      <td>20901.00</td>\n",
       "      <td>204.41352</td>\n",
       "      <td>0.250</td>\n",
       "      <td>0.252471</td>\n",
       "      <td>21105.41352</td>\n",
       "      <td>83604.0</td>\n",
       "      <td>21302.0</td>\n",
       "      <td>858892520.0</td>\n",
       "      <td>21105.41352</td>\n",
       "      <td>20901.00</td>\n",
       "      <td>204.41352</td>\n",
       "      <td>0.009780</td>\n",
       "      <td>0.015</td>\n",
       "      <td>40319.806591</td>\n",
       "      <td>4.441973e+06</td>\n",
       "    </tr>\n",
       "    <tr>\n",
       "      <th>1</th>\n",
       "      <td>2024</td>\n",
       "      <td>Abril</td>\n",
       "      <td>1003351</td>\n",
       "      <td>Linea B</td>\n",
       "      <td>4033.20</td>\n",
       "      <td>72.64944</td>\n",
       "      <td>0.050</td>\n",
       "      <td>0.050992</td>\n",
       "      <td>4105.84944</td>\n",
       "      <td>80664.0</td>\n",
       "      <td>4309.0</td>\n",
       "      <td>175979560.0</td>\n",
       "      <td>4105.84944</td>\n",
       "      <td>4033.20</td>\n",
       "      <td>72.64944</td>\n",
       "      <td>0.018013</td>\n",
       "      <td>0.015</td>\n",
       "      <td>40840.000000</td>\n",
       "      <td>-5.052040e+05</td>\n",
       "    </tr>\n",
       "    <tr>\n",
       "      <th>2</th>\n",
       "      <td>2024</td>\n",
       "      <td>Abril</td>\n",
       "      <td>1003353</td>\n",
       "      <td>Linea A</td>\n",
       "      <td>9190.20</td>\n",
       "      <td>100.21896</td>\n",
       "      <td>0.170</td>\n",
       "      <td>0.171893</td>\n",
       "      <td>9290.41896</td>\n",
       "      <td>54060.0</td>\n",
       "      <td>9636.0</td>\n",
       "      <td>357938856.0</td>\n",
       "      <td>9290.41896</td>\n",
       "      <td>9190.20</td>\n",
       "      <td>100.21896</td>\n",
       "      <td>0.010905</td>\n",
       "      <td>0.015</td>\n",
       "      <td>37146.000000</td>\n",
       "      <td>1.413199e+06</td>\n",
       "    </tr>\n",
       "    <tr>\n",
       "      <th>3</th>\n",
       "      <td>2024</td>\n",
       "      <td>Abril</td>\n",
       "      <td>1003354</td>\n",
       "      <td>Linea A</td>\n",
       "      <td>4084.08</td>\n",
       "      <td>41.53248</td>\n",
       "      <td>0.085</td>\n",
       "      <td>0.086035</td>\n",
       "      <td>4125.61248</td>\n",
       "      <td>48048.0</td>\n",
       "      <td>4548.0</td>\n",
       "      <td>203316833.0</td>\n",
       "      <td>4125.61248</td>\n",
       "      <td>4084.08</td>\n",
       "      <td>41.53248</td>\n",
       "      <td>0.010169</td>\n",
       "      <td>0.015</td>\n",
       "      <td>44704.668646</td>\n",
       "      <td>8.909349e+05</td>\n",
       "    </tr>\n",
       "    <tr>\n",
       "      <th>4</th>\n",
       "      <td>2024</td>\n",
       "      <td>Abril</td>\n",
       "      <td>1003355</td>\n",
       "      <td>Linea A</td>\n",
       "      <td>600.00</td>\n",
       "      <td>5.16000</td>\n",
       "      <td>0.050</td>\n",
       "      <td>0.050430</td>\n",
       "      <td>605.16000</td>\n",
       "      <td>12000.0</td>\n",
       "      <td>610.0</td>\n",
       "      <td>22659060.0</td>\n",
       "      <td>605.16000</td>\n",
       "      <td>600.00</td>\n",
       "      <td>5.16000</td>\n",
       "      <td>0.008600</td>\n",
       "      <td>0.015</td>\n",
       "      <td>37146.000000</td>\n",
       "      <td>1.438673e+05</td>\n",
       "    </tr>\n",
       "  </tbody>\n",
       "</table>\n",
       "</div>"
      ],
      "text/plain": [
       "   Año:   Mes:   Codigo Máquina / Equipo:  Debe_ser_empaque_calculado  \\\n",
       "0  2024  Abril  1003350           Linea A                    20901.00   \n",
       "1  2024  Abril  1003351           Linea B                     4033.20   \n",
       "2  2024  Abril  1003353           Linea A                     9190.20   \n",
       "3  2024  Abril  1003354           Linea A                     4084.08   \n",
       "4  2024  Abril  1003355           Linea A                      600.00   \n",
       "\n",
       "   Diferencia_calculado  Gramaje (K):  Peso Promedio de la unidad (K):  \\\n",
       "0             204.41352         0.250                         0.252471   \n",
       "1              72.64944         0.050                         0.050992   \n",
       "2             100.21896         0.170                         0.171893   \n",
       "3              41.53248         0.085                         0.086035   \n",
       "4               5.16000         0.050                         0.050430   \n",
       "\n",
       "   Real_empaque_calculado  Unidades Producidas (Conformes) :     Ctd.  \\\n",
       "0             21105.41352                            83604.0  21302.0   \n",
       "1              4105.84944                            80664.0   4309.0   \n",
       "2              9290.41896                            54060.0   9636.0   \n",
       "3              4125.61248                            48048.0   4548.0   \n",
       "4               605.16000                            12000.0    610.0   \n",
       "\n",
       "      Impte.ML  Real_empaque  Debe_ser_empaque  Diferencia  Sobrepeso   Meta  \\\n",
       "0  858892520.0   21105.41352          20901.00   204.41352   0.009780  0.015   \n",
       "1  175979560.0    4105.84944           4033.20    72.64944   0.018013  0.015   \n",
       "2  357938856.0    9290.41896           9190.20   100.21896   0.010905  0.015   \n",
       "3  203316833.0    4125.61248           4084.08    41.53248   0.010169  0.015   \n",
       "4   22659060.0     605.16000            600.00     5.16000   0.008600  0.015   \n",
       "\n",
       "       Costo/kg  Ahorros_Perdidas  \n",
       "0  40319.806591      4.441973e+06  \n",
       "1  40840.000000     -5.052040e+05  \n",
       "2  37146.000000      1.413199e+06  \n",
       "3  44704.668646      8.909349e+05  \n",
       "4  37146.000000      1.438673e+05  "
      ]
     },
     "execution_count": 304,
     "metadata": {},
     "output_type": "execute_result"
    }
   ],
   "source": [
    "df_totalizado_Mes.head()"
   ]
  },
  {
   "cell_type": "code",
   "execution_count": 305,
   "metadata": {
    "executionInfo": {
     "elapsed": 3,
     "status": "ok",
     "timestamp": 1751892448941,
     "user": {
      "displayName": "Melanny Herrera Arenas",
      "userId": "10791965058209715546"
     },
     "user_tz": 300
    },
    "id": "dGzMpuLaHg2b"
   },
   "outputs": [],
   "source": [
    "#Eliminar el Codigo 1055015 tomando su indice\n",
    "indices_to_drop = df_totalizado_Mes[(df_totalizado_Mes['Codigo'] == \"1055015\")].index\n",
    "df_totalizado_Mes.drop(indices_to_drop, inplace=True)"
   ]
  },
  {
   "cell_type": "code",
   "execution_count": 306,
   "metadata": {
    "colab": {
     "base_uri": "https://localhost:8080/",
     "height": 295
    },
    "executionInfo": {
     "elapsed": 51,
     "status": "ok",
     "timestamp": 1751892449015,
     "user": {
      "displayName": "Melanny Herrera Arenas",
      "userId": "10791965058209715546"
     },
     "user_tz": 300
    },
    "id": "BLninjnwCl60",
    "outputId": "72b4534c-9654-426c-a4c3-486c7d361a67"
   },
   "outputs": [
    {
     "data": {
      "text/html": [
       "<div>\n",
       "<style scoped>\n",
       "    .dataframe tbody tr th:only-of-type {\n",
       "        vertical-align: middle;\n",
       "    }\n",
       "\n",
       "    .dataframe tbody tr th {\n",
       "        vertical-align: top;\n",
       "    }\n",
       "\n",
       "    .dataframe thead th {\n",
       "        text-align: right;\n",
       "    }\n",
       "</style>\n",
       "<table border=\"1\" class=\"dataframe\">\n",
       "  <thead>\n",
       "    <tr style=\"text-align: right;\">\n",
       "      <th></th>\n",
       "      <th>Año:</th>\n",
       "      <th>Mes:</th>\n",
       "      <th>Codigo</th>\n",
       "      <th>Máquina / Equipo:</th>\n",
       "      <th>Debe_ser_empaque_calculado</th>\n",
       "      <th>Diferencia_calculado</th>\n",
       "      <th>Gramaje (K):</th>\n",
       "      <th>Peso Promedio de la unidad (K):</th>\n",
       "      <th>Real_empaque_calculado</th>\n",
       "      <th>Unidades Producidas (Conformes) :</th>\n",
       "      <th>Ctd.</th>\n",
       "      <th>Impte.ML</th>\n",
       "      <th>Real_empaque</th>\n",
       "      <th>Debe_ser_empaque</th>\n",
       "      <th>Diferencia</th>\n",
       "      <th>Sobrepeso</th>\n",
       "      <th>Meta</th>\n",
       "      <th>Costo/kg</th>\n",
       "      <th>Ahorros_Perdidas</th>\n",
       "    </tr>\n",
       "  </thead>\n",
       "  <tbody>\n",
       "    <tr>\n",
       "      <th>0</th>\n",
       "      <td>2024</td>\n",
       "      <td>Abril</td>\n",
       "      <td>1003350</td>\n",
       "      <td>Linea A</td>\n",
       "      <td>20901.00</td>\n",
       "      <td>204.41352</td>\n",
       "      <td>0.250</td>\n",
       "      <td>0.252471</td>\n",
       "      <td>21105.41352</td>\n",
       "      <td>83604.0</td>\n",
       "      <td>21302.0</td>\n",
       "      <td>858892520.0</td>\n",
       "      <td>21105.41352</td>\n",
       "      <td>20901.00</td>\n",
       "      <td>204.41352</td>\n",
       "      <td>0.009780</td>\n",
       "      <td>0.015</td>\n",
       "      <td>40319.806591</td>\n",
       "      <td>4.441973e+06</td>\n",
       "    </tr>\n",
       "    <tr>\n",
       "      <th>1</th>\n",
       "      <td>2024</td>\n",
       "      <td>Abril</td>\n",
       "      <td>1003351</td>\n",
       "      <td>Linea B</td>\n",
       "      <td>4033.20</td>\n",
       "      <td>72.64944</td>\n",
       "      <td>0.050</td>\n",
       "      <td>0.050992</td>\n",
       "      <td>4105.84944</td>\n",
       "      <td>80664.0</td>\n",
       "      <td>4309.0</td>\n",
       "      <td>175979560.0</td>\n",
       "      <td>4105.84944</td>\n",
       "      <td>4033.20</td>\n",
       "      <td>72.64944</td>\n",
       "      <td>0.018013</td>\n",
       "      <td>0.015</td>\n",
       "      <td>40840.000000</td>\n",
       "      <td>-5.052040e+05</td>\n",
       "    </tr>\n",
       "    <tr>\n",
       "      <th>2</th>\n",
       "      <td>2024</td>\n",
       "      <td>Abril</td>\n",
       "      <td>1003353</td>\n",
       "      <td>Linea A</td>\n",
       "      <td>9190.20</td>\n",
       "      <td>100.21896</td>\n",
       "      <td>0.170</td>\n",
       "      <td>0.171893</td>\n",
       "      <td>9290.41896</td>\n",
       "      <td>54060.0</td>\n",
       "      <td>9636.0</td>\n",
       "      <td>357938856.0</td>\n",
       "      <td>9290.41896</td>\n",
       "      <td>9190.20</td>\n",
       "      <td>100.21896</td>\n",
       "      <td>0.010905</td>\n",
       "      <td>0.015</td>\n",
       "      <td>37146.000000</td>\n",
       "      <td>1.413199e+06</td>\n",
       "    </tr>\n",
       "    <tr>\n",
       "      <th>3</th>\n",
       "      <td>2024</td>\n",
       "      <td>Abril</td>\n",
       "      <td>1003354</td>\n",
       "      <td>Linea A</td>\n",
       "      <td>4084.08</td>\n",
       "      <td>41.53248</td>\n",
       "      <td>0.085</td>\n",
       "      <td>0.086035</td>\n",
       "      <td>4125.61248</td>\n",
       "      <td>48048.0</td>\n",
       "      <td>4548.0</td>\n",
       "      <td>203316833.0</td>\n",
       "      <td>4125.61248</td>\n",
       "      <td>4084.08</td>\n",
       "      <td>41.53248</td>\n",
       "      <td>0.010169</td>\n",
       "      <td>0.015</td>\n",
       "      <td>44704.668646</td>\n",
       "      <td>8.909349e+05</td>\n",
       "    </tr>\n",
       "    <tr>\n",
       "      <th>4</th>\n",
       "      <td>2024</td>\n",
       "      <td>Abril</td>\n",
       "      <td>1003355</td>\n",
       "      <td>Linea A</td>\n",
       "      <td>600.00</td>\n",
       "      <td>5.16000</td>\n",
       "      <td>0.050</td>\n",
       "      <td>0.050430</td>\n",
       "      <td>605.16000</td>\n",
       "      <td>12000.0</td>\n",
       "      <td>610.0</td>\n",
       "      <td>22659060.0</td>\n",
       "      <td>605.16000</td>\n",
       "      <td>600.00</td>\n",
       "      <td>5.16000</td>\n",
       "      <td>0.008600</td>\n",
       "      <td>0.015</td>\n",
       "      <td>37146.000000</td>\n",
       "      <td>1.438673e+05</td>\n",
       "    </tr>\n",
       "  </tbody>\n",
       "</table>\n",
       "</div>"
      ],
      "text/plain": [
       "   Año:   Mes:   Codigo Máquina / Equipo:  Debe_ser_empaque_calculado  \\\n",
       "0  2024  Abril  1003350           Linea A                    20901.00   \n",
       "1  2024  Abril  1003351           Linea B                     4033.20   \n",
       "2  2024  Abril  1003353           Linea A                     9190.20   \n",
       "3  2024  Abril  1003354           Linea A                     4084.08   \n",
       "4  2024  Abril  1003355           Linea A                      600.00   \n",
       "\n",
       "   Diferencia_calculado  Gramaje (K):  Peso Promedio de la unidad (K):  \\\n",
       "0             204.41352         0.250                         0.252471   \n",
       "1              72.64944         0.050                         0.050992   \n",
       "2             100.21896         0.170                         0.171893   \n",
       "3              41.53248         0.085                         0.086035   \n",
       "4               5.16000         0.050                         0.050430   \n",
       "\n",
       "   Real_empaque_calculado  Unidades Producidas (Conformes) :     Ctd.  \\\n",
       "0             21105.41352                            83604.0  21302.0   \n",
       "1              4105.84944                            80664.0   4309.0   \n",
       "2              9290.41896                            54060.0   9636.0   \n",
       "3              4125.61248                            48048.0   4548.0   \n",
       "4               605.16000                            12000.0    610.0   \n",
       "\n",
       "      Impte.ML  Real_empaque  Debe_ser_empaque  Diferencia  Sobrepeso   Meta  \\\n",
       "0  858892520.0   21105.41352          20901.00   204.41352   0.009780  0.015   \n",
       "1  175979560.0    4105.84944           4033.20    72.64944   0.018013  0.015   \n",
       "2  357938856.0    9290.41896           9190.20   100.21896   0.010905  0.015   \n",
       "3  203316833.0    4125.61248           4084.08    41.53248   0.010169  0.015   \n",
       "4   22659060.0     605.16000            600.00     5.16000   0.008600  0.015   \n",
       "\n",
       "       Costo/kg  Ahorros_Perdidas  \n",
       "0  40319.806591      4.441973e+06  \n",
       "1  40840.000000     -5.052040e+05  \n",
       "2  37146.000000      1.413199e+06  \n",
       "3  44704.668646      8.909349e+05  \n",
       "4  37146.000000      1.438673e+05  "
      ]
     },
     "execution_count": 306,
     "metadata": {},
     "output_type": "execute_result"
    }
   ],
   "source": [
    "df_totalizado_Mes.head()"
   ]
  },
  {
   "cell_type": "markdown",
   "metadata": {
    "id": "YCl2ekcyHVnY"
   },
   "source": [
    "**Codigo para generar archivo de busqueda para Envase Soluble**"
   ]
  },
  {
   "cell_type": "code",
   "execution_count": null,
   "metadata": {
    "colab": {
     "base_uri": "https://localhost:8080/"
    },
    "executionInfo": {
     "elapsed": 20,
     "status": "ok",
     "timestamp": 1751892449037,
     "user": {
      "displayName": "Melanny Herrera Arenas",
      "userId": "10791965058209715546"
     },
     "user_tz": 300
    },
    "id": "Rka8eF70Clzk",
    "outputId": "c6b0691b-f344-4029-ad37-bbe654d8d1a9"
   },
   "outputs": [
    {
     "data": {
      "text/plain": [
       "array(['1050712', '1036993', '1003495', '1003354', '1035163', '1036086',\n",
       "       '1036085', '1035162', '1043503', '1003496', '1003355', '1064489',\n",
       "       '1035164', '1058635', '1003353', '1034633', '1003350', '1014989',\n",
       "       '1011228', '1058118', '1065297', '1036080', '1014990', '1014991',\n",
       "       '1064451', '1064467', '1035545', '1013910', '1035434', '1065083',\n",
       "       '1064802', '1064801', '1030755', '1003351', '1033931', '1033932',\n",
       "       '1034530', '1036089', '1034529', '1059907', '1036079', '1035538',\n",
       "       '1033009', '1003509', '1003593', '1030757', '1034632', '1023722',\n",
       "       '1059904', '1059909', '1030758', '1035468', '1032133', '1045032',\n",
       "       '1035814', '1036233', '1003757', '1065335', '1035469', '1032134',\n",
       "       '1036081', '1035544', '1035287', '1035543', '1036234', '1035815',\n",
       "       '1033008', '1035286', '1035540', '1034638', '1032596', '1047939',\n",
       "       '1003521', '1056520', '1035284', '1035285', '1035532', '1003535',\n",
       "       '1064969', '1003377', '1034794', '1035467', '1064332', '1032132',\n",
       "       '1069604', '1035533', '1003570', '1036232', '1035813', '1064331',\n",
       "       '1059906', '1013909', '1035466', '1036078', '1034154', '1014306',\n",
       "       '1034792', '1064466', '1055565', '1027720', '1014992', '1034853',\n",
       "       '1035541', '1050715', '1035549', '1044235', '1034532', '1035883',\n",
       "       '1035547', '1064333', '1064330', '1035546', '1035548', '1065764',\n",
       "       '1070899', '1071048', '1070892', '1071047', '1070900', '1070893',\n",
       "       '1070897', '1071051', '1070898', '1026524', '1057868', '1057869',\n",
       "       '1070896', '1050714', '1024586', '1070922', '1070127', '1070128',\n",
       "       '1049921', '1062103', '1071203', '1068611', '1071204', '1059902',\n",
       "       '1070419', '1005757', '1035433', '1050713', '1068362', '1003364',\n",
       "       '1072113', '1072114', '1072115', '1074283', '1008136', '1074254',\n",
       "       '1069818', '1073744', '1074236', '1073827', '1073826', '1073891',\n",
       "       '1072236', '1072237', '1075625', '1074284', '1018785', '1076641',\n",
       "       '1076939', '1069342', '1062102'], dtype=object)"
      ]
     },
     "execution_count": 307,
     "metadata": {},
     "output_type": "execute_result"
    }
   ],
   "source": [
    "#eliminar_duplicados\n",
    "df_Codigos_Env_Sol = fc.eliminar_duplicados_columna(df_Env_Sol, 'Codigo')\n",
    "df_Codigos_Env_Sol['Codigo'].unique()"
   ]
  },
  {
   "cell_type": "code",
   "execution_count": 308,
   "metadata": {
    "colab": {
     "base_uri": "https://localhost:8080/",
     "height": 206
    },
    "executionInfo": {
     "elapsed": 29,
     "status": "ok",
     "timestamp": 1751892449064,
     "user": {
      "displayName": "Melanny Herrera Arenas",
      "userId": "10791965058209715546"
     },
     "user_tz": 300
    },
    "id": "ux_oACXxClvl",
    "outputId": "4dd7b05e-130c-4fce-a595-05280ec470d7"
   },
   "outputs": [
    {
     "data": {
      "text/html": [
       "<div>\n",
       "<style scoped>\n",
       "    .dataframe tbody tr th:only-of-type {\n",
       "        vertical-align: middle;\n",
       "    }\n",
       "\n",
       "    .dataframe tbody tr th {\n",
       "        vertical-align: top;\n",
       "    }\n",
       "\n",
       "    .dataframe thead th {\n",
       "        text-align: right;\n",
       "    }\n",
       "</style>\n",
       "<table border=\"1\" class=\"dataframe\">\n",
       "  <thead>\n",
       "    <tr style=\"text-align: right;\">\n",
       "      <th></th>\n",
       "      <th>Codigo</th>\n",
       "    </tr>\n",
       "  </thead>\n",
       "  <tbody>\n",
       "    <tr>\n",
       "      <th>9773</th>\n",
       "      <td>1050712</td>\n",
       "    </tr>\n",
       "    <tr>\n",
       "      <th>9774</th>\n",
       "      <td>1036993</td>\n",
       "    </tr>\n",
       "    <tr>\n",
       "      <th>9775</th>\n",
       "      <td>1003495</td>\n",
       "    </tr>\n",
       "    <tr>\n",
       "      <th>9776</th>\n",
       "      <td>1003354</td>\n",
       "    </tr>\n",
       "    <tr>\n",
       "      <th>9781</th>\n",
       "      <td>1035163</td>\n",
       "    </tr>\n",
       "  </tbody>\n",
       "</table>\n",
       "</div>"
      ],
      "text/plain": [
       "       Codigo\n",
       "9773  1050712\n",
       "9774  1036993\n",
       "9775  1003495\n",
       "9776  1003354\n",
       "9781  1035163"
      ]
     },
     "execution_count": 308,
     "metadata": {},
     "output_type": "execute_result"
    }
   ],
   "source": [
    "df_Codigos_Env_Sol.head()"
   ]
  },
  {
   "cell_type": "code",
   "execution_count": 309,
   "metadata": {
    "colab": {
     "base_uri": "https://localhost:8080/",
     "height": 112
    },
    "executionInfo": {
     "elapsed": 5,
     "status": "ok",
     "timestamp": 1751892449067,
     "user": {
      "displayName": "Melanny Herrera Arenas",
      "userId": "10791965058209715546"
     },
     "user_tz": 300
    },
    "id": "C7rEmlTjIItb",
    "outputId": "25406690-d801-4064-ed6d-21b39601c5ec"
   },
   "outputs": [
    {
     "data": {
      "text/html": [
       "<div>\n",
       "<style scoped>\n",
       "    .dataframe tbody tr th:only-of-type {\n",
       "        vertical-align: middle;\n",
       "    }\n",
       "\n",
       "    .dataframe tbody tr th {\n",
       "        vertical-align: top;\n",
       "    }\n",
       "\n",
       "    .dataframe thead th {\n",
       "        text-align: right;\n",
       "    }\n",
       "</style>\n",
       "<table border=\"1\" class=\"dataframe\">\n",
       "  <thead>\n",
       "    <tr style=\"text-align: right;\">\n",
       "      <th></th>\n",
       "      <th>Máquina / Equipo:</th>\n",
       "    </tr>\n",
       "  </thead>\n",
       "  <tbody>\n",
       "    <tr>\n",
       "      <th>9773</th>\n",
       "      <td>Linea B</td>\n",
       "    </tr>\n",
       "    <tr>\n",
       "      <th>9774</th>\n",
       "      <td>Linea A</td>\n",
       "    </tr>\n",
       "  </tbody>\n",
       "</table>\n",
       "</div>"
      ],
      "text/plain": [
       "     Máquina / Equipo:\n",
       "9773           Linea B\n",
       "9774           Linea A"
      ]
     },
     "execution_count": 309,
     "metadata": {},
     "output_type": "execute_result"
    }
   ],
   "source": [
    "df_Maquinas_Env_Sol = fc.eliminar_duplicados_columna(df_Env_Sol, 'Máquina / Equipo:')\n",
    "df_Maquinas_Env_Sol.head()"
   ]
  },
  {
   "cell_type": "code",
   "execution_count": 310,
   "metadata": {
    "colab": {
     "base_uri": "https://localhost:8080/"
    },
    "executionInfo": {
     "elapsed": 19,
     "status": "ok",
     "timestamp": 1751892449087,
     "user": {
      "displayName": "Melanny Herrera Arenas",
      "userId": "10791965058209715546"
     },
     "user_tz": 300
    },
    "id": "y370KQ3ZClsn",
    "outputId": "da2f3a72-8608-4d1a-cc01-9839197d9aad"
   },
   "outputs": [
    {
     "data": {
      "text/plain": [
       "array(['1035434', '1050715', '1050712', '1003496', '1003495', '1033932',\n",
       "       '1036993', '1034794', '1036234', '1036079', '1036080', '1036085',\n",
       "       '1036086', '1034633', '1035164', '1035538', '1035540', '1035543',\n",
       "       '1035545', '1036089', '1035163', '1003757', '1035544', '1047939',\n",
       "       '1035162', '1003354', '1064489', '1034530', '1003521', '1003535',\n",
       "       '1034529', '1035467', '1035468', '1036232', '1064331', '1064332',\n",
       "       '1003593', '1013909', '1032132', '1032133', '1033931', '1035469',\n",
       "       '1003509', '1035466', '1035813', '1035814', '1036233', '1003570',\n",
       "       '1013910', '1032134', '1023722', '1035532', '1035533', '1055015',\n",
       "       '1036081', '1059904', '1034632', '1059902', '1003350', '1003355',\n",
       "       '1011228', '1014989', '1014990', '1014991', '1030755', '1043503',\n",
       "       '1058118', '1058635', '1064467', '1065297', '1065083', '1035284',\n",
       "       '1035285', '1035286', '1035287', '1035815', '1003351', '1003353',\n",
       "       '1030757', '1030758', '1033009', '1045032', '1059907', '1059909',\n",
       "       '1064451', '1064801', '1064802', '1065335', '1032596', '1033008',\n",
       "       '1034638', '1056520', '1036078', '1034792', '1003377', '1059906',\n",
       "       '1064969', '1069604', '1057868', '1057869', '1064333', '1064330',\n",
       "       '1035541', '1035546', '1035547', '1035548', '1035549', '1035883',\n",
       "       '1027720', '1034532', '1034853', '1064466', '1014306', '1034154',\n",
       "       '1055565', '1014992', '1065764', '1050714', '1026524', '1070898',\n",
       "       '1070897', '1070899', '1070900', '1070892', '1071051', '1071047',\n",
       "       '1071048', '1070893', '1070896', '1050713', '1049921', '1062103',\n",
       "       '1068611', '1070127', '1070128', '1070922', '1024586', '1071204',\n",
       "       '1071203', '1059901', '1070419', '1035433', '1068362', '1072113',\n",
       "       '1072114', '1072115', '1074283', '1074254', '1069818', '1073744',\n",
       "       '1073826', '1073827', '1073891', '1072236', '1072237', '1075625',\n",
       "       '1074284', '1018785', '1076641', '1076939', '1062102', '1069342'],\n",
       "      dtype=object)"
      ]
     },
     "execution_count": 310,
     "metadata": {},
     "output_type": "execute_result"
    }
   ],
   "source": [
    "df_Codigos_Env_Sol_COOISPI = fc.eliminar_duplicados_columna(df_COOISPI_COMB, 'Codigo')\n",
    "df_Codigos_Env_Sol_COOISPI['Codigo'].unique()"
   ]
  },
  {
   "cell_type": "markdown",
   "metadata": {
    "id": "tgCej1JKmubY"
   },
   "source": [
    "**Codigos que están en TPM pero no están en la COOISPI**"
   ]
  },
  {
   "cell_type": "code",
   "execution_count": 311,
   "metadata": {
    "colab": {
     "base_uri": "https://localhost:8080/",
     "height": 206
    },
    "executionInfo": {
     "elapsed": 4,
     "status": "ok",
     "timestamp": 1751892449094,
     "user": {
      "displayName": "Melanny Herrera Arenas",
      "userId": "10791965058209715546"
     },
     "user_tz": 300
    },
    "id": "krBE6oqRClme",
    "outputId": "17f82ffd-39d9-467c-9ba3-4788935078f9"
   },
   "outputs": [
    {
     "data": {
      "text/html": [
       "<div>\n",
       "<style scoped>\n",
       "    .dataframe tbody tr th:only-of-type {\n",
       "        vertical-align: middle;\n",
       "    }\n",
       "\n",
       "    .dataframe tbody tr th {\n",
       "        vertical-align: top;\n",
       "    }\n",
       "\n",
       "    .dataframe thead th {\n",
       "        text-align: right;\n",
       "    }\n",
       "</style>\n",
       "<table border=\"1\" class=\"dataframe\">\n",
       "  <thead>\n",
       "    <tr style=\"text-align: right;\">\n",
       "      <th></th>\n",
       "      <th>Codigo</th>\n",
       "    </tr>\n",
       "  </thead>\n",
       "  <tbody>\n",
       "    <tr>\n",
       "      <th>10168</th>\n",
       "      <td>1044235</td>\n",
       "    </tr>\n",
       "    <tr>\n",
       "      <th>10912</th>\n",
       "      <td>1005757</td>\n",
       "    </tr>\n",
       "    <tr>\n",
       "      <th>11421</th>\n",
       "      <td>1003364</td>\n",
       "    </tr>\n",
       "    <tr>\n",
       "      <th>12095</th>\n",
       "      <td>1008136</td>\n",
       "    </tr>\n",
       "    <tr>\n",
       "      <th>12340</th>\n",
       "      <td>1074236</td>\n",
       "    </tr>\n",
       "  </tbody>\n",
       "</table>\n",
       "</div>"
      ],
      "text/plain": [
       "        Codigo\n",
       "10168  1044235\n",
       "10912  1005757\n",
       "11421  1003364\n",
       "12095  1008136\n",
       "12340  1074236"
      ]
     },
     "execution_count": 311,
     "metadata": {},
     "output_type": "execute_result"
    }
   ],
   "source": [
    "df_Env_Sol_Codigos_unicos = df_Codigos_Env_Sol[~df_Codigos_Env_Sol['Codigo'].isin(df_Codigos_Env_Sol_COOISPI['Codigo'])]\n",
    "df_Env_Sol_Codigos_unicos.head()"
   ]
  },
  {
   "cell_type": "markdown",
   "metadata": {
    "id": "BU348q4DojP4"
   },
   "source": [
    "**Generación de un archivo de fechas automáticas**"
   ]
  },
  {
   "cell_type": "code",
   "execution_count": 312,
   "metadata": {
    "colab": {
     "base_uri": "https://localhost:8080/",
     "height": 206
    },
    "executionInfo": {
     "elapsed": 3,
     "status": "ok",
     "timestamp": 1751892449124,
     "user": {
      "displayName": "Melanny Herrera Arenas",
      "userId": "10791965058209715546"
     },
     "user_tz": 300
    },
    "id": "LGkNI7ceIIlD",
    "outputId": "cc375c2f-de64-435f-cfa6-4e4594caf657"
   },
   "outputs": [
    {
     "data": {
      "text/html": [
       "<div>\n",
       "<style scoped>\n",
       "    .dataframe tbody tr th:only-of-type {\n",
       "        vertical-align: middle;\n",
       "    }\n",
       "\n",
       "    .dataframe tbody tr th {\n",
       "        vertical-align: top;\n",
       "    }\n",
       "\n",
       "    .dataframe thead th {\n",
       "        text-align: right;\n",
       "    }\n",
       "</style>\n",
       "<table border=\"1\" class=\"dataframe\">\n",
       "  <thead>\n",
       "    <tr style=\"text-align: right;\">\n",
       "      <th></th>\n",
       "      <th>Fecha</th>\n",
       "    </tr>\n",
       "  </thead>\n",
       "  <tbody>\n",
       "    <tr>\n",
       "      <th>549</th>\n",
       "      <td>2025-07-03</td>\n",
       "    </tr>\n",
       "    <tr>\n",
       "      <th>550</th>\n",
       "      <td>2025-07-04</td>\n",
       "    </tr>\n",
       "    <tr>\n",
       "      <th>551</th>\n",
       "      <td>2025-07-05</td>\n",
       "    </tr>\n",
       "    <tr>\n",
       "      <th>552</th>\n",
       "      <td>2025-07-06</td>\n",
       "    </tr>\n",
       "    <tr>\n",
       "      <th>553</th>\n",
       "      <td>2025-07-07</td>\n",
       "    </tr>\n",
       "  </tbody>\n",
       "</table>\n",
       "</div>"
      ],
      "text/plain": [
       "         Fecha\n",
       "549 2025-07-03\n",
       "550 2025-07-04\n",
       "551 2025-07-05\n",
       "552 2025-07-06\n",
       "553 2025-07-07"
      ]
     },
     "execution_count": 312,
     "metadata": {},
     "output_type": "execute_result"
    }
   ],
   "source": [
    "df_Fechas = fc.generar_fechas(\"2024-01-01\")\n",
    "df_Fechas.tail()"
   ]
  },
  {
   "cell_type": "markdown",
   "metadata": {
    "id": "5t6JwhrNgcR0"
   },
   "source": [
    "**Rutas de códigos totales para definición de metas**"
   ]
  },
  {
   "cell_type": "code",
   "execution_count": 313,
   "metadata": {
    "executionInfo": {
     "elapsed": 36,
     "status": "ok",
     "timestamp": 1751892449161,
     "user": {
      "displayName": "Melanny Herrera Arenas",
      "userId": "10791965058209715546"
     },
     "user_tz": 300
    },
    "id": "NNZ2utntgccS"
   },
   "outputs": [],
   "source": [
    "df_pivot_Codigos.to_excel(r'G:\\.shortcut-targets-by-id\\1rqpfbdZ6z51epFv6ZwognhckW7HqBMjN\\SIRI_2024_INFORMES_SOBREPESO\\INFORME_ENVASE_SOLUBLE_MEDELLIN\\Codigos_Totales.xlsx', sheet_name='Hoja1', index=False)"
   ]
  },
  {
   "cell_type": "code",
   "execution_count": null,
   "metadata": {
    "colab": {
     "base_uri": "https://localhost:8080/"
    },
    "executionInfo": {
     "elapsed": 29,
     "status": "ok",
     "timestamp": 1751892449192,
     "user": {
      "displayName": "Melanny Herrera Arenas",
      "userId": "10791965058209715546"
     },
     "user_tz": 300
    },
    "id": "7XA4C6_VyvWr",
    "outputId": "09411d2b-b573-4fc2-9384-291596a0c2a2"
   },
   "outputs": [
    {
     "name": "stdout",
     "output_type": "stream",
     "text": [
      "(165, 1)\n",
      "(2, 1)\n",
      "(554, 1)\n",
      "(4674, 21)\n",
      "\n",
      "(0, 18)\n",
      "(0, 14)\n",
      "(5, 1)\n",
      "(0, 14)\n",
      "(0, 13)\n",
      "\n",
      "(4674, 21)\n",
      "(4674, 5)\n",
      "(7110, 37)\n",
      "(7110, 34)\n",
      "(972, 5)\n",
      "(81, 15)\n",
      "(171, 15)\n"
     ]
    }
   ],
   "source": [
    "# # print(df_Env_Sol.shape)\n",
    "# # print(df_COOISPI_COMB.shape)\n",
    "# # print(df_Env_Sol_Mes.shape)\n",
    "# print(df_Codigos_Env_Sol.shape)\n",
    "# print(df_Maquinas_Env_Sol.shape)\n",
    "# # print(df_totalizado_Mes.shape)\n",
    "# print(df_Fechas.shape)\n",
    "# print(df_Env_Sol_2.shape)\n",
    "# print()\n",
    "# print(df_Env_Sol_Nov_Sobrepeso.shape)\n",
    "# print(df_Env_Sol_Codigos_nan.shape)\n",
    "# print(df_Env_Sol_Codigos_unicos.shape)\n",
    "# print(df_Env_Sol_nan_ceros.shape)\n",
    "# print(df_non_conver.shape)\n",
    "# print()\n",
    "# print(df_Env_Sol_2.shape)\n",
    "# print(df_Costo_Mp_Env_Sol.shape)\n",
    "# print(df_Cost_Finan_Mp.shape)\n",
    "# print(df_Costos_merged.shape)\n",
    "# print(df_Financiera_Mp_melted.shape)\n",
    "# print(df_Financiera_Mp.shape)\n",
    "# print(df_Costos_Mp.shape)"
   ]
  },
  {
   "cell_type": "markdown",
   "metadata": {
    "id": "oUmEQ0SIvpJp"
   },
   "source": [
    "**Consolidado csv**"
   ]
  },
  {
   "cell_type": "code",
   "execution_count": 315,
   "metadata": {
    "executionInfo": {
     "elapsed": 746,
     "status": "ok",
     "timestamp": 1751892449936,
     "user": {
      "displayName": "Melanny Herrera Arenas",
      "userId": "10791965058209715546"
     },
     "user_tz": 300
    },
    "id": "qE56RmT4voQz"
   },
   "outputs": [],
   "source": [
    "# #Ruta para consolidado df_Env_Sol_2\n",
    "# df_Env_Sol_2.to_csv(Ruta_Env_Sol + \"DB_Envase_Soluble_Out_vf.csv\", index=False)"
   ]
  },
  {
   "cell_type": "code",
   "execution_count": 316,
   "metadata": {
    "executionInfo": {
     "elapsed": 3,
     "status": "ok",
     "timestamp": 1751892449937,
     "user": {
      "displayName": "Melanny Herrera Arenas",
      "userId": "10791965058209715546"
     },
     "user_tz": 300
    },
    "id": "62tdLcoLrJnr"
   },
   "outputs": [
    {
     "name": "stdout",
     "output_type": "stream",
     "text": [
      "Procesando Consolidado...\n",
      "✅ Las hojas en el Archivo de Consolidado han sido limpiadas y actualizadas correctamente.\n"
     ]
    }
   ],
   "source": [
    "#Diccionario de hojas para el archivo de consolidado\n",
    "dataframes_consolidado = {\n",
    "    # \"Hoja1\": df_Env_Sol,\n",
    "    # \"Hoja2\": df_COOISPI_COMB,\n",
    "    # \"Hoja3\": df_Env_Sol_Mes,\n",
    "    \"Hoja4\": df_Codigos_Env_Sol,\n",
    "    \"Hoja5\": df_Maquinas_Env_Sol,\n",
    "    # \"Hoja6\": df_totalizado_Mes,\n",
    "    \"Hoja7\": df_Fechas,\n",
    "    \"Hoja8\": df_Env_Sol_2\n",
    "}\n",
    "#Actualizar hojas del excel de Consolidado_V2\n",
    "fc.actualizar_hojas_excel(Ruta_Consolidados, dataframes_consolidado)"
   ]
  },
  {
   "cell_type": "markdown",
   "metadata": {
    "id": "uCw7so8mtFi4"
   },
   "source": [
    "**Archivo de novedades: este archivo compila las diferentes novedades presentes en los archivos de TPM**"
   ]
  },
  {
   "cell_type": "code",
   "execution_count": null,
   "metadata": {
    "executionInfo": {
     "elapsed": 14,
     "status": "ok",
     "timestamp": 1751892519302,
     "user": {
      "displayName": "Melanny Herrera Arenas",
      "userId": "10791965058209715546"
     },
     "user_tz": 300
    },
    "id": "VDj5wiJswero"
   },
   "outputs": [
    {
     "name": "stdout",
     "output_type": "stream",
     "text": [
      "Procesando Novedades...\n",
      "✅ El Archivo de Novedades guardado exitosamente con 5 hojas guardadas correctamente.\n"
     ]
    }
   ],
   "source": [
    "#Diccionario de hojas para el archivo de novedades\n",
    "dataframes_novedades = {\n",
    "    \"Sobrepeso mayor  50%\": df_Env_Sol_Nov_Sobrepeso,          #Novedades de sobrepeso\n",
    "    \"Codigos Nulo TPM\": df_Env_Sol_Codigos_nan,                #Novedades codigos nulos\n",
    "    \"Codigos unicos en TPM\": df_Env_Sol_Codigos_unicos,        #Codigos presentes es TPM y no en la COOISPI\n",
    "    \"Codigos NA,Vacio, 0\": df_Env_Sol_nan_ceros,               #Valores nulos o ceros para gramaje, unidades producidas y promedio peso unidad\n",
    "    \"Errores\": df_non_conver,                                  #Valores no convertibles (NaN)\n",
    "}\n",
    "#Guardar el archivo de Novedades\n",
    "fc.crear_archivo_novedades(Ruta_Novedades, dataframes_novedades)"
   ]
  }
 ],
 "metadata": {
  "colab": {
   "authorship_tag": "ABX9TyN/kWgInuTPCa/SwxySeC9I",
   "mount_file_id": "1AFU8F-j9viI__o2sP1Vj50nvjzltKR-c",
   "provenance": []
  },
  "kernelspec": {
   "display_name": "Python 3",
   "name": "python3"
  },
  "language_info": {
   "codemirror_mode": {
    "name": "ipython",
    "version": 3
   },
   "file_extension": ".py",
   "mimetype": "text/x-python",
   "name": "python",
   "nbconvert_exporter": "python",
   "pygments_lexer": "ipython3",
   "version": "3.13.2"
  }
 },
 "nbformat": 4,
 "nbformat_minor": 0
}
