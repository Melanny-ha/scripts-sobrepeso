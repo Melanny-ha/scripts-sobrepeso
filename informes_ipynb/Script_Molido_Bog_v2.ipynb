{
 "cells": [
  {
   "cell_type": "code",
   "execution_count": 321,
   "metadata": {
    "executionInfo": {
     "elapsed": 16,
     "status": "ok",
     "timestamp": 1752773859946,
     "user": {
      "displayName": "Melanny Herrera Arenas",
      "userId": "10791965058209715546"
     },
     "user_tz": 300
    },
    "id": "h3ZrqA179y33"
   },
   "outputs": [],
   "source": [
    "import os\n",
    "import pandas as pd\n",
    "import warnings\n",
    "import funciones_tpm as fc"
   ]
  },
  {
   "cell_type": "code",
   "execution_count": 322,
   "metadata": {},
   "outputs": [],
   "source": [
    "#Ocultar advertencias/warnings mas no los borra\n",
    "warnings.filterwarnings(\"ignore\", category=pd.errors.DtypeWarning)"
   ]
  },
  {
   "cell_type": "code",
   "execution_count": 323,
   "metadata": {},
   "outputs": [],
   "source": [
    "#Año evaluado\n",
    "Añoeval = 2025"
   ]
  },
  {
   "cell_type": "markdown",
   "metadata": {
    "id": "XWz1gdoINP2I"
   },
   "source": [
    "**Variables globales de las rutas necesarias**"
   ]
  },
  {
   "cell_type": "code",
   "execution_count": 324,
   "metadata": {
    "colab": {
     "base_uri": "https://localhost:8080/"
    },
    "executionInfo": {
     "elapsed": 10,
     "status": "ok",
     "timestamp": 1752773861177,
     "user": {
      "displayName": "Melanny Herrera Arenas",
      "userId": "10791965058209715546"
     },
     "user_tz": 300
    },
    "id": "toFUSg5VLflX",
    "outputId": "c998ec15-6cf5-40b4-e0a6-c6ad2ed8c69c"
   },
   "outputs": [
    {
     "name": "stdout",
     "output_type": "stream",
     "text": [
      "Ruta 'Ruta_COOISPI' encontrada.\n",
      "Ruta 'df_Sobrepeso_2024' encontrada.\n",
      "Ruta 'df_Sobrepeso_2025' encontrada.\n",
      "Ruta 'Ruta_Novedades' encontrada.\n",
      "Ruta 'Ruta_Consolidados' encontrada.\n"
     ]
    }
   ],
   "source": [
    "#Rutas del archivo de la COOISPI\n",
    "Ruta_COOISPI = r'\\\\10.28.5.232\\s3-1colcafeci-servicios-jtc\\TPM\\Colcafé Formularios\\BD Sobrepeso\\COOISPI\\Datos_COOISPI_Molido_Bog.csv'\n",
    "\n",
    "#Rutas del archivo del EGE\n",
    "df_Sobrepeso_2024 = r\"G:\\.shortcut-targets-by-id\\1bHqTZkqHanfKuGXtnbSPppx42ejuve5I\\SOBREPESO BOGOTÁ\\Informe control de proceso 2024.xlsx\"\n",
    "# df_Sobrepeso_2024_S1 = \"/content/drive/MyDrive/SOBREPESO BOGOTÁ/Informe control de proceso Primer Semestre 2024.xlsx\"\n",
    "# df_Sobrepeso_2024_S2 = \"/content/drive/MyDrive/SOBREPESO BOGOTÁ/Informe control de proceso Segundo Semestre 2024.xlsm\"\n",
    "\n",
    "df_Sobrepeso_2025 = r\"G:\\.shortcut-targets-by-id\\1bHqTZkqHanfKuGXtnbSPppx42ejuve5I\\SOBREPESO BOGOTÁ\\Informes control de proceso 2025.xlsm\"\n",
    "\n",
    "#Rutas del archivo de Novedades\n",
    "Ruta_Novedades = r'\\\\10.28.5.232\\s3-1colcafeci-servicios-jtc\\TPM\\Colcafé Formularios\\BD Sobrepeso\\Consolidados_Salones\\Molido_Bog\\Molido_Bog_Novedades_V2.xlsx'   # Ruta del archivo de Novedades\n",
    "\n",
    "#Rutas del archivo de Consolidados\n",
    "Ruta_Consolidados = r'\\\\10.28.5.232\\s3-1colcafeci-servicios-jtc\\TPM\\Colcafé Formularios\\BD Sobrepeso\\Consolidados_Salones\\Molido_Bog\\Consolidado_V2.xlsx'      # Ruta del archivo de Consolidados\n",
    "\n",
    "\n",
    "#Validacion de existencia de las rutas\n",
    "for nombre, ruta in {\n",
    "    \"Ruta_COOISPI\": Ruta_COOISPI,\n",
    "    \"df_Sobrepeso_2024\": df_Sobrepeso_2024,\n",
    "    \"df_Sobrepeso_2025\": df_Sobrepeso_2025,\n",
    "    \"Ruta_Novedades\": Ruta_Novedades,\n",
    "    \"Ruta_Consolidados\": Ruta_Consolidados\n",
    "}.items():\n",
    "  if not os.path.exists(ruta):\n",
    "    print(f\"La ruta '{nombre}' no fue encontrada.\")\n",
    "  else:\n",
    "    print(f\"Ruta '{nombre}' encontrada.\")"
   ]
  },
  {
   "cell_type": "code",
   "execution_count": 325,
   "metadata": {
    "executionInfo": {
     "elapsed": 5500,
     "status": "ok",
     "timestamp": 1752773866675,
     "user": {
      "displayName": "Melanny Herrera Arenas",
      "userId": "10791965058209715546"
     },
     "user_tz": 300
    },
    "id": "Tr5THPABrocN"
   },
   "outputs": [],
   "source": [
    "#leer_archivo COOISPI csv\n",
    "df_COOISPI_COMB = fc.leer_archivo(Ruta_COOISPI)\n",
    "\n",
    "df_Sobrepeso_2024_VPKS = fc.leer_archivo(df_Sobrepeso_2024, 'VPK')\n",
    "df_Sobrepeso_2024_LINEAS = fc.leer_archivo(df_Sobrepeso_2024, 'LINEAS')\n",
    "\n",
    "df_Sobrepeso_2025_VPKS = fc.leer_archivo(df_Sobrepeso_2025, 'VPKS')\n",
    "df_Sobrepeso_2025_LINEAS = fc.leer_archivo(df_Sobrepeso_2025, 'LINEAS')"
   ]
  },
  {
   "cell_type": "markdown",
   "metadata": {
    "id": "sm6GmdlUfm47"
   },
   "source": [
    "**Validación de las columnas de cada dataframe VPKS**"
   ]
  },
  {
   "cell_type": "code",
   "execution_count": 326,
   "metadata": {
    "colab": {
     "base_uri": "https://localhost:8080/"
    },
    "executionInfo": {
     "elapsed": 22,
     "status": "ok",
     "timestamp": 1752773866707,
     "user": {
      "displayName": "Melanny Herrera Arenas",
      "userId": "10791965058209715546"
     },
     "user_tz": 300
    },
    "id": "0y7SM3-lLfjA",
    "outputId": "cded7821-ede6-4ead-ff4f-caeb2325822b"
   },
   "outputs": [],
   "source": [
    "# df_Sobrepeso_2024_VPKS.columns.to_list()"
   ]
  },
  {
   "cell_type": "code",
   "execution_count": 327,
   "metadata": {
    "colab": {
     "base_uri": "https://localhost:8080/"
    },
    "executionInfo": {
     "elapsed": 41,
     "status": "ok",
     "timestamp": 1752773866751,
     "user": {
      "displayName": "Melanny Herrera Arenas",
      "userId": "10791965058209715546"
     },
     "user_tz": 300
    },
    "id": "4mlpTUcVLfgR",
    "outputId": "17e9800c-f128-4b62-cafb-fa3a0c84e594"
   },
   "outputs": [],
   "source": [
    "# df_Sobrepeso_2024_LINEAS.columns.to_list()"
   ]
  },
  {
   "cell_type": "code",
   "execution_count": 328,
   "metadata": {
    "colab": {
     "base_uri": "https://localhost:8080/"
    },
    "executionInfo": {
     "elapsed": 19,
     "status": "ok",
     "timestamp": 1752773866810,
     "user": {
      "displayName": "Melanny Herrera Arenas",
      "userId": "10791965058209715546"
     },
     "user_tz": 300
    },
    "id": "2l9CUz7AuY5b",
    "outputId": "e15f4722-bcb6-42b0-b9be-01618b9635d2"
   },
   "outputs": [],
   "source": [
    "#Equipo = Máquina\n",
    "#Material = Referencia\n",
    "columnas_df_Sobrepeso_2024_VPKS = set(df_Sobrepeso_2024_VPKS.columns)\n",
    "columnas_df_Sobrepeso_2025_VPKS = set(df_Sobrepeso_2025_VPKS.columns)\n",
    "\n",
    "iguales = columnas_df_Sobrepeso_2024_VPKS & columnas_df_Sobrepeso_2025_VPKS  #Intersección\n",
    "diferentes_df1 = columnas_df_Sobrepeso_2024_VPKS - columnas_df_Sobrepeso_2025_VPKS  #En df1 pero no en df2\n",
    "diferentes_df2 = columnas_df_Sobrepeso_2025_VPKS - columnas_df_Sobrepeso_2024_VPKS  #En df2 pero no en df1\n",
    "\n",
    "# print(\"Columnas iguales: \", iguales)\n",
    "# print(\"Columnas en df1 pero no en df2: \", diferentes_df1)\n",
    "# print(\"Columnas en df2 pero no es df1: \", diferentes_df2)"
   ]
  },
  {
   "cell_type": "code",
   "execution_count": 329,
   "metadata": {
    "executionInfo": {
     "elapsed": 4,
     "status": "ok",
     "timestamp": 1752773866817,
     "user": {
      "displayName": "Melanny Herrera Arenas",
      "userId": "10791965058209715546"
     },
     "user_tz": 300
    },
    "id": "hhTDYKpCwGqz"
   },
   "outputs": [],
   "source": [
    "df_Sobrepeso_2024_VPKS.rename(columns={'Descripcioón':'Descripción'}, inplace=True)"
   ]
  },
  {
   "cell_type": "code",
   "execution_count": 330,
   "metadata": {
    "executionInfo": {
     "elapsed": 48,
     "status": "ok",
     "timestamp": 1752773866869,
     "user": {
      "displayName": "Melanny Herrera Arenas",
      "userId": "10791965058209715546"
     },
     "user_tz": 300
    },
    "id": "cNAdLZ-pxrsL"
   },
   "outputs": [],
   "source": [
    "df_Sobrepeso_2025_VPKS.rename(columns={'Referencia': 'Material',\n",
    "                                       'Máquina':'Equipo'}, inplace=True)"
   ]
  },
  {
   "cell_type": "code",
   "execution_count": 331,
   "metadata": {
    "colab": {
     "base_uri": "https://localhost:8080/"
    },
    "executionInfo": {
     "elapsed": 48,
     "status": "ok",
     "timestamp": 1752773866872,
     "user": {
      "displayName": "Melanny Herrera Arenas",
      "userId": "10791965058209715546"
     },
     "user_tz": 300
    },
    "id": "X8Hw87itweJy",
    "outputId": "3300495b-bc12-49e6-9ce6-9f1e1e802bb5"
   },
   "outputs": [],
   "source": [
    "# df_Sobrepeso_2024_VPKS.columns"
   ]
  },
  {
   "cell_type": "code",
   "execution_count": 332,
   "metadata": {
    "colab": {
     "base_uri": "https://localhost:8080/"
    },
    "executionInfo": {
     "elapsed": 23,
     "status": "ok",
     "timestamp": 1752773866874,
     "user": {
      "displayName": "Melanny Herrera Arenas",
      "userId": "10791965058209715546"
     },
     "user_tz": 300
    },
    "id": "7tVWvW3Py2G7",
    "outputId": "dc3db45f-e6f9-41bb-8f8c-e30b400865d1"
   },
   "outputs": [],
   "source": [
    "# df_Sobrepeso_2025_VPKS.columns"
   ]
  },
  {
   "cell_type": "code",
   "execution_count": 333,
   "metadata": {
    "executionInfo": {
     "elapsed": 67,
     "status": "ok",
     "timestamp": 1752773866942,
     "user": {
      "displayName": "Melanny Herrera Arenas",
      "userId": "10791965058209715546"
     },
     "user_tz": 300
    },
    "id": "H3wSsbX1zbiq"
   },
   "outputs": [],
   "source": [
    "df_Mol_VPKS = pd.concat([df_Sobrepeso_2024_VPKS, df_Sobrepeso_2025_VPKS], ignore_index=True)"
   ]
  },
  {
   "cell_type": "code",
   "execution_count": 334,
   "metadata": {
    "colab": {
     "base_uri": "https://localhost:8080/"
    },
    "executionInfo": {
     "elapsed": 65,
     "status": "ok",
     "timestamp": 1752773866944,
     "user": {
      "displayName": "Melanny Herrera Arenas",
      "userId": "10791965058209715546"
     },
     "user_tz": 300
    },
    "id": "PpmbI77DYofz",
    "outputId": "350b8725-67bc-4002-fce1-442d7e146abb"
   },
   "outputs": [],
   "source": [
    "# df_Mol_VPKS.shape"
   ]
  },
  {
   "cell_type": "code",
   "execution_count": 335,
   "metadata": {
    "colab": {
     "base_uri": "https://localhost:8080/"
    },
    "executionInfo": {
     "elapsed": 39,
     "status": "ok",
     "timestamp": 1752773866945,
     "user": {
      "displayName": "Melanny Herrera Arenas",
      "userId": "10791965058209715546"
     },
     "user_tz": 300
    },
    "id": "r6kHKx6xYrxd",
    "outputId": "1e6710e7-c4db-4fdd-be23-63d40584fee1"
   },
   "outputs": [],
   "source": [
    "# fc.filas_repetidas(df_Mol_VPKS)"
   ]
  },
  {
   "cell_type": "code",
   "execution_count": 336,
   "metadata": {
    "colab": {
     "base_uri": "https://localhost:8080/"
    },
    "executionInfo": {
     "elapsed": 23,
     "status": "ok",
     "timestamp": 1752773866947,
     "user": {
      "displayName": "Melanny Herrera Arenas",
      "userId": "10791965058209715546"
     },
     "user_tz": 300
    },
    "id": "ujgbsuOfkTXJ",
    "outputId": "05d00563-202d-43f0-a96a-62d1fb4e085d"
   },
   "outputs": [],
   "source": [
    "# df_Mol_VPKS.columns"
   ]
  },
  {
   "cell_type": "markdown",
   "metadata": {
    "id": "Wzkc2rSCxX7S"
   },
   "source": [
    "**---------------------------------------------------------------------------------------------------------------------------------------------------------**"
   ]
  },
  {
   "cell_type": "code",
   "execution_count": 337,
   "metadata": {
    "colab": {
     "base_uri": "https://localhost:8080/"
    },
    "executionInfo": {
     "elapsed": 25,
     "status": "ok",
     "timestamp": 1752773866973,
     "user": {
      "displayName": "Melanny Herrera Arenas",
      "userId": "10791965058209715546"
     },
     "user_tz": 300
    },
    "id": "wR8aVap5wKlr",
    "outputId": "4ee45de0-b0bd-4ed9-d2f3-785702c58f9a"
   },
   "outputs": [],
   "source": [
    "#Equipo = Máquina\n",
    "#Material = Referencia\n",
    "columnas_df_Sobrepeso_2024_LINEAS = set(df_Sobrepeso_2024_LINEAS.columns)\n",
    "columnas_df_Sobrepeso_2025_LINEAS = set(df_Sobrepeso_2025_LINEAS.columns)\n",
    "\n",
    "iguales = columnas_df_Sobrepeso_2024_LINEAS & columnas_df_Sobrepeso_2025_LINEAS  #Intersección\n",
    "diferentes_df1 = columnas_df_Sobrepeso_2024_LINEAS - columnas_df_Sobrepeso_2025_LINEAS  #En df1 pero no en df2\n",
    "diferentes_df2 = columnas_df_Sobrepeso_2025_LINEAS - columnas_df_Sobrepeso_2024_LINEAS  #En df2 pero no en df1\n",
    "\n",
    "# print(\"Columnas iguales: \", iguales)\n",
    "# print(\"Columnas en df1 pero no en df2: \", diferentes_df1)\n",
    "# print(\"Columnas en df2 pero no es df1: \", diferentes_df2)"
   ]
  },
  {
   "cell_type": "code",
   "execution_count": 338,
   "metadata": {
    "executionInfo": {
     "elapsed": 3,
     "status": "ok",
     "timestamp": 1752773866979,
     "user": {
      "displayName": "Melanny Herrera Arenas",
      "userId": "10791965058209715546"
     },
     "user_tz": 300
    },
    "id": "891Q_PrwzKI7"
   },
   "outputs": [],
   "source": [
    "df_Sobrepeso_2025_LINEAS.rename(columns={'Referencia': 'Material',\n",
    "                                         'Máquina':'Equipo'}, inplace=True)"
   ]
  },
  {
   "cell_type": "code",
   "execution_count": 339,
   "metadata": {
    "colab": {
     "base_uri": "https://localhost:8080/"
    },
    "executionInfo": {
     "elapsed": 20,
     "status": "ok",
     "timestamp": 1752773867003,
     "user": {
      "displayName": "Melanny Herrera Arenas",
      "userId": "10791965058209715546"
     },
     "user_tz": 300
    },
    "id": "srNkPqLBwymA",
    "outputId": "320b4e7e-9561-479a-8895-fa576c321c18"
   },
   "outputs": [],
   "source": [
    "# df_Sobrepeso_2024_LINEAS.columns"
   ]
  },
  {
   "cell_type": "code",
   "execution_count": 340,
   "metadata": {
    "colab": {
     "base_uri": "https://localhost:8080/"
    },
    "executionInfo": {
     "elapsed": 21,
     "status": "ok",
     "timestamp": 1752773867022,
     "user": {
      "displayName": "Melanny Herrera Arenas",
      "userId": "10791965058209715546"
     },
     "user_tz": 300
    },
    "id": "RAmRl00ZzV9q",
    "outputId": "05b84950-7d6e-4e9f-8933-3d7b81eff5a2"
   },
   "outputs": [],
   "source": [
    "# df_Sobrepeso_2025_LINEAS.columns"
   ]
  },
  {
   "cell_type": "code",
   "execution_count": 341,
   "metadata": {
    "executionInfo": {
     "elapsed": 10,
     "status": "ok",
     "timestamp": 1752773867035,
     "user": {
      "displayName": "Melanny Herrera Arenas",
      "userId": "10791965058209715546"
     },
     "user_tz": 300
    },
    "id": "w8LSwsBy0IbE"
   },
   "outputs": [],
   "source": [
    "df_Mol_LINEAS = pd.concat([df_Sobrepeso_2024_LINEAS, df_Sobrepeso_2025_LINEAS], ignore_index=True)"
   ]
  },
  {
   "cell_type": "code",
   "execution_count": 342,
   "metadata": {
    "colab": {
     "base_uri": "https://localhost:8080/"
    },
    "executionInfo": {
     "elapsed": 33,
     "status": "ok",
     "timestamp": 1752773867064,
     "user": {
      "displayName": "Melanny Herrera Arenas",
      "userId": "10791965058209715546"
     },
     "user_tz": 300
    },
    "id": "Dyf0MrwzyMFJ",
    "outputId": "92470f5e-046f-484d-c00e-dce4f8e34102"
   },
   "outputs": [],
   "source": [
    "# df_Mol_LINEAS.shape #4243"
   ]
  },
  {
   "cell_type": "code",
   "execution_count": 343,
   "metadata": {
    "colab": {
     "base_uri": "https://localhost:8080/"
    },
    "executionInfo": {
     "elapsed": 26,
     "status": "ok",
     "timestamp": 1752773867087,
     "user": {
      "displayName": "Melanny Herrera Arenas",
      "userId": "10791965058209715546"
     },
     "user_tz": 300
    },
    "id": "TaQ58MWyyOpb",
    "outputId": "887f8f63-b33b-4996-ecbd-d888b414fbf0"
   },
   "outputs": [],
   "source": [
    "# fc.filas_repetidas(df_Mol_VPKS)"
   ]
  },
  {
   "cell_type": "code",
   "execution_count": 344,
   "metadata": {
    "colab": {
     "base_uri": "https://localhost:8080/"
    },
    "executionInfo": {
     "elapsed": 33,
     "status": "ok",
     "timestamp": 1752773867121,
     "user": {
      "displayName": "Melanny Herrera Arenas",
      "userId": "10791965058209715546"
     },
     "user_tz": 300
    },
    "id": "1MMVbEzy-4HF",
    "outputId": "82b027d2-8070-489f-9932-eeffb5f8cd7d"
   },
   "outputs": [],
   "source": [
    "# df_Mol_LINEAS.columns"
   ]
  },
  {
   "cell_type": "markdown",
   "metadata": {
    "id": "5Sk9Hv5LgPyX"
   },
   "source": [
    "**Lectura de los archivos de la COOISPI- Archivos de COOISPI**"
   ]
  },
  {
   "cell_type": "code",
   "execution_count": 345,
   "metadata": {
    "executionInfo": {
     "elapsed": 9,
     "status": "ok",
     "timestamp": 1752773867125,
     "user": {
      "displayName": "Melanny Herrera Arenas",
      "userId": "10791965058209715546"
     },
     "user_tz": 300
    },
    "id": "ZyabjiFhfpQY"
   },
   "outputs": [],
   "source": [
    "#leer_archivo COOISPI csv\n",
    "df_COOISPI_COMB = fc.leer_archivo(Ruta_COOISPI)"
   ]
  },
  {
   "cell_type": "code",
   "execution_count": 346,
   "metadata": {
    "executionInfo": {
     "elapsed": 7,
     "status": "ok",
     "timestamp": 1752773867134,
     "user": {
      "displayName": "Melanny Herrera Arenas",
      "userId": "10791965058209715546"
     },
     "user_tz": 300
    },
    "id": "-cSc0W-pkXMn"
   },
   "outputs": [],
   "source": [
    "#Convertir columna 'Codigo' a str para futuros procesor (merge y tabla pivote)\n",
    "df_COOISPI_COMB['Codigo'] = df_COOISPI_COMB['Codigo'].astype(str)"
   ]
  },
  {
   "cell_type": "markdown",
   "metadata": {
    "id": "AXf-gI3mgVRP"
   },
   "source": [
    "**Modificaciones sobre el archivo de VPKS**"
   ]
  },
  {
   "cell_type": "code",
   "execution_count": 347,
   "metadata": {
    "colab": {
     "base_uri": "https://localhost:8080/",
     "height": 679
    },
    "executionInfo": {
     "elapsed": 11,
     "status": "ok",
     "timestamp": 1752773867141,
     "user": {
      "displayName": "Melanny Herrera Arenas",
      "userId": "10791965058209715546"
     },
     "user_tz": 300
    },
    "id": "jl0OrNPUfpLh",
    "outputId": "e4630022-554c-4a69-d451-b6916a78d801"
   },
   "outputs": [],
   "source": [
    "# df_Mol_VPKS.dtypes"
   ]
  },
  {
   "cell_type": "code",
   "execution_count": 348,
   "metadata": {
    "executionInfo": {
     "elapsed": 4,
     "status": "ok",
     "timestamp": 1752773867146,
     "user": {
      "displayName": "Melanny Herrera Arenas",
      "userId": "10791965058209715546"
     },
     "user_tz": 300
    },
    "id": "b5D8EuPOgXC_"
   },
   "outputs": [],
   "source": [
    "df_Mol_VPKS.rename(columns={'Mes':'Mes:',\n",
    "                            'Equipo':'Máquina / Equipo:',\n",
    "                            'Descripción':'Código y Descrip. / Producto:',\n",
    "                            'Semana':'Semana:',\n",
    "                            'Turno ':'Turno:',\n",
    "                            'Gramaje':'Gramaje (K):',\n",
    "                            'Media':'Peso Promedio de la unidad (K):',\n",
    "                            'Material':'Codigo',\n",
    "                            'Unidades Conformes':'Unidades Producidas (Conformes) :',\n",
    "                           },inplace=True)"
   ]
  },
  {
   "cell_type": "code",
   "execution_count": 349,
   "metadata": {
    "colab": {
     "base_uri": "https://localhost:8080/"
    },
    "executionInfo": {
     "elapsed": 27,
     "status": "ok",
     "timestamp": 1752773867176,
     "user": {
      "displayName": "Melanny Herrera Arenas",
      "userId": "10791965058209715546"
     },
     "user_tz": 300
    },
    "id": "50pPoPmN0PfS",
    "outputId": "65bd6dfe-1179-4cfe-8c8d-b7245dbd6f49"
   },
   "outputs": [],
   "source": [
    "# df_Mol_VPKS.columns"
   ]
  },
  {
   "cell_type": "code",
   "execution_count": 350,
   "metadata": {
    "executionInfo": {
     "elapsed": 5,
     "status": "ok",
     "timestamp": 1752773867184,
     "user": {
      "displayName": "Melanny Herrera Arenas",
      "userId": "10791965058209715546"
     },
     "user_tz": 300
    },
    "id": "F-JpjaOOgXKX"
   },
   "outputs": [],
   "source": [
    "df_Mol_VPKS = fc.estandarizar_mes(df_Mol_VPKS)\n",
    "df_Mol_VPKS['Dia'] = df_Mol_VPKS['Fecha'].dt.day\n",
    "df_Mol_VPKS['Año:'] = df_Mol_VPKS['Fecha'].dt.year\n",
    "df_Mol_VPKS['IdMes'] = df_Mol_VPKS['Mes:'].map(fc.mes_a_numero())\n",
    "\n",
    "# df_Mol_VPKS['Mes'] = df_Mol_VPKS['Fecha'].dt.strftime('%B')\n",
    "# df_Mol_VPKS['Mes'] = df_Mol_VPKS['Mes'].str.capitalize()\n",
    "# df_Mol_VPKS['Mes'] = df_Mol_VPKS['Mes'].map(meses_eng_esp)"
   ]
  },
  {
   "cell_type": "code",
   "execution_count": 351,
   "metadata": {
    "executionInfo": {
     "elapsed": 3,
     "status": "ok",
     "timestamp": 1752773867191,
     "user": {
      "displayName": "Melanny Herrera Arenas",
      "userId": "10791965058209715546"
     },
     "user_tz": 300
    },
    "id": "51-onZ9xgXIK"
   },
   "outputs": [],
   "source": [
    "df_Mol_VPKS['Número'] = range(1, len(df_Mol_VPKS) + 1)"
   ]
  },
  {
   "cell_type": "code",
   "execution_count": 352,
   "metadata": {
    "colab": {
     "base_uri": "https://localhost:8080/",
     "height": 265
    },
    "executionInfo": {
     "elapsed": 10,
     "status": "ok",
     "timestamp": 1752773867204,
     "user": {
      "displayName": "Melanny Herrera Arenas",
      "userId": "10791965058209715546"
     },
     "user_tz": 300
    },
    "id": "MRImRqCAgXFn",
    "outputId": "8e7c6991-344d-40f6-e8fa-d1c4310942d2"
   },
   "outputs": [],
   "source": [
    "# df_Mol_VPKS.head(2)"
   ]
  },
  {
   "cell_type": "markdown",
   "metadata": {
    "id": "c-lsDC2ym3-i"
   },
   "source": [
    "**Modificaciones sobre el archivo de LINEAS**"
   ]
  },
  {
   "cell_type": "code",
   "execution_count": 353,
   "metadata": {
    "colab": {
     "base_uri": "https://localhost:8080/",
     "height": 1000
    },
    "executionInfo": {
     "elapsed": 7,
     "status": "ok",
     "timestamp": 1752773867214,
     "user": {
      "displayName": "Melanny Herrera Arenas",
      "userId": "10791965058209715546"
     },
     "user_tz": 300
    },
    "id": "z_CudfptgWzX",
    "outputId": "c98adb41-c975-48fb-dc7e-d7de137c8192"
   },
   "outputs": [],
   "source": [
    "# df_Mol_LINEAS.dtypes"
   ]
  },
  {
   "cell_type": "code",
   "execution_count": 354,
   "metadata": {
    "executionInfo": {
     "elapsed": 3,
     "status": "ok",
     "timestamp": 1752773867220,
     "user": {
      "displayName": "Melanny Herrera Arenas",
      "userId": "10791965058209715546"
     },
     "user_tz": 300
    },
    "id": "qq5sz1I6gWm5"
   },
   "outputs": [],
   "source": [
    "df_Mol_LINEAS.rename(columns={'Mes':'Mes:',\n",
    "                              'Equipo':'Máquina / Equipo:',\n",
    "                              'Descripción':'Código y Descrip. / Producto:',\n",
    "                              'Semana':'Semana:',\n",
    "                              'Turno ':'Turno:',\n",
    "                              'Gramaje':'Gramaje (K):',\n",
    "                              'Media':'Peso Promedio de la unidad (K):',\n",
    "                              'Material':'Codigo',\n",
    "                              'Unidades Conformes':'Unidades Producidas (Conformes) :',\n",
    "                           },inplace=True)"
   ]
  },
  {
   "cell_type": "code",
   "execution_count": 355,
   "metadata": {
    "executionInfo": {
     "elapsed": 8,
     "status": "ok",
     "timestamp": 1752773867232,
     "user": {
      "displayName": "Melanny Herrera Arenas",
      "userId": "10791965058209715546"
     },
     "user_tz": 300
    },
    "id": "AOwzUWYTgWwn"
   },
   "outputs": [],
   "source": [
    "df_Mol_LINEAS = fc.estandarizar_mes(df_Mol_LINEAS)\n",
    "df_Mol_LINEAS['Dia'] = df_Mol_LINEAS['Fecha'].dt.day\n",
    "df_Mol_LINEAS['Año:'] = df_Mol_LINEAS['Fecha'].dt.year\n",
    "df_Mol_LINEAS['IdMes'] = df_Mol_LINEAS['Mes:'].map(fc.mes_a_numero())\n",
    "\n",
    "# df_Mol_LINEAS['Mes'] = df_Mol_LINEAS['Fecha'].dt.strftime('%B')\n",
    "# df_Mol_LINEAS['Mes'] = df_Mol_LINEAS['Mes'].str.capitalize()\n",
    "# df_Mol_LINEAS['Mes'] = df_Mol_LINEAS['Mes'].map(meses_eng_esp)"
   ]
  },
  {
   "cell_type": "code",
   "execution_count": 356,
   "metadata": {
    "executionInfo": {
     "elapsed": 10,
     "status": "ok",
     "timestamp": 1752773867238,
     "user": {
      "displayName": "Melanny Herrera Arenas",
      "userId": "10791965058209715546"
     },
     "user_tz": 300
    },
    "id": "RQWOGr6BgWuA"
   },
   "outputs": [],
   "source": [
    "df_Mol_LINEAS['Número'] = range(1000, len(df_Mol_LINEAS) + 1000)"
   ]
  },
  {
   "cell_type": "code",
   "execution_count": 357,
   "metadata": {
    "colab": {
     "base_uri": "https://localhost:8080/",
     "height": 265
    },
    "executionInfo": {
     "elapsed": 68,
     "status": "ok",
     "timestamp": 1752773867308,
     "user": {
      "displayName": "Melanny Herrera Arenas",
      "userId": "10791965058209715546"
     },
     "user_tz": 300
    },
    "id": "f-e51YPZgWrn",
    "outputId": "01c9f964-5c85-4e78-fbac-9f8ec6ed493a"
   },
   "outputs": [],
   "source": [
    "# df_Mol_LINEAS.head(2)"
   ]
  },
  {
   "cell_type": "code",
   "execution_count": 358,
   "metadata": {
    "colab": {
     "base_uri": "https://localhost:8080/"
    },
    "executionInfo": {
     "elapsed": 60,
     "status": "ok",
     "timestamp": 1752773867309,
     "user": {
      "displayName": "Melanny Herrera Arenas",
      "userId": "10791965058209715546"
     },
     "user_tz": 300
    },
    "id": "vm4dQO_agWpI",
    "outputId": "c012a8c9-fa88-4cc6-9fed-66cdc8afda60"
   },
   "outputs": [],
   "source": [
    "# df_Mol_LINEAS.columns"
   ]
  },
  {
   "cell_type": "markdown",
   "metadata": {
    "id": "vVuAxUJoni05"
   },
   "source": [
    "**Unión del los archivos de Lineas y VPKS**"
   ]
  },
  {
   "cell_type": "code",
   "execution_count": 359,
   "metadata": {},
   "outputs": [],
   "source": [
    "# df_Mol_LINEAS['IdMes'] = df_Mol_LINEAS['Mes:'].map(fc.mes_a_numero())\n",
    "# df_Mol_VPKS['IdMes'] = df_Mol_VPKS['Mes:'].map(fc.mes_a_numero())"
   ]
  },
  {
   "cell_type": "markdown",
   "metadata": {
    "id": "4ZN_VqDjXGic"
   },
   "source": [
    "**Generación de DB_Molido_Bog**"
   ]
  },
  {
   "cell_type": "code",
   "execution_count": 360,
   "metadata": {
    "executionInfo": {
     "elapsed": 26,
     "status": "ok",
     "timestamp": 1752773867310,
     "user": {
      "displayName": "Melanny Herrera Arenas",
      "userId": "10791965058209715546"
     },
     "user_tz": 300
    },
    "id": "HqtTX0El9xvM"
   },
   "outputs": [],
   "source": [
    "#Concaenar backup 2024 y 2025 con VPKS y LINEAS\n",
    "df_Mol = pd.concat([df_Mol_LINEAS, df_Mol_VPKS], axis=0, ignore_index=True)"
   ]
  },
  {
   "cell_type": "code",
   "execution_count": 361,
   "metadata": {
    "colab": {
     "base_uri": "https://localhost:8080/"
    },
    "executionInfo": {
     "elapsed": 59,
     "status": "ok",
     "timestamp": 1752773867346,
     "user": {
      "displayName": "Melanny Herrera Arenas",
      "userId": "10791965058209715546"
     },
     "user_tz": 300
    },
    "id": "6ABW6gtaTMZK",
    "outputId": "9d6a5adc-98af-45d1-ab46-751646bdbb7b"
   },
   "outputs": [],
   "source": [
    "# fc.filas_repetidas(df_Mol)"
   ]
  },
  {
   "cell_type": "code",
   "execution_count": 362,
   "metadata": {
    "colab": {
     "base_uri": "https://localhost:8080/"
    },
    "executionInfo": {
     "elapsed": 33,
     "status": "ok",
     "timestamp": 1752773867348,
     "user": {
      "displayName": "Melanny Herrera Arenas",
      "userId": "10791965058209715546"
     },
     "user_tz": 300
    },
    "id": "hcdxOjuFBqUk",
    "outputId": "acc8ff22-8c9b-4ac4-b0f6-7b4c924c8a5c"
   },
   "outputs": [],
   "source": [
    "# df_Mol.shape"
   ]
  },
  {
   "cell_type": "code",
   "execution_count": 363,
   "metadata": {
    "executionInfo": {
     "elapsed": 116,
     "status": "ok",
     "timestamp": 1752773867458,
     "user": {
      "displayName": "Melanny Herrera Arenas",
      "userId": "10791965058209715546"
     },
     "user_tz": 300
    },
    "id": "1LSCQeBVV-G0"
   },
   "outputs": [],
   "source": [
    "#Generar backup 2024 y 2025 con VPKS y LINEAS\n",
    "df_Mol.to_csv(r'\\\\10.28.5.232\\s3-1colcafeci-servicios-jtc\\TPM\\Colcafé Formularios\\BD Sobrepeso\\Backup_BD_Salones/Datos_Molido_Bog_2024.csv')"
   ]
  },
  {
   "cell_type": "markdown",
   "metadata": {
    "id": "yvwEVlfxW8Ij"
   },
   "source": [
    "**Generación de Consolidado y novedades**"
   ]
  },
  {
   "cell_type": "code",
   "execution_count": 364,
   "metadata": {
    "colab": {
     "base_uri": "https://localhost:8080/"
    },
    "executionInfo": {
     "elapsed": 62,
     "status": "ok",
     "timestamp": 1752773867518,
     "user": {
      "displayName": "Melanny Herrera Arenas",
      "userId": "10791965058209715546"
     },
     "user_tz": 300
    },
    "id": "UZqUTkCt9YiN",
    "outputId": "00b859ee-7906-4cf2-d220-bc02a5cd76ef"
   },
   "outputs": [],
   "source": [
    "columnas=['Número','Dia','Fecha','Mes:','IdMes','Año:','Máquina / Equipo:','Semana:','Turno:','Código y Descrip. / Producto:','Unidades Producidas (Conformes) :',\n",
    "          'Peso Promedio de la unidad (K):','Gramaje (K):']\n",
    "df_Mol = df_Mol[columnas]\n",
    "# print(df_Mol.columns)\n",
    "# print(df_Mol.shape)"
   ]
  },
  {
   "cell_type": "code",
   "execution_count": 365,
   "metadata": {
    "colab": {
     "base_uri": "https://localhost:8080/"
    },
    "executionInfo": {
     "elapsed": 28,
     "status": "ok",
     "timestamp": 1752773867519,
     "user": {
      "displayName": "Melanny Herrera Arenas",
      "userId": "10791965058209715546"
     },
     "user_tz": 300
    },
    "id": "KsyOM4FGgWV8",
    "outputId": "32ad56a2-467e-4469-9515-723c2a13ba66"
   },
   "outputs": [],
   "source": [
    "df_Mol['Número'] = range(1, len(df_Mol) + 1)"
   ]
  },
  {
   "cell_type": "code",
   "execution_count": 366,
   "metadata": {
    "colab": {
     "base_uri": "https://localhost:8080/",
     "height": 164
    },
    "executionInfo": {
     "elapsed": 11,
     "status": "ok",
     "timestamp": 1752773867525,
     "user": {
      "displayName": "Melanny Herrera Arenas",
      "userId": "10791965058209715546"
     },
     "user_tz": 300
    },
    "id": "TpStjtk4gWTX",
    "outputId": "f0900921-5942-4e56-84af-6726a5e64fbd"
   },
   "outputs": [],
   "source": [
    "# df_Mol.head(2)"
   ]
  },
  {
   "cell_type": "markdown",
   "metadata": {
    "id": "M0Z1YPNHoFpD"
   },
   "source": [
    "**Elimino aquellos valores de \"Código y Descrip./Producto\" que no estén debidamente diligenciados: Por ejemplo; \"Sin datos de peso\"**"
   ]
  },
  {
   "cell_type": "code",
   "execution_count": 367,
   "metadata": {
    "executionInfo": {
     "elapsed": 10,
     "status": "ok",
     "timestamp": 1752773867536,
     "user": {
      "displayName": "Melanny Herrera Arenas",
      "userId": "10791965058209715546"
     },
     "user_tz": 300
    },
    "id": "G8xDJ5aSsLzw"
   },
   "outputs": [],
   "source": [
    "df_Mol.drop(df_Mol[df_Mol['Código y Descrip. / Producto:'] == \"Sin datos de peso\"].index, inplace=True)"
   ]
  },
  {
   "cell_type": "code",
   "execution_count": 368,
   "metadata": {
    "colab": {
     "base_uri": "https://localhost:8080/",
     "height": 491
    },
    "executionInfo": {
     "elapsed": 12,
     "status": "ok",
     "timestamp": 1752773867544,
     "user": {
      "displayName": "Melanny Herrera Arenas",
      "userId": "10791965058209715546"
     },
     "user_tz": 300
    },
    "id": "W5r75kvdsPIG",
    "outputId": "2f1599f1-3870-49f0-dacf-9b9785504fc7"
   },
   "outputs": [],
   "source": [
    "# df_Mol.dtypes"
   ]
  },
  {
   "cell_type": "markdown",
   "metadata": {
    "id": "rvKvt7wpr_SY"
   },
   "source": [
    "**Modificación de los tipos de datos del archivo de Molido Bogotá de TPM (Garantizar que las variables de Peso promedio por unidad y Gramaje estén correctas)**"
   ]
  },
  {
   "cell_type": "code",
   "execution_count": 369,
   "metadata": {
    "executionInfo": {
     "elapsed": 14,
     "status": "ok",
     "timestamp": 1752773867557,
     "user": {
      "displayName": "Melanny Herrera Arenas",
      "userId": "10791965058209715546"
     },
     "user_tz": 300
    },
    "id": "91kS24yJXrgq"
   },
   "outputs": [],
   "source": [
    "columnas_filtrar_nulos = ['Gramaje (K):', 'Unidades Producidas (Conformes) :', 'Peso Promedio de la unidad (K):']"
   ]
  },
  {
   "cell_type": "code",
   "execution_count": 370,
   "metadata": {
    "executionInfo": {
     "elapsed": 10,
     "status": "ok",
     "timestamp": 1752773867561,
     "user": {
      "displayName": "Melanny Herrera Arenas",
      "userId": "10791965058209715546"
     },
     "user_tz": 300
    },
    "id": "vxD5wmbpgWOo"
   },
   "outputs": [],
   "source": [
    "#filtrar_nulos\n",
    "df_Mol_nan_ceros, df_Mol = fc.filtrar_nulos(df_Mol, columnas_filtrar_nulos)"
   ]
  },
  {
   "cell_type": "code",
   "execution_count": 371,
   "metadata": {
    "colab": {
     "base_uri": "https://localhost:8080/",
     "height": 164
    },
    "executionInfo": {
     "elapsed": 17,
     "status": "ok",
     "timestamp": 1752773867573,
     "user": {
      "displayName": "Melanny Herrera Arenas",
      "userId": "10791965058209715546"
     },
     "user_tz": 300
    },
    "id": "FFqEUE4wX0dR",
    "outputId": "2a507240-a4bc-45cf-995b-149361949fca"
   },
   "outputs": [],
   "source": [
    "# df_Mol_nan_ceros.head()"
   ]
  },
  {
   "cell_type": "code",
   "execution_count": 372,
   "metadata": {
    "executionInfo": {
     "elapsed": 8,
     "status": "ok",
     "timestamp": 1752773867577,
     "user": {
      "displayName": "Melanny Herrera Arenas",
      "userId": "10791965058209715546"
     },
     "user_tz": 300
    },
    "id": "bSmlMSVwgWMT"
   },
   "outputs": [],
   "source": [
    "df_non_conver, df_Mol = fc.validar_numericos(df_Mol, 'Peso Promedio de la unidad (K):')"
   ]
  },
  {
   "cell_type": "code",
   "execution_count": 373,
   "metadata": {
    "colab": {
     "base_uri": "https://localhost:8080/",
     "height": 66
    },
    "executionInfo": {
     "elapsed": 44,
     "status": "ok",
     "timestamp": 1752773867633,
     "user": {
      "displayName": "Melanny Herrera Arenas",
      "userId": "10791965058209715546"
     },
     "user_tz": 300
    },
    "id": "A-32-H4cYNth",
    "outputId": "c400cc65-7964-4156-f831-82b3e61e2e5e"
   },
   "outputs": [],
   "source": [
    "# df_non_conver.head()"
   ]
  },
  {
   "cell_type": "code",
   "execution_count": 374,
   "metadata": {
    "executionInfo": {
     "elapsed": 4,
     "status": "ok",
     "timestamp": 1752773867656,
     "user": {
      "displayName": "Melanny Herrera Arenas",
      "userId": "10791965058209715546"
     },
     "user_tz": 300
    },
    "id": "dd2F8IglgWJ4"
   },
   "outputs": [],
   "source": [
    "df_Mol = fc.extraer_codigo(df_Mol)"
   ]
  },
  {
   "cell_type": "code",
   "execution_count": 375,
   "metadata": {
    "colab": {
     "base_uri": "https://localhost:8080/",
     "height": 164
    },
    "executionInfo": {
     "elapsed": 60,
     "status": "ok",
     "timestamp": 1752773867721,
     "user": {
      "displayName": "Melanny Herrera Arenas",
      "userId": "10791965058209715546"
     },
     "user_tz": 300
    },
    "id": "OY9iCCiCYSVI",
    "outputId": "6390cbc9-95ff-4e6a-9d29-8da4a80777c3"
   },
   "outputs": [],
   "source": [
    "# df_Mol.head(2)"
   ]
  },
  {
   "cell_type": "code",
   "execution_count": 376,
   "metadata": {
    "executionInfo": {
     "elapsed": 4,
     "status": "ok",
     "timestamp": 1752773867729,
     "user": {
      "displayName": "Melanny Herrera Arenas",
      "userId": "10791965058209715546"
     },
     "user_tz": 300
    },
    "id": "ItQmvejbgWFX"
   },
   "outputs": [],
   "source": [
    "df_Mol['Gramaje (K):'] = pd.to_numeric(df_Mol['Gramaje (K):'], errors='coerce')"
   ]
  },
  {
   "cell_type": "code",
   "execution_count": 377,
   "metadata": {
    "colab": {
     "base_uri": "https://localhost:8080/",
     "height": 66
    },
    "executionInfo": {
     "elapsed": 47,
     "status": "ok",
     "timestamp": 1752773867779,
     "user": {
      "displayName": "Melanny Herrera Arenas",
      "userId": "10791965058209715546"
     },
     "user_tz": 300
    },
    "id": "qPrpEUKDYbVX",
    "outputId": "631c489c-10ce-47ab-b243-87c974aa2e8b"
   },
   "outputs": [],
   "source": [
    "# df_Mol.loc[df_Mol['Gramaje (K):'].isna()]"
   ]
  },
  {
   "cell_type": "markdown",
   "metadata": {
    "id": "rl5aW2p7sWPu"
   },
   "source": [
    "**Identificación y supresión de aquellos códigos con valores nulos**"
   ]
  },
  {
   "cell_type": "code",
   "execution_count": 378,
   "metadata": {
    "executionInfo": {
     "elapsed": 12,
     "status": "ok",
     "timestamp": 1752773867780,
     "user": {
      "displayName": "Melanny Herrera Arenas",
      "userId": "10791965058209715546"
     },
     "user_tz": 300
    },
    "id": "R9rK-NhhfpJR"
   },
   "outputs": [],
   "source": [
    "df_Mol, df_Mol_Codigos_nan = fc.eliminar_codigos_nan(df_Mol)"
   ]
  },
  {
   "cell_type": "code",
   "execution_count": 379,
   "metadata": {
    "colab": {
     "base_uri": "https://localhost:8080/",
     "height": 66
    },
    "executionInfo": {
     "elapsed": 16,
     "status": "ok",
     "timestamp": 1752773867790,
     "user": {
      "displayName": "Melanny Herrera Arenas",
      "userId": "10791965058209715546"
     },
     "user_tz": 300
    },
    "id": "A8LHPciQZaI3",
    "outputId": "17bf724a-95cf-4b32-bfcf-00210f9ca7b1"
   },
   "outputs": [],
   "source": [
    "# df_Mol_Codigos_nan.head()"
   ]
  },
  {
   "cell_type": "code",
   "execution_count": 380,
   "metadata": {
    "colab": {
     "base_uri": "https://localhost:8080/"
    },
    "executionInfo": {
     "elapsed": 20,
     "status": "ok",
     "timestamp": 1752773867812,
     "user": {
      "displayName": "Melanny Herrera Arenas",
      "userId": "10791965058209715546"
     },
     "user_tz": 300
    },
    "id": "GbTUcLtFZdYn",
    "outputId": "9e6d031c-c791-42f1-def0-a29dab82861a"
   },
   "outputs": [],
   "source": [
    "# df_Mol.shape #quedan m-2 registros en los que Unidades Producidas (Conformes) : eran igual a 0.0"
   ]
  },
  {
   "cell_type": "markdown",
   "metadata": {
    "id": "wDmZ1uUIyVtX"
   },
   "source": [
    "**Calculo en el archivo Original de TPM de Real empacado, Debe ser, Diferencia y Sobrepeso**"
   ]
  },
  {
   "cell_type": "code",
   "execution_count": 381,
   "metadata": {
    "executionInfo": {
     "elapsed": 4,
     "status": "ok",
     "timestamp": 1752773867819,
     "user": {
      "displayName": "Melanny Herrera Arenas",
      "userId": "10791965058209715546"
     },
     "user_tz": 300
    },
    "id": "uExssCSKsXxK"
   },
   "outputs": [],
   "source": [
    "df_Mol = fc.calcular_columnas_bog(df_Mol)"
   ]
  },
  {
   "cell_type": "code",
   "execution_count": 382,
   "metadata": {
    "colab": {
     "base_uri": "https://localhost:8080/",
     "height": 323
    },
    "executionInfo": {
     "elapsed": 91,
     "status": "ok",
     "timestamp": 1752773867915,
     "user": {
      "displayName": "Melanny Herrera Arenas",
      "userId": "10791965058209715546"
     },
     "user_tz": 300
    },
    "id": "LtaKXoC3sXuf",
    "outputId": "bc89ace6-844e-4889-8dca-bce21bdf71a4"
   },
   "outputs": [],
   "source": [
    "# df_Mol.head(2)"
   ]
  },
  {
   "cell_type": "code",
   "execution_count": 383,
   "metadata": {
    "colab": {
     "base_uri": "https://localhost:8080/",
     "height": 648
    },
    "executionInfo": {
     "elapsed": 32,
     "status": "ok",
     "timestamp": 1752773867917,
     "user": {
      "displayName": "Melanny Herrera Arenas",
      "userId": "10791965058209715546"
     },
     "user_tz": 300
    },
    "id": "pkCdk3ocsXrn",
    "outputId": "83780347-70c4-4de8-d8db-018a05d0e36b"
   },
   "outputs": [],
   "source": [
    "# df_Mol.dtypes"
   ]
  },
  {
   "cell_type": "code",
   "execution_count": 384,
   "metadata": {
    "colab": {
     "base_uri": "https://localhost:8080/"
    },
    "executionInfo": {
     "elapsed": 25,
     "status": "ok",
     "timestamp": 1752773867919,
     "user": {
      "displayName": "Melanny Herrera Arenas",
      "userId": "10791965058209715546"
     },
     "user_tz": 300
    },
    "id": "XKm6k8ZnaZAt",
    "outputId": "34c1f368-8131-4ec8-9392-e559a06c32fb"
   },
   "outputs": [],
   "source": [
    "# df_Mol.shape"
   ]
  },
  {
   "cell_type": "markdown",
   "metadata": {
    "id": "d9OTpjEmyiis"
   },
   "source": [
    "**Generación de novedades: Se filtrarán aquellos valores de sobrepeso calculados mayores al 10%**"
   ]
  },
  {
   "cell_type": "code",
   "execution_count": 385,
   "metadata": {
    "executionInfo": {
     "elapsed": 8,
     "status": "ok",
     "timestamp": 1752773867921,
     "user": {
      "displayName": "Melanny Herrera Arenas",
      "userId": "10791965058209715546"
     },
     "user_tz": 300
    },
    "id": "HRvDDE2lsXpX"
   },
   "outputs": [],
   "source": [
    "Sobrepeso_Novedades = 0.1   #10% de Sobrepeso"
   ]
  },
  {
   "cell_type": "code",
   "execution_count": 386,
   "metadata": {
    "executionInfo": {
     "elapsed": 3,
     "status": "ok",
     "timestamp": 1752773867928,
     "user": {
      "displayName": "Melanny Herrera Arenas",
      "userId": "10791965058209715546"
     },
     "user_tz": 300
    },
    "id": "PaBgPVe8sXmf"
   },
   "outputs": [],
   "source": [
    "df_Mol_Nov_Sobrepeso = fc.generar_novedades(df_Mol, Sobrepeso_Novedades)"
   ]
  },
  {
   "cell_type": "code",
   "execution_count": 387,
   "metadata": {
    "colab": {
     "base_uri": "https://localhost:8080/",
     "height": 139
    },
    "executionInfo": {
     "elapsed": 20,
     "status": "ok",
     "timestamp": 1752773867955,
     "user": {
      "displayName": "Melanny Herrera Arenas",
      "userId": "10791965058209715546"
     },
     "user_tz": 300
    },
    "id": "vAeN9fwbsXj6",
    "outputId": "fea58dc5-df73-4c77-d8f0-c9bb7de21d8e"
   },
   "outputs": [],
   "source": [
    "# df_Mol_Nov_Sobrepeso.head(5)"
   ]
  },
  {
   "cell_type": "code",
   "execution_count": 388,
   "metadata": {
    "executionInfo": {
     "elapsed": 9,
     "status": "ok",
     "timestamp": 1752773867956,
     "user": {
      "displayName": "Melanny Herrera Arenas",
      "userId": "10791965058209715546"
     },
     "user_tz": 300
    },
    "id": "HhOoMzoCsXhQ"
   },
   "outputs": [],
   "source": [
    "#Agregar columna de Costos\n",
    "df_Mol['Costo/kg'] = 0.0"
   ]
  },
  {
   "cell_type": "code",
   "execution_count": 389,
   "metadata": {
    "colab": {
     "base_uri": "https://localhost:8080/",
     "height": 323
    },
    "executionInfo": {
     "elapsed": 46,
     "status": "ok",
     "timestamp": 1752773867996,
     "user": {
      "displayName": "Melanny Herrera Arenas",
      "userId": "10791965058209715546"
     },
     "user_tz": 300
    },
    "id": "vj8ViWM2bCc1",
    "outputId": "30d48970-d53c-4ef8-bd31-2bbd9bf5f01e"
   },
   "outputs": [],
   "source": [
    "# df_Mol.head(2)"
   ]
  },
  {
   "cell_type": "code",
   "execution_count": 390,
   "metadata": {
    "colab": {
     "base_uri": "https://localhost:8080/"
    },
    "executionInfo": {
     "elapsed": 25,
     "status": "ok",
     "timestamp": 1752773868023,
     "user": {
      "displayName": "Melanny Herrera Arenas",
      "userId": "10791965058209715546"
     },
     "user_tz": 300
    },
    "id": "xharjYtgbAQt",
    "outputId": "572d148e-661d-4bbe-9b0b-3697862a175c"
   },
   "outputs": [],
   "source": [
    "# df_Mol.shape"
   ]
  },
  {
   "cell_type": "markdown",
   "metadata": {
    "id": "LJzlgGL2zQAk"
   },
   "source": [
    "**Tabla de Consolidado Mensual**"
   ]
  },
  {
   "cell_type": "code",
   "execution_count": 391,
   "metadata": {
    "executionInfo": {
     "elapsed": 34,
     "status": "ok",
     "timestamp": 1752773868060,
     "user": {
      "displayName": "Melanny Herrera Arenas",
      "userId": "10791965058209715546"
     },
     "user_tz": 300
    },
    "id": "Zg1W7jhLsXfH"
   },
   "outputs": [],
   "source": [
    "df_Mol_Mes = fc.pivote_consolidado(df_Mol)"
   ]
  },
  {
   "cell_type": "code",
   "execution_count": 392,
   "metadata": {
    "colab": {
     "base_uri": "https://localhost:8080/",
     "height": 223
    },
    "executionInfo": {
     "elapsed": 42,
     "status": "ok",
     "timestamp": 1752773868106,
     "user": {
      "displayName": "Melanny Herrera Arenas",
      "userId": "10791965058209715546"
     },
     "user_tz": 300
    },
    "id": "xrqPorvIsXcW",
    "outputId": "802473ef-b0f7-479a-e291-67095888c368"
   },
   "outputs": [],
   "source": [
    "# df_Mol_Mes.head()"
   ]
  },
  {
   "cell_type": "markdown",
   "metadata": {
    "id": "RDB6rgIp2Zp5"
   },
   "source": [
    "**Visualización de ejemplo de los datos del consolidado del MES para el año 2024 y el código 1003294**"
   ]
  },
  {
   "cell_type": "code",
   "execution_count": 393,
   "metadata": {
    "colab": {
     "base_uri": "https://localhost:8080/",
     "height": 240
    },
    "executionInfo": {
     "elapsed": 86,
     "status": "ok",
     "timestamp": 1752773868183,
     "user": {
      "displayName": "Melanny Herrera Arenas",
      "userId": "10791965058209715546"
     },
     "user_tz": 300
    },
    "id": "uCZO5jtIf5YM",
    "outputId": "cabda421-471c-4863-c518-3acddfb8ab83"
   },
   "outputs": [],
   "source": [
    "# df_Mol_Mes.loc[(df_Mol_Mes['Año:'] == 2024) & (df_Mol_Mes['Codigo'] == \"1003298\")].head()"
   ]
  },
  {
   "cell_type": "code",
   "execution_count": 394,
   "metadata": {
    "executionInfo": {
     "elapsed": 30,
     "status": "ok",
     "timestamp": 1752773868184,
     "user": {
      "displayName": "Melanny Herrera Arenas",
      "userId": "10791965058209715546"
     },
     "user_tz": 300
    },
    "id": "1H7BE51gsXVG"
   },
   "outputs": [],
   "source": [
    "#Tomar datos desde el año 2024 en adelante\n",
    "df_Mol_Mes = fc.filtrar_desde_anio(df_Mol_Mes, 2024)"
   ]
  },
  {
   "cell_type": "code",
   "execution_count": 395,
   "metadata": {
    "colab": {
     "base_uri": "https://localhost:8080/"
    },
    "executionInfo": {
     "elapsed": 29,
     "status": "ok",
     "timestamp": 1752773868187,
     "user": {
      "displayName": "Melanny Herrera Arenas",
      "userId": "10791965058209715546"
     },
     "user_tz": 300
    },
    "id": "d_SEH5oksXSv",
    "outputId": "aa27d1e9-4430-4a17-cf16-f627b39fa582"
   },
   "outputs": [],
   "source": [
    "# #Verificación de los meses en el Dataframe\n",
    "# df_Mol_Mes['Mes:'].unique()"
   ]
  },
  {
   "cell_type": "markdown",
   "metadata": {
    "id": "qM1yUOVZgyYd"
   },
   "source": [
    "**Creación de la agrupación Mensual del archivo de semielaborados**"
   ]
  },
  {
   "cell_type": "code",
   "execution_count": 396,
   "metadata": {
    "executionInfo": {
     "elapsed": 13,
     "status": "ok",
     "timestamp": 1752773868187,
     "user": {
      "displayName": "Melanny Herrera Arenas",
      "userId": "10791965058209715546"
     },
     "user_tz": 300
    },
    "id": "xJ_AixOusXQW"
   },
   "outputs": [],
   "source": [
    "df_costo_semi = df_COOISPI_COMB.copy(deep=True)"
   ]
  },
  {
   "cell_type": "code",
   "execution_count": 397,
   "metadata": {
    "colab": {
     "base_uri": "https://localhost:8080/",
     "height": 199
    },
    "executionInfo": {
     "elapsed": 66,
     "status": "ok",
     "timestamp": 1752773868244,
     "user": {
      "displayName": "Melanny Herrera Arenas",
      "userId": "10791965058209715546"
     },
     "user_tz": 300
    },
    "id": "R3XQAuQ9sXNm",
    "outputId": "99f16ca4-21fb-4105-8f32-4c0dd1dc6d17"
   },
   "outputs": [],
   "source": [
    "# df_costo_semi.head(2)"
   ]
  },
  {
   "cell_type": "code",
   "execution_count": 398,
   "metadata": {
    "executionInfo": {
     "elapsed": 40,
     "status": "ok",
     "timestamp": 1752773868286,
     "user": {
      "displayName": "Melanny Herrera Arenas",
      "userId": "10791965058209715546"
     },
     "user_tz": 300
    },
    "id": "QwJ0qZkosXJG"
   },
   "outputs": [],
   "source": [
    "df_costo_semi_Mes = fc.pivote_semielaborados(df_costo_semi)"
   ]
  },
  {
   "cell_type": "code",
   "execution_count": 399,
   "metadata": {
    "colab": {
     "base_uri": "https://localhost:8080/",
     "height": 206
    },
    "executionInfo": {
     "elapsed": 14,
     "status": "ok",
     "timestamp": 1752773868290,
     "user": {
      "displayName": "Melanny Herrera Arenas",
      "userId": "10791965058209715546"
     },
     "user_tz": 300
    },
    "id": "JUOZjV4chwHc",
    "outputId": "c1f5ed1c-73f3-4bf0-842e-bbe6b9cfb95c"
   },
   "outputs": [],
   "source": [
    "# df_costo_semi_Mes.loc[df_costo_semi_Mes['Mes:']==\"Agosto\"].head()"
   ]
  },
  {
   "cell_type": "markdown",
   "metadata": {
    "id": "xgO8MoE1iSyq"
   },
   "source": [
    "**Generación del nuevo archivo consolidado V2**"
   ]
  },
  {
   "cell_type": "code",
   "execution_count": 400,
   "metadata": {
    "executionInfo": {
     "elapsed": 44,
     "status": "ok",
     "timestamp": 1752773868336,
     "user": {
      "displayName": "Melanny Herrera Arenas",
      "userId": "10791965058209715546"
     },
     "user_tz": 300
    },
    "id": "1ShKFxFfiSqZ"
   },
   "outputs": [],
   "source": [
    "df_Mol_2 = df_Mol.copy(deep=True)"
   ]
  },
  {
   "cell_type": "code",
   "execution_count": 401,
   "metadata": {
    "colab": {
     "base_uri": "https://localhost:8080/",
     "height": 323
    },
    "executionInfo": {
     "elapsed": 109,
     "status": "ok",
     "timestamp": 1752773868438,
     "user": {
      "displayName": "Melanny Herrera Arenas",
      "userId": "10791965058209715546"
     },
     "user_tz": 300
    },
    "id": "T8g2WeyBiSnq",
    "outputId": "0f0617a2-dbd6-4f2a-ac77-d3fcd9755b50"
   },
   "outputs": [],
   "source": [
    "# df_Mol_2.head(2)"
   ]
  },
  {
   "cell_type": "code",
   "execution_count": 402,
   "metadata": {
    "colab": {
     "base_uri": "https://localhost:8080/",
     "height": 679
    },
    "executionInfo": {
     "elapsed": 15,
     "status": "ok",
     "timestamp": 1752773868439,
     "user": {
      "displayName": "Melanny Herrera Arenas",
      "userId": "10791965058209715546"
     },
     "user_tz": 300
    },
    "id": "70uKD3-ciSjq",
    "outputId": "a1e67a99-9826-4b1a-9d9f-c3121c4a41dc"
   },
   "outputs": [],
   "source": [
    "# df_Mol_2.dtypes"
   ]
  },
  {
   "cell_type": "code",
   "execution_count": 403,
   "metadata": {
    "colab": {
     "base_uri": "https://localhost:8080/",
     "height": 272
    },
    "executionInfo": {
     "elapsed": 45,
     "status": "ok",
     "timestamp": 1752773868477,
     "user": {
      "displayName": "Melanny Herrera Arenas",
      "userId": "10791965058209715546"
     },
     "user_tz": 300
    },
    "id": "aIdYscd4iShZ",
    "outputId": "faa8a54c-21c1-4105-9bc3-0c747a581b60"
   },
   "outputs": [],
   "source": [
    "# df_costo_semi_Mes.dtypes"
   ]
  },
  {
   "cell_type": "code",
   "execution_count": 404,
   "metadata": {
    "executionInfo": {
     "elapsed": 3,
     "status": "ok",
     "timestamp": 1752773868481,
     "user": {
      "displayName": "Melanny Herrera Arenas",
      "userId": "10791965058209715546"
     },
     "user_tz": 300
    },
    "id": "9PeIPnaCiSdO"
   },
   "outputs": [],
   "source": [
    "df_Mol_2 = fc.merge_costo(df_Mol_2, df_costo_semi_Mes)"
   ]
  },
  {
   "cell_type": "code",
   "execution_count": 405,
   "metadata": {
    "colab": {
     "base_uri": "https://localhost:8080/",
     "height": 323
    },
    "executionInfo": {
     "elapsed": 18,
     "status": "ok",
     "timestamp": 1752773868503,
     "user": {
      "displayName": "Melanny Herrera Arenas",
      "userId": "10791965058209715546"
     },
     "user_tz": 300
    },
    "id": "NozkLnjLpL9T",
    "outputId": "525b2b8c-8737-4f8d-a19e-8365f4da1f25"
   },
   "outputs": [],
   "source": [
    "# df_Mol_2.head(2)"
   ]
  },
  {
   "cell_type": "code",
   "execution_count": 406,
   "metadata": {
    "executionInfo": {
     "elapsed": 10,
     "status": "ok",
     "timestamp": 1752773868504,
     "user": {
      "displayName": "Melanny Herrera Arenas",
      "userId": "10791965058209715546"
     },
     "user_tz": 300
    },
    "id": "9XrS5O_2lPbY"
   },
   "outputs": [],
   "source": [
    "df_Mol_2 = fc.modificar_costo(df_Mol_2)"
   ]
  },
  {
   "cell_type": "code",
   "execution_count": 407,
   "metadata": {
    "colab": {
     "base_uri": "https://localhost:8080/",
     "height": 323
    },
    "executionInfo": {
     "elapsed": 57,
     "status": "ok",
     "timestamp": 1752773868555,
     "user": {
      "displayName": "Melanny Herrera Arenas",
      "userId": "10791965058209715546"
     },
     "user_tz": 300
    },
    "id": "5MBWB8D9lPXF",
    "outputId": "a4c099a0-d7fc-4ac0-a315-f74b6c7c34a2"
   },
   "outputs": [],
   "source": [
    "# df_Mol_2.head(2)"
   ]
  },
  {
   "cell_type": "code",
   "execution_count": 408,
   "metadata": {
    "executionInfo": {
     "elapsed": 11,
     "status": "ok",
     "timestamp": 1752773868557,
     "user": {
      "displayName": "Melanny Herrera Arenas",
      "userId": "10791965058209715546"
     },
     "user_tz": 300
    },
    "id": "Ya4IGsIJlPU1"
   },
   "outputs": [],
   "source": [
    "#Definir meta sobrepeso\n",
    "df_Mol_2['Meta'] = 0.003"
   ]
  },
  {
   "cell_type": "code",
   "execution_count": 409,
   "metadata": {
    "colab": {
     "base_uri": "https://localhost:8080/",
     "height": 323
    },
    "executionInfo": {
     "elapsed": 23,
     "status": "ok",
     "timestamp": 1752773868573,
     "user": {
      "displayName": "Melanny Herrera Arenas",
      "userId": "10791965058209715546"
     },
     "user_tz": 300
    },
    "id": "QW_1N2Nku8-E",
    "outputId": "9f3fcfec-75e4-49c9-9bcb-c2114756dbe6"
   },
   "outputs": [],
   "source": [
    "# df_Mol_2.head(2)"
   ]
  },
  {
   "cell_type": "code",
   "execution_count": 410,
   "metadata": {
    "executionInfo": {
     "elapsed": 4,
     "status": "ok",
     "timestamp": 1752773868578,
     "user": {
      "displayName": "Melanny Herrera Arenas",
      "userId": "10791965058209715546"
     },
     "user_tz": 300
    },
    "id": "7y1EfKNAlPQX"
   },
   "outputs": [],
   "source": [
    "df_Mol_2 = fc.calcular_ahorros_perdidas(df_Mol_2)"
   ]
  },
  {
   "cell_type": "code",
   "execution_count": 411,
   "metadata": {
    "colab": {
     "base_uri": "https://localhost:8080/",
     "height": 352
    },
    "executionInfo": {
     "elapsed": 40,
     "status": "ok",
     "timestamp": 1752773868622,
     "user": {
      "displayName": "Melanny Herrera Arenas",
      "userId": "10791965058209715546"
     },
     "user_tz": 300
    },
    "id": "dbcihb552mWg",
    "outputId": "d4938b27-08fc-48dd-c096-a21fad2ca264"
   },
   "outputs": [],
   "source": [
    "# df_Mol_2.head(2)"
   ]
  },
  {
   "cell_type": "markdown",
   "metadata": {
    "id": "2t24TuI57qWJ"
   },
   "source": [
    "**Unión de los dataframes en un dataframe totalizado**"
   ]
  },
  {
   "cell_type": "code",
   "execution_count": 412,
   "metadata": {
    "executionInfo": {
     "elapsed": 5,
     "status": "ok",
     "timestamp": 1752773868631,
     "user": {
      "displayName": "Melanny Herrera Arenas",
      "userId": "10791965058209715546"
     },
     "user_tz": 300
    },
    "id": "D5G9_JflsXGu"
   },
   "outputs": [],
   "source": [
    "df_totalizado_Mes = df_Mol_Mes.copy(deep=True)"
   ]
  },
  {
   "cell_type": "code",
   "execution_count": 413,
   "metadata": {
    "colab": {
     "base_uri": "https://localhost:8080/"
    },
    "executionInfo": {
     "elapsed": 17,
     "status": "ok",
     "timestamp": 1752773868674,
     "user": {
      "displayName": "Melanny Herrera Arenas",
      "userId": "10791965058209715546"
     },
     "user_tz": 300
    },
    "id": "aNorBpe63CC3",
    "outputId": "92880dd7-223e-4a32-b3f1-c786ee1e91ec"
   },
   "outputs": [],
   "source": [
    "# print(df_Mol_Mes.columns)\n",
    "# print(df_Mol_Mes.shape)"
   ]
  },
  {
   "cell_type": "code",
   "execution_count": 414,
   "metadata": {
    "colab": {
     "base_uri": "https://localhost:8080/"
    },
    "executionInfo": {
     "elapsed": 41,
     "status": "ok",
     "timestamp": 1752773868730,
     "user": {
      "displayName": "Melanny Herrera Arenas",
      "userId": "10791965058209715546"
     },
     "user_tz": 300
    },
    "id": "CI_K8pzMsXEf",
    "outputId": "9032b17a-67c5-4dea-af26-5762885ca2bb"
   },
   "outputs": [],
   "source": [
    "# print(df_costo_semi_Mes.columns)\n",
    "# print(df_totalizado_Mes.shape)"
   ]
  },
  {
   "cell_type": "code",
   "execution_count": 415,
   "metadata": {
    "colab": {
     "base_uri": "https://localhost:8080/"
    },
    "executionInfo": {
     "elapsed": 27,
     "status": "ok",
     "timestamp": 1752773868732,
     "user": {
      "displayName": "Melanny Herrera Arenas",
      "userId": "10791965058209715546"
     },
     "user_tz": 300
    },
    "id": "Szw4jcZCfpGn",
    "outputId": "6e6a167e-564e-4368-8874-c20c30d78931"
   },
   "outputs": [],
   "source": [
    "# fc.filas_repetidas(df_totalizado_Mes)"
   ]
  },
  {
   "cell_type": "code",
   "execution_count": 416,
   "metadata": {
    "executionInfo": {
     "elapsed": 10,
     "status": "ok",
     "timestamp": 1752773868732,
     "user": {
      "displayName": "Melanny Herrera Arenas",
      "userId": "10791965058209715546"
     },
     "user_tz": 300
    },
    "id": "efHY6_8PfpCZ"
   },
   "outputs": [],
   "source": [
    "#Merge para traer a df_totalizado_Mes las columnas Ctd. y Impte.ML\n",
    "df_totalizado_Mes = fc.unir_dataframes(df_totalizado_Mes, df_costo_semi_Mes)"
   ]
  },
  {
   "cell_type": "code",
   "execution_count": 417,
   "metadata": {
    "colab": {
     "base_uri": "https://localhost:8080/",
     "height": 181
    },
    "executionInfo": {
     "elapsed": 38,
     "status": "ok",
     "timestamp": 1752773868764,
     "user": {
      "displayName": "Melanny Herrera Arenas",
      "userId": "10791965058209715546"
     },
     "user_tz": 300
    },
    "id": "jfLrY-ZW4sfG",
    "outputId": "3509b51f-5716-4e28-b240-ab14987a30da"
   },
   "outputs": [],
   "source": [
    "# df_totalizado_Mes.head(2)"
   ]
  },
  {
   "cell_type": "code",
   "execution_count": 418,
   "metadata": {
    "executionInfo": {
     "elapsed": 9,
     "status": "ok",
     "timestamp": 1752773868766,
     "user": {
      "displayName": "Melanny Herrera Arenas",
      "userId": "10791965058209715546"
     },
     "user_tz": 300
    },
    "id": "7B0DZeC_fpAQ"
   },
   "outputs": [],
   "source": [
    "df_totalizado_Mes = fc.calcular_columnas_totalizado_bog(df_totalizado_Mes, 0.003)"
   ]
  },
  {
   "cell_type": "code",
   "execution_count": 419,
   "metadata": {
    "colab": {
     "base_uri": "https://localhost:8080/",
     "height": 313
    },
    "executionInfo": {
     "elapsed": 58,
     "status": "ok",
     "timestamp": 1752773868818,
     "user": {
      "displayName": "Melanny Herrera Arenas",
      "userId": "10791965058209715546"
     },
     "user_tz": 300
    },
    "id": "hvY7o4N0fo94",
    "outputId": "377d5b2b-89aa-4548-e520-095dc46efbcb"
   },
   "outputs": [],
   "source": [
    "# df_totalizado_Mes.loc[df_totalizado_Mes['Mes:']==\"Julio\"].head()   #se genera duplicidad de columnas"
   ]
  },
  {
   "cell_type": "markdown",
   "metadata": {
    "id": "1OF3LK9f9C9F"
   },
   "source": [
    "**Codigo para generar archivo de busqueda para Molido - Bogotá**"
   ]
  },
  {
   "cell_type": "code",
   "execution_count": 420,
   "metadata": {
    "executionInfo": {
     "elapsed": 60,
     "status": "ok",
     "timestamp": 1752773868876,
     "user": {
      "displayName": "Melanny Herrera Arenas",
      "userId": "10791965058209715546"
     },
     "user_tz": 300
    },
    "id": "OtCBSLSs8-tj"
   },
   "outputs": [],
   "source": [
    "df_Codigos_Mol = fc.eliminar_duplicados_columna(df_Mol, 'Codigo')"
   ]
  },
  {
   "cell_type": "code",
   "execution_count": 421,
   "metadata": {
    "colab": {
     "base_uri": "https://localhost:8080/"
    },
    "executionInfo": {
     "elapsed": 58,
     "status": "ok",
     "timestamp": 1752773868882,
     "user": {
      "displayName": "Melanny Herrera Arenas",
      "userId": "10791965058209715546"
     },
     "user_tz": 300
    },
    "id": "V-wuJfGj_FXq",
    "outputId": "9d3ee071-dff7-445f-c01e-2448df59b774"
   },
   "outputs": [],
   "source": [
    "# fc.filas_repetidas(df_Codigos_Mol)"
   ]
  },
  {
   "cell_type": "code",
   "execution_count": 422,
   "metadata": {
    "executionInfo": {
     "elapsed": 33,
     "status": "ok",
     "timestamp": 1752773868883,
     "user": {
      "displayName": "Melanny Herrera Arenas",
      "userId": "10791965058209715546"
     },
     "user_tz": 300
    },
    "id": "uKj93US38-q7"
   },
   "outputs": [],
   "source": [
    "df_Maquinas_Mol = fc.eliminar_duplicados_columna(df_Mol, 'Máquina / Equipo:')"
   ]
  },
  {
   "cell_type": "code",
   "execution_count": 423,
   "metadata": {
    "colab": {
     "base_uri": "https://localhost:8080/"
    },
    "executionInfo": {
     "elapsed": 31,
     "status": "ok",
     "timestamp": 1752773868886,
     "user": {
      "displayName": "Melanny Herrera Arenas",
      "userId": "10791965058209715546"
     },
     "user_tz": 300
    },
    "id": "1_PB6OZi_JdJ",
    "outputId": "c9cd2902-6ab6-4619-f814-611775740c78"
   },
   "outputs": [],
   "source": [
    "# fc.filas_repetidas(df_Maquinas_Mol)"
   ]
  },
  {
   "cell_type": "code",
   "execution_count": 424,
   "metadata": {
    "colab": {
     "base_uri": "https://localhost:8080/",
     "height": 206
    },
    "executionInfo": {
     "elapsed": 75,
     "status": "ok",
     "timestamp": 1752773868949,
     "user": {
      "displayName": "Melanny Herrera Arenas",
      "userId": "10791965058209715546"
     },
     "user_tz": 300
    },
    "id": "UvsdCZp68-lb",
    "outputId": "cc8e5ea6-8629-40ae-d8c9-49bd04fa09aa"
   },
   "outputs": [],
   "source": [
    "df_Fechas = fc.generar_fechas(\"2024-01-01\")\n",
    "# df_Fechas.tail()"
   ]
  },
  {
   "cell_type": "code",
   "execution_count": null,
   "metadata": {
    "colab": {
     "base_uri": "https://localhost:8080/"
    },
    "executionInfo": {
     "elapsed": 23,
     "status": "ok",
     "timestamp": 1752773868951,
     "user": {
      "displayName": "Melanny Herrera Arenas",
      "userId": "10791965058209715546"
     },
     "user_tz": 300
    },
    "id": "NWgeA3HM_UAJ",
    "outputId": "8e76e98a-c027-45e5-a50c-d56eff6b3bc8"
   },
   "outputs": [
    {
     "name": "stdout",
     "output_type": "stream",
     "text": [
      "(5402, 19)\n",
      "(14567, 16)\n",
      "(400, 10)\n",
      "(35, 1)\n",
      "(9, 1)\n",
      "(400, 19)\n",
      "(564, 1)\n",
      "(5402, 21)\n",
      "\n",
      "(0, 18)\n",
      "(0, 14)\n",
      "(2, 13)\n",
      "(0, 13)\n"
     ]
    }
   ],
   "source": [
    "# print(df_Mol.shape)\n",
    "# print(df_COOISPI_COMB.shape)\n",
    "# print(df_Mol_Mes.shape)\n",
    "# print(df_Codigos_Mol.shape)\n",
    "# print(df_Maquinas_Mol.shape)\n",
    "# print(df_totalizado_Mes.shape)\n",
    "# print(df_Fechas.shape)\n",
    "# print(df_Mol_2.shape)  #-2 que tenian unidades producidas conformes 0.0\n",
    "# print()\n",
    "# print(df_Mol_Nov_Sobrepeso.shape)\n",
    "# print(df_Mol_Codigos_nan.shape)\n",
    "# #print(df_Mol_Codigos_unicos.shape)\n",
    "# print(df_Mol_nan_ceros.shape)   #2 de unidades producidas conformes 0.0\n",
    "# print(df_non_conver.shape)"
   ]
  },
  {
   "cell_type": "markdown",
   "metadata": {
    "id": "jV6FishSl9M_"
   },
   "source": [
    "**Archivo de consolidado**"
   ]
  },
  {
   "cell_type": "code",
   "execution_count": 426,
   "metadata": {
    "colab": {
     "base_uri": "https://localhost:8080/"
    },
    "executionInfo": {
     "elapsed": 52070,
     "status": "ok",
     "timestamp": 1752773921022,
     "user": {
      "displayName": "Melanny Herrera Arenas",
      "userId": "10791965058209715546"
     },
     "user_tz": 300
    },
    "id": "E5hMIVLW8-fk",
    "outputId": "c61ca724-561a-4141-dbb3-447552f7dd75"
   },
   "outputs": [
    {
     "name": "stdout",
     "output_type": "stream",
     "text": [
      "Procesando Consolidado...\n",
      "✅ Las hojas en el Archivo de Consolidado han sido limpiadas y actualizadas correctamente.\n"
     ]
    }
   ],
   "source": [
    "#Diccionario de hojas para el archivo de novedades\n",
    "dataframes_consolidado = {\n",
    "    \"Hoja1\": df_Mol,\n",
    "    \"Hoja2\": df_COOISPI_COMB,\n",
    "    \"Hoja3\": df_Mol_Mes,\n",
    "    \"Hoja4\": df_Codigos_Mol,\n",
    "    \"Hoja5\": df_Maquinas_Mol,\n",
    "    \"Hoja6\": df_totalizado_Mes,\n",
    "    \"Hoja7\": df_Fechas,\n",
    "    \"Hoja8\": df_Mol_2,\n",
    "}\n",
    "fc.actualizar_hojas_excel(Ruta_Consolidados, dataframes_consolidado)"
   ]
  },
  {
   "cell_type": "markdown",
   "metadata": {
    "id": "tRM5-EZ6l__O"
   },
   "source": [
    "**Archivo de novedades : Este archivo compila las diferentes novedades presentes en los archivos de TPM**"
   ]
  },
  {
   "cell_type": "code",
   "execution_count": 427,
   "metadata": {
    "colab": {
     "base_uri": "https://localhost:8080/"
    },
    "executionInfo": {
     "elapsed": 43,
     "status": "ok",
     "timestamp": 1752773925796,
     "user": {
      "displayName": "Melanny Herrera Arenas",
      "userId": "10791965058209715546"
     },
     "user_tz": 300
    },
    "id": "FYkHx5w18-iU",
    "outputId": "63ce014f-b8e2-496d-ff64-d5965e50bb32"
   },
   "outputs": [
    {
     "name": "stdout",
     "output_type": "stream",
     "text": [
      "Procesando Novedades...\n",
      "✅ El Archivo de Novedades guardado exitosamente con 4 hojas guardadas correctamente.\n"
     ]
    }
   ],
   "source": [
    "#Diccionario de hojas para el archivo de consolidado\n",
    "dataframes_novedades = {\n",
    "    \"Sobrepeso mayor 10%\": df_Mol_Nov_Sobrepeso,\n",
    "    \"Codigos Nulo TPM\": df_Mol_Codigos_nan,\n",
    "    # \"Hoja3\": df_Mol_Codigos_unicos,\n",
    "    \"Codigos NA,Vacio,0\": df_Mol_nan_ceros,\n",
    "    \"Errores\": df_non_conver,\n",
    "}\n",
    "fc.crear_archivo_novedades(Ruta_Novedades, dataframes_novedades)"
   ]
  }
 ],
 "metadata": {
  "colab": {
   "authorship_tag": "ABX9TyP3uI2RJv/PZnDecrgfq1ef",
   "provenance": []
  },
  "kernelspec": {
   "display_name": "Python 3",
   "name": "python3"
  },
  "language_info": {
   "codemirror_mode": {
    "name": "ipython",
    "version": 3
   },
   "file_extension": ".py",
   "mimetype": "text/x-python",
   "name": "python",
   "nbconvert_exporter": "python",
   "pygments_lexer": "ipython3",
   "version": "3.13.2"
  }
 },
 "nbformat": 4,
 "nbformat_minor": 0
}
