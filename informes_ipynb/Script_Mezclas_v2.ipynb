{
 "cells": [
  {
   "cell_type": "code",
   "execution_count": 37,
   "id": "e1ef3d90",
   "metadata": {},
   "outputs": [],
   "source": [
    "import os\n",
    "import pandas as pd\n",
    "import warnings\n",
    "import functions as fc"
   ]
  },
  {
   "cell_type": "code",
   "execution_count": 38,
   "id": "6516d9d8",
   "metadata": {},
   "outputs": [],
   "source": [
    "#Ocultar advertencias/warnings mas no los borra\n",
    "warnings.filterwarnings(\"ignore\", category=pd.errors.DtypeWarning)"
   ]
  },
  {
   "cell_type": "code",
   "execution_count": 39,
   "id": "f660a745",
   "metadata": {},
   "outputs": [],
   "source": [
    "#Año evaluado\n",
    "Añoeval = 2025"
   ]
  },
  {
   "cell_type": "markdown",
   "id": "bf02b8f8",
   "metadata": {},
   "source": [
    "**Variables globales de las rutas necesarias**"
   ]
  },
  {
   "cell_type": "code",
   "execution_count": 40,
   "id": "51e0d56f",
   "metadata": {},
   "outputs": [
    {
     "name": "stdout",
     "output_type": "stream",
     "text": [
      "Ruta 'Ruta_COOISPI' encontrada.\n",
      "Ruta 'Ruta_Archivo_EGE' encontrada.\n",
      "Ruta 'Ruta_Novedades' encontrada.\n",
      "Ruta 'Ruta_Consolidados' encontrada.\n",
      "Ruta 'Ruta_Mezclas' encontrada.\n"
     ]
    }
   ],
   "source": [
    "#Rutas del archivo de la COOISPI\n",
    "Ruta_COOISPI = \"G:/.shortcut-targets-by-id/1rqpfbdZ6z51epFv6ZwognhckW7HqBMjN/SIRI_2024_INFORMES_SOBREPESO/DATOS/Datos_COOISPI_Mezclas.csv\"                        # Ruta COOISPI en csv\n",
    "#Ruta_COOISPI_2024=\"/content/drive/MyDrive/Consolidado COOISPI/2024/Z09.xlsx\"                                                                                      # Ruta COOISPI en el 2024\n",
    "#Ruta_COOISPI_2025=\"/content/drive/MyDrive/Consolidado COOISPI/2025/Z09.xlsx\"  \n",
    "\n",
    "#Rutas del archivo del EGE\n",
    "Ruta_Archivo_EGE = \"G:/.shortcut-targets-by-id/1rqpfbdZ6z51epFv6ZwognhckW7HqBMjN/SIRI_2024_INFORMES_SOBREPESO/DATOS/Datos_Mezclas_2021.csv\"\n",
    "#Ruta_Archivo_EGE = \"/content/drive/MyDrive/SIRI_2024_INFORMES_SOBREPESO/DATOS/Datos_Mezclas_2021.csv\"                                                             # En formato csv en el drive de Melanny Herrera\n",
    "#Ruta_Archivo_EGE = \"/content/drive/MyDrive/appsheet/Coolab/Documentos/Mezclas/DB Empaque de Mezclas 2021_Copia.xlsm\"                                              # Ruta EGE pruebas Melanny Herrera\n",
    "#Ruta_Archivo_EGE = \"/content/drive/MyDrive/EGE Colcafé Medellín 2018 - 2024/Data historica/2021-2024/DB Empaque de Mezclas 2021.xlsm\"                             # Ruta EGE en el drive de Jesse Mauricio Beltran\n",
    "\n",
    "#Rutas del archivo de Novedades\n",
    "Ruta_Novedades = \"G:/.shortcut-targets-by-id/1rqpfbdZ6z51epFv6ZwognhckW7HqBMjN/SIRI_2024_INFORMES_SOBREPESO/INFORME_MEZCLAS_MEDELLIN/Mezclas_Novedades_V2.xlsx\"\n",
    "#Ruta_Novedades = \"/content/drive/MyDrive/SIRI_2024_INFORMES_SOBREPESO/INFORME_MEZCLAS_MEDELLIN/Mezclas_Novedades_V2.xlsx\"                                         # Ruta del archivo de Novedades en el drive de Melanny Herrera\n",
    "#Ruta_Novedades = '/content/drive/MyDrive/Proyectos/2024/SIRI_2024_INFORMES_SOBREPESO/INFORME_MEZCLAS_MEDELLIN/Mezclas_Novedades.xlsx'                             # Ruta del archivo de Novedades en el drive de Jesse Mauricio Beltran\n",
    "\n",
    "#Rutas del archivo de Consolidados\n",
    "Ruta_Consolidados = \"G:/.shortcut-targets-by-id/1rqpfbdZ6z51epFv6ZwognhckW7HqBMjN/SIRI_2024_INFORMES_SOBREPESO/INFORME_MEZCLAS_MEDELLIN/Consolidado_V2.xlsx\"\n",
    "#Ruta_Consolidados =\"/content/drive/MyDrive/SIRI_2024_INFORMES_SOBREPESO/INFORME_MEZCLAS_MEDELLIN/Consolidado_V2.xlsx\"                                             # Ruta del archivo de Consolidados en el drive de Melanny Herrera\n",
    "#Ruta_Consolidados ='/content/drive/MyDrive/Proyectos/2024/SIRI_2024_INFORMES_SOBREPESO/INFORME_MEZCLAS_MEDELLIN/Consolidado.xlsx'                                 # Ruta del archivo de Novedades en el drive de Jesse Mauricio Beltran\n",
    "\n",
    "#Ruta de salida\n",
    "Ruta_Mezclas = \"G:/.shortcut-targets-by-id/1rqpfbdZ6z51epFv6ZwognhckW7HqBMjN/SIRI_2024_INFORMES_SOBREPESO/INFORME_MEZCLAS_MEDELLIN/\"\n",
    "#Ruta_Mezclas = \"/content/drive/MyDrive/SIRI_2024_INFORMES_SOBREPESO/INFORME_MEZCLAS_MEDELLIN/\"                                                                    # Ruta del archivo consolidado csv en el drive de Melanny Herrera\n",
    "#Ruta_Mezclas = \"/content/drive/MyDrive/Proyectos/2024/SIRI_2024_INFORMES_SOBREPESO/INFORME_MEZCLAS_MEDELLIN/\"                                                     # Ruta del archivo consolidado csv en el drive de Jesse Mauricio Beltran\n",
    "\n",
    "#Validacion de existencia de las rutas\n",
    "for nombre, ruta in {\n",
    "  \"Ruta_COOISPI\": Ruta_COOISPI,\n",
    "  \"Ruta_Archivo_EGE\": Ruta_Archivo_EGE,\n",
    "  \"Ruta_Novedades\": Ruta_Novedades,\n",
    "  \"Ruta_Consolidados\": Ruta_Consolidados,\n",
    "  \"Ruta_Mezclas\": Ruta_Mezclas,\n",
    "}.items():\n",
    "  if not os.path.exists(ruta):\n",
    "    raise FileNotFoundError(f\"La ruta '{nombre}' no fue encontrada.\")\n",
    "  else:\n",
    "    print(f\"Ruta '{nombre}' encontrada.\")"
   ]
  },
  {
   "cell_type": "code",
   "execution_count": 41,
   "id": "fee40793",
   "metadata": {},
   "outputs": [
    {
     "name": "stdout",
     "output_type": "stream",
     "text": [
      "Leyendo archivo...\n"
     ]
    }
   ],
   "source": [
    "#Leer_archivo COOISPI csv\n",
    "df_COOISPI_COMB = fc.leer_archivo(Ruta_COOISPI)"
   ]
  },
  {
   "cell_type": "code",
   "execution_count": 42,
   "id": "a8540310",
   "metadata": {},
   "outputs": [],
   "source": [
    "#Convertir columna 'Codigo' a str para futuros procesor (merge y tabla pivote)\n",
    "df_COOISPI_COMB['Codigo'] = df_COOISPI_COMB['Codigo'].astype(str)"
   ]
  },
  {
   "cell_type": "code",
   "execution_count": 43,
   "id": "74937815",
   "metadata": {},
   "outputs": [
    {
     "name": "stdout",
     "output_type": "stream",
     "text": [
      "Leyendo archivo...\n"
     ]
    }
   ],
   "source": [
    "#Funcion para leer archivo el EGE/TPM\n",
    "df_Mezclas = fc.leer_archivo(Ruta_Archivo_EGE, 'Datos')"
   ]
  },
  {
   "cell_type": "code",
   "execution_count": 44,
   "id": "2434c13a",
   "metadata": {},
   "outputs": [],
   "source": [
    "#Reemplazar el nombre de la columna \"Día:\" y \"Mes_N\" para estandarizar los scripts\n",
    "df_Mezclas.rename(columns={\"Día:\":\"Dia\", \"Mes_N\":\"IdMes\"}, inplace=True)"
   ]
  },
  {
   "cell_type": "code",
   "execution_count": 45,
   "id": "d1cc7f3b",
   "metadata": {},
   "outputs": [],
   "source": [
    "#Eliminar_filas_vacias\n",
    "numeros_vacios_filtrados = fc.eliminar_filas_vacias(df_Mezclas, 'Número')"
   ]
  },
  {
   "cell_type": "code",
   "execution_count": 46,
   "id": "8ebbf001",
   "metadata": {},
   "outputs": [],
   "source": [
    "#Crear_fecha\n",
    "df_Mezclas = fc.crear_fecha(df_Mezclas)"
   ]
  },
  {
   "cell_type": "code",
   "execution_count": 47,
   "id": "b8b89a6c",
   "metadata": {},
   "outputs": [],
   "source": [
    "#Tomaré solo las columnas de interes del informe de mezclas para el sobrepeso\n",
    "columnas=['Número','Dia','Fecha','Mes:', 'IdMes', 'Año:', 'Máquina / Equipo:', 'Semana:', 'Turno:', 'Código y Descrip. / Producto:', 'Unidades Producidas (Conformes) :', 'Peso Promedio de la unidad (K):','Gramaje (K):']\n",
    "df_Mezclas = df_Mezclas[columnas]"
   ]
  },
  {
   "cell_type": "code",
   "execution_count": 48,
   "id": "61ee4f63",
   "metadata": {},
   "outputs": [],
   "source": [
    "#Filtrar_desde_anio\n",
    "df_Mezclas = fc.filtrar_desde_anio(df_Mezclas, 2024)"
   ]
  },
  {
   "cell_type": "code",
   "execution_count": 49,
   "id": "e10c7302",
   "metadata": {},
   "outputs": [],
   "source": [
    "#Especificar las columnas en las que deseas aplicar el filtro para eliminar los valores nulos de las columnas de Gramaje, Unidades producidas y Peso promedio\n",
    "columnas_filtrar_nulos = ['Gramaje (K):', 'Unidades Producidas (Conformes) :', 'Peso Promedio de la unidad (K):']"
   ]
  },
  {
   "cell_type": "code",
   "execution_count": 50,
   "id": "c87c0460",
   "metadata": {},
   "outputs": [],
   "source": [
    "#Eliminar_valores_nulos\n",
    "df_Mezclas_nan_ceros, df_Mezclas = fc.filtrar_nulos(df_Mezclas, columnas_filtrar_nulos)"
   ]
  },
  {
   "cell_type": "markdown",
   "id": "d72a164f",
   "metadata": {},
   "source": [
    "**Modificación de los tipos de datos del archivo de TPM de Mezclas**"
   ]
  },
  {
   "cell_type": "code",
   "execution_count": 51,
   "id": "da14b435",
   "metadata": {},
   "outputs": [],
   "source": [
    "#Validar_y_convertir_datos\n",
    "df_non_conver, df_Mezclas = fc.validar_numericos(df_Mezclas, 'Peso Promedio de la unidad (K):')"
   ]
  },
  {
   "cell_type": "code",
   "execution_count": 52,
   "id": "5bb4b355",
   "metadata": {},
   "outputs": [],
   "source": [
    "#Extraer_codigo\n",
    "df_Mezclas = fc.extraer_codigo(df_Mezclas)"
   ]
  },
  {
   "cell_type": "code",
   "execution_count": 53,
   "id": "4900f8c5",
   "metadata": {},
   "outputs": [],
   "source": [
    "#Convertir a numerico sino asignar NaN\n",
    "df_Mezclas['Gramaje (K):'] = pd.to_numeric(df_Mezclas['Gramaje (K):'], errors='coerce')"
   ]
  },
  {
   "cell_type": "code",
   "execution_count": 54,
   "id": "3f396300",
   "metadata": {},
   "outputs": [],
   "source": [
    "#Eliminar_codigos_nan\n",
    "df_Mezclas, df_Mezclas_Codigos_nan = fc.eliminar_codigos_nan(df_Mezclas)"
   ]
  },
  {
   "cell_type": "code",
   "execution_count": 55,
   "id": "43536aaf",
   "metadata": {},
   "outputs": [],
   "source": [
    "#Calcular_columnas\n",
    "df_Mezclas = fc.calcular_columnas(df_Mezclas)"
   ]
  },
  {
   "cell_type": "markdown",
   "id": "b54f6f77",
   "metadata": {},
   "source": [
    "**Generación de Novedades**"
   ]
  },
  {
   "cell_type": "code",
   "execution_count": 56,
   "id": "2260587c",
   "metadata": {},
   "outputs": [],
   "source": [
    "Sobrepeso_Novedades = 0.05 #5% de Sobrepeso"
   ]
  },
  {
   "cell_type": "code",
   "execution_count": 57,
   "id": "b25b966d",
   "metadata": {},
   "outputs": [],
   "source": [
    "#Generar_novedades\n",
    "df_Mezclas_Nov_Sobrepeso = fc.generar_novedades(df_Mezclas, Sobrepeso_Novedades)"
   ]
  },
  {
   "cell_type": "code",
   "execution_count": 58,
   "id": "c933c9f2",
   "metadata": {},
   "outputs": [],
   "source": [
    "#Agregar columna 'Costo/kg'\n",
    "df_Mezclas['Costo/kg'] = 0.0"
   ]
  },
  {
   "cell_type": "markdown",
   "id": "99d94c3a",
   "metadata": {},
   "source": [
    "**Tabla de Consolidado Mensual**"
   ]
  },
  {
   "cell_type": "code",
   "execution_count": 59,
   "id": "8e8f55b3",
   "metadata": {},
   "outputs": [],
   "source": [
    "#Pivote_consolidado\n",
    "df_Mezclas_Mes = fc.pivote_consolidado(df_Mezclas)"
   ]
  },
  {
   "cell_type": "code",
   "execution_count": 60,
   "id": "85957724",
   "metadata": {},
   "outputs": [],
   "source": [
    "#Tomar datos desde el año 2024 en adelante\n",
    "df_Mezclas_Mes = fc.filtrar_desde_anio(df_Mezclas_Mes, 2024)"
   ]
  },
  {
   "cell_type": "markdown",
   "id": "60693dcd",
   "metadata": {},
   "source": [
    "**Creación de la agrupación Mensual del archivo de semielaborados**"
   ]
  },
  {
   "cell_type": "code",
   "execution_count": 61,
   "id": "89f7fb1a",
   "metadata": {},
   "outputs": [],
   "source": [
    "df_costo_semi = df_COOISPI_COMB.copy(deep=True)"
   ]
  },
  {
   "cell_type": "code",
   "execution_count": 62,
   "id": "e7ee3ea8",
   "metadata": {},
   "outputs": [],
   "source": [
    "#Creacion de la agrupacion mensual del archivo semielaborado\n",
    "df_costo_semi_Mes = fc.pivote_semielaborados(df_costo_semi)"
   ]
  },
  {
   "cell_type": "markdown",
   "id": "86a219ad",
   "metadata": {},
   "source": [
    "**Generación del nuevo archivo consolidado V2**"
   ]
  },
  {
   "cell_type": "code",
   "execution_count": 63,
   "id": "cf852ffa",
   "metadata": {},
   "outputs": [],
   "source": [
    "df_Mezclas_2 = df_Mezclas.copy(deep=True)"
   ]
  },
  {
   "cell_type": "code",
   "execution_count": 64,
   "id": "7b8afc8b",
   "metadata": {},
   "outputs": [],
   "source": [
    "#Traer la columna 'Costo/kg' al dataframe original\n",
    "df_Mezclas_2 = fc.merge_costo(df_Mezclas_2, df_costo_semi_Mes)"
   ]
  },
  {
   "cell_type": "code",
   "execution_count": 65,
   "id": "a818ce5f",
   "metadata": {},
   "outputs": [],
   "source": [
    "#Eliminar la columna Costo/kg antigua y renombrar la nueva\n",
    "df_Mezclas_2 = fc.modificar_costo(df_Mezclas_2)"
   ]
  },
  {
   "cell_type": "code",
   "execution_count": 66,
   "id": "7dc8a619",
   "metadata": {},
   "outputs": [],
   "source": [
    "#Definir meta\n",
    "df_Mezclas_2['Meta'] = df_Mezclas_2['Máquina / Equipo:'].map({'ENFLEX': 0.0056,\n",
    "                                                              'TRANSPACK 2': 0.0033,\n",
    "                                                              'INGEPACK': 0.0072,\n",
    "                                                              'ROVEMA':0.0078,\n",
    "                                                              'LANIC':0.0055,\n",
    "                                                              'TOYO 7':0.0065,\n",
    "                                                              'TOYO':0.0088,\n",
    "                                                              'ENCAPSULADORA':0.006,\n",
    "                                                              'INGEPACK 2':0.0068})"
   ]
  },
  {
   "cell_type": "code",
   "execution_count": null,
   "id": "88419baa",
   "metadata": {},
   "outputs": [
    {
     "data": {
      "text/html": [
       "<div>\n",
       "<style scoped>\n",
       "    .dataframe tbody tr th:only-of-type {\n",
       "        vertical-align: middle;\n",
       "    }\n",
       "\n",
       "    .dataframe tbody tr th {\n",
       "        vertical-align: top;\n",
       "    }\n",
       "\n",
       "    .dataframe thead th {\n",
       "        text-align: right;\n",
       "    }\n",
       "</style>\n",
       "<table border=\"1\" class=\"dataframe\">\n",
       "  <thead>\n",
       "    <tr style=\"text-align: right;\">\n",
       "      <th></th>\n",
       "      <th>Número</th>\n",
       "      <th>Dia</th>\n",
       "      <th>Fecha</th>\n",
       "      <th>Mes:</th>\n",
       "      <th>IdMes</th>\n",
       "      <th>Año:</th>\n",
       "      <th>Máquina / Equipo:</th>\n",
       "      <th>Semana:</th>\n",
       "      <th>Turno:</th>\n",
       "      <th>Código y Descrip. / Producto:</th>\n",
       "      <th>...</th>\n",
       "      <th>Peso Promedio de la unidad (K):</th>\n",
       "      <th>Gramaje (K):</th>\n",
       "      <th>Codigo</th>\n",
       "      <th>Real_empaque_calculado</th>\n",
       "      <th>Debe_ser_empaque_calculado</th>\n",
       "      <th>Diferencia_calculado</th>\n",
       "      <th>Sobrepeso_calculado</th>\n",
       "      <th>Costo/kg</th>\n",
       "      <th>Meta</th>\n",
       "      <th>Ahorros_Perdidas</th>\n",
       "    </tr>\n",
       "  </thead>\n",
       "  <tbody>\n",
       "    <tr>\n",
       "      <th>0</th>\n",
       "      <td>74528</td>\n",
       "      <td>2</td>\n",
       "      <td>2024-01-02</td>\n",
       "      <td>Enero</td>\n",
       "      <td>1</td>\n",
       "      <td>2024</td>\n",
       "      <td>ENFLEX</td>\n",
       "      <td>1</td>\n",
       "      <td>1</td>\n",
       "      <td>1014168 Polvo st1 10g sobre ind. Horiz Ecu.</td>\n",
       "      <td>...</td>\n",
       "      <td>0.01010</td>\n",
       "      <td>0.0100</td>\n",
       "      <td>1014168</td>\n",
       "      <td>30.3000</td>\n",
       "      <td>30.00</td>\n",
       "      <td>0.3000</td>\n",
       "      <td>0.010000</td>\n",
       "      <td>55278.0</td>\n",
       "      <td>0.0056</td>\n",
       "      <td>-7369.662960</td>\n",
       "    </tr>\n",
       "    <tr>\n",
       "      <th>1</th>\n",
       "      <td>74529</td>\n",
       "      <td>2</td>\n",
       "      <td>2024-01-02</td>\n",
       "      <td>Enero</td>\n",
       "      <td>1</td>\n",
       "      <td>2024</td>\n",
       "      <td>INGEPACK 2</td>\n",
       "      <td>1</td>\n",
       "      <td>1</td>\n",
       "      <td>1057776 Cafe Colcafe Clasico10g25sobres</td>\n",
       "      <td>...</td>\n",
       "      <td>0.01005</td>\n",
       "      <td>0.0100</td>\n",
       "      <td>1057776</td>\n",
       "      <td>195.9750</td>\n",
       "      <td>195.00</td>\n",
       "      <td>0.9750</td>\n",
       "      <td>0.005000</td>\n",
       "      <td>40439.0</td>\n",
       "      <td>0.0068</td>\n",
       "      <td>14265.059445</td>\n",
       "    </tr>\n",
       "    <tr>\n",
       "      <th>2</th>\n",
       "      <td>74531</td>\n",
       "      <td>2</td>\n",
       "      <td>2024-01-02</td>\n",
       "      <td>Enero</td>\n",
       "      <td>1</td>\n",
       "      <td>2024</td>\n",
       "      <td>TOYO</td>\n",
       "      <td>1</td>\n",
       "      <td>3</td>\n",
       "      <td>1056678 Cafe COLCAFE clasico 1.5g 48sob 30ple</td>\n",
       "      <td>...</td>\n",
       "      <td>0.00151</td>\n",
       "      <td>0.0015</td>\n",
       "      <td>1056678</td>\n",
       "      <td>160.9056</td>\n",
       "      <td>159.84</td>\n",
       "      <td>1.0656</td>\n",
       "      <td>0.006667</td>\n",
       "      <td>40439.0</td>\n",
       "      <td>0.0088</td>\n",
       "      <td>13881.304658</td>\n",
       "    </tr>\n",
       "    <tr>\n",
       "      <th>3</th>\n",
       "      <td>74532</td>\n",
       "      <td>2</td>\n",
       "      <td>2024-01-02</td>\n",
       "      <td>Enero</td>\n",
       "      <td>1</td>\n",
       "      <td>2024</td>\n",
       "      <td>ROVEMA</td>\n",
       "      <td>1</td>\n",
       "      <td>3</td>\n",
       "      <td>1057775 Cafe COLCAFE clasico 10g10sob12tarj</td>\n",
       "      <td>...</td>\n",
       "      <td>0.01009</td>\n",
       "      <td>0.0100</td>\n",
       "      <td>1057775</td>\n",
       "      <td>274.8516</td>\n",
       "      <td>272.40</td>\n",
       "      <td>2.4516</td>\n",
       "      <td>0.009000</td>\n",
       "      <td>40439.0</td>\n",
       "      <td>0.0078</td>\n",
       "      <td>-13337.668623</td>\n",
       "    </tr>\n",
       "    <tr>\n",
       "      <th>4</th>\n",
       "      <td>74533</td>\n",
       "      <td>2</td>\n",
       "      <td>2024-01-02</td>\n",
       "      <td>Enero</td>\n",
       "      <td>1</td>\n",
       "      <td>2024</td>\n",
       "      <td>INGEPACK</td>\n",
       "      <td>1</td>\n",
       "      <td>3</td>\n",
       "      <td>1003690 Cafe COLCAFE polvo ST1 Cj25tirilX24X10g</td>\n",
       "      <td>...</td>\n",
       "      <td>0.01007</td>\n",
       "      <td>0.0100</td>\n",
       "      <td>1003690</td>\n",
       "      <td>259.8060</td>\n",
       "      <td>258.00</td>\n",
       "      <td>1.8060</td>\n",
       "      <td>0.007000</td>\n",
       "      <td>55278.0</td>\n",
       "      <td>0.0072</td>\n",
       "      <td>2872.311214</td>\n",
       "    </tr>\n",
       "  </tbody>\n",
       "</table>\n",
       "<p>5 rows × 21 columns</p>\n",
       "</div>"
      ],
      "text/plain": [
       "   Número  Dia       Fecha   Mes:  IdMes  Año: Máquina / Equipo: Semana:  \\\n",
       "0   74528    2  2024-01-02  Enero      1  2024            ENFLEX       1   \n",
       "1   74529    2  2024-01-02  Enero      1  2024        INGEPACK 2       1   \n",
       "2   74531    2  2024-01-02  Enero      1  2024              TOYO       1   \n",
       "3   74532    2  2024-01-02  Enero      1  2024            ROVEMA       1   \n",
       "4   74533    2  2024-01-02  Enero      1  2024          INGEPACK       1   \n",
       "\n",
       "   Turno:                    Código y Descrip. / Producto:  ...  \\\n",
       "0       1      1014168 Polvo st1 10g sobre ind. Horiz Ecu.  ...   \n",
       "1       1          1057776 Cafe Colcafe Clasico10g25sobres  ...   \n",
       "2       3    1056678 Cafe COLCAFE clasico 1.5g 48sob 30ple  ...   \n",
       "3       3      1057775 Cafe COLCAFE clasico 10g10sob12tarj  ...   \n",
       "4       3  1003690 Cafe COLCAFE polvo ST1 Cj25tirilX24X10g  ...   \n",
       "\n",
       "   Peso Promedio de la unidad (K):  Gramaje (K):   Codigo  \\\n",
       "0                          0.01010        0.0100  1014168   \n",
       "1                          0.01005        0.0100  1057776   \n",
       "2                          0.00151        0.0015  1056678   \n",
       "3                          0.01009        0.0100  1057775   \n",
       "4                          0.01007        0.0100  1003690   \n",
       "\n",
       "  Real_empaque_calculado  Debe_ser_empaque_calculado  Diferencia_calculado  \\\n",
       "0                30.3000                       30.00                0.3000   \n",
       "1               195.9750                      195.00                0.9750   \n",
       "2               160.9056                      159.84                1.0656   \n",
       "3               274.8516                      272.40                2.4516   \n",
       "4               259.8060                      258.00                1.8060   \n",
       "\n",
       "   Sobrepeso_calculado  Costo/kg    Meta  Ahorros_Perdidas  \n",
       "0             0.010000   55278.0  0.0056      -7369.662960  \n",
       "1             0.005000   40439.0  0.0068      14265.059445  \n",
       "2             0.006667   40439.0  0.0088      13881.304658  \n",
       "3             0.009000   40439.0  0.0078     -13337.668623  \n",
       "4             0.007000   55278.0  0.0072       2872.311214  \n",
       "\n",
       "[5 rows x 21 columns]"
      ]
     },
     "execution_count": 67,
     "metadata": {},
     "output_type": "execute_result"
    }
   ],
   "source": [
    "#Calcular columna 'Ahorros/Perdidas'\n",
    "df_Mezclas_2 = fc.calcular_ahorros_perdidas(df_Mezclas_2)\n",
    "# df_Mezclas_2.head()"
   ]
  },
  {
   "cell_type": "code",
   "execution_count": 68,
   "id": "52ce4832",
   "metadata": {},
   "outputs": [],
   "source": [
    "#Eliminar registro con Número = 81187\n",
    "df_Mezclas_2.drop(df_Mezclas_2.loc[df_Mezclas_2['Número'] == 81187].index, inplace=True)"
   ]
  },
  {
   "cell_type": "markdown",
   "id": "37d688ed",
   "metadata": {},
   "source": [
    "**Unión de los dataframes en un dataframe totalizado**"
   ]
  },
  {
   "cell_type": "code",
   "execution_count": 69,
   "id": "452716f3",
   "metadata": {},
   "outputs": [],
   "source": [
    "df_totalizado_Mes = df_Mezclas_Mes.copy(deep=True)"
   ]
  },
  {
   "cell_type": "code",
   "execution_count": 70,
   "id": "36d50a89",
   "metadata": {},
   "outputs": [
    {
     "name": "stdout",
     "output_type": "stream",
     "text": [
      "No hay filas duplicadas.\n"
     ]
    }
   ],
   "source": [
    "#Validar que no hay filas repetidas en df_totalizado_Mes\n",
    "fc.filas_repetidas(df_totalizado_Mes)"
   ]
  },
  {
   "cell_type": "code",
   "execution_count": 71,
   "id": "d3762700",
   "metadata": {},
   "outputs": [],
   "source": [
    "#Fusionar los DataFrames en base a 'Año:', 'Codigo' y 'Mes:'\n",
    "df_totalizado_Mes = fc.unir_dataframes(df_totalizado_Mes, df_costo_semi_Mes)"
   ]
  },
  {
   "cell_type": "code",
   "execution_count": null,
   "id": "2fe7306a",
   "metadata": {},
   "outputs": [
    {
     "data": {
      "text/html": [
       "<div>\n",
       "<style scoped>\n",
       "    .dataframe tbody tr th:only-of-type {\n",
       "        vertical-align: middle;\n",
       "    }\n",
       "\n",
       "    .dataframe tbody tr th {\n",
       "        vertical-align: top;\n",
       "    }\n",
       "\n",
       "    .dataframe thead th {\n",
       "        text-align: right;\n",
       "    }\n",
       "</style>\n",
       "<table border=\"1\" class=\"dataframe\">\n",
       "  <thead>\n",
       "    <tr style=\"text-align: right;\">\n",
       "      <th></th>\n",
       "      <th>Año:</th>\n",
       "      <th>Mes:</th>\n",
       "      <th>Codigo</th>\n",
       "      <th>Máquina / Equipo:</th>\n",
       "      <th>Debe_ser_empaque_calculado</th>\n",
       "      <th>Diferencia_calculado</th>\n",
       "      <th>Gramaje (K):</th>\n",
       "      <th>Peso Promedio de la unidad (K):</th>\n",
       "      <th>Real_empaque_calculado</th>\n",
       "      <th>Unidades Producidas (Conformes) :</th>\n",
       "      <th>Ctd.</th>\n",
       "      <th>Impte.ML</th>\n",
       "      <th>Real_empaque</th>\n",
       "      <th>Debe_ser_empaque</th>\n",
       "      <th>Diferencia</th>\n",
       "      <th>Sobrepeso</th>\n",
       "      <th>Meta</th>\n",
       "      <th>Costo/kg</th>\n",
       "      <th>Ahorros_Perdidas</th>\n",
       "    </tr>\n",
       "  </thead>\n",
       "  <tbody>\n",
       "    <tr>\n",
       "      <th>0</th>\n",
       "      <td>2024</td>\n",
       "      <td>Abril</td>\n",
       "      <td>1002807</td>\n",
       "      <td>ENFLEX</td>\n",
       "      <td>2009.05</td>\n",
       "      <td>18.94068</td>\n",
       "      <td>0.025</td>\n",
       "      <td>0.025253</td>\n",
       "      <td>2027.99068</td>\n",
       "      <td>80362.0</td>\n",
       "      <td>1990.000</td>\n",
       "      <td>77354198.0</td>\n",
       "      <td>2.029370</td>\n",
       "      <td>2.00905</td>\n",
       "      <td>0.020320</td>\n",
       "      <td>0.010114</td>\n",
       "      <td>0.0056</td>\n",
       "      <td>38871.456281</td>\n",
       "      <td>-356.107493</td>\n",
       "    </tr>\n",
       "    <tr>\n",
       "      <th>1</th>\n",
       "      <td>2024</td>\n",
       "      <td>Abril</td>\n",
       "      <td>1003359</td>\n",
       "      <td>TRANSPACK 2</td>\n",
       "      <td>13581.50</td>\n",
       "      <td>59.07912</td>\n",
       "      <td>0.500</td>\n",
       "      <td>0.502275</td>\n",
       "      <td>13640.57912</td>\n",
       "      <td>27163.0</td>\n",
       "      <td>17446.108</td>\n",
       "      <td>602763406.0</td>\n",
       "      <td>13.643285</td>\n",
       "      <td>13.58150</td>\n",
       "      <td>0.061785</td>\n",
       "      <td>0.004549</td>\n",
       "      <td>0.0033</td>\n",
       "      <td>34550.021472</td>\n",
       "      <td>-588.857157</td>\n",
       "    </tr>\n",
       "    <tr>\n",
       "      <th>2</th>\n",
       "      <td>2024</td>\n",
       "      <td>Abril</td>\n",
       "      <td>1003690</td>\n",
       "      <td>INGEPACK</td>\n",
       "      <td>2874.00</td>\n",
       "      <td>28.94400</td>\n",
       "      <td>0.010</td>\n",
       "      <td>0.010101</td>\n",
       "      <td>2902.94400</td>\n",
       "      <td>287400.0</td>\n",
       "      <td>4129.000</td>\n",
       "      <td>170292347.0</td>\n",
       "      <td>2.902945</td>\n",
       "      <td>2.87400</td>\n",
       "      <td>0.028945</td>\n",
       "      <td>0.010071</td>\n",
       "      <td>0.0072</td>\n",
       "      <td>41243.000000</td>\n",
       "      <td>-343.785152</td>\n",
       "    </tr>\n",
       "    <tr>\n",
       "      <th>3</th>\n",
       "      <td>2024</td>\n",
       "      <td>Abril</td>\n",
       "      <td>1003690</td>\n",
       "      <td>ROVEMA</td>\n",
       "      <td>1314.00</td>\n",
       "      <td>12.37800</td>\n",
       "      <td>0.010</td>\n",
       "      <td>0.010093</td>\n",
       "      <td>1326.37800</td>\n",
       "      <td>131400.0</td>\n",
       "      <td>4129.000</td>\n",
       "      <td>170292347.0</td>\n",
       "      <td>1.326264</td>\n",
       "      <td>1.31400</td>\n",
       "      <td>0.012264</td>\n",
       "      <td>0.009333</td>\n",
       "      <td>0.0078</td>\n",
       "      <td>41243.000000</td>\n",
       "      <td>-83.871963</td>\n",
       "    </tr>\n",
       "    <tr>\n",
       "      <th>4</th>\n",
       "      <td>2024</td>\n",
       "      <td>Abril</td>\n",
       "      <td>1014168</td>\n",
       "      <td>INGEPACK</td>\n",
       "      <td>496.00</td>\n",
       "      <td>6.88900</td>\n",
       "      <td>0.010</td>\n",
       "      <td>0.010130</td>\n",
       "      <td>502.88900</td>\n",
       "      <td>49600.0</td>\n",
       "      <td>505.000</td>\n",
       "      <td>20827715.0</td>\n",
       "      <td>0.502448</td>\n",
       "      <td>0.49600</td>\n",
       "      <td>0.006448</td>\n",
       "      <td>0.013000</td>\n",
       "      <td>0.0072</td>\n",
       "      <td>41243.000000</td>\n",
       "      <td>-120.190285</td>\n",
       "    </tr>\n",
       "  </tbody>\n",
       "</table>\n",
       "</div>"
      ],
      "text/plain": [
       "   Año:   Mes:   Codigo Máquina / Equipo:  Debe_ser_empaque_calculado  \\\n",
       "0  2024  Abril  1002807            ENFLEX                     2009.05   \n",
       "1  2024  Abril  1003359       TRANSPACK 2                    13581.50   \n",
       "2  2024  Abril  1003690          INGEPACK                     2874.00   \n",
       "3  2024  Abril  1003690            ROVEMA                     1314.00   \n",
       "4  2024  Abril  1014168          INGEPACK                      496.00   \n",
       "\n",
       "   Diferencia_calculado  Gramaje (K):  Peso Promedio de la unidad (K):  \\\n",
       "0              18.94068         0.025                         0.025253   \n",
       "1              59.07912         0.500                         0.502275   \n",
       "2              28.94400         0.010                         0.010101   \n",
       "3              12.37800         0.010                         0.010093   \n",
       "4               6.88900         0.010                         0.010130   \n",
       "\n",
       "   Real_empaque_calculado  Unidades Producidas (Conformes) :       Ctd.  \\\n",
       "0              2027.99068                            80362.0   1990.000   \n",
       "1             13640.57912                            27163.0  17446.108   \n",
       "2              2902.94400                           287400.0   4129.000   \n",
       "3              1326.37800                           131400.0   4129.000   \n",
       "4               502.88900                            49600.0    505.000   \n",
       "\n",
       "      Impte.ML  Real_empaque  Debe_ser_empaque  Diferencia  Sobrepeso    Meta  \\\n",
       "0   77354198.0      2.029370           2.00905    0.020320   0.010114  0.0056   \n",
       "1  602763406.0     13.643285          13.58150    0.061785   0.004549  0.0033   \n",
       "2  170292347.0      2.902945           2.87400    0.028945   0.010071  0.0072   \n",
       "3  170292347.0      1.326264           1.31400    0.012264   0.009333  0.0078   \n",
       "4   20827715.0      0.502448           0.49600    0.006448   0.013000  0.0072   \n",
       "\n",
       "       Costo/kg  Ahorros_Perdidas  \n",
       "0  38871.456281       -356.107493  \n",
       "1  34550.021472       -588.857157  \n",
       "2  41243.000000       -343.785152  \n",
       "3  41243.000000        -83.871963  \n",
       "4  41243.000000       -120.190285  "
      ]
     },
     "execution_count": 72,
     "metadata": {},
     "output_type": "execute_result"
    }
   ],
   "source": [
    "#Metodo diferente a los demas calcular_columnas_totalizado ya que sus metas de sobrepeso no son fijas\n",
    "df_totalizado_Mes = fc.calcular_columnas_totalizado_mezclas(df_totalizado_Mes)\n",
    "# df_totalizado_Mes.head()"
   ]
  },
  {
   "cell_type": "code",
   "execution_count": 73,
   "id": "4cc65ea8",
   "metadata": {},
   "outputs": [],
   "source": [
    "# Obtener Codigos unicos de df_Mezclas\n",
    "df_Codigos_Mezclas = fc.eliminar_duplicados_columna(df_Mezclas, 'Codigo')"
   ]
  },
  {
   "cell_type": "code",
   "execution_count": 74,
   "id": "1f123d23",
   "metadata": {},
   "outputs": [],
   "source": [
    "# Obtener Maquinas únicas de TPM o df_Codigos_Mezclas\n",
    "df_Maquinas_Mezclas = fc.eliminar_duplicados_columna(df_Mezclas, 'Máquina / Equipo:')"
   ]
  },
  {
   "cell_type": "code",
   "execution_count": 75,
   "id": "116d853f",
   "metadata": {},
   "outputs": [],
   "source": [
    "# Obtener Codigos únicos de COOISPI\n",
    "df_Codigos_Mezclas_COOISPI = fc.eliminar_duplicados_columna(df_COOISPI_COMB, 'Codigo')"
   ]
  },
  {
   "cell_type": "markdown",
   "id": "947a1897",
   "metadata": {},
   "source": [
    "**Codigos que están en TPM pero no están en la COOISPI**"
   ]
  },
  {
   "cell_type": "code",
   "execution_count": 76,
   "id": "6b0f274a",
   "metadata": {},
   "outputs": [],
   "source": [
    "#Obtener Codigos que están en TPM (df_Codigos_Mezclas) pero NO en COOISPI(df_Codigos_Mezclas_COOISPI)\n",
    "df_Mezclas_Codigos_unicos = df_Codigos_Mezclas[~df_Codigos_Mezclas['Codigo'].isin(df_Codigos_Mezclas_COOISPI['Codigo'])]"
   ]
  },
  {
   "cell_type": "markdown",
   "id": "0ef2e32a",
   "metadata": {},
   "source": [
    "**Generación de un archivo de fechas Automáticas**"
   ]
  },
  {
   "cell_type": "code",
   "execution_count": 77,
   "id": "49d12936",
   "metadata": {},
   "outputs": [],
   "source": [
    "#Generar dataframe con fechas dese 2024-01-01 hasta el dia actual\n",
    "df_Fechas = fc.generar_fechas(\"2024-01-01\")"
   ]
  },
  {
   "cell_type": "code",
   "execution_count": 78,
   "id": "716c109c",
   "metadata": {},
   "outputs": [],
   "source": [
    "# print(df_Mezclas.shape)\n",
    "# print(df_COOISPI_COMB.shape)\n",
    "# print(df_Mezclas_Mes.shape)\n",
    "# print(df_Codigos_Mezclas.shape)\n",
    "# print(df_Maquinas_Mezclas.shape)\n",
    "# print(df_totalizado_Mes.shape)\n",
    "# print(df_Fechas.shape)\n",
    "# print(df_Mezclas_2.shape)\n",
    "# print()\n",
    "# print(df_Mezclas_Nov_Sobrepeso.shape)\n",
    "# print(df_Mezclas_Codigos_nan.shape)\n",
    "# print(df_Mezclas_Codigos_unicos.shape)\n",
    "# print(df_Mezclas_nan_ceros.shape)\n",
    "# print(df_non_conver.shape)"
   ]
  },
  {
   "cell_type": "markdown",
   "id": "f1da05a9",
   "metadata": {},
   "source": [
    "**Consolidado csv**"
   ]
  },
  {
   "cell_type": "code",
   "execution_count": 79,
   "id": "0dfdef19",
   "metadata": {},
   "outputs": [],
   "source": [
    "#Ruta para consolidado df_Mezclas_2\n",
    "df_Mezclas_2.to_csv(Ruta_Mezclas + \"DB_Mezclas_Out_vf.csv\", index=False)"
   ]
  },
  {
   "cell_type": "markdown",
   "id": "1bf8dd5c",
   "metadata": {},
   "source": [
    "**Archivo de consolidado**"
   ]
  },
  {
   "cell_type": "code",
   "execution_count": 80,
   "id": "d77de154",
   "metadata": {},
   "outputs": [
    {
     "name": "stdout",
     "output_type": "stream",
     "text": [
      "Procesando Consolidado...\n",
      "✅ Las hojas en el Archivo de Consolidado han sido limpiadas y actualizadas correctamente.\n"
     ]
    }
   ],
   "source": [
    "#Diccionario de hojas para el archivo de Consolidado_V2\n",
    "dataframes_consolidado = {\n",
    "    \"Hoja1\": df_Mezclas,\n",
    "    \"Hoja2\": df_COOISPI_COMB,\n",
    "    \"Hoja3\": df_Mezclas_Mes,\n",
    "    \"Hoja4\": df_Codigos_Mezclas,\n",
    "    \"Hoja5\": df_Maquinas_Mezclas,\n",
    "    \"Hoja6\": df_totalizado_Mes,\n",
    "    \"Hoja7\": df_Fechas,\n",
    "    \"Hoja8\": df_Mezclas_2,\n",
    "}\n",
    "#Actualizar hojas del excel de Consolidado_V2\n",
    "fc.actualizar_hojas_excel(Ruta_Consolidados, dataframes_consolidado)"
   ]
  },
  {
   "cell_type": "markdown",
   "id": "4c7c0178",
   "metadata": {},
   "source": [
    "**Archivo de novedades: Este archivo compila las diferentes novedades presentes en los archivos de TPM**"
   ]
  },
  {
   "cell_type": "code",
   "execution_count": 81,
   "id": "ec8954dd",
   "metadata": {},
   "outputs": [
    {
     "name": "stdout",
     "output_type": "stream",
     "text": [
      "Procesando Novedades...\n",
      "✅ El Archivo de Novedades guardado exitosamente con 5 hojas guardadas correctamente.\n"
     ]
    }
   ],
   "source": [
    "#Diccionario de hojas para el archivo de novedades\n",
    "dataframes_novedades = {\n",
    "    \"Sobrepeso mayor  5%\": df_Mezclas_Nov_Sobrepeso,\n",
    "    \"Codigos Nulo TPM\": df_Mezclas_Codigos_nan,\n",
    "    \"Codigos unicos en TPM\": df_Mezclas_Codigos_unicos,\n",
    "    \"Codigos NA,Vacio, 0\": df_Mezclas_nan_ceros,\n",
    "    \"Errores\": df_non_conver\n",
    "}\n",
    "#Guardar el archivo de Novedades\n",
    "fc.crear_archivo_novedades(Ruta_Novedades, dataframes_novedades)"
   ]
  }
 ],
 "metadata": {
  "kernelspec": {
   "display_name": "Python 3",
   "language": "python",
   "name": "python3"
  },
  "language_info": {
   "codemirror_mode": {
    "name": "ipython",
    "version": 3
   },
   "file_extension": ".py",
   "mimetype": "text/x-python",
   "name": "python",
   "nbconvert_exporter": "python",
   "pygments_lexer": "ipython3",
   "version": "3.13.2"
  }
 },
 "nbformat": 4,
 "nbformat_minor": 5
}
