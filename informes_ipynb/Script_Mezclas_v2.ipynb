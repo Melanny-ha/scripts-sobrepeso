{
 "cells": [
  {
   "cell_type": "code",
   "execution_count": 1,
   "id": "e1ef3d90",
   "metadata": {},
   "outputs": [],
   "source": [
    "import os\n",
    "import pandas as pd\n",
    "import warnings\n",
    "import funciones_tpm as fc\n",
    "import numpy as np"
   ]
  },
  {
   "cell_type": "code",
   "execution_count": 2,
   "id": "6516d9d8",
   "metadata": {},
   "outputs": [],
   "source": [
    "#Ocultar advertencias/warnings mas no los borra\n",
    "warnings.filterwarnings(\"ignore\", category=pd.errors.DtypeWarning)"
   ]
  },
  {
   "cell_type": "code",
   "execution_count": 3,
   "id": "f660a745",
   "metadata": {},
   "outputs": [],
   "source": [
    "#Año evaluado\n",
    "Añoeval = 2025"
   ]
  },
  {
   "cell_type": "markdown",
   "id": "bf02b8f8",
   "metadata": {},
   "source": [
    "**Variables globales de las rutas necesarias**"
   ]
  },
  {
   "cell_type": "code",
   "execution_count": 72,
   "id": "51e0d56f",
   "metadata": {},
   "outputs": [
    {
     "name": "stdout",
     "output_type": "stream",
     "text": [
      "Ruta 'Ruta_COOISPI' encontrada.\n",
      "Ruta 'Ruta_Archivo_EGE' encontrada.\n",
      "Ruta 'Ruta_Novedades' encontrada.\n",
      "Ruta 'Ruta_Consolidados' encontrada.\n"
     ]
    }
   ],
   "source": [
    "#Rutas del archivo de la COOISPI\n",
    "Ruta_COOISPI = r\"\\\\10.28.5.232\\s3-1colcafeci-servicios-jtc\\TPM\\Colcafé Formularios\\BD Sobrepeso\\COOISPI\\Datos_COOISPI_Mezclas.csv\"                          # Ruta COOISPI en csv\n",
    "\n",
    "#Rutas del archivo del EGE\n",
    "Ruta_Archivo_EGE = r\"\\\\10.28.5.232\\s3-1colcafeci-servicios-jtc\\TPM\\Colcafé Formularios\\BD Sobrepeso\\Backup_BD_Salones\\Datos_Mezclas_2021.csv\"               # Ruta Mezclas\n",
    "\n",
    "#Rutas del archivo de Novedades\n",
    "Ruta_Novedades = r\"\\\\10.28.5.232\\s3-1colcafeci-servicios-jtc\\TPM\\Colcafé Formularios\\BD Sobrepeso\\Consolidados_Salones\\Mezclas\\Mezclas_Novedades_V2.xlsx\"   # Ruta del archivo de Novedades\n",
    "\n",
    "#Rutas del archivo de Consolidados\n",
    "Ruta_Consolidados = r\"\\\\10.28.5.232\\s3-1colcafeci-servicios-jtc\\TPM\\Colcafé Formularios\\BD Sobrepeso\\Consolidados_Salones\\Mezclas\\Consolidado_V2.xlsx\"      # Ruta del archivo de Consolidados\n",
    "\n",
    "#Ruta de salida\n",
    "# Ruta_Mezclas = r\"\\\\10.28.5.232\\s3-1colcafeci-servicios-jtc\\TPM\\Colcafé Formularios\\BD Sobrepeso\\Consolidados_Salones\\Mezclas\"                             # DB_Mezclas_Out_vf.csv\n",
    "\n",
    "#Validacion de existencia de las rutas\n",
    "for nombre, ruta in {\n",
    "  \"Ruta_COOISPI\": Ruta_COOISPI,\n",
    "  \"Ruta_Archivo_EGE\": Ruta_Archivo_EGE,\n",
    "  \"Ruta_Novedades\": Ruta_Novedades,\n",
    "  \"Ruta_Consolidados\": Ruta_Consolidados,\n",
    "  # \"Ruta_Mezclas\": Ruta_Mezclas,\n",
    "}.items():\n",
    "  if not os.path.exists(ruta):\n",
    "    raise FileNotFoundError(f\"La ruta '{nombre}' no fue encontrada.\")\n",
    "  else:\n",
    "    print(f\"Ruta '{nombre}' encontrada.\")"
   ]
  },
  {
   "cell_type": "code",
   "execution_count": 73,
   "id": "fee40793",
   "metadata": {},
   "outputs": [],
   "source": [
    "#Leer_archivo COOISPI csv\n",
    "df_COOISPI_COMB = fc.leer_archivo(Ruta_COOISPI)"
   ]
  },
  {
   "cell_type": "code",
   "execution_count": 74,
   "id": "a8540310",
   "metadata": {},
   "outputs": [],
   "source": [
    "#Convertir columna 'Codigo' a str para futuros procesor (merge y tabla pivote)\n",
    "df_COOISPI_COMB['Codigo'] = df_COOISPI_COMB['Codigo'].astype(str)"
   ]
  },
  {
   "cell_type": "code",
   "execution_count": 75,
   "id": "74937815",
   "metadata": {},
   "outputs": [],
   "source": [
    "#Funcion para leer archivo el EGE/TPM\n",
    "df_Mezclas = fc.leer_archivo(Ruta_Archivo_EGE, 'Datos')"
   ]
  },
  {
   "cell_type": "code",
   "execution_count": 76,
   "id": "bd1377cb",
   "metadata": {},
   "outputs": [
    {
     "data": {
      "text/html": [
       "<div>\n",
       "<style scoped>\n",
       "    .dataframe tbody tr th:only-of-type {\n",
       "        vertical-align: middle;\n",
       "    }\n",
       "\n",
       "    .dataframe tbody tr th {\n",
       "        vertical-align: top;\n",
       "    }\n",
       "\n",
       "    .dataframe thead th {\n",
       "        text-align: right;\n",
       "    }\n",
       "</style>\n",
       "<table border=\"1\" class=\"dataframe\">\n",
       "  <thead>\n",
       "    <tr style=\"text-align: right;\">\n",
       "      <th></th>\n",
       "      <th>Número</th>\n",
       "      <th>Día:</th>\n",
       "      <th>Mes:</th>\n",
       "      <th>Año:</th>\n",
       "      <th>Semana:</th>\n",
       "      <th>Turno:</th>\n",
       "      <th>Hora de Inicio:</th>\n",
       "      <th>Hora Final:</th>\n",
       "      <th>Máquina / Equipo:</th>\n",
       "      <th>Código y Descrip. / Producto:</th>\n",
       "      <th>...</th>\n",
       "      <th>Legal Contractual\\nPeso min</th>\n",
       "      <th>Legal Contractual\\nMarcación min</th>\n",
       "      <th>Legal Contractual\\nOtros min</th>\n",
       "      <th>Legal Contractual\\nPeso Ev</th>\n",
       "      <th>Legal Contractual\\nMarcación Ev</th>\n",
       "      <th>Legal Contractual\\nOtros Ev</th>\n",
       "      <th>Reprocesables\\nOperativos</th>\n",
       "      <th>Reprocesables\\nQA</th>\n",
       "      <th>No Reprocesabales\\nPCC Contaminación</th>\n",
       "      <th>No Reprocesables\\nInnocuidad</th>\n",
       "    </tr>\n",
       "  </thead>\n",
       "  <tbody>\n",
       "    <tr>\n",
       "      <th>0</th>\n",
       "      <td>57517</td>\n",
       "      <td>4</td>\n",
       "      <td>Enero</td>\n",
       "      <td>2021</td>\n",
       "      <td>1</td>\n",
       "      <td>1</td>\n",
       "      <td>11:10:00</td>\n",
       "      <td>13:15:00</td>\n",
       "      <td>TOYO</td>\n",
       "      <td>1014138 Coffee Crem COLCAFE 3g 24un 30ple</td>\n",
       "      <td>...</td>\n",
       "      <td>NaN</td>\n",
       "      <td>NaN</td>\n",
       "      <td>NaN</td>\n",
       "      <td>NaN</td>\n",
       "      <td>NaN</td>\n",
       "      <td>NaN</td>\n",
       "      <td>30.0</td>\n",
       "      <td>80.0</td>\n",
       "      <td>NaN</td>\n",
       "      <td>NaN</td>\n",
       "    </tr>\n",
       "    <tr>\n",
       "      <th>1</th>\n",
       "      <td>57518</td>\n",
       "      <td>4</td>\n",
       "      <td>Enero</td>\n",
       "      <td>2021</td>\n",
       "      <td>1</td>\n",
       "      <td>2</td>\n",
       "      <td>13:35:00</td>\n",
       "      <td>21:35:00</td>\n",
       "      <td>TOYO</td>\n",
       "      <td>1014138 Coffee Crem COLCAFE 3g 24un 30ple</td>\n",
       "      <td>...</td>\n",
       "      <td>NaN</td>\n",
       "      <td>NaN</td>\n",
       "      <td>NaN</td>\n",
       "      <td>NaN</td>\n",
       "      <td>NaN</td>\n",
       "      <td>NaN</td>\n",
       "      <td>NaN</td>\n",
       "      <td>90.0</td>\n",
       "      <td>NaN</td>\n",
       "      <td>NaN</td>\n",
       "    </tr>\n",
       "    <tr>\n",
       "      <th>2</th>\n",
       "      <td>57519</td>\n",
       "      <td>5</td>\n",
       "      <td>Enero</td>\n",
       "      <td>2021</td>\n",
       "      <td>1</td>\n",
       "      <td>2</td>\n",
       "      <td>13:40:00</td>\n",
       "      <td>21:20:00</td>\n",
       "      <td>TOYO</td>\n",
       "      <td>1038938 Cafe COLCAFE clasico 1.5g 48 sob 30 pleg</td>\n",
       "      <td>...</td>\n",
       "      <td>NaN</td>\n",
       "      <td>NaN</td>\n",
       "      <td>NaN</td>\n",
       "      <td>NaN</td>\n",
       "      <td>NaN</td>\n",
       "      <td>NaN</td>\n",
       "      <td>NaN</td>\n",
       "      <td>198.0</td>\n",
       "      <td>NaN</td>\n",
       "      <td>NaN</td>\n",
       "    </tr>\n",
       "    <tr>\n",
       "      <th>3</th>\n",
       "      <td>57520</td>\n",
       "      <td>6</td>\n",
       "      <td>Enero</td>\n",
       "      <td>2021</td>\n",
       "      <td>1</td>\n",
       "      <td>1</td>\n",
       "      <td>07:35:00</td>\n",
       "      <td>12:40:00</td>\n",
       "      <td>TOYO</td>\n",
       "      <td>1038938 Cafe COLCAFE clasico 1.5g 48 sob 30 pleg</td>\n",
       "      <td>...</td>\n",
       "      <td>NaN</td>\n",
       "      <td>NaN</td>\n",
       "      <td>NaN</td>\n",
       "      <td>NaN</td>\n",
       "      <td>NaN</td>\n",
       "      <td>NaN</td>\n",
       "      <td>NaN</td>\n",
       "      <td>NaN</td>\n",
       "      <td>NaN</td>\n",
       "      <td>NaN</td>\n",
       "    </tr>\n",
       "    <tr>\n",
       "      <th>4</th>\n",
       "      <td>57521</td>\n",
       "      <td>4</td>\n",
       "      <td>Enero</td>\n",
       "      <td>2021</td>\n",
       "      <td>1</td>\n",
       "      <td>1</td>\n",
       "      <td>05:35:00</td>\n",
       "      <td>13:15:00</td>\n",
       "      <td>TOYO 2</td>\n",
       "      <td>1038938 Cafe COLCAFE clasico 1.5g 48sob 30ple</td>\n",
       "      <td>...</td>\n",
       "      <td>NaN</td>\n",
       "      <td>NaN</td>\n",
       "      <td>NaN</td>\n",
       "      <td>NaN</td>\n",
       "      <td>NaN</td>\n",
       "      <td>NaN</td>\n",
       "      <td>NaN</td>\n",
       "      <td>168.0</td>\n",
       "      <td>NaN</td>\n",
       "      <td>NaN</td>\n",
       "    </tr>\n",
       "  </tbody>\n",
       "</table>\n",
       "<p>5 rows × 174 columns</p>\n",
       "</div>"
      ],
      "text/plain": [
       "   Número  Día:   Mes:  Año: Semana:  Turno: Hora de Inicio: Hora Final:  \\\n",
       "0   57517     4  Enero  2021       1       1        11:10:00    13:15:00   \n",
       "1   57518     4  Enero  2021       1       2        13:35:00    21:35:00   \n",
       "2   57519     5  Enero  2021       1       2        13:40:00    21:20:00   \n",
       "3   57520     6  Enero  2021       1       1        07:35:00    12:40:00   \n",
       "4   57521     4  Enero  2021       1       1        05:35:00    13:15:00   \n",
       "\n",
       "  Máquina / Equipo:                     Código y Descrip. / Producto:  ...  \\\n",
       "0              TOYO         1014138 Coffee Crem COLCAFE 3g 24un 30ple  ...   \n",
       "1              TOYO         1014138 Coffee Crem COLCAFE 3g 24un 30ple  ...   \n",
       "2              TOYO  1038938 Cafe COLCAFE clasico 1.5g 48 sob 30 pleg  ...   \n",
       "3              TOYO  1038938 Cafe COLCAFE clasico 1.5g 48 sob 30 pleg  ...   \n",
       "4            TOYO 2     1038938 Cafe COLCAFE clasico 1.5g 48sob 30ple  ...   \n",
       "\n",
       "  Legal Contractual\\nPeso min Legal Contractual\\nMarcación min  \\\n",
       "0                         NaN                              NaN   \n",
       "1                         NaN                              NaN   \n",
       "2                         NaN                              NaN   \n",
       "3                         NaN                              NaN   \n",
       "4                         NaN                              NaN   \n",
       "\n",
       "   Legal Contractual\\nOtros min Legal Contractual\\nPeso Ev  \\\n",
       "0                           NaN                        NaN   \n",
       "1                           NaN                        NaN   \n",
       "2                           NaN                        NaN   \n",
       "3                           NaN                        NaN   \n",
       "4                           NaN                        NaN   \n",
       "\n",
       "  Legal Contractual\\nMarcación Ev  Legal Contractual\\nOtros Ev  \\\n",
       "0                             NaN                          NaN   \n",
       "1                             NaN                          NaN   \n",
       "2                             NaN                          NaN   \n",
       "3                             NaN                          NaN   \n",
       "4                             NaN                          NaN   \n",
       "\n",
       "   Reprocesables\\nOperativos  Reprocesables\\nQA  \\\n",
       "0                       30.0               80.0   \n",
       "1                        NaN               90.0   \n",
       "2                        NaN              198.0   \n",
       "3                        NaN                NaN   \n",
       "4                        NaN              168.0   \n",
       "\n",
       "   No Reprocesabales\\nPCC Contaminación  No Reprocesables\\nInnocuidad  \n",
       "0                                   NaN                           NaN  \n",
       "1                                   NaN                           NaN  \n",
       "2                                   NaN                           NaN  \n",
       "3                                   NaN                           NaN  \n",
       "4                                   NaN                           NaN  \n",
       "\n",
       "[5 rows x 174 columns]"
      ]
     },
     "execution_count": 76,
     "metadata": {},
     "output_type": "execute_result"
    }
   ],
   "source": [
    "df_Mezclas.head()"
   ]
  },
  {
   "cell_type": "code",
   "execution_count": 77,
   "id": "2434c13a",
   "metadata": {},
   "outputs": [],
   "source": [
    "#Reemplazar el nombre de la columna \"Día:\" y \"Mes_N\" para estandarizar los scripts\n",
    "df_Mezclas.rename(columns={\"Día:\":\"Dia\", \"Mes_N\":\"IdMes\"}, inplace=True)"
   ]
  },
  {
   "cell_type": "code",
   "execution_count": 78,
   "id": "d1cc7f3b",
   "metadata": {},
   "outputs": [],
   "source": [
    "#Eliminar_filas_vacias\n",
    "numeros_vacios_filtrados = fc.eliminar_filas_vacias(df_Mezclas, 'Número')"
   ]
  },
  {
   "cell_type": "code",
   "execution_count": 79,
   "id": "8ebbf001",
   "metadata": {},
   "outputs": [],
   "source": [
    "#Crear_fecha\n",
    "df_Mezclas = fc.crear_fecha(df_Mezclas)"
   ]
  },
  {
   "cell_type": "code",
   "execution_count": 80,
   "id": "b8b89a6c",
   "metadata": {},
   "outputs": [],
   "source": [
    "#Tomaré solo las columnas de interes del informe de mezclas para el sobrepeso\n",
    "columnas=['Número','Dia','Fecha','Mes:', 'IdMes', 'Año:', 'Máquina / Equipo:', 'Semana:', 'Turno:', 'Código y Descrip. / Producto:', 'Unidades Producidas (Conformes) :', 'Peso Promedio de la unidad (K):','Gramaje (K):']\n",
    "df_Mezclas = df_Mezclas[columnas]"
   ]
  },
  {
   "cell_type": "code",
   "execution_count": null,
   "id": "7c10e269",
   "metadata": {},
   "outputs": [
    {
     "data": {
      "text/html": [
       "<div>\n",
       "<style scoped>\n",
       "    .dataframe tbody tr th:only-of-type {\n",
       "        vertical-align: middle;\n",
       "    }\n",
       "\n",
       "    .dataframe tbody tr th {\n",
       "        vertical-align: top;\n",
       "    }\n",
       "\n",
       "    .dataframe thead th {\n",
       "        text-align: right;\n",
       "    }\n",
       "</style>\n",
       "<table border=\"1\" class=\"dataframe\">\n",
       "  <thead>\n",
       "    <tr style=\"text-align: right;\">\n",
       "      <th></th>\n",
       "      <th>Número</th>\n",
       "      <th>Dia</th>\n",
       "      <th>Fecha</th>\n",
       "      <th>Mes:</th>\n",
       "      <th>IdMes</th>\n",
       "      <th>Año:</th>\n",
       "      <th>Máquina / Equipo:</th>\n",
       "      <th>Semana:</th>\n",
       "      <th>Turno:</th>\n",
       "      <th>Código y Descrip. / Producto:</th>\n",
       "      <th>Unidades Producidas (Conformes) :</th>\n",
       "      <th>Peso Promedio de la unidad (K):</th>\n",
       "      <th>Gramaje (K):</th>\n",
       "    </tr>\n",
       "  </thead>\n",
       "  <tbody>\n",
       "    <tr>\n",
       "      <th>27255</th>\n",
       "      <td>84813</td>\n",
       "      <td>7</td>\n",
       "      <td>2025-08-07</td>\n",
       "      <td>Agosto</td>\n",
       "      <td>8</td>\n",
       "      <td>2025</td>\n",
       "      <td>INGEPACK</td>\n",
       "      <td>32</td>\n",
       "      <td>2</td>\n",
       "      <td>1003690 Cafe COLCAFE polvo ST1 Cj25tirilX24X10g</td>\n",
       "      <td>168/00</td>\n",
       "      <td>0.01006</td>\n",
       "      <td>0.01</td>\n",
       "    </tr>\n",
       "  </tbody>\n",
       "</table>\n",
       "</div>"
      ],
      "text/plain": [
       "       Número  Dia       Fecha    Mes:  IdMes  Año: Máquina / Equipo: Semana:  \\\n",
       "27255   84813    7  2025-08-07  Agosto      8  2025          INGEPACK      32   \n",
       "\n",
       "       Turno:                    Código y Descrip. / Producto:  \\\n",
       "27255       2  1003690 Cafe COLCAFE polvo ST1 Cj25tirilX24X10g   \n",
       "\n",
       "      Unidades Producidas (Conformes) : Peso Promedio de la unidad (K):  \\\n",
       "27255                            168/00                         0.01006   \n",
       "\n",
       "       Gramaje (K):  \n",
       "27255          0.01  "
      ]
     },
     "execution_count": 66,
     "metadata": {},
     "output_type": "execute_result"
    }
   ],
   "source": [
    "# df_Mezclas[df_Mezclas['Número'] == 84813]"
   ]
  },
  {
   "cell_type": "code",
   "execution_count": 81,
   "id": "d9cc9f4f",
   "metadata": {},
   "outputs": [
    {
     "data": {
      "text/plain": [
       "Número                                 int64\n",
       "Dia                                    int64\n",
       "Fecha                                 object\n",
       "Mes:                                  object\n",
       "IdMes                                  int64\n",
       "Año:                                   int64\n",
       "Máquina / Equipo:                     object\n",
       "Semana:                               object\n",
       "Turno:                                 int64\n",
       "Código y Descrip. / Producto:         object\n",
       "Unidades Producidas (Conformes) :     object\n",
       "Peso Promedio de la unidad (K):       object\n",
       "Gramaje (K):                         float64\n",
       "dtype: object"
      ]
     },
     "execution_count": 81,
     "metadata": {},
     "output_type": "execute_result"
    }
   ],
   "source": [
    "df_Mezclas.dtypes"
   ]
  },
  {
   "cell_type": "code",
   "execution_count": 82,
   "id": "61ee4f63",
   "metadata": {},
   "outputs": [],
   "source": [
    "#Filtrar_desde_anio\n",
    "df_Mezclas = fc.filtrar_desde_anio(df_Mezclas, 2024)"
   ]
  },
  {
   "cell_type": "code",
   "execution_count": 83,
   "id": "e10c7302",
   "metadata": {},
   "outputs": [],
   "source": [
    "#Especificar las columnas en las que deseas aplicar el filtro para eliminar los valores nulos de las columnas de Gramaje, Unidades producidas y Peso promedio\n",
    "columnas_filtrar_nulos = ['Gramaje (K):', 'Unidades Producidas (Conformes) :', 'Peso Promedio de la unidad (K):']"
   ]
  },
  {
   "cell_type": "code",
   "execution_count": 84,
   "id": "c87c0460",
   "metadata": {},
   "outputs": [],
   "source": [
    "#Eliminar_valores_nulos\n",
    "df_Mezclas_nan_ceros, df_Mezclas = fc.filtrar_nulos(df_Mezclas, columnas_filtrar_nulos)"
   ]
  },
  {
   "cell_type": "code",
   "execution_count": 85,
   "id": "f41a2ea2",
   "metadata": {},
   "outputs": [
    {
     "data": {
      "text/plain": [
       "Número                                 int64\n",
       "Dia                                    int64\n",
       "Fecha                                 object\n",
       "Mes:                                  object\n",
       "IdMes                                  int64\n",
       "Año:                                   int64\n",
       "Máquina / Equipo:                     object\n",
       "Semana:                               object\n",
       "Turno:                                 int64\n",
       "Código y Descrip. / Producto:         object\n",
       "Unidades Producidas (Conformes) :     object\n",
       "Peso Promedio de la unidad (K):       object\n",
       "Gramaje (K):                         float64\n",
       "dtype: object"
      ]
     },
     "execution_count": 85,
     "metadata": {},
     "output_type": "execute_result"
    }
   ],
   "source": [
    "df_Mezclas.dtypes"
   ]
  },
  {
   "cell_type": "code",
   "execution_count": 86,
   "id": "647b22ff",
   "metadata": {},
   "outputs": [
    {
     "data": {
      "text/html": [
       "<div>\n",
       "<style scoped>\n",
       "    .dataframe tbody tr th:only-of-type {\n",
       "        vertical-align: middle;\n",
       "    }\n",
       "\n",
       "    .dataframe tbody tr th {\n",
       "        vertical-align: top;\n",
       "    }\n",
       "\n",
       "    .dataframe thead th {\n",
       "        text-align: right;\n",
       "    }\n",
       "</style>\n",
       "<table border=\"1\" class=\"dataframe\">\n",
       "  <thead>\n",
       "    <tr style=\"text-align: right;\">\n",
       "      <th></th>\n",
       "      <th>Número</th>\n",
       "      <th>Dia</th>\n",
       "      <th>Fecha</th>\n",
       "      <th>Mes:</th>\n",
       "      <th>IdMes</th>\n",
       "      <th>Año:</th>\n",
       "      <th>Máquina / Equipo:</th>\n",
       "      <th>Semana:</th>\n",
       "      <th>Turno:</th>\n",
       "      <th>Código y Descrip. / Producto:</th>\n",
       "      <th>Unidades Producidas (Conformes) :</th>\n",
       "      <th>Peso Promedio de la unidad (K):</th>\n",
       "      <th>Gramaje (K):</th>\n",
       "    </tr>\n",
       "  </thead>\n",
       "  <tbody>\n",
       "    <tr>\n",
       "      <th>16991</th>\n",
       "      <td>74528</td>\n",
       "      <td>2</td>\n",
       "      <td>2024-01-02</td>\n",
       "      <td>Enero</td>\n",
       "      <td>1</td>\n",
       "      <td>2024</td>\n",
       "      <td>ENFLEX</td>\n",
       "      <td>1</td>\n",
       "      <td>1</td>\n",
       "      <td>1014168 Polvo st1 10g sobre ind. Horiz Ecu.</td>\n",
       "      <td>3000.0</td>\n",
       "      <td>0.0101</td>\n",
       "      <td>0.0100</td>\n",
       "    </tr>\n",
       "    <tr>\n",
       "      <th>16992</th>\n",
       "      <td>74529</td>\n",
       "      <td>2</td>\n",
       "      <td>2024-01-02</td>\n",
       "      <td>Enero</td>\n",
       "      <td>1</td>\n",
       "      <td>2024</td>\n",
       "      <td>INGEPACK 2</td>\n",
       "      <td>1</td>\n",
       "      <td>1</td>\n",
       "      <td>1057776 Cafe Colcafe Clasico10g25sobres</td>\n",
       "      <td>19500.0</td>\n",
       "      <td>0.01005</td>\n",
       "      <td>0.0100</td>\n",
       "    </tr>\n",
       "    <tr>\n",
       "      <th>16993</th>\n",
       "      <td>74531</td>\n",
       "      <td>2</td>\n",
       "      <td>2024-01-02</td>\n",
       "      <td>Enero</td>\n",
       "      <td>1</td>\n",
       "      <td>2024</td>\n",
       "      <td>TOYO</td>\n",
       "      <td>1</td>\n",
       "      <td>3</td>\n",
       "      <td>1056678 Cafe COLCAFE clasico 1.5g 48sob 30ple</td>\n",
       "      <td>106560.0</td>\n",
       "      <td>0.00151</td>\n",
       "      <td>0.0015</td>\n",
       "    </tr>\n",
       "    <tr>\n",
       "      <th>16994</th>\n",
       "      <td>74532</td>\n",
       "      <td>2</td>\n",
       "      <td>2024-01-02</td>\n",
       "      <td>Enero</td>\n",
       "      <td>1</td>\n",
       "      <td>2024</td>\n",
       "      <td>ROVEMA</td>\n",
       "      <td>1</td>\n",
       "      <td>3</td>\n",
       "      <td>1057775 Cafe COLCAFE clasico 10g10sob12tarj</td>\n",
       "      <td>27240.0</td>\n",
       "      <td>0.01009</td>\n",
       "      <td>0.0100</td>\n",
       "    </tr>\n",
       "    <tr>\n",
       "      <th>16995</th>\n",
       "      <td>74533</td>\n",
       "      <td>2</td>\n",
       "      <td>2024-01-02</td>\n",
       "      <td>Enero</td>\n",
       "      <td>1</td>\n",
       "      <td>2024</td>\n",
       "      <td>INGEPACK</td>\n",
       "      <td>1</td>\n",
       "      <td>3</td>\n",
       "      <td>1003690 Cafe COLCAFE polvo ST1 Cj25tirilX24X10g</td>\n",
       "      <td>25800.0</td>\n",
       "      <td>0.01007</td>\n",
       "      <td>0.0100</td>\n",
       "    </tr>\n",
       "  </tbody>\n",
       "</table>\n",
       "</div>"
      ],
      "text/plain": [
       "       Número  Dia       Fecha   Mes:  IdMes  Año: Máquina / Equipo: Semana:  \\\n",
       "16991   74528    2  2024-01-02  Enero      1  2024            ENFLEX       1   \n",
       "16992   74529    2  2024-01-02  Enero      1  2024        INGEPACK 2       1   \n",
       "16993   74531    2  2024-01-02  Enero      1  2024              TOYO       1   \n",
       "16994   74532    2  2024-01-02  Enero      1  2024            ROVEMA       1   \n",
       "16995   74533    2  2024-01-02  Enero      1  2024          INGEPACK       1   \n",
       "\n",
       "       Turno:                    Código y Descrip. / Producto:  \\\n",
       "16991       1      1014168 Polvo st1 10g sobre ind. Horiz Ecu.   \n",
       "16992       1          1057776 Cafe Colcafe Clasico10g25sobres   \n",
       "16993       3    1056678 Cafe COLCAFE clasico 1.5g 48sob 30ple   \n",
       "16994       3      1057775 Cafe COLCAFE clasico 10g10sob12tarj   \n",
       "16995       3  1003690 Cafe COLCAFE polvo ST1 Cj25tirilX24X10g   \n",
       "\n",
       "      Unidades Producidas (Conformes) : Peso Promedio de la unidad (K):  \\\n",
       "16991                            3000.0                          0.0101   \n",
       "16992                           19500.0                         0.01005   \n",
       "16993                          106560.0                         0.00151   \n",
       "16994                           27240.0                         0.01009   \n",
       "16995                           25800.0                         0.01007   \n",
       "\n",
       "       Gramaje (K):  \n",
       "16991        0.0100  \n",
       "16992        0.0100  \n",
       "16993        0.0015  \n",
       "16994        0.0100  \n",
       "16995        0.0100  "
      ]
     },
     "execution_count": 86,
     "metadata": {},
     "output_type": "execute_result"
    }
   ],
   "source": [
    "df_Mezclas.head()"
   ]
  },
  {
   "cell_type": "markdown",
   "id": "d72a164f",
   "metadata": {},
   "source": [
    "**Modificación de los tipos de datos del archivo de TPM de Mezclas**"
   ]
  },
  {
   "cell_type": "code",
   "execution_count": null,
   "id": "da14b435",
   "metadata": {},
   "outputs": [],
   "source": [
    "#Validar_y_convertir_datos\n",
    "df_non_conver, df_Mezclas = fc.validar_numericos(df_Mezclas, 'Peso Promedio de la unidad (K):')\n",
    "\n",
    "df_non_unidades, df_Mezclas = fc.validar_numericos(df_Mezclas, 'Unidades Producidas (Conformes) :')"
   ]
  },
  {
   "cell_type": "code",
   "execution_count": 55,
   "id": "872dd4bd",
   "metadata": {},
   "outputs": [
    {
     "data": {
      "text/plain": [
       "Número                                 int64\n",
       "Dia                                    int64\n",
       "Fecha                                 object\n",
       "Mes:                                  object\n",
       "IdMes                                  int64\n",
       "Año:                                   int64\n",
       "Máquina / Equipo:                     object\n",
       "Semana:                               object\n",
       "Turno:                                 int64\n",
       "Código y Descrip. / Producto:         object\n",
       "Unidades Producidas (Conformes) :     object\n",
       "Peso Promedio de la unidad (K):      float64\n",
       "Gramaje (K):                         float64\n",
       "dtype: object"
      ]
     },
     "execution_count": 55,
     "metadata": {},
     "output_type": "execute_result"
    }
   ],
   "source": [
    "df_Mezclas.dtypes"
   ]
  },
  {
   "cell_type": "code",
   "execution_count": 88,
   "id": "39b00ab0",
   "metadata": {},
   "outputs": [
    {
     "data": {
      "text/html": [
       "<div>\n",
       "<style scoped>\n",
       "    .dataframe tbody tr th:only-of-type {\n",
       "        vertical-align: middle;\n",
       "    }\n",
       "\n",
       "    .dataframe tbody tr th {\n",
       "        vertical-align: top;\n",
       "    }\n",
       "\n",
       "    .dataframe thead th {\n",
       "        text-align: right;\n",
       "    }\n",
       "</style>\n",
       "<table border=\"1\" class=\"dataframe\">\n",
       "  <thead>\n",
       "    <tr style=\"text-align: right;\">\n",
       "      <th></th>\n",
       "      <th>Número</th>\n",
       "      <th>Dia</th>\n",
       "      <th>Fecha</th>\n",
       "      <th>Mes:</th>\n",
       "      <th>IdMes</th>\n",
       "      <th>Año:</th>\n",
       "      <th>Máquina / Equipo:</th>\n",
       "      <th>Semana:</th>\n",
       "      <th>Turno:</th>\n",
       "      <th>Código y Descrip. / Producto:</th>\n",
       "      <th>Unidades Producidas (Conformes) :</th>\n",
       "      <th>Peso Promedio de la unidad (K):</th>\n",
       "      <th>Gramaje (K):</th>\n",
       "    </tr>\n",
       "  </thead>\n",
       "  <tbody>\n",
       "  </tbody>\n",
       "</table>\n",
       "</div>"
      ],
      "text/plain": [
       "Empty DataFrame\n",
       "Columns: [Número, Dia, Fecha, Mes:, IdMes, Año:, Máquina / Equipo:, Semana:, Turno:, Código y Descrip. / Producto:, Unidades Producidas (Conformes) :, Peso Promedio de la unidad (K):, Gramaje (K):]\n",
       "Index: []"
      ]
     },
     "execution_count": 88,
     "metadata": {},
     "output_type": "execute_result"
    }
   ],
   "source": [
    "84813\n",
    "df_Mezclas[df_Mezclas['Número'] == 84813].head()"
   ]
  },
  {
   "cell_type": "code",
   "execution_count": 89,
   "id": "8924873f",
   "metadata": {},
   "outputs": [
    {
     "data": {
      "text/html": [
       "<div>\n",
       "<style scoped>\n",
       "    .dataframe tbody tr th:only-of-type {\n",
       "        vertical-align: middle;\n",
       "    }\n",
       "\n",
       "    .dataframe tbody tr th {\n",
       "        vertical-align: top;\n",
       "    }\n",
       "\n",
       "    .dataframe thead th {\n",
       "        text-align: right;\n",
       "    }\n",
       "</style>\n",
       "<table border=\"1\" class=\"dataframe\">\n",
       "  <thead>\n",
       "    <tr style=\"text-align: right;\">\n",
       "      <th></th>\n",
       "      <th>Número</th>\n",
       "      <th>Dia</th>\n",
       "      <th>Fecha</th>\n",
       "      <th>Mes:</th>\n",
       "      <th>IdMes</th>\n",
       "      <th>Año:</th>\n",
       "      <th>Máquina / Equipo:</th>\n",
       "      <th>Semana:</th>\n",
       "      <th>Turno:</th>\n",
       "      <th>Código y Descrip. / Producto:</th>\n",
       "      <th>Unidades Producidas (Conformes) :</th>\n",
       "      <th>Peso Promedio de la unidad (K):</th>\n",
       "      <th>Gramaje (K):</th>\n",
       "    </tr>\n",
       "  </thead>\n",
       "  <tbody>\n",
       "  </tbody>\n",
       "</table>\n",
       "</div>"
      ],
      "text/plain": [
       "Empty DataFrame\n",
       "Columns: [Número, Dia, Fecha, Mes:, IdMes, Año:, Máquina / Equipo:, Semana:, Turno:, Código y Descrip. / Producto:, Unidades Producidas (Conformes) :, Peso Promedio de la unidad (K):, Gramaje (K):]\n",
       "Index: []"
      ]
     },
     "execution_count": 89,
     "metadata": {},
     "output_type": "execute_result"
    }
   ],
   "source": [
    "df_Mezclas[df_Mezclas['Unidades Producidas (Conformes) :'] == np.nan]"
   ]
  },
  {
   "cell_type": "code",
   "execution_count": 90,
   "id": "99e6334b",
   "metadata": {},
   "outputs": [
    {
     "data": {
      "text/html": [
       "<div>\n",
       "<style scoped>\n",
       "    .dataframe tbody tr th:only-of-type {\n",
       "        vertical-align: middle;\n",
       "    }\n",
       "\n",
       "    .dataframe tbody tr th {\n",
       "        vertical-align: top;\n",
       "    }\n",
       "\n",
       "    .dataframe thead th {\n",
       "        text-align: right;\n",
       "    }\n",
       "</style>\n",
       "<table border=\"1\" class=\"dataframe\">\n",
       "  <thead>\n",
       "    <tr style=\"text-align: right;\">\n",
       "      <th></th>\n",
       "      <th>Número</th>\n",
       "      <th>Dia</th>\n",
       "      <th>Fecha</th>\n",
       "      <th>Mes:</th>\n",
       "      <th>IdMes</th>\n",
       "      <th>Año:</th>\n",
       "      <th>Máquina / Equipo:</th>\n",
       "      <th>Semana:</th>\n",
       "      <th>Turno:</th>\n",
       "      <th>Código y Descrip. / Producto:</th>\n",
       "      <th>Unidades Producidas (Conformes) :</th>\n",
       "      <th>Peso Promedio de la unidad (K):</th>\n",
       "      <th>Gramaje (K):</th>\n",
       "    </tr>\n",
       "  </thead>\n",
       "  <tbody>\n",
       "    <tr>\n",
       "      <th>25153</th>\n",
       "      <td>82707</td>\n",
       "      <td>2</td>\n",
       "      <td>2025-04-02</td>\n",
       "      <td>Abril</td>\n",
       "      <td>4</td>\n",
       "      <td>2025</td>\n",
       "      <td>TOYO 7</td>\n",
       "      <td>14</td>\n",
       "      <td>2</td>\n",
       "      <td>1072097 Cappuccino COLCAFE Avellana 6x18gx12  ECU</td>\n",
       "      <td>0.0</td>\n",
       "      <td>0.0180</td>\n",
       "      <td>0.018</td>\n",
       "    </tr>\n",
       "    <tr>\n",
       "      <th>25691</th>\n",
       "      <td>83247</td>\n",
       "      <td>7</td>\n",
       "      <td>2025-05-07</td>\n",
       "      <td>Mayo</td>\n",
       "      <td>5</td>\n",
       "      <td>2025</td>\n",
       "      <td>TOYO 7</td>\n",
       "      <td>19</td>\n",
       "      <td>3</td>\n",
       "      <td>1071324 Cappuccino COLCAFE Mocca 12x6x18G ESP</td>\n",
       "      <td>0.0</td>\n",
       "      <td>0.0180</td>\n",
       "      <td>0.018</td>\n",
       "    </tr>\n",
       "    <tr>\n",
       "      <th>26574</th>\n",
       "      <td>84132</td>\n",
       "      <td>28</td>\n",
       "      <td>2025-06-28</td>\n",
       "      <td>Junio</td>\n",
       "      <td>6</td>\n",
       "      <td>2025</td>\n",
       "      <td>INGEPACK</td>\n",
       "      <td>26</td>\n",
       "      <td>3</td>\n",
       "      <td>1064334 Café Colcafe Intnso 12x10g CAM</td>\n",
       "      <td>0.0</td>\n",
       "      <td>0.0100</td>\n",
       "      <td>0.010</td>\n",
       "    </tr>\n",
       "    <tr>\n",
       "      <th>26575</th>\n",
       "      <td>84133</td>\n",
       "      <td>28</td>\n",
       "      <td>2025-06-28</td>\n",
       "      <td>Junio</td>\n",
       "      <td>6</td>\n",
       "      <td>2025</td>\n",
       "      <td>ROVEMA</td>\n",
       "      <td>26</td>\n",
       "      <td>3</td>\n",
       "      <td>1057775 Cafe COLCAFE clasico 10g10sob12tarj</td>\n",
       "      <td>0.0</td>\n",
       "      <td>0.0101</td>\n",
       "      <td>0.010</td>\n",
       "    </tr>\n",
       "  </tbody>\n",
       "</table>\n",
       "</div>"
      ],
      "text/plain": [
       "       Número  Dia       Fecha   Mes:  IdMes  Año: Máquina / Equipo: Semana:  \\\n",
       "25153   82707    2  2025-04-02  Abril      4  2025            TOYO 7      14   \n",
       "25691   83247    7  2025-05-07   Mayo      5  2025            TOYO 7      19   \n",
       "26574   84132   28  2025-06-28  Junio      6  2025          INGEPACK      26   \n",
       "26575   84133   28  2025-06-28  Junio      6  2025            ROVEMA      26   \n",
       "\n",
       "       Turno:                      Código y Descrip. / Producto:  \\\n",
       "25153       2  1072097 Cappuccino COLCAFE Avellana 6x18gx12  ECU   \n",
       "25691       3      1071324 Cappuccino COLCAFE Mocca 12x6x18G ESP   \n",
       "26574       3             1064334 Café Colcafe Intnso 12x10g CAM   \n",
       "26575       3        1057775 Cafe COLCAFE clasico 10g10sob12tarj   \n",
       "\n",
       "       Unidades Producidas (Conformes) :  Peso Promedio de la unidad (K):  \\\n",
       "25153                                0.0                           0.0180   \n",
       "25691                                0.0                           0.0180   \n",
       "26574                                0.0                           0.0100   \n",
       "26575                                0.0                           0.0101   \n",
       "\n",
       "       Gramaje (K):  \n",
       "25153         0.018  \n",
       "25691         0.018  \n",
       "26574         0.010  \n",
       "26575         0.010  "
      ]
     },
     "execution_count": 90,
     "metadata": {},
     "output_type": "execute_result"
    }
   ],
   "source": [
    "df_Mezclas[df_Mezclas['Unidades Producidas (Conformes) :'] == 0]"
   ]
  },
  {
   "cell_type": "code",
   "execution_count": 91,
   "id": "5bb4b355",
   "metadata": {},
   "outputs": [],
   "source": [
    "#Extraer_codigo\n",
    "df_Mezclas = fc.extraer_codigo(df_Mezclas)"
   ]
  },
  {
   "cell_type": "code",
   "execution_count": 81,
   "id": "4900f8c5",
   "metadata": {},
   "outputs": [],
   "source": [
    "#Convertir a numerico sino asignar NaN\n",
    "df_Mezclas['Gramaje (K):'] = pd.to_numeric(df_Mezclas['Gramaje (K):'], errors='coerce')"
   ]
  },
  {
   "cell_type": "code",
   "execution_count": 82,
   "id": "3f396300",
   "metadata": {},
   "outputs": [],
   "source": [
    "#Eliminar_codigos_nan\n",
    "df_Mezclas, df_Mezclas_Codigos_nan = fc.eliminar_codigos_nan(df_Mezclas)"
   ]
  },
  {
   "cell_type": "code",
   "execution_count": null,
   "id": "43536aaf",
   "metadata": {},
   "outputs": [],
   "source": [
    "#Calcular_columnas\n",
    "df_Mezclas = fc.calcular_columnas(df_Mezclas)"
   ]
  },
  {
   "cell_type": "markdown",
   "id": "b54f6f77",
   "metadata": {},
   "source": [
    "**Generación de Novedades**"
   ]
  },
  {
   "cell_type": "code",
   "execution_count": 109,
   "id": "2260587c",
   "metadata": {},
   "outputs": [],
   "source": [
    "Sobrepeso_Novedades = 0.05 #5% de Sobrepeso"
   ]
  },
  {
   "cell_type": "code",
   "execution_count": 110,
   "id": "b25b966d",
   "metadata": {},
   "outputs": [],
   "source": [
    "#Generar_novedades\n",
    "df_Mezclas_Nov_Sobrepeso = fc.generar_novedades(df_Mezclas, Sobrepeso_Novedades)"
   ]
  },
  {
   "cell_type": "code",
   "execution_count": 111,
   "id": "c933c9f2",
   "metadata": {},
   "outputs": [],
   "source": [
    "#Agregar columna 'Costo/kg'\n",
    "df_Mezclas['Costo/kg'] = 0.0"
   ]
  },
  {
   "cell_type": "markdown",
   "id": "99d94c3a",
   "metadata": {},
   "source": [
    "**Tabla de Consolidado Mensual**"
   ]
  },
  {
   "cell_type": "code",
   "execution_count": 112,
   "id": "8e8f55b3",
   "metadata": {},
   "outputs": [],
   "source": [
    "#Pivote_consolidado\n",
    "df_Mezclas_Mes = fc.pivote_consolidado(df_Mezclas)"
   ]
  },
  {
   "cell_type": "code",
   "execution_count": 113,
   "id": "85957724",
   "metadata": {},
   "outputs": [],
   "source": [
    "#Tomar datos desde el año 2024 en adelante\n",
    "df_Mezclas_Mes = fc.filtrar_desde_anio(df_Mezclas_Mes, 2024)"
   ]
  },
  {
   "cell_type": "markdown",
   "id": "60693dcd",
   "metadata": {},
   "source": [
    "**Creación de la agrupación Mensual del archivo de semielaborados**"
   ]
  },
  {
   "cell_type": "code",
   "execution_count": 114,
   "id": "89f7fb1a",
   "metadata": {},
   "outputs": [],
   "source": [
    "df_costo_semi = df_COOISPI_COMB.copy(deep=True)"
   ]
  },
  {
   "cell_type": "code",
   "execution_count": 115,
   "id": "e7ee3ea8",
   "metadata": {},
   "outputs": [],
   "source": [
    "#Creacion de la agrupacion mensual del archivo semielaborado\n",
    "df_costo_semi_Mes = fc.pivote_semielaborados(df_costo_semi)"
   ]
  },
  {
   "cell_type": "markdown",
   "id": "86a219ad",
   "metadata": {},
   "source": [
    "**Generación del nuevo archivo consolidado V2**"
   ]
  },
  {
   "cell_type": "code",
   "execution_count": 116,
   "id": "cf852ffa",
   "metadata": {},
   "outputs": [],
   "source": [
    "df_Mezclas_2 = df_Mezclas.copy(deep=True)"
   ]
  },
  {
   "cell_type": "code",
   "execution_count": 117,
   "id": "7b8afc8b",
   "metadata": {},
   "outputs": [],
   "source": [
    "#Traer la columna 'Costo/kg' al dataframe original\n",
    "df_Mezclas_2 = fc.merge_costo(df_Mezclas_2, df_costo_semi_Mes)"
   ]
  },
  {
   "cell_type": "code",
   "execution_count": 118,
   "id": "a818ce5f",
   "metadata": {},
   "outputs": [],
   "source": [
    "#Eliminar la columna Costo/kg antigua y renombrar la nueva\n",
    "df_Mezclas_2 = fc.modificar_costo(df_Mezclas_2)"
   ]
  },
  {
   "cell_type": "code",
   "execution_count": 119,
   "id": "7dc8a619",
   "metadata": {},
   "outputs": [],
   "source": [
    "#Definir meta\n",
    "df_Mezclas_2['Meta'] = df_Mezclas_2['Máquina / Equipo:'].map({'ENFLEX': 0.0056,\n",
    "                                                              'TRANSPACK 2': 0.0033,\n",
    "                                                              'INGEPACK': 0.0072,\n",
    "                                                              'ROVEMA':0.0078,\n",
    "                                                              'LANIC':0.0055,\n",
    "                                                              'TOYO 7':0.0065,\n",
    "                                                              'TOYO':0.0088,\n",
    "                                                              'ENCAPSULADORA':0.006,\n",
    "                                                              'INGEPACK 2':0.0068})"
   ]
  },
  {
   "cell_type": "code",
   "execution_count": 120,
   "id": "88419baa",
   "metadata": {},
   "outputs": [],
   "source": [
    "#Calcular columna 'Ahorros/Perdidas'\n",
    "df_Mezclas_2 = fc.calcular_ahorros_perdidas(df_Mezclas_2)\n",
    "# df_Mezclas_2.head()"
   ]
  },
  {
   "cell_type": "code",
   "execution_count": 121,
   "id": "52ce4832",
   "metadata": {},
   "outputs": [],
   "source": [
    "#Eliminar registro con Número = 81187\n",
    "df_Mezclas_2.drop(df_Mezclas_2.loc[df_Mezclas_2['Número'] == 81187].index, inplace=True)"
   ]
  },
  {
   "cell_type": "markdown",
   "id": "37d688ed",
   "metadata": {},
   "source": [
    "**Unión de los dataframes en un dataframe totalizado**"
   ]
  },
  {
   "cell_type": "code",
   "execution_count": 122,
   "id": "452716f3",
   "metadata": {},
   "outputs": [],
   "source": [
    "df_totalizado_Mes = df_Mezclas_Mes.copy(deep=True)"
   ]
  },
  {
   "cell_type": "code",
   "execution_count": 123,
   "id": "36d50a89",
   "metadata": {},
   "outputs": [
    {
     "name": "stdout",
     "output_type": "stream",
     "text": [
      "No hay filas duplicadas.\n"
     ]
    }
   ],
   "source": [
    "#Validar que no hay filas repetidas en df_totalizado_Mes\n",
    "fc.filas_repetidas(df_totalizado_Mes)"
   ]
  },
  {
   "cell_type": "code",
   "execution_count": 124,
   "id": "d3762700",
   "metadata": {},
   "outputs": [],
   "source": [
    "#Fusionar los DataFrames en base a 'Año:', 'Codigo' y 'Mes:'\n",
    "df_totalizado_Mes = fc.unir_dataframes(df_totalizado_Mes, df_costo_semi_Mes)"
   ]
  },
  {
   "cell_type": "code",
   "execution_count": 125,
   "id": "2fe7306a",
   "metadata": {},
   "outputs": [],
   "source": [
    "#Metodo diferente a los demas calcular_columnas_totalizado ya que sus metas de sobrepeso no son fijas\n",
    "df_totalizado_Mes = fc.calcular_columnas_totalizado_mezclas(df_totalizado_Mes)\n",
    "# df_totalizado_Mes.head()"
   ]
  },
  {
   "cell_type": "code",
   "execution_count": 126,
   "id": "4cc65ea8",
   "metadata": {},
   "outputs": [],
   "source": [
    "# Obtener Codigos unicos de df_Mezclas\n",
    "df_Codigos_Mezclas = fc.eliminar_duplicados_columna(df_Mezclas, 'Codigo')"
   ]
  },
  {
   "cell_type": "code",
   "execution_count": 127,
   "id": "1f123d23",
   "metadata": {},
   "outputs": [],
   "source": [
    "# Obtener Maquinas únicas de TPM o df_Codigos_Mezclas\n",
    "df_Maquinas_Mezclas = fc.eliminar_duplicados_columna(df_Mezclas, 'Máquina / Equipo:')"
   ]
  },
  {
   "cell_type": "code",
   "execution_count": 128,
   "id": "116d853f",
   "metadata": {},
   "outputs": [],
   "source": [
    "# Obtener Codigos únicos de COOISPI\n",
    "df_Codigos_Mezclas_COOISPI = fc.eliminar_duplicados_columna(df_COOISPI_COMB, 'Codigo')"
   ]
  },
  {
   "cell_type": "markdown",
   "id": "947a1897",
   "metadata": {},
   "source": [
    "**Codigos que están en TPM pero no están en la COOISPI**"
   ]
  },
  {
   "cell_type": "code",
   "execution_count": 129,
   "id": "6b0f274a",
   "metadata": {},
   "outputs": [],
   "source": [
    "#Obtener Codigos que están en TPM (df_Codigos_Mezclas) pero NO en COOISPI(df_Codigos_Mezclas_COOISPI)\n",
    "df_Mezclas_Codigos_unicos = df_Codigos_Mezclas[~df_Codigos_Mezclas['Codigo'].isin(df_Codigos_Mezclas_COOISPI['Codigo'])]"
   ]
  },
  {
   "cell_type": "markdown",
   "id": "0ef2e32a",
   "metadata": {},
   "source": [
    "**Generación de un archivo de fechas Automáticas**"
   ]
  },
  {
   "cell_type": "code",
   "execution_count": 130,
   "id": "49d12936",
   "metadata": {},
   "outputs": [],
   "source": [
    "#Generar dataframe con fechas dese 2024-01-01 hasta el dia actual\n",
    "df_Fechas = fc.generar_fechas(\"2024-01-01\")"
   ]
  },
  {
   "cell_type": "code",
   "execution_count": 131,
   "id": "716c109c",
   "metadata": {},
   "outputs": [],
   "source": [
    "# print(df_Mezclas.shape)\n",
    "# print(df_COOISPI_COMB.shape)\n",
    "# print(df_Mezclas_Mes.shape)\n",
    "# print(df_Codigos_Mezclas.shape)\n",
    "# print(df_Maquinas_Mezclas.shape)\n",
    "# print(df_totalizado_Mes.shape)\n",
    "# print(df_Fechas.shape)\n",
    "# print(df_Mezclas_2.shape)\n",
    "# print()\n",
    "# print(df_Mezclas_Nov_Sobrepeso.shape)\n",
    "# print(df_Mezclas_Codigos_nan.shape)\n",
    "# print(df_Mezclas_Codigos_unicos.shape)\n",
    "# print(df_Mezclas_nan_ceros.shape)\n",
    "# print(df_non_conver.shape)"
   ]
  },
  {
   "cell_type": "markdown",
   "id": "f1da05a9",
   "metadata": {},
   "source": [
    "**Consolidado csv**"
   ]
  },
  {
   "cell_type": "code",
   "execution_count": 132,
   "id": "0dfdef19",
   "metadata": {},
   "outputs": [],
   "source": [
    "# Ruta para consolidado df_Mezclas_2\n",
    "# df_Mezclas_2.to_csv(Ruta_Mezclas + \"DB_Mezclas_Out_vf.csv\", index=False)"
   ]
  },
  {
   "cell_type": "markdown",
   "id": "1bf8dd5c",
   "metadata": {},
   "source": [
    "**Archivo de consolidado**"
   ]
  },
  {
   "cell_type": "code",
   "execution_count": 133,
   "id": "d77de154",
   "metadata": {},
   "outputs": [
    {
     "name": "stdout",
     "output_type": "stream",
     "text": [
      "Procesando Consolidado...\n",
      "✅ Las hojas en el Archivo de Consolidado han sido limpiadas y actualizadas correctamente.\n"
     ]
    }
   ],
   "source": [
    "#Diccionario de hojas para el archivo de Consolidado_V2\n",
    "dataframes_consolidado = {\n",
    "    \"Hoja1\": df_Mezclas,\n",
    "    \"Hoja2\": df_COOISPI_COMB,\n",
    "    \"Hoja3\": df_Mezclas_Mes,\n",
    "    \"Hoja4\": df_Codigos_Mezclas,\n",
    "    \"Hoja5\": df_Maquinas_Mezclas,\n",
    "    \"Hoja6\": df_totalizado_Mes,\n",
    "    \"Hoja7\": df_Fechas,\n",
    "    \"Hoja8\": df_Mezclas_2,\n",
    "}\n",
    "#Actualizar hojas del excel de Consolidado_V2\n",
    "fc.actualizar_hojas_excel(Ruta_Consolidados, dataframes_consolidado)"
   ]
  },
  {
   "cell_type": "markdown",
   "id": "4c7c0178",
   "metadata": {},
   "source": [
    "**Archivo de novedades: Este archivo compila las diferentes novedades presentes en los archivos de TPM**"
   ]
  },
  {
   "cell_type": "code",
   "execution_count": null,
   "id": "ec8954dd",
   "metadata": {},
   "outputs": [
    {
     "name": "stdout",
     "output_type": "stream",
     "text": [
      "Procesando Novedades...\n"
     ]
    },
    {
     "name": "stdout",
     "output_type": "stream",
     "text": [
      "✅ El Archivo de Novedades guardado exitosamente con 5 hojas guardadas correctamente.\n"
     ]
    }
   ],
   "source": [
    "#Diccionario de hojas para el archivo de novedades\n",
    "dataframes_novedades = {\n",
    "    \"Sobrepeso mayor  5%\": df_Mezclas_Nov_Sobrepeso,           #Novedades de sobrepeso\n",
    "    \"Codigos Nulo TPM\": df_Mezclas_Codigos_nan,                #Novedades codigos nulos\n",
    "    \"Codigos unicos en TPM\": df_Mezclas_Codigos_unicos,        #Codigos presentes es TPM y no en la COOISPI\n",
    "    \"Codigos NA,Vacio, 0\": df_Mezclas_nan_ceros,               #Valores nulos o ceros para gramaje, unidades producidas y promedio peso unidad\n",
    "    \"Errores\": df_non_conver                                   #Valores no convertibles (NaN)\n",
    "}\n",
    "#Guardar el archivo de Novedades\n",
    "fc.crear_archivo_novedades(Ruta_Novedades, dataframes_novedades)"
   ]
  },
  {
   "cell_type": "code",
   "execution_count": 110,
   "id": "7ab678f7",
   "metadata": {},
   "outputs": [
    {
     "data": {
      "text/html": [
       "<div>\n",
       "<style scoped>\n",
       "    .dataframe tbody tr th:only-of-type {\n",
       "        vertical-align: middle;\n",
       "    }\n",
       "\n",
       "    .dataframe tbody tr th {\n",
       "        vertical-align: top;\n",
       "    }\n",
       "\n",
       "    .dataframe thead th {\n",
       "        text-align: right;\n",
       "    }\n",
       "</style>\n",
       "<table border=\"1\" class=\"dataframe\">\n",
       "  <thead>\n",
       "    <tr style=\"text-align: right;\">\n",
       "      <th></th>\n",
       "      <th>Número</th>\n",
       "      <th>Dia</th>\n",
       "      <th>Fecha</th>\n",
       "      <th>Mes:</th>\n",
       "      <th>IdMes</th>\n",
       "      <th>Año:</th>\n",
       "      <th>Máquina / Equipo:</th>\n",
       "      <th>Semana:</th>\n",
       "      <th>Turno:</th>\n",
       "      <th>Código y Descrip. / Producto:</th>\n",
       "      <th>Unidades Producidas (Conformes) :</th>\n",
       "      <th>Peso Promedio de la unidad (K):</th>\n",
       "      <th>Gramaje (K):</th>\n",
       "    </tr>\n",
       "  </thead>\n",
       "  <tbody>\n",
       "    <tr>\n",
       "      <th>27255</th>\n",
       "      <td>84813</td>\n",
       "      <td>7</td>\n",
       "      <td>2025-08-07</td>\n",
       "      <td>Agosto</td>\n",
       "      <td>8</td>\n",
       "      <td>2025</td>\n",
       "      <td>INGEPACK</td>\n",
       "      <td>32</td>\n",
       "      <td>2</td>\n",
       "      <td>1003690 Cafe COLCAFE polvo ST1 Cj25tirilX24X10g</td>\n",
       "      <td>NaN</td>\n",
       "      <td>0.01006</td>\n",
       "      <td>0.01</td>\n",
       "    </tr>\n",
       "  </tbody>\n",
       "</table>\n",
       "</div>"
      ],
      "text/plain": [
       "       Número  Dia       Fecha    Mes:  IdMes  Año: Máquina / Equipo: Semana:  \\\n",
       "27255   84813    7  2025-08-07  Agosto      8  2025          INGEPACK      32   \n",
       "\n",
       "       Turno:                    Código y Descrip. / Producto:  \\\n",
       "27255       2  1003690 Cafe COLCAFE polvo ST1 Cj25tirilX24X10g   \n",
       "\n",
       "       Unidades Producidas (Conformes) :  Peso Promedio de la unidad (K):  \\\n",
       "27255                                NaN                          0.01006   \n",
       "\n",
       "       Gramaje (K):  \n",
       "27255          0.01  "
      ]
     },
     "execution_count": 110,
     "metadata": {},
     "output_type": "execute_result"
    }
   ],
   "source": [
    "df_non_conver.head()"
   ]
  }
 ],
 "metadata": {
  "kernelspec": {
   "display_name": "Python 3",
   "language": "python",
   "name": "python3"
  },
  "language_info": {
   "codemirror_mode": {
    "name": "ipython",
    "version": 3
   },
   "file_extension": ".py",
   "mimetype": "text/x-python",
   "name": "python",
   "nbconvert_exporter": "python",
   "pygments_lexer": "ipython3",
   "version": "3.13.2"
  }
 },
 "nbformat": 4,
 "nbformat_minor": 5
}
