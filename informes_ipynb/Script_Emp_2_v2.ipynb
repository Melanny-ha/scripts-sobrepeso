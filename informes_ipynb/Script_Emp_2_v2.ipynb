{
 "cells": [
  {
   "cell_type": "code",
   "execution_count": 44,
   "id": "1392221e",
   "metadata": {},
   "outputs": [],
   "source": [
    "import os\n",
    "import pandas as pd\n",
    "import warnings\n",
    "import functions as fc"
   ]
  },
  {
   "cell_type": "code",
   "execution_count": 45,
   "id": "5b67f618",
   "metadata": {},
   "outputs": [],
   "source": [
    "#Ocultar advertencias/warnings mas no los borra\n",
    "warnings.filterwarnings(\"ignore\", category=pd.errors.DtypeWarning)"
   ]
  },
  {
   "cell_type": "code",
   "execution_count": 46,
   "id": "d76acb33",
   "metadata": {},
   "outputs": [],
   "source": [
    "#Año evaluado\n",
    "Añoeval = 2025"
   ]
  },
  {
   "cell_type": "markdown",
   "id": "b976b9f4",
   "metadata": {},
   "source": [
    "**Variables globales de las rutas necesarias**"
   ]
  },
  {
   "cell_type": "code",
   "execution_count": 47,
   "id": "adaa27a2",
   "metadata": {},
   "outputs": [
    {
     "name": "stdout",
     "output_type": "stream",
     "text": [
      "Ruta 'Ruta_COOISPI' encontrada.\n",
      "Ruta 'Ruta_Archivo_EGE' encontrada.\n",
      "Ruta 'Ruta_Novedades' encontrada.\n",
      "Ruta 'Ruta_Consolidados' encontrada.\n",
      "Ruta 'Ruta_Emp_2' encontrada.\n"
     ]
    }
   ],
   "source": [
    "#Rutas del archivo de la COOISPI\n",
    "Ruta_COOISPI = \"G:/.shortcut-targets-by-id/1rqpfbdZ6z51epFv6ZwognhckW7HqBMjN/SIRI_2024_INFORMES_SOBREPESO/DATOS/Datos_COOISPI_Empaques2.csv\"                # Ruta COOISPI en csv\n",
    "#Ruta_COOISPI_2024=\"/content/drive/MyDrive/Consolidado COOISPI/2024/Z10.xlsx\"                                                                                # Ruta COOISPI en el 2024\n",
    "#Ruta_COOISPI_2025=\"/content/drive/MyDrive/Consolidado COOISPI/2025/Z10.xlsx\"                                                                                # Ruta COOISPI en el 2025\n",
    "\n",
    "#Rutas del archivo del EGE\n",
    "Ruta_Archivo_EGE = \"G:/.shortcut-targets-by-id/1rqpfbdZ6z51epFv6ZwognhckW7HqBMjN/SIRI_2024_INFORMES_SOBREPESO/DATOS/Datos_Emp2_2021.csv\"\n",
    "#Ruta_Archivo_EGE=\"/content/drive/MyDrive/SIRI_2024_INFORMES_SOBREPESO/DATOS/Datos_Emp2_2021.csv\"                                                            # En formato csv en el drive de Melanny Herrera\n",
    "#Ruta_Archivo_EGE=\"/content/drive/MyDrive/appsheet/Coolab/Documentos/Empaques2/DB Empaque de Estrella 2021_Copia.xlsm\"                                       # Ruta EGE pruebas Melanny Herrera\n",
    "#Ruta_Archivo_EGE=\"/content/drive/MyDrive/EGE Colcafé Medellín 2018 - 2024/Data historica/2021-2024/DB Empaque de Estrella 2021.xlsm\"                        # Ruta EGE en el drive de Jesse Mauricio Beltran\n",
    "\n",
    "#Rutas del archivo de Novedades\n",
    "Ruta_Novedades = \"G:/.shortcut-targets-by-id/1rqpfbdZ6z51epFv6ZwognhckW7HqBMjN/SIRI_2024_INFORMES_SOBREPESO/INFORME_EMPAQUES_2/Empaques_2_Novedades.xlsx\"\n",
    "#Ruta_Novedades = \"/content/drive/MyDrive/SIRI_2024_INFORMES_SOBREPESO/INFORME_EMPAQUES_2/Empaques_2_Novedades.xlsx\"                                         # Ruta del archivo de Novedades en el drive de Melanny Herrera\n",
    "#Ruta_Novedades = '/content/drive/MyDrive/Proyectos/2024/SIRI_2024_INFORMES_SOBREPESO/INFORME_EMPAQUES_2/Empaques_2_Novedades.xlsx'                          # Ruta del archivo de Novedades en el drive de Jesse Mauricio Beltran\n",
    "\n",
    "#Rutas del archivo de Consolidados\n",
    "Ruta_Consolidados = \"G:/.shortcut-targets-by-id/1rqpfbdZ6z51epFv6ZwognhckW7HqBMjN/SIRI_2024_INFORMES_SOBREPESO/INFORME_EMPAQUES_2/Consolidado_V2.xlsx\"\n",
    "#Ruta_Consolidados =\"/content/drive/MyDrive/SIRI_2024_INFORMES_SOBREPESO/INFORME_EMPAQUES_2/Consolidado_V2.xlsx\"                                             # Ruta del archivo de Consolidados en el drive de Melanny Herrera\n",
    "#Ruta_Consolidados ='/content/drive/MyDrive/Proyectos/2024/SIRI_2024_INFORMES_SOBREPESO/INFORME_EMPAQUES_2/Consolidado.xlsx'                                 # Ruta del archivo de Novedades en el drive de Jesse Mauricio Beltran\n",
    "\n",
    "#Ruta de salida\n",
    "Ruta_Emp_2 = \"G:/.shortcut-targets-by-id/1rqpfbdZ6z51epFv6ZwognhckW7HqBMjN/SIRI_2024_INFORMES_SOBREPESO/INFORME_EMPAQUES_2/\"\n",
    "#Ruta_Emp_2 = \"/content/drive/MyDrive/SIRI_2024_INFORMES_SOBREPESO/INFORME_EMPAQUES_2/\"                                                                      # Ruta del archivo consolidado csv en el drive de Melanny Herrera\n",
    "#Ruta_Emp_2 = \"/content/drive/MyDrive/SIRI_2024_INFORMES_SOBREPESO/INFORME_EMPAQUES_2/\"                                                                      # Ruta del archivo consolidado csv en el drive de Jesse Mauricio Beltran\n",
    "\n",
    "#Validacion de existencia de las rutas\n",
    "for nombre, ruta in {\n",
    "  \"Ruta_COOISPI\": Ruta_COOISPI,\n",
    "  \"Ruta_Archivo_EGE\": Ruta_Archivo_EGE,\n",
    "  \"Ruta_Novedades\": Ruta_Novedades,\n",
    "  \"Ruta_Consolidados\": Ruta_Consolidados,\n",
    "  \"Ruta_Emp_2\": Ruta_Emp_2,\n",
    "}.items():\n",
    "  if not os.path.exists(ruta):\n",
    "    raise FileNotFoundError(f\"La ruta '{nombre}' no fue encontrada.\")\n",
    "  else:\n",
    "    print(f\"Ruta '{nombre}' encontrada.\")"
   ]
  },
  {
   "cell_type": "code",
   "execution_count": 48,
   "id": "05b0cf86",
   "metadata": {},
   "outputs": [
    {
     "name": "stdout",
     "output_type": "stream",
     "text": [
      "Leyendo archivo...\n"
     ]
    }
   ],
   "source": [
    "#Leer_archivo COOISPI csv \n",
    "df_COOISPI_COMB = fc.leer_archivo(Ruta_COOISPI)"
   ]
  },
  {
   "cell_type": "code",
   "execution_count": 49,
   "id": "ba158f4c",
   "metadata": {},
   "outputs": [],
   "source": [
    "#Convertir columna 'Codigo' a str para futuros procesor (merge y tabla pivote)\n",
    "df_COOISPI_COMB['Codigo'] = df_COOISPI_COMB['Codigo'].astype(str)"
   ]
  },
  {
   "cell_type": "code",
   "execution_count": 50,
   "id": "eb137aa0",
   "metadata": {},
   "outputs": [
    {
     "name": "stdout",
     "output_type": "stream",
     "text": [
      "Leyendo archivo...\n"
     ]
    }
   ],
   "source": [
    "#Funcion para leer archivo el EGE/TPM\n",
    "df_Emp_2 = fc.leer_archivo(Ruta_Archivo_EGE, 'Datos')"
   ]
  },
  {
   "cell_type": "code",
   "execution_count": 51,
   "id": "0cfa1ee7",
   "metadata": {},
   "outputs": [],
   "source": [
    "#Reemplazar el nombre de la columna \"Día:\" para estandarizar los scripts\n",
    "df_Emp_2.rename(columns={\"Día:\":\"Dia\"}, inplace=True)"
   ]
  },
  {
   "cell_type": "code",
   "execution_count": 52,
   "id": "17b48921",
   "metadata": {},
   "outputs": [],
   "source": [
    "#Eliminar_filas_vacias\n",
    "numeros_vacios_filtrados = fc.eliminar_filas_vacias(df_Emp_2, 'Número')"
   ]
  },
  {
   "cell_type": "code",
   "execution_count": 53,
   "id": "f9fc5936",
   "metadata": {},
   "outputs": [],
   "source": [
    "# #Filtrando el DataFrame según las condiciones dadas\n",
    "# df_filtrado = df_Emp_2.loc[\n",
    "#     (df_Emp_2['Año:'] == 2024) &\n",
    "#     (df_Emp_2['Mes:'] == \"Abril\") &\n",
    "#     (df_Emp_2['Código y Descrip. / Producto:'] == \"1040596 Cafe COLCAFE Clasic Grnel 2500X1.5g esp\")\n",
    "# ]\n",
    "\n",
    "# #Filtrando el DataFrame según las condiciones dadas\n",
    "# df_filtrado = df_Emp_2.loc[\n",
    "#     (df_Emp_2['Año:'] == 2024) &\n",
    "#     (df_Emp_2['Mes:'] == \"Enero\") &\n",
    "#     (df_Emp_2['Código y Descrip. / Producto:'] == \"1056678 Cafe COLCAFE clasico 1.5g 48sob 30ple\")\n",
    "# ]\n",
    "#\n",
    "# # Calculando la suma de la columna específica\n",
    "# suma_unidades_producidas = df_filtrado['Unidades Producidas (Conformes) :'].sum()\n",
    "#\n",
    "# # Mostrando la suma\n",
    "# print(suma_unidades_producidas)"
   ]
  },
  {
   "cell_type": "code",
   "execution_count": 54,
   "id": "4a9693b1",
   "metadata": {},
   "outputs": [
    {
     "data": {
      "text/html": [
       "<div>\n",
       "<style scoped>\n",
       "    .dataframe tbody tr th:only-of-type {\n",
       "        vertical-align: middle;\n",
       "    }\n",
       "\n",
       "    .dataframe tbody tr th {\n",
       "        vertical-align: top;\n",
       "    }\n",
       "\n",
       "    .dataframe thead th {\n",
       "        text-align: right;\n",
       "    }\n",
       "</style>\n",
       "<table border=\"1\" class=\"dataframe\">\n",
       "  <thead>\n",
       "    <tr style=\"text-align: right;\">\n",
       "      <th></th>\n",
       "      <th>Número</th>\n",
       "      <th>Dia</th>\n",
       "      <th>Mes:</th>\n",
       "      <th>Año:</th>\n",
       "      <th>Semana:</th>\n",
       "      <th>Turno:</th>\n",
       "      <th>Hora de Inicio:</th>\n",
       "      <th>Hora Final:</th>\n",
       "      <th>Máquina / Equipo:</th>\n",
       "      <th>Código y Descrip. / Producto:</th>\n",
       "      <th>...</th>\n",
       "      <th>OBSERVACIONES:</th>\n",
       "      <th>Legal Contractual\\nPeso min</th>\n",
       "      <th>Legal Contractual\\nMarcación min</th>\n",
       "      <th>Legal Contractual\\nOtros min</th>\n",
       "      <th>Legal Contractual\\nPeso Ev</th>\n",
       "      <th>Legal Contractual\\nMarcación Ev</th>\n",
       "      <th>Legal Contractual\\nOtros Ev</th>\n",
       "      <th>Kg Producidos (Conforme)</th>\n",
       "      <th>IdMes</th>\n",
       "      <th>Fecha</th>\n",
       "    </tr>\n",
       "  </thead>\n",
       "  <tbody>\n",
       "    <tr>\n",
       "      <th>0</th>\n",
       "      <td>18036</td>\n",
       "      <td>4</td>\n",
       "      <td>Enero</td>\n",
       "      <td>2021</td>\n",
       "      <td>1.0</td>\n",
       "      <td>3.0</td>\n",
       "      <td>21:10:07</td>\n",
       "      <td>05:12:51</td>\n",
       "      <td>TOYO 3</td>\n",
       "      <td>1038938 Cafe COLCAFE clasico 1.5g 48sob 30ple</td>\n",
       "      <td>...</td>\n",
       "      <td>.E.D.@_@</td>\n",
       "      <td>NaN</td>\n",
       "      <td>NaN</td>\n",
       "      <td>NaN</td>\n",
       "      <td>NaN</td>\n",
       "      <td>NaN</td>\n",
       "      <td>NaN</td>\n",
       "      <td>254.40000</td>\n",
       "      <td>1</td>\n",
       "      <td>2021-01-04</td>\n",
       "    </tr>\n",
       "    <tr>\n",
       "      <th>1</th>\n",
       "      <td>18037</td>\n",
       "      <td>4</td>\n",
       "      <td>Enero</td>\n",
       "      <td>2021</td>\n",
       "      <td>1.0</td>\n",
       "      <td>2.0</td>\n",
       "      <td>13:15:00</td>\n",
       "      <td>21:10:07</td>\n",
       "      <td>TOYO 3</td>\n",
       "      <td>1038938 Cafe COLCAFE clasico 1.5g 48sob 30ple</td>\n",
       "      <td>...</td>\n",
       "      <td>..@_@.E.D.@_@</td>\n",
       "      <td>NaN</td>\n",
       "      <td>NaN</td>\n",
       "      <td>NaN</td>\n",
       "      <td>NaN</td>\n",
       "      <td>NaN</td>\n",
       "      <td>NaN</td>\n",
       "      <td>251.90808</td>\n",
       "      <td>1</td>\n",
       "      <td>2021-01-04</td>\n",
       "    </tr>\n",
       "    <tr>\n",
       "      <th>2</th>\n",
       "      <td>18038</td>\n",
       "      <td>4</td>\n",
       "      <td>Enero</td>\n",
       "      <td>2021</td>\n",
       "      <td>1.0</td>\n",
       "      <td>2.0</td>\n",
       "      <td>13:20:34</td>\n",
       "      <td>21:10:05</td>\n",
       "      <td>TOYO 4</td>\n",
       "      <td>1038938 Cafe COLCAFE clasico 1.5g 48sob 30ple</td>\n",
       "      <td>...</td>\n",
       "      <td>.BOBINA@_@.COMIDA.@_@.DESENHEBRE DE PISTAS 4 Y...</td>\n",
       "      <td>NaN</td>\n",
       "      <td>NaN</td>\n",
       "      <td>NaN</td>\n",
       "      <td>NaN</td>\n",
       "      <td>NaN</td>\n",
       "      <td>NaN</td>\n",
       "      <td>209.44000</td>\n",
       "      <td>1</td>\n",
       "      <td>2021-01-04</td>\n",
       "    </tr>\n",
       "    <tr>\n",
       "      <th>3</th>\n",
       "      <td>18039</td>\n",
       "      <td>4</td>\n",
       "      <td>Enero</td>\n",
       "      <td>2021</td>\n",
       "      <td>1.0</td>\n",
       "      <td>1.0</td>\n",
       "      <td>06:33:11</td>\n",
       "      <td>13:09:34</td>\n",
       "      <td>TOYO 4</td>\n",
       "      <td>1038938 Cafe COLCAFE clasico 1.5g 48sob 30ple</td>\n",
       "      <td>...</td>\n",
       "      <td>.mordazas sucias por finos del cafe@_@.PISTAS ...</td>\n",
       "      <td>NaN</td>\n",
       "      <td>NaN</td>\n",
       "      <td>NaN</td>\n",
       "      <td>NaN</td>\n",
       "      <td>NaN</td>\n",
       "      <td>NaN</td>\n",
       "      <td>207.76800</td>\n",
       "      <td>1</td>\n",
       "      <td>2021-01-04</td>\n",
       "    </tr>\n",
       "    <tr>\n",
       "      <th>4</th>\n",
       "      <td>18040</td>\n",
       "      <td>4</td>\n",
       "      <td>Enero</td>\n",
       "      <td>2021</td>\n",
       "      <td>1.0</td>\n",
       "      <td>1.0</td>\n",
       "      <td>06:00:30</td>\n",
       "      <td>13:10:21</td>\n",
       "      <td>TOYO 3</td>\n",
       "      <td>1038938 Cafe COLCAFE clasico 1.5g 48sob 30ple</td>\n",
       "      <td>...</td>\n",
       "      <td>.(Tec. Mto: Técnico Mantenimiento) Se realiza ...</td>\n",
       "      <td>NaN</td>\n",
       "      <td>NaN</td>\n",
       "      <td>NaN</td>\n",
       "      <td>NaN</td>\n",
       "      <td>NaN</td>\n",
       "      <td>NaN</td>\n",
       "      <td>180.55200</td>\n",
       "      <td>1</td>\n",
       "      <td>2021-01-04</td>\n",
       "    </tr>\n",
       "  </tbody>\n",
       "</table>\n",
       "<p>5 rows × 173 columns</p>\n",
       "</div>"
      ],
      "text/plain": [
       "   Número  Dia   Mes:  Año:  Semana:  Turno: Hora de Inicio: Hora Final:  \\\n",
       "0   18036    4  Enero  2021      1.0     3.0        21:10:07    05:12:51   \n",
       "1   18037    4  Enero  2021      1.0     2.0        13:15:00    21:10:07   \n",
       "2   18038    4  Enero  2021      1.0     2.0        13:20:34    21:10:05   \n",
       "3   18039    4  Enero  2021      1.0     1.0        06:33:11    13:09:34   \n",
       "4   18040    4  Enero  2021      1.0     1.0        06:00:30    13:10:21   \n",
       "\n",
       "  Máquina / Equipo:                  Código y Descrip. / Producto:  ...  \\\n",
       "0            TOYO 3  1038938 Cafe COLCAFE clasico 1.5g 48sob 30ple  ...   \n",
       "1            TOYO 3  1038938 Cafe COLCAFE clasico 1.5g 48sob 30ple  ...   \n",
       "2            TOYO 4  1038938 Cafe COLCAFE clasico 1.5g 48sob 30ple  ...   \n",
       "3            TOYO 4  1038938 Cafe COLCAFE clasico 1.5g 48sob 30ple  ...   \n",
       "4            TOYO 3  1038938 Cafe COLCAFE clasico 1.5g 48sob 30ple  ...   \n",
       "\n",
       "                                      OBSERVACIONES:  \\\n",
       "0                                           .E.D.@_@   \n",
       "1                                      ..@_@.E.D.@_@   \n",
       "2  .BOBINA@_@.COMIDA.@_@.DESENHEBRE DE PISTAS 4 Y...   \n",
       "3  .mordazas sucias por finos del cafe@_@.PISTAS ...   \n",
       "4  .(Tec. Mto: Técnico Mantenimiento) Se realiza ...   \n",
       "\n",
       "  Legal Contractual\\nPeso min  Legal Contractual\\nMarcación min  \\\n",
       "0                         NaN                               NaN   \n",
       "1                         NaN                               NaN   \n",
       "2                         NaN                               NaN   \n",
       "3                         NaN                               NaN   \n",
       "4                         NaN                               NaN   \n",
       "\n",
       "   Legal Contractual\\nOtros min Legal Contractual\\nPeso Ev  \\\n",
       "0                           NaN                        NaN   \n",
       "1                           NaN                        NaN   \n",
       "2                           NaN                        NaN   \n",
       "3                           NaN                        NaN   \n",
       "4                           NaN                        NaN   \n",
       "\n",
       "   Legal Contractual\\nMarcación Ev Legal Contractual\\nOtros Ev  \\\n",
       "0                              NaN                         NaN   \n",
       "1                              NaN                         NaN   \n",
       "2                              NaN                         NaN   \n",
       "3                              NaN                         NaN   \n",
       "4                              NaN                         NaN   \n",
       "\n",
       "  Kg Producidos (Conforme) IdMes       Fecha  \n",
       "0                254.40000     1  2021-01-04  \n",
       "1                251.90808     1  2021-01-04  \n",
       "2                209.44000     1  2021-01-04  \n",
       "3                207.76800     1  2021-01-04  \n",
       "4                180.55200     1  2021-01-04  \n",
       "\n",
       "[5 rows x 173 columns]"
      ]
     },
     "execution_count": 54,
     "metadata": {},
     "output_type": "execute_result"
    }
   ],
   "source": [
    "#Crear_fecha\n",
    "df_Emp_2 = fc.crear_fecha(df_Emp_2)\n",
    "df_Emp_2.head()"
   ]
  },
  {
   "cell_type": "code",
   "execution_count": 55,
   "id": "ea1af6c7",
   "metadata": {},
   "outputs": [],
   "source": [
    "#Tomar solo las columnas de interes del informe de Empaques2 para el sobrepeso\n",
    "Columnas=['Número','Dia','Fecha','Mes:','IdMes','Año:','Máquina / Equipo:','Semana:','Turno:','Código y Descrip. / Producto:','Unidades Producidas (Conformes) :','Peso Promedio de la unidad (K):','Gramaje (K):']\n",
    "df_Emp_2 = df_Emp_2[Columnas]"
   ]
  },
  {
   "cell_type": "code",
   "execution_count": 56,
   "id": "5df51a63",
   "metadata": {},
   "outputs": [],
   "source": [
    "#Filtrar_desde_añio\n",
    "df_Emp_2 = fc.filtrar_desde_anio(df_Emp_2, 2024)"
   ]
  },
  {
   "cell_type": "code",
   "execution_count": 57,
   "id": "b8cf82fe",
   "metadata": {},
   "outputs": [],
   "source": [
    "#Especificar las columnas en las que deseas aplicar el filtro para eliminar los valores nulos de las columnas de Gramaje, Unidades producidas y Peso promedio\n",
    "columnas_filtrar_nulos = ['Gramaje (K):', 'Unidades Producidas (Conformes) :', 'Peso Promedio de la unidad (K):']"
   ]
  },
  {
   "cell_type": "code",
   "execution_count": 58,
   "id": "e5d46d6e",
   "metadata": {},
   "outputs": [],
   "source": [
    "#Filtrar_nulos\n",
    "df_Emp_2_nan_ceros, df_Emp_2 = fc.filtrar_nulos(df_Emp_2, columnas_filtrar_nulos)"
   ]
  },
  {
   "cell_type": "markdown",
   "id": "905a1b29",
   "metadata": {},
   "source": [
    "**Modificación de los tipos de datos del archivo de TPM de EMPAQUES 2**"
   ]
  },
  {
   "cell_type": "code",
   "execution_count": 59,
   "id": "3fd53f39",
   "metadata": {},
   "outputs": [],
   "source": [
    "#Validar_numericos\n",
    "df_non_conver_a, df_Emp_2 = fc.validar_numericos(df_Emp_2, 'Peso Promedio de la unidad (K):')"
   ]
  },
  {
   "cell_type": "code",
   "execution_count": 60,
   "id": "157eee0a",
   "metadata": {},
   "outputs": [],
   "source": [
    "#Validar_numericos\n",
    "df_non_conver_b, df_Emp_2 = fc.validar_numericos(df_Emp_2, 'Gramaje (K):')"
   ]
  },
  {
   "cell_type": "code",
   "execution_count": 61,
   "id": "4273c0ab",
   "metadata": {},
   "outputs": [],
   "source": [
    "#Extraer_codigo\n",
    "df_Emp_2 = fc.extraer_codigo(df_Emp_2)"
   ]
  },
  {
   "cell_type": "markdown",
   "id": "beec1a04",
   "metadata": {},
   "source": [
    "**Identificación y supresión de aquellos códigos con valores nulos**"
   ]
  },
  {
   "cell_type": "code",
   "execution_count": 62,
   "id": "c7e36ca0",
   "metadata": {},
   "outputs": [],
   "source": [
    "#Eliminar_codigos_nan\n",
    "df_Emp_2, df_Emp_2_Codigos_nan = fc.eliminar_codigos_nan(df_Emp_2)"
   ]
  },
  {
   "cell_type": "code",
   "execution_count": 63,
   "id": "652d74d3",
   "metadata": {},
   "outputs": [],
   "source": [
    "filtro_nan_ceros = df_Emp_2[columnas_filtrar_nulos].isna().any(axis=1) | (df_Emp_2[columnas_filtrar_nulos] == 0).any(axis=1)\n",
    "df_Emp_2_nan_ceros = df_Emp_2[filtro_nan_ceros]\n",
    "df_Emp_2 = df_Emp_2[~filtro_nan_ceros]"
   ]
  },
  {
   "cell_type": "code",
   "execution_count": 64,
   "id": "ac59eafb",
   "metadata": {},
   "outputs": [],
   "source": [
    "#Calcular_columnas\n",
    "df_Emp_2 = fc.calcular_columnas(df_Emp_2)"
   ]
  },
  {
   "cell_type": "markdown",
   "id": "2fd658bf",
   "metadata": {},
   "source": [
    "**Generación de Novedades**"
   ]
  },
  {
   "cell_type": "code",
   "execution_count": 65,
   "id": "71b5e353",
   "metadata": {},
   "outputs": [],
   "source": [
    "Sobrepeso_Novedades = 0.1  #10% de Sobrepeso"
   ]
  },
  {
   "cell_type": "code",
   "execution_count": null,
   "id": "49f1a45e",
   "metadata": {},
   "outputs": [
    {
     "data": {
      "text/html": [
       "<div>\n",
       "<style scoped>\n",
       "    .dataframe tbody tr th:only-of-type {\n",
       "        vertical-align: middle;\n",
       "    }\n",
       "\n",
       "    .dataframe tbody tr th {\n",
       "        vertical-align: top;\n",
       "    }\n",
       "\n",
       "    .dataframe thead th {\n",
       "        text-align: right;\n",
       "    }\n",
       "</style>\n",
       "<table border=\"1\" class=\"dataframe\">\n",
       "  <thead>\n",
       "    <tr style=\"text-align: right;\">\n",
       "      <th></th>\n",
       "      <th>Número</th>\n",
       "      <th>Dia</th>\n",
       "      <th>Fecha</th>\n",
       "      <th>Mes:</th>\n",
       "      <th>IdMes</th>\n",
       "      <th>Año:</th>\n",
       "      <th>Máquina / Equipo:</th>\n",
       "      <th>Semana:</th>\n",
       "      <th>Turno:</th>\n",
       "      <th>Código y Descrip. / Producto:</th>\n",
       "      <th>Unidades Producidas (Conformes) :</th>\n",
       "      <th>Peso Promedio de la unidad (K):</th>\n",
       "      <th>Gramaje (K):</th>\n",
       "      <th>Codigo</th>\n",
       "      <th>Real_empaque_calculado</th>\n",
       "      <th>Debe_ser_empaque_calculado</th>\n",
       "      <th>Diferencia_calculado</th>\n",
       "      <th>Sobrepeso_calculado</th>\n",
       "    </tr>\n",
       "  </thead>\n",
       "  <tbody>\n",
       "    <tr>\n",
       "      <th>10938</th>\n",
       "      <td>29051</td>\n",
       "      <td>27</td>\n",
       "      <td>2025-03-27</td>\n",
       "      <td>Marzo</td>\n",
       "      <td>3</td>\n",
       "      <td>2025</td>\n",
       "      <td>TOYO 4</td>\n",
       "      <td>13.0</td>\n",
       "      <td>2.0</td>\n",
       "      <td>1038372 Cafe COLCAFE Granul 24x32x1.5g Int Ing</td>\n",
       "      <td>6968.0</td>\n",
       "      <td>0.00168</td>\n",
       "      <td>0.0015</td>\n",
       "      <td>1038372</td>\n",
       "      <td>11.70624</td>\n",
       "      <td>10.452</td>\n",
       "      <td>1.25424</td>\n",
       "      <td>0.120000</td>\n",
       "    </tr>\n",
       "    <tr>\n",
       "      <th>11045</th>\n",
       "      <td>29158</td>\n",
       "      <td>12</td>\n",
       "      <td>2025-04-12</td>\n",
       "      <td>Abril</td>\n",
       "      <td>4</td>\n",
       "      <td>2025</td>\n",
       "      <td>TOYO 4</td>\n",
       "      <td>15.0</td>\n",
       "      <td>3.0</td>\n",
       "      <td>1056679 Cafe COLCAFE Granulado 1.5g 48sob 30ple</td>\n",
       "      <td>136912.0</td>\n",
       "      <td>0.00167</td>\n",
       "      <td>0.0015</td>\n",
       "      <td>1056679</td>\n",
       "      <td>228.64304</td>\n",
       "      <td>205.368</td>\n",
       "      <td>23.27504</td>\n",
       "      <td>0.113333</td>\n",
       "    </tr>\n",
       "  </tbody>\n",
       "</table>\n",
       "</div>"
      ],
      "text/plain": [
       "       Número  Dia       Fecha   Mes:  IdMes  Año: Máquina / Equipo:  Semana:  \\\n",
       "10938   29051   27  2025-03-27  Marzo      3  2025            TOYO 4     13.0   \n",
       "11045   29158   12  2025-04-12  Abril      4  2025            TOYO 4     15.0   \n",
       "\n",
       "       Turno:                    Código y Descrip. / Producto:  \\\n",
       "10938     2.0   1038372 Cafe COLCAFE Granul 24x32x1.5g Int Ing   \n",
       "11045     3.0  1056679 Cafe COLCAFE Granulado 1.5g 48sob 30ple   \n",
       "\n",
       "       Unidades Producidas (Conformes) :  Peso Promedio de la unidad (K):  \\\n",
       "10938                             6968.0                          0.00168   \n",
       "11045                           136912.0                          0.00167   \n",
       "\n",
       "       Gramaje (K):   Codigo  Real_empaque_calculado  \\\n",
       "10938        0.0015  1038372                11.70624   \n",
       "11045        0.0015  1056679               228.64304   \n",
       "\n",
       "       Debe_ser_empaque_calculado  Diferencia_calculado  Sobrepeso_calculado  \n",
       "10938                      10.452               1.25424             0.120000  \n",
       "11045                     205.368              23.27504             0.113333  "
      ]
     },
     "execution_count": 66,
     "metadata": {},
     "output_type": "execute_result"
    }
   ],
   "source": [
    "#Generar_novedades\n",
    "df_Emp_2_Nov_Sobrepeso = fc.generar_novedades(df_Emp_2, Sobrepeso_Novedades)\n",
    "# df_Emp_2_Nov_Sobrepeso.head()"
   ]
  },
  {
   "cell_type": "code",
   "execution_count": 67,
   "id": "af12778b",
   "metadata": {},
   "outputs": [],
   "source": [
    "#Agregar columna 'Costo/kg'\n",
    "df_Emp_2['Costo/kg'] = 0.0"
   ]
  },
  {
   "cell_type": "markdown",
   "id": "75ad2f15",
   "metadata": {},
   "source": [
    "**Tabla de Consolidado Mensual**"
   ]
  },
  {
   "cell_type": "code",
   "execution_count": 68,
   "id": "62305b40",
   "metadata": {},
   "outputs": [],
   "source": [
    "#Pivote_consolidado\n",
    "df_Emp_2_Mes = fc.pivote_consolidado(df_Emp_2)"
   ]
  },
  {
   "cell_type": "code",
   "execution_count": 69,
   "id": "40d166f7",
   "metadata": {},
   "outputs": [],
   "source": [
    "#Tomar datos desde el año 2024 en adelante\n",
    "df_Emp_2_Mes = fc.filtrar_desde_anio(df_Emp_2_Mes, 2024)"
   ]
  },
  {
   "cell_type": "markdown",
   "id": "848b5fae",
   "metadata": {},
   "source": [
    "**Creación de la agrupación Mensual del archivo de semielaborados**"
   ]
  },
  {
   "cell_type": "code",
   "execution_count": 70,
   "id": "b31c270e",
   "metadata": {},
   "outputs": [],
   "source": [
    "df_costo_semi = df_COOISPI_COMB.copy(deep=True)"
   ]
  },
  {
   "cell_type": "code",
   "execution_count": 71,
   "id": "a468cbb8",
   "metadata": {},
   "outputs": [],
   "source": [
    "#Creacion de la agrupacion mensual del archivo semielaborado\n",
    "df_costo_semi_Mes = fc.pivote_semielaborados(df_costo_semi)"
   ]
  },
  {
   "cell_type": "markdown",
   "id": "e615b86b",
   "metadata": {},
   "source": [
    "**Generación del nuevo archivo consolidado V2**"
   ]
  },
  {
   "cell_type": "code",
   "execution_count": 72,
   "id": "919e9da4",
   "metadata": {},
   "outputs": [],
   "source": [
    "df_Emp2_2 = df_Emp_2.copy(deep=True)"
   ]
  },
  {
   "cell_type": "code",
   "execution_count": 73,
   "id": "12424418",
   "metadata": {},
   "outputs": [],
   "source": [
    "#Traer la columna 'Costo/kg' al dataframe original\n",
    "df_Emp2_2 = fc.merge_costo(df_Emp2_2, df_costo_semi_Mes)"
   ]
  },
  {
   "cell_type": "code",
   "execution_count": 74,
   "id": "3b18a7ea",
   "metadata": {},
   "outputs": [],
   "source": [
    "#Eliminar la columna Costo/kg antigua y renombrar la nueva\n",
    "df_Emp2_2 = fc.modificar_costo(df_Emp2_2)"
   ]
  },
  {
   "cell_type": "code",
   "execution_count": 75,
   "id": "884f7a05",
   "metadata": {},
   "outputs": [],
   "source": [
    "#Definir meta sobrepeso\n",
    "df_Emp2_2['Meta'] = 0.015"
   ]
  },
  {
   "cell_type": "code",
   "execution_count": null,
   "id": "8dfabe3f",
   "metadata": {},
   "outputs": [
    {
     "data": {
      "text/html": [
       "<div>\n",
       "<style scoped>\n",
       "    .dataframe tbody tr th:only-of-type {\n",
       "        vertical-align: middle;\n",
       "    }\n",
       "\n",
       "    .dataframe tbody tr th {\n",
       "        vertical-align: top;\n",
       "    }\n",
       "\n",
       "    .dataframe thead th {\n",
       "        text-align: right;\n",
       "    }\n",
       "</style>\n",
       "<table border=\"1\" class=\"dataframe\">\n",
       "  <thead>\n",
       "    <tr style=\"text-align: right;\">\n",
       "      <th></th>\n",
       "      <th>Número</th>\n",
       "      <th>Dia</th>\n",
       "      <th>Fecha</th>\n",
       "      <th>Mes:</th>\n",
       "      <th>IdMes</th>\n",
       "      <th>Año:</th>\n",
       "      <th>Máquina / Equipo:</th>\n",
       "      <th>Semana:</th>\n",
       "      <th>Turno:</th>\n",
       "      <th>Código y Descrip. / Producto:</th>\n",
       "      <th>...</th>\n",
       "      <th>Peso Promedio de la unidad (K):</th>\n",
       "      <th>Gramaje (K):</th>\n",
       "      <th>Codigo</th>\n",
       "      <th>Real_empaque_calculado</th>\n",
       "      <th>Debe_ser_empaque_calculado</th>\n",
       "      <th>Diferencia_calculado</th>\n",
       "      <th>Sobrepeso_calculado</th>\n",
       "      <th>Costo/kg</th>\n",
       "      <th>Meta</th>\n",
       "      <th>Ahorros_Perdidas</th>\n",
       "    </tr>\n",
       "  </thead>\n",
       "  <tbody>\n",
       "    <tr>\n",
       "      <th>0</th>\n",
       "      <td>25536</td>\n",
       "      <td>2</td>\n",
       "      <td>2024-01-02</td>\n",
       "      <td>Enero</td>\n",
       "      <td>1</td>\n",
       "      <td>2024</td>\n",
       "      <td>TOYO 3</td>\n",
       "      <td>1.0</td>\n",
       "      <td>1.0</td>\n",
       "      <td>1056678 Cafe COLCAFE clasico 1.5g 48sob 30ple</td>\n",
       "      <td>...</td>\n",
       "      <td>0.00151</td>\n",
       "      <td>0.0015</td>\n",
       "      <td>1056678</td>\n",
       "      <td>63.56496</td>\n",
       "      <td>63.1440</td>\n",
       "      <td>0.42096</td>\n",
       "      <td>0.006667</td>\n",
       "      <td>40412.642311</td>\n",
       "      <td>0.015</td>\n",
       "      <td>21406.899933</td>\n",
       "    </tr>\n",
       "    <tr>\n",
       "      <th>1</th>\n",
       "      <td>25537</td>\n",
       "      <td>2</td>\n",
       "      <td>2024-01-02</td>\n",
       "      <td>Enero</td>\n",
       "      <td>1</td>\n",
       "      <td>2024</td>\n",
       "      <td>TOYO 3</td>\n",
       "      <td>1.0</td>\n",
       "      <td>2.0</td>\n",
       "      <td>1056678 Cafe COLCAFE clasico 1.5g 48sob 30ple</td>\n",
       "      <td>...</td>\n",
       "      <td>0.00151</td>\n",
       "      <td>0.0015</td>\n",
       "      <td>1056678</td>\n",
       "      <td>264.41459</td>\n",
       "      <td>262.6635</td>\n",
       "      <td>1.75109</td>\n",
       "      <td>0.006667</td>\n",
       "      <td>40412.642311</td>\n",
       "      <td>0.015</td>\n",
       "      <td>89047.435396</td>\n",
       "    </tr>\n",
       "    <tr>\n",
       "      <th>2</th>\n",
       "      <td>25538</td>\n",
       "      <td>2</td>\n",
       "      <td>2024-01-02</td>\n",
       "      <td>Enero</td>\n",
       "      <td>1</td>\n",
       "      <td>2024</td>\n",
       "      <td>TOYO 3</td>\n",
       "      <td>1.0</td>\n",
       "      <td>3.0</td>\n",
       "      <td>1056678 Cafe COLCAFE clasico 1.5g 48sob 30ple</td>\n",
       "      <td>...</td>\n",
       "      <td>0.00150</td>\n",
       "      <td>0.0015</td>\n",
       "      <td>1056678</td>\n",
       "      <td>277.20000</td>\n",
       "      <td>277.2000</td>\n",
       "      <td>0.00000</td>\n",
       "      <td>0.000000</td>\n",
       "      <td>40412.642311</td>\n",
       "      <td>0.015</td>\n",
       "      <td>168035.766730</td>\n",
       "    </tr>\n",
       "    <tr>\n",
       "      <th>3</th>\n",
       "      <td>25539</td>\n",
       "      <td>2</td>\n",
       "      <td>2024-01-02</td>\n",
       "      <td>Enero</td>\n",
       "      <td>1</td>\n",
       "      <td>2024</td>\n",
       "      <td>TOYO 4</td>\n",
       "      <td>1.0</td>\n",
       "      <td>1.0</td>\n",
       "      <td>1057623 Café Sprouts Dark Organic 12x2gx24UN</td>\n",
       "      <td>...</td>\n",
       "      <td>0.00200</td>\n",
       "      <td>0.0020</td>\n",
       "      <td>1057623</td>\n",
       "      <td>0.00200</td>\n",
       "      <td>0.0020</td>\n",
       "      <td>0.00000</td>\n",
       "      <td>0.000000</td>\n",
       "      <td>97977.000000</td>\n",
       "      <td>0.015</td>\n",
       "      <td>2.939310</td>\n",
       "    </tr>\n",
       "    <tr>\n",
       "      <th>4</th>\n",
       "      <td>25540</td>\n",
       "      <td>2</td>\n",
       "      <td>2024-01-02</td>\n",
       "      <td>Enero</td>\n",
       "      <td>1</td>\n",
       "      <td>2024</td>\n",
       "      <td>TOYO 4</td>\n",
       "      <td>1.0</td>\n",
       "      <td>2.0</td>\n",
       "      <td>1057623 Café Sprouts Dark Organic 12x2gx24UN</td>\n",
       "      <td>...</td>\n",
       "      <td>0.00200</td>\n",
       "      <td>0.0020</td>\n",
       "      <td>1057623</td>\n",
       "      <td>156.20800</td>\n",
       "      <td>156.2080</td>\n",
       "      <td>0.00000</td>\n",
       "      <td>0.000000</td>\n",
       "      <td>97977.000000</td>\n",
       "      <td>0.015</td>\n",
       "      <td>229571.868240</td>\n",
       "    </tr>\n",
       "  </tbody>\n",
       "</table>\n",
       "<p>5 rows × 21 columns</p>\n",
       "</div>"
      ],
      "text/plain": [
       "   Número  Dia       Fecha   Mes:  IdMes  Año: Máquina / Equipo:  Semana:  \\\n",
       "0   25536    2  2024-01-02  Enero      1  2024            TOYO 3      1.0   \n",
       "1   25537    2  2024-01-02  Enero      1  2024            TOYO 3      1.0   \n",
       "2   25538    2  2024-01-02  Enero      1  2024            TOYO 3      1.0   \n",
       "3   25539    2  2024-01-02  Enero      1  2024            TOYO 4      1.0   \n",
       "4   25540    2  2024-01-02  Enero      1  2024            TOYO 4      1.0   \n",
       "\n",
       "   Turno:                  Código y Descrip. / Producto:  ...  \\\n",
       "0     1.0  1056678 Cafe COLCAFE clasico 1.5g 48sob 30ple  ...   \n",
       "1     2.0  1056678 Cafe COLCAFE clasico 1.5g 48sob 30ple  ...   \n",
       "2     3.0  1056678 Cafe COLCAFE clasico 1.5g 48sob 30ple  ...   \n",
       "3     1.0   1057623 Café Sprouts Dark Organic 12x2gx24UN  ...   \n",
       "4     2.0   1057623 Café Sprouts Dark Organic 12x2gx24UN  ...   \n",
       "\n",
       "   Peso Promedio de la unidad (K):  Gramaje (K):   Codigo  \\\n",
       "0                          0.00151        0.0015  1056678   \n",
       "1                          0.00151        0.0015  1056678   \n",
       "2                          0.00150        0.0015  1056678   \n",
       "3                          0.00200        0.0020  1057623   \n",
       "4                          0.00200        0.0020  1057623   \n",
       "\n",
       "  Real_empaque_calculado  Debe_ser_empaque_calculado  Diferencia_calculado  \\\n",
       "0               63.56496                     63.1440               0.42096   \n",
       "1              264.41459                    262.6635               1.75109   \n",
       "2              277.20000                    277.2000               0.00000   \n",
       "3                0.00200                      0.0020               0.00000   \n",
       "4              156.20800                    156.2080               0.00000   \n",
       "\n",
       "   Sobrepeso_calculado      Costo/kg   Meta  Ahorros_Perdidas  \n",
       "0             0.006667  40412.642311  0.015      21406.899933  \n",
       "1             0.006667  40412.642311  0.015      89047.435396  \n",
       "2             0.000000  40412.642311  0.015     168035.766730  \n",
       "3             0.000000  97977.000000  0.015          2.939310  \n",
       "4             0.000000  97977.000000  0.015     229571.868240  \n",
       "\n",
       "[5 rows x 21 columns]"
      ]
     },
     "execution_count": 77,
     "metadata": {},
     "output_type": "execute_result"
    }
   ],
   "source": [
    "#Calcular columna 'Ahorros/Perdidas'\n",
    "df_Emp2_2 = fc.calcular_ahorros_perdidas(df_Emp2_2)\n",
    "# df_Emp2_2.head()"
   ]
  },
  {
   "cell_type": "code",
   "execution_count": null,
   "id": "f014ce9b",
   "metadata": {},
   "outputs": [
    {
     "data": {
      "text/plain": [
       "Número                                 int64\n",
       "Dia                                    int64\n",
       "Fecha                                 object\n",
       "Mes:                                  object\n",
       "IdMes                                  int64\n",
       "Año:                                   int64\n",
       "Máquina / Equipo:                     object\n",
       "Semana:                              float64\n",
       "Turno:                               float64\n",
       "Código y Descrip. / Producto:         object\n",
       "Unidades Producidas (Conformes) :    float64\n",
       "Peso Promedio de la unidad (K):      float64\n",
       "Gramaje (K):                         float64\n",
       "Codigo                                object\n",
       "Real_empaque_calculado               float64\n",
       "Debe_ser_empaque_calculado           float64\n",
       "Diferencia_calculado                 float64\n",
       "Sobrepeso_calculado                  float64\n",
       "Costo/kg                             float64\n",
       "Meta                                 float64\n",
       "Ahorros_Perdidas                     float64\n",
       "dtype: object"
      ]
     },
     "execution_count": 78,
     "metadata": {},
     "output_type": "execute_result"
    }
   ],
   "source": [
    "# df_Emp2_2.dtypes"
   ]
  },
  {
   "cell_type": "markdown",
   "id": "230f3eb2",
   "metadata": {},
   "source": [
    "**Unión de los DataFrames en un DataFrame totalizado**"
   ]
  },
  {
   "cell_type": "code",
   "execution_count": 79,
   "id": "688704b0",
   "metadata": {},
   "outputs": [],
   "source": [
    "#Crear copia de df_Emp_2_Mes\n",
    "df_totalizado_Mes = df_Emp_2_Mes.copy(deep=True)"
   ]
  },
  {
   "cell_type": "code",
   "execution_count": 80,
   "id": "078d7ae9",
   "metadata": {},
   "outputs": [
    {
     "name": "stdout",
     "output_type": "stream",
     "text": [
      "No hay filas duplicadas.\n"
     ]
    }
   ],
   "source": [
    "#Validar que no hay filas repetidas en df_totalizado_Mes\n",
    "fc.filas_repetidas(df_totalizado_Mes)"
   ]
  },
  {
   "cell_type": "code",
   "execution_count": 81,
   "id": "9269119a",
   "metadata": {},
   "outputs": [],
   "source": [
    "#Fusionar los DataFrames en base a 'Año:', 'Codigo' y 'Mes:'\n",
    "df_totalizado_Mes = fc.unir_dataframes(df_totalizado_Mes, df_costo_semi_Mes)"
   ]
  },
  {
   "cell_type": "code",
   "execution_count": null,
   "id": "fe484353",
   "metadata": {},
   "outputs": [
    {
     "data": {
      "text/html": [
       "<div>\n",
       "<style scoped>\n",
       "    .dataframe tbody tr th:only-of-type {\n",
       "        vertical-align: middle;\n",
       "    }\n",
       "\n",
       "    .dataframe tbody tr th {\n",
       "        vertical-align: top;\n",
       "    }\n",
       "\n",
       "    .dataframe thead th {\n",
       "        text-align: right;\n",
       "    }\n",
       "</style>\n",
       "<table border=\"1\" class=\"dataframe\">\n",
       "  <thead>\n",
       "    <tr style=\"text-align: right;\">\n",
       "      <th></th>\n",
       "      <th>Año:</th>\n",
       "      <th>Mes:</th>\n",
       "      <th>Codigo</th>\n",
       "      <th>Máquina / Equipo:</th>\n",
       "      <th>Debe_ser_empaque_calculado</th>\n",
       "      <th>Diferencia_calculado</th>\n",
       "      <th>Gramaje (K):</th>\n",
       "      <th>Peso Promedio de la unidad (K):</th>\n",
       "      <th>Real_empaque_calculado</th>\n",
       "      <th>Unidades Producidas (Conformes) :</th>\n",
       "      <th>Ctd.</th>\n",
       "      <th>Impte.ML</th>\n",
       "      <th>Real_empaque</th>\n",
       "      <th>Debe_ser_empaque</th>\n",
       "      <th>Diferencia</th>\n",
       "      <th>Sobrepeso</th>\n",
       "      <th>Meta</th>\n",
       "      <th>Costo/kg</th>\n",
       "      <th>Ahorros_Perdidas</th>\n",
       "    </tr>\n",
       "  </thead>\n",
       "  <tbody>\n",
       "    <tr>\n",
       "      <th>0</th>\n",
       "      <td>2024</td>\n",
       "      <td>Abril</td>\n",
       "      <td>1038372</td>\n",
       "      <td>TOYO 4</td>\n",
       "      <td>58.212</td>\n",
       "      <td>0.38808</td>\n",
       "      <td>0.0015</td>\n",
       "      <td>0.001510</td>\n",
       "      <td>58.60008</td>\n",
       "      <td>38808.0</td>\n",
       "      <td>68.0</td>\n",
       "      <td>2925700.0</td>\n",
       "      <td>58.60008</td>\n",
       "      <td>58.212</td>\n",
       "      <td>0.38808</td>\n",
       "      <td>0.006667</td>\n",
       "      <td>0.015</td>\n",
       "      <td>43025.0</td>\n",
       "      <td>21010.570350</td>\n",
       "    </tr>\n",
       "    <tr>\n",
       "      <th>1</th>\n",
       "      <td>2024</td>\n",
       "      <td>Abril</td>\n",
       "      <td>1038375</td>\n",
       "      <td>TOYO 4</td>\n",
       "      <td>231.324</td>\n",
       "      <td>2.63112</td>\n",
       "      <td>0.0015</td>\n",
       "      <td>0.001515</td>\n",
       "      <td>233.95512</td>\n",
       "      <td>154216.0</td>\n",
       "      <td>250.0</td>\n",
       "      <td>10310750.0</td>\n",
       "      <td>233.95512</td>\n",
       "      <td>231.324</td>\n",
       "      <td>2.63112</td>\n",
       "      <td>0.011374</td>\n",
       "      <td>0.015</td>\n",
       "      <td>41243.0</td>\n",
       "      <td>34985.611082</td>\n",
       "    </tr>\n",
       "    <tr>\n",
       "      <th>2</th>\n",
       "      <td>2024</td>\n",
       "      <td>Abril</td>\n",
       "      <td>1040596</td>\n",
       "      <td>TOYO 4</td>\n",
       "      <td>19.314</td>\n",
       "      <td>0.38628</td>\n",
       "      <td>0.0015</td>\n",
       "      <td>0.001530</td>\n",
       "      <td>19.70028</td>\n",
       "      <td>12876.0</td>\n",
       "      <td>20.0</td>\n",
       "      <td>772880.0</td>\n",
       "      <td>19.70028</td>\n",
       "      <td>19.314</td>\n",
       "      <td>0.38628</td>\n",
       "      <td>0.020000</td>\n",
       "      <td>0.015</td>\n",
       "      <td>38644.0</td>\n",
       "      <td>-3806.488102</td>\n",
       "    </tr>\n",
       "    <tr>\n",
       "      <th>3</th>\n",
       "      <td>2024</td>\n",
       "      <td>Abril</td>\n",
       "      <td>1051754</td>\n",
       "      <td>TOYO 4</td>\n",
       "      <td>30.084</td>\n",
       "      <td>0.80224</td>\n",
       "      <td>0.0015</td>\n",
       "      <td>0.001540</td>\n",
       "      <td>30.88624</td>\n",
       "      <td>20056.0</td>\n",
       "      <td>35.0</td>\n",
       "      <td>1505875.0</td>\n",
       "      <td>30.88624</td>\n",
       "      <td>30.084</td>\n",
       "      <td>0.80224</td>\n",
       "      <td>0.026667</td>\n",
       "      <td>0.015</td>\n",
       "      <td>43025.0</td>\n",
       "      <td>-15503.605553</td>\n",
       "    </tr>\n",
       "    <tr>\n",
       "      <th>4</th>\n",
       "      <td>2024</td>\n",
       "      <td>Abril</td>\n",
       "      <td>1056664</td>\n",
       "      <td>TOYO 4</td>\n",
       "      <td>30.000</td>\n",
       "      <td>7.00000</td>\n",
       "      <td>0.0015</td>\n",
       "      <td>0.001850</td>\n",
       "      <td>37.00000</td>\n",
       "      <td>20000.0</td>\n",
       "      <td>56.0</td>\n",
       "      <td>4703328.0</td>\n",
       "      <td>37.00000</td>\n",
       "      <td>30.000</td>\n",
       "      <td>7.00000</td>\n",
       "      <td>0.233333</td>\n",
       "      <td>0.015</td>\n",
       "      <td>83988.0</td>\n",
       "      <td>-678483.060000</td>\n",
       "    </tr>\n",
       "  </tbody>\n",
       "</table>\n",
       "</div>"
      ],
      "text/plain": [
       "   Año:   Mes:   Codigo Máquina / Equipo:  Debe_ser_empaque_calculado  \\\n",
       "0  2024  Abril  1038372            TOYO 4                      58.212   \n",
       "1  2024  Abril  1038375            TOYO 4                     231.324   \n",
       "2  2024  Abril  1040596            TOYO 4                      19.314   \n",
       "3  2024  Abril  1051754            TOYO 4                      30.084   \n",
       "4  2024  Abril  1056664            TOYO 4                      30.000   \n",
       "\n",
       "   Diferencia_calculado  Gramaje (K):  Peso Promedio de la unidad (K):  \\\n",
       "0               0.38808        0.0015                         0.001510   \n",
       "1               2.63112        0.0015                         0.001515   \n",
       "2               0.38628        0.0015                         0.001530   \n",
       "3               0.80224        0.0015                         0.001540   \n",
       "4               7.00000        0.0015                         0.001850   \n",
       "\n",
       "   Real_empaque_calculado  Unidades Producidas (Conformes) :   Ctd.  \\\n",
       "0                58.60008                            38808.0   68.0   \n",
       "1               233.95512                           154216.0  250.0   \n",
       "2                19.70028                            12876.0   20.0   \n",
       "3                30.88624                            20056.0   35.0   \n",
       "4                37.00000                            20000.0   56.0   \n",
       "\n",
       "     Impte.ML  Real_empaque  Debe_ser_empaque  Diferencia  Sobrepeso   Meta  \\\n",
       "0   2925700.0      58.60008            58.212     0.38808   0.006667  0.015   \n",
       "1  10310750.0     233.95512           231.324     2.63112   0.011374  0.015   \n",
       "2    772880.0      19.70028            19.314     0.38628   0.020000  0.015   \n",
       "3   1505875.0      30.88624            30.084     0.80224   0.026667  0.015   \n",
       "4   4703328.0      37.00000            30.000     7.00000   0.233333  0.015   \n",
       "\n",
       "   Costo/kg  Ahorros_Perdidas  \n",
       "0   43025.0      21010.570350  \n",
       "1   41243.0      34985.611082  \n",
       "2   38644.0      -3806.488102  \n",
       "3   43025.0     -15503.605553  \n",
       "4   83988.0    -678483.060000  "
      ]
     },
     "execution_count": 82,
     "metadata": {},
     "output_type": "execute_result"
    }
   ],
   "source": [
    "#Metodo calcular_columnas_totalizado con meta fija\n",
    "df_totalizado_Mes = fc.calcular_columnas_totalizado(df_totalizado_Mes, 0.015)\n",
    "# df_totalizado_Mes.head()"
   ]
  },
  {
   "cell_type": "code",
   "execution_count": 83,
   "id": "97c71870",
   "metadata": {},
   "outputs": [],
   "source": [
    "#Obtener Codigos unicos | Cod. Descrip. | Maquina con un merge\n",
    "df_Codigos_Emp_2 = fc.obtener_cod_descrip(df_costo_semi, df_Emp_2_Mes)"
   ]
  },
  {
   "cell_type": "code",
   "execution_count": 84,
   "id": "0f338305",
   "metadata": {},
   "outputs": [],
   "source": [
    "#Obtener Maquinas únicas de TPM o df_codigos_desc_maq_Mezclas\n",
    "df_Maquinas_Emp_2 = fc.eliminar_duplicados_columna(df_Codigos_Emp_2, 'Máquina / Equipo:')"
   ]
  },
  {
   "cell_type": "code",
   "execution_count": 85,
   "id": "06110a77",
   "metadata": {},
   "outputs": [],
   "source": [
    "#Unión de los dataframes de no convertibles (validar_y_convertir_datos)\n",
    "df_non_conver = pd.concat([df_non_conver_a, df_non_conver_b], ignore_index=True)"
   ]
  },
  {
   "cell_type": "markdown",
   "id": "2209f33e",
   "metadata": {},
   "source": [
    "**Generación de un archivo de fechas Automáticas**"
   ]
  },
  {
   "cell_type": "code",
   "execution_count": 86,
   "id": "e8aa0d23",
   "metadata": {},
   "outputs": [],
   "source": [
    "#Generar dataframe con fechas dese 2024-01-01 hasta el dia actual\n",
    "df_Fechas = fc.generar_fechas(\"2024-01-01\")"
   ]
  },
  {
   "cell_type": "code",
   "execution_count": 87,
   "id": "535014c8",
   "metadata": {},
   "outputs": [],
   "source": [
    "# print(df_Emp_2.shape)\n",
    "# print(df_COOISPI_COMB.shape)\n",
    "# print(df_Emp_2_Mes.shape)\n",
    "# print(df_Codigos_Emp_2.shape)\n",
    "# print(df_Maquinas_Emp_2.shape)\n",
    "# print(df_totalizado_Mes.shape)\n",
    "# print(df_Fechas.shape)\n",
    "# print(df_Emp2_2.shape)\n",
    "# print()\n",
    "# print(df_Emp_2_Nov_Sobrepeso.shape)\n",
    "# print(df_Emp_2_Codigos_nan.shape)\n",
    "# #print(df_Mol_Codigos_unicos.shape)\n",
    "# print(df_Emp_2_nan_ceros.shape)\n",
    "# print(df_non_conver.shape)"
   ]
  },
  {
   "cell_type": "code",
   "execution_count": null,
   "id": "e345142c",
   "metadata": {},
   "outputs": [],
   "source": []
  },
  {
   "cell_type": "markdown",
   "id": "7a54586f",
   "metadata": {},
   "source": [
    "**Consolidado csv**"
   ]
  },
  {
   "cell_type": "code",
   "execution_count": 88,
   "id": "706feb31",
   "metadata": {},
   "outputs": [],
   "source": [
    "#Ruta para consolidado df_Emp2_2\n",
    "df_Emp2_2.to_csv(Ruta_Emp_2 + \"DB_Emp2_Out_vf.csv\", index=False)"
   ]
  },
  {
   "cell_type": "markdown",
   "id": "1462d045",
   "metadata": {},
   "source": [
    "**Archivo de consolidado**"
   ]
  },
  {
   "cell_type": "code",
   "execution_count": 89,
   "id": "aa6f25c3",
   "metadata": {},
   "outputs": [
    {
     "name": "stdout",
     "output_type": "stream",
     "text": [
      "Procesando Consolidado...\n",
      "✅ Las hojas en el Archivo de Consolidado han sido limpiadas y actualizadas correctamente.\n"
     ]
    }
   ],
   "source": [
    "#Diccionario de hojas para el archivo de consolidado\n",
    "dataframes_consolidado = {\n",
    "    \"Hoja1\": df_Emp_2,\n",
    "    \"Hoja2\": df_COOISPI_COMB,\n",
    "    \"Hoja3\": df_Emp_2_Mes,\n",
    "    \"Hoja4\": df_Codigos_Emp_2,  #df_merged\n",
    "    \"Hoja5\": df_Maquinas_Emp_2,\n",
    "    \"Hoja6\": df_totalizado_Mes,\n",
    "    \"Hoja7\": df_Fechas,\n",
    "    \"Hoja8\": df_Emp2_2,\n",
    "    \"Hoja9\": df_Emp2_2\n",
    "}\n",
    "#Actualizar hojas del excel de Consolidado_V2\n",
    "fc.actualizar_hojas_excel(Ruta_Consolidados, dataframes_consolidado)"
   ]
  },
  {
   "cell_type": "markdown",
   "id": "0be67501",
   "metadata": {},
   "source": [
    "**Archivo de novedades : Este archivo compila las diferentes novedades presentes en los archivos de TPM**"
   ]
  },
  {
   "cell_type": "code",
   "execution_count": 90,
   "id": "2ec2ea92",
   "metadata": {},
   "outputs": [
    {
     "name": "stdout",
     "output_type": "stream",
     "text": [
      "Procesando Novedades...\n",
      "✅ El Archivo de Novedades guardado exitosamente con 4 hojas guardadas correctamente.\n"
     ]
    }
   ],
   "source": [
    "#Diccionario de hojas para el archivo de novedades\n",
    "dataframes_novedades = {\n",
    "    \"Hoja1\": df_Emp_2_Nov_Sobrepeso,          #Novedades sobrepeso\n",
    "    \"Hoja2\": df_Emp_2_Codigos_nan,            #Novedades codigos nulos\n",
    "    #\"Hoja3\": df_Emp_2_Codigos_unicos,        #Codigos presentes en TPM y no en COOISPI\n",
    "    \"Hoja4\": df_Emp_2_nan_ceros,              #Valores nulos o ceros para gramaje, unidades producidas y promedio peso unidad\n",
    "    \"Hoja5\": df_non_conver                    #Valores no convertibles\n",
    "}\n",
    "#Guardar el archivo de Novedades\n",
    "fc.crear_archivo_novedades(Ruta_Novedades, dataframes_novedades)"
   ]
  }
 ],
 "metadata": {
  "kernelspec": {
   "display_name": "Python 3",
   "language": "python",
   "name": "python3"
  },
  "language_info": {
   "codemirror_mode": {
    "name": "ipython",
    "version": 3
   },
   "file_extension": ".py",
   "mimetype": "text/x-python",
   "name": "python",
   "nbconvert_exporter": "python",
   "pygments_lexer": "ipython3",
   "version": "3.13.2"
  }
 },
 "nbformat": 4,
 "nbformat_minor": 5
}
