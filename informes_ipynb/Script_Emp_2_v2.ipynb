{
 "cells": [
  {
   "cell_type": "code",
   "execution_count": 1,
   "id": "1392221e",
   "metadata": {},
   "outputs": [],
   "source": [
    "import os\n",
    "import pandas as pd\n",
    "import warnings\n",
    "import funciones_tpm as fc"
   ]
  },
  {
   "cell_type": "code",
   "execution_count": 2,
   "id": "5b67f618",
   "metadata": {},
   "outputs": [],
   "source": [
    "#Ocultar advertencias/warnings mas no los borra\n",
    "warnings.filterwarnings(\"ignore\", category=pd.errors.DtypeWarning)"
   ]
  },
  {
   "cell_type": "code",
   "execution_count": 3,
   "id": "d76acb33",
   "metadata": {},
   "outputs": [],
   "source": [
    "#Año evaluado\n",
    "Añoeval = 2025"
   ]
  },
  {
   "cell_type": "markdown",
   "id": "b976b9f4",
   "metadata": {},
   "source": [
    "**Variables globales de las rutas necesarias**"
   ]
  },
  {
   "cell_type": "code",
   "execution_count": 4,
   "id": "adaa27a2",
   "metadata": {},
   "outputs": [
    {
     "name": "stdout",
     "output_type": "stream",
     "text": [
      "Ruta 'Ruta_COOISPI' encontrada.\n",
      "Ruta 'Ruta_Archivo_EGE' encontrada.\n",
      "Ruta 'Ruta_Novedades' encontrada.\n",
      "Ruta 'Ruta_Consolidados' encontrada.\n"
     ]
    }
   ],
   "source": [
    "#Rutas del archivo de la COOISPI\n",
    "Ruta_COOISPI = r'\\\\10.28.5.232\\s3-1colcafeci-servicios-jtc\\TPM\\Colcafé Formularios\\BD Sobrepeso\\COOISPI\\Datos_COOISPI_Empaques2.csv'                           # Ruta COOISPI en csv\n",
    "\n",
    "#Rutas del archivo del EGE\n",
    "Ruta_Archivo_EGE = r'\\\\10.28.5.232\\s3-1colcafeci-servicios-jtc\\TPM\\Colcafé Formularios\\BD Sobrepeso\\Backup_BD_Salones\\Datos_Emp2_2021.csv'                     # Ruta Empaques2\n",
    "\n",
    "#Rutas del archivo de Novedades\n",
    "Ruta_Novedades = r'\\\\10.28.5.232\\s3-1colcafeci-servicios-jtc\\TPM\\Colcafé Formularios\\BD Sobrepeso\\Consolidados_Salones\\Empaques_2\\Empaques_2_Novedades_V2.xlsx'   # Ruta del archivo de Novedades\n",
    "\n",
    "#Rutas del archivo de Consolidados\n",
    "Ruta_Consolidados = r'\\\\10.28.5.232\\s3-1colcafeci-servicios-jtc\\TPM\\Colcafé Formularios\\BD Sobrepeso\\Consolidados_Salones\\Empaques_2\\Consolidado_V2.xlsx'      # Ruta del archivo de Consolidados\n",
    "\n",
    "#Ruta de salida\n",
    "# Ruta_Emp_2 = r'\\\\10.28.5.232\\s3-1colcafeci-servicios-jtc\\TPM\\Colcafé Formularios\\BD Sobrepeso\\Consolidados_Salones\\Empaques_2'                               # DB_Emp2_Out_vf.csv\n",
    "\n",
    "#Validacion de existencia de las rutas\n",
    "for nombre, ruta in {\n",
    "  \"Ruta_COOISPI\": Ruta_COOISPI,\n",
    "  \"Ruta_Archivo_EGE\": Ruta_Archivo_EGE,\n",
    "  \"Ruta_Novedades\": Ruta_Novedades,\n",
    "  \"Ruta_Consolidados\": Ruta_Consolidados,\n",
    "  # \"Ruta_Emp_2\": Ruta_Emp_2,\n",
    "}.items():\n",
    "  if not os.path.exists(ruta):\n",
    "    raise FileNotFoundError(f\"La ruta '{nombre}' no fue encontrada.\")\n",
    "  else:\n",
    "    print(f\"Ruta '{nombre}' encontrada.\")"
   ]
  },
  {
   "cell_type": "code",
   "execution_count": 5,
   "id": "05b0cf86",
   "metadata": {},
   "outputs": [
    {
     "name": "stdout",
     "output_type": "stream",
     "text": [
      "Leyendo archivo...\n"
     ]
    }
   ],
   "source": [
    "#Leer_archivo COOISPI csv \n",
    "df_COOISPI_COMB = fc.leer_archivo(Ruta_COOISPI)"
   ]
  },
  {
   "cell_type": "code",
   "execution_count": 6,
   "id": "ba158f4c",
   "metadata": {},
   "outputs": [],
   "source": [
    "#Convertir columna 'Codigo' a str para futuros procesor (merge y tabla pivote)\n",
    "df_COOISPI_COMB['Codigo'] = df_COOISPI_COMB['Codigo'].astype(str)"
   ]
  },
  {
   "cell_type": "code",
   "execution_count": 7,
   "id": "eb137aa0",
   "metadata": {},
   "outputs": [
    {
     "name": "stdout",
     "output_type": "stream",
     "text": [
      "Leyendo archivo...\n"
     ]
    }
   ],
   "source": [
    "#Funcion para leer archivo el EGE/TPM\n",
    "df_Emp_2 = fc.leer_archivo(Ruta_Archivo_EGE, 'Datos')"
   ]
  },
  {
   "cell_type": "code",
   "execution_count": 8,
   "id": "0cfa1ee7",
   "metadata": {},
   "outputs": [],
   "source": [
    "#Reemplazar el nombre de la columna \"Día:\" para estandarizar los scripts\n",
    "df_Emp_2.rename(columns={\"Día:\":\"Dia\"}, inplace=True)"
   ]
  },
  {
   "cell_type": "code",
   "execution_count": 9,
   "id": "17b48921",
   "metadata": {},
   "outputs": [],
   "source": [
    "#Eliminar_filas_vacias\n",
    "numeros_vacios_filtrados = fc.eliminar_filas_vacias(df_Emp_2, 'Número')"
   ]
  },
  {
   "cell_type": "code",
   "execution_count": 10,
   "id": "f9fc5936",
   "metadata": {},
   "outputs": [],
   "source": [
    "# #Filtrando el DataFrame según las condiciones dadas\n",
    "# df_filtrado = df_Emp_2.loc[\n",
    "#     (df_Emp_2['Año:'] == 2024) &\n",
    "#     (df_Emp_2['Mes:'] == \"Abril\") &\n",
    "#     (df_Emp_2['Código y Descrip. / Producto:'] == \"1040596 Cafe COLCAFE Clasic Grnel 2500X1.5g esp\")\n",
    "# ]\n",
    "\n",
    "# #Filtrando el DataFrame según las condiciones dadas\n",
    "# df_filtrado = df_Emp_2.loc[\n",
    "#     (df_Emp_2['Año:'] == 2024) &\n",
    "#     (df_Emp_2['Mes:'] == \"Enero\") &\n",
    "#     (df_Emp_2['Código y Descrip. / Producto:'] == \"1056678 Cafe COLCAFE clasico 1.5g 48sob 30ple\")\n",
    "# ]\n",
    "#\n",
    "# # Calculando la suma de la columna específica\n",
    "# suma_unidades_producidas = df_filtrado['Unidades Producidas (Conformes) :'].sum()\n",
    "#\n",
    "# # Mostrando la suma\n",
    "# print(suma_unidades_producidas)"
   ]
  },
  {
   "cell_type": "code",
   "execution_count": 11,
   "id": "4a9693b1",
   "metadata": {},
   "outputs": [
    {
     "data": {
      "text/html": [
       "<div>\n",
       "<style scoped>\n",
       "    .dataframe tbody tr th:only-of-type {\n",
       "        vertical-align: middle;\n",
       "    }\n",
       "\n",
       "    .dataframe tbody tr th {\n",
       "        vertical-align: top;\n",
       "    }\n",
       "\n",
       "    .dataframe thead th {\n",
       "        text-align: right;\n",
       "    }\n",
       "</style>\n",
       "<table border=\"1\" class=\"dataframe\">\n",
       "  <thead>\n",
       "    <tr style=\"text-align: right;\">\n",
       "      <th></th>\n",
       "      <th>Número</th>\n",
       "      <th>Dia</th>\n",
       "      <th>Mes:</th>\n",
       "      <th>Año:</th>\n",
       "      <th>Semana:</th>\n",
       "      <th>Turno:</th>\n",
       "      <th>Hora de Inicio:</th>\n",
       "      <th>Hora Final:</th>\n",
       "      <th>Máquina / Equipo:</th>\n",
       "      <th>Código y Descrip. / Producto:</th>\n",
       "      <th>...</th>\n",
       "      <th>OBSERVACIONES:</th>\n",
       "      <th>Legal Contractual\\nPeso min</th>\n",
       "      <th>Legal Contractual\\nMarcación min</th>\n",
       "      <th>Legal Contractual\\nOtros min</th>\n",
       "      <th>Legal Contractual\\nPeso Ev</th>\n",
       "      <th>Legal Contractual\\nMarcación Ev</th>\n",
       "      <th>Legal Contractual\\nOtros Ev</th>\n",
       "      <th>Kg Producidos (Conforme)</th>\n",
       "      <th>IdMes</th>\n",
       "      <th>Fecha</th>\n",
       "    </tr>\n",
       "  </thead>\n",
       "  <tbody>\n",
       "    <tr>\n",
       "      <th>0</th>\n",
       "      <td>18036</td>\n",
       "      <td>4</td>\n",
       "      <td>Enero</td>\n",
       "      <td>2021</td>\n",
       "      <td>1.0</td>\n",
       "      <td>3.0</td>\n",
       "      <td>21:10:07</td>\n",
       "      <td>05:12:51</td>\n",
       "      <td>TOYO 3</td>\n",
       "      <td>1038938 Cafe COLCAFE clasico 1.5g 48sob 30ple</td>\n",
       "      <td>...</td>\n",
       "      <td>.E.D.@_@</td>\n",
       "      <td>NaN</td>\n",
       "      <td>NaN</td>\n",
       "      <td>NaN</td>\n",
       "      <td>NaN</td>\n",
       "      <td>NaN</td>\n",
       "      <td>NaN</td>\n",
       "      <td>254.40000</td>\n",
       "      <td>1</td>\n",
       "      <td>2021-01-04</td>\n",
       "    </tr>\n",
       "    <tr>\n",
       "      <th>1</th>\n",
       "      <td>18037</td>\n",
       "      <td>4</td>\n",
       "      <td>Enero</td>\n",
       "      <td>2021</td>\n",
       "      <td>1.0</td>\n",
       "      <td>2.0</td>\n",
       "      <td>13:15:00</td>\n",
       "      <td>21:10:07</td>\n",
       "      <td>TOYO 3</td>\n",
       "      <td>1038938 Cafe COLCAFE clasico 1.5g 48sob 30ple</td>\n",
       "      <td>...</td>\n",
       "      <td>..@_@.E.D.@_@</td>\n",
       "      <td>NaN</td>\n",
       "      <td>NaN</td>\n",
       "      <td>NaN</td>\n",
       "      <td>NaN</td>\n",
       "      <td>NaN</td>\n",
       "      <td>NaN</td>\n",
       "      <td>251.90808</td>\n",
       "      <td>1</td>\n",
       "      <td>2021-01-04</td>\n",
       "    </tr>\n",
       "    <tr>\n",
       "      <th>2</th>\n",
       "      <td>18038</td>\n",
       "      <td>4</td>\n",
       "      <td>Enero</td>\n",
       "      <td>2021</td>\n",
       "      <td>1.0</td>\n",
       "      <td>2.0</td>\n",
       "      <td>13:20:34</td>\n",
       "      <td>21:10:05</td>\n",
       "      <td>TOYO 4</td>\n",
       "      <td>1038938 Cafe COLCAFE clasico 1.5g 48sob 30ple</td>\n",
       "      <td>...</td>\n",
       "      <td>.BOBINA@_@.COMIDA.@_@.DESENHEBRE DE PISTAS 4 Y...</td>\n",
       "      <td>NaN</td>\n",
       "      <td>NaN</td>\n",
       "      <td>NaN</td>\n",
       "      <td>NaN</td>\n",
       "      <td>NaN</td>\n",
       "      <td>NaN</td>\n",
       "      <td>209.44000</td>\n",
       "      <td>1</td>\n",
       "      <td>2021-01-04</td>\n",
       "    </tr>\n",
       "    <tr>\n",
       "      <th>3</th>\n",
       "      <td>18039</td>\n",
       "      <td>4</td>\n",
       "      <td>Enero</td>\n",
       "      <td>2021</td>\n",
       "      <td>1.0</td>\n",
       "      <td>1.0</td>\n",
       "      <td>06:33:11</td>\n",
       "      <td>13:09:34</td>\n",
       "      <td>TOYO 4</td>\n",
       "      <td>1038938 Cafe COLCAFE clasico 1.5g 48sob 30ple</td>\n",
       "      <td>...</td>\n",
       "      <td>.mordazas sucias por finos del cafe@_@.PISTAS ...</td>\n",
       "      <td>NaN</td>\n",
       "      <td>NaN</td>\n",
       "      <td>NaN</td>\n",
       "      <td>NaN</td>\n",
       "      <td>NaN</td>\n",
       "      <td>NaN</td>\n",
       "      <td>207.76800</td>\n",
       "      <td>1</td>\n",
       "      <td>2021-01-04</td>\n",
       "    </tr>\n",
       "    <tr>\n",
       "      <th>4</th>\n",
       "      <td>18040</td>\n",
       "      <td>4</td>\n",
       "      <td>Enero</td>\n",
       "      <td>2021</td>\n",
       "      <td>1.0</td>\n",
       "      <td>1.0</td>\n",
       "      <td>06:00:30</td>\n",
       "      <td>13:10:21</td>\n",
       "      <td>TOYO 3</td>\n",
       "      <td>1038938 Cafe COLCAFE clasico 1.5g 48sob 30ple</td>\n",
       "      <td>...</td>\n",
       "      <td>.(Tec. Mto: Técnico Mantenimiento) Se realiza ...</td>\n",
       "      <td>NaN</td>\n",
       "      <td>NaN</td>\n",
       "      <td>NaN</td>\n",
       "      <td>NaN</td>\n",
       "      <td>NaN</td>\n",
       "      <td>NaN</td>\n",
       "      <td>180.55200</td>\n",
       "      <td>1</td>\n",
       "      <td>2021-01-04</td>\n",
       "    </tr>\n",
       "  </tbody>\n",
       "</table>\n",
       "<p>5 rows × 173 columns</p>\n",
       "</div>"
      ],
      "text/plain": [
       "   Número  Dia   Mes:  Año:  Semana:  Turno: Hora de Inicio: Hora Final:  \\\n",
       "0   18036    4  Enero  2021      1.0     3.0        21:10:07    05:12:51   \n",
       "1   18037    4  Enero  2021      1.0     2.0        13:15:00    21:10:07   \n",
       "2   18038    4  Enero  2021      1.0     2.0        13:20:34    21:10:05   \n",
       "3   18039    4  Enero  2021      1.0     1.0        06:33:11    13:09:34   \n",
       "4   18040    4  Enero  2021      1.0     1.0        06:00:30    13:10:21   \n",
       "\n",
       "  Máquina / Equipo:                  Código y Descrip. / Producto:  ...  \\\n",
       "0            TOYO 3  1038938 Cafe COLCAFE clasico 1.5g 48sob 30ple  ...   \n",
       "1            TOYO 3  1038938 Cafe COLCAFE clasico 1.5g 48sob 30ple  ...   \n",
       "2            TOYO 4  1038938 Cafe COLCAFE clasico 1.5g 48sob 30ple  ...   \n",
       "3            TOYO 4  1038938 Cafe COLCAFE clasico 1.5g 48sob 30ple  ...   \n",
       "4            TOYO 3  1038938 Cafe COLCAFE clasico 1.5g 48sob 30ple  ...   \n",
       "\n",
       "                                      OBSERVACIONES:  \\\n",
       "0                                           .E.D.@_@   \n",
       "1                                      ..@_@.E.D.@_@   \n",
       "2  .BOBINA@_@.COMIDA.@_@.DESENHEBRE DE PISTAS 4 Y...   \n",
       "3  .mordazas sucias por finos del cafe@_@.PISTAS ...   \n",
       "4  .(Tec. Mto: Técnico Mantenimiento) Se realiza ...   \n",
       "\n",
       "  Legal Contractual\\nPeso min  Legal Contractual\\nMarcación min  \\\n",
       "0                         NaN                               NaN   \n",
       "1                         NaN                               NaN   \n",
       "2                         NaN                               NaN   \n",
       "3                         NaN                               NaN   \n",
       "4                         NaN                               NaN   \n",
       "\n",
       "   Legal Contractual\\nOtros min Legal Contractual\\nPeso Ev  \\\n",
       "0                           NaN                        NaN   \n",
       "1                           NaN                        NaN   \n",
       "2                           NaN                        NaN   \n",
       "3                           NaN                        NaN   \n",
       "4                           NaN                        NaN   \n",
       "\n",
       "   Legal Contractual\\nMarcación Ev Legal Contractual\\nOtros Ev  \\\n",
       "0                              NaN                         NaN   \n",
       "1                              NaN                         NaN   \n",
       "2                              NaN                         NaN   \n",
       "3                              NaN                         NaN   \n",
       "4                              NaN                         NaN   \n",
       "\n",
       "  Kg Producidos (Conforme) IdMes       Fecha  \n",
       "0                254.40000     1  2021-01-04  \n",
       "1                251.90808     1  2021-01-04  \n",
       "2                209.44000     1  2021-01-04  \n",
       "3                207.76800     1  2021-01-04  \n",
       "4                180.55200     1  2021-01-04  \n",
       "\n",
       "[5 rows x 173 columns]"
      ]
     },
     "execution_count": 11,
     "metadata": {},
     "output_type": "execute_result"
    }
   ],
   "source": [
    "#Crear_fecha\n",
    "df_Emp_2 = fc.crear_fecha(df_Emp_2)\n",
    "df_Emp_2.head()"
   ]
  },
  {
   "cell_type": "code",
   "execution_count": 12,
   "id": "ea1af6c7",
   "metadata": {},
   "outputs": [],
   "source": [
    "#Tomar solo las columnas de interes del informe de Empaques2 para el sobrepeso\n",
    "Columnas=['Número','Dia','Fecha','Mes:','IdMes','Año:','Máquina / Equipo:','Semana:','Turno:','Código y Descrip. / Producto:','Unidades Producidas (Conformes) :','Peso Promedio de la unidad (K):','Gramaje (K):']\n",
    "df_Emp_2 = df_Emp_2[Columnas]"
   ]
  },
  {
   "cell_type": "code",
   "execution_count": 13,
   "id": "5df51a63",
   "metadata": {},
   "outputs": [],
   "source": [
    "#Filtrar_desde_añio\n",
    "df_Emp_2 = fc.filtrar_desde_anio(df_Emp_2, 2024)"
   ]
  },
  {
   "cell_type": "code",
   "execution_count": 14,
   "id": "b8cf82fe",
   "metadata": {},
   "outputs": [],
   "source": [
    "#Especificar las columnas en las que deseas aplicar el filtro para eliminar los valores nulos de las columnas de Gramaje, Unidades producidas y Peso promedio\n",
    "columnas_filtrar_nulos = ['Gramaje (K):', 'Unidades Producidas (Conformes) :', 'Peso Promedio de la unidad (K):']"
   ]
  },
  {
   "cell_type": "code",
   "execution_count": 15,
   "id": "e5d46d6e",
   "metadata": {},
   "outputs": [],
   "source": [
    "#Filtrar_nulos\n",
    "df_Emp_2_nan_ceros, df_Emp_2 = fc.filtrar_nulos(df_Emp_2, columnas_filtrar_nulos)"
   ]
  },
  {
   "cell_type": "markdown",
   "id": "905a1b29",
   "metadata": {},
   "source": [
    "**Modificación de los tipos de datos del archivo de TPM de EMPAQUES 2**"
   ]
  },
  {
   "cell_type": "code",
   "execution_count": 16,
   "id": "3fd53f39",
   "metadata": {},
   "outputs": [],
   "source": [
    "#Validar_numericos\n",
    "df_non_conver_a, df_Emp_2 = fc.validar_numericos(df_Emp_2, 'Peso Promedio de la unidad (K):')"
   ]
  },
  {
   "cell_type": "code",
   "execution_count": 17,
   "id": "157eee0a",
   "metadata": {},
   "outputs": [],
   "source": [
    "#Validar_numericos\n",
    "df_non_conver_b, df_Emp_2 = fc.validar_numericos(df_Emp_2, 'Gramaje (K):')"
   ]
  },
  {
   "cell_type": "code",
   "execution_count": 18,
   "id": "4273c0ab",
   "metadata": {},
   "outputs": [],
   "source": [
    "#Extraer_codigo\n",
    "df_Emp_2 = fc.extraer_codigo(df_Emp_2)"
   ]
  },
  {
   "cell_type": "markdown",
   "id": "beec1a04",
   "metadata": {},
   "source": [
    "**Identificación y supresión de aquellos códigos con valores nulos**"
   ]
  },
  {
   "cell_type": "code",
   "execution_count": 19,
   "id": "c7e36ca0",
   "metadata": {},
   "outputs": [],
   "source": [
    "#Eliminar_codigos_nan\n",
    "df_Emp_2, df_Emp_2_Codigos_nan = fc.eliminar_codigos_nan(df_Emp_2)"
   ]
  },
  {
   "cell_type": "code",
   "execution_count": 20,
   "id": "652d74d3",
   "metadata": {},
   "outputs": [],
   "source": [
    "filtro_nan_ceros = df_Emp_2[columnas_filtrar_nulos].isna().any(axis=1) | (df_Emp_2[columnas_filtrar_nulos] == 0).any(axis=1)\n",
    "df_Emp_2_nan_ceros = df_Emp_2[filtro_nan_ceros]\n",
    "df_Emp_2 = df_Emp_2[~filtro_nan_ceros]"
   ]
  },
  {
   "cell_type": "code",
   "execution_count": 21,
   "id": "ac59eafb",
   "metadata": {},
   "outputs": [],
   "source": [
    "#Calcular_columnas\n",
    "df_Emp_2 = fc.calcular_columnas(df_Emp_2)"
   ]
  },
  {
   "cell_type": "markdown",
   "id": "2fd658bf",
   "metadata": {},
   "source": [
    "**Generación de Novedades**"
   ]
  },
  {
   "cell_type": "code",
   "execution_count": 22,
   "id": "71b5e353",
   "metadata": {},
   "outputs": [],
   "source": [
    "Sobrepeso_Novedades = 0.1  #10% de Sobrepeso"
   ]
  },
  {
   "cell_type": "code",
   "execution_count": 23,
   "id": "49f1a45e",
   "metadata": {},
   "outputs": [],
   "source": [
    "#Generar_novedades\n",
    "df_Emp_2_Nov_Sobrepeso = fc.generar_novedades(df_Emp_2, Sobrepeso_Novedades)\n",
    "# df_Emp_2_Nov_Sobrepeso.head()"
   ]
  },
  {
   "cell_type": "code",
   "execution_count": 24,
   "id": "af12778b",
   "metadata": {},
   "outputs": [],
   "source": [
    "#Agregar columna 'Costo/kg'\n",
    "df_Emp_2['Costo/kg'] = 0.0"
   ]
  },
  {
   "cell_type": "markdown",
   "id": "75ad2f15",
   "metadata": {},
   "source": [
    "**Tabla de Consolidado Mensual**"
   ]
  },
  {
   "cell_type": "code",
   "execution_count": 25,
   "id": "62305b40",
   "metadata": {},
   "outputs": [],
   "source": [
    "#Pivote_consolidado\n",
    "df_Emp_2_Mes = fc.pivote_consolidado(df_Emp_2)"
   ]
  },
  {
   "cell_type": "code",
   "execution_count": 26,
   "id": "40d166f7",
   "metadata": {},
   "outputs": [],
   "source": [
    "#Tomar datos desde el año 2024 en adelante\n",
    "df_Emp_2_Mes = fc.filtrar_desde_anio(df_Emp_2_Mes, 2024)"
   ]
  },
  {
   "cell_type": "markdown",
   "id": "848b5fae",
   "metadata": {},
   "source": [
    "**Creación de la agrupación Mensual del archivo de semielaborados**"
   ]
  },
  {
   "cell_type": "code",
   "execution_count": 27,
   "id": "b31c270e",
   "metadata": {},
   "outputs": [],
   "source": [
    "df_costo_semi = df_COOISPI_COMB.copy(deep=True)"
   ]
  },
  {
   "cell_type": "code",
   "execution_count": 28,
   "id": "a468cbb8",
   "metadata": {},
   "outputs": [],
   "source": [
    "#Creacion de la agrupacion mensual del archivo semielaborado\n",
    "df_costo_semi_Mes = fc.pivote_semielaborados(df_costo_semi)"
   ]
  },
  {
   "cell_type": "markdown",
   "id": "e615b86b",
   "metadata": {},
   "source": [
    "**Generación del nuevo archivo consolidado V2**"
   ]
  },
  {
   "cell_type": "code",
   "execution_count": 29,
   "id": "919e9da4",
   "metadata": {},
   "outputs": [],
   "source": [
    "df_Emp2_2 = df_Emp_2.copy(deep=True)"
   ]
  },
  {
   "cell_type": "code",
   "execution_count": 30,
   "id": "12424418",
   "metadata": {},
   "outputs": [],
   "source": [
    "#Traer la columna 'Costo/kg' al dataframe original\n",
    "df_Emp2_2 = fc.merge_costo(df_Emp2_2, df_costo_semi_Mes)"
   ]
  },
  {
   "cell_type": "code",
   "execution_count": 31,
   "id": "3b18a7ea",
   "metadata": {},
   "outputs": [],
   "source": [
    "#Eliminar la columna Costo/kg antigua y renombrar la nueva\n",
    "df_Emp2_2 = fc.modificar_costo(df_Emp2_2)"
   ]
  },
  {
   "cell_type": "code",
   "execution_count": 32,
   "id": "884f7a05",
   "metadata": {},
   "outputs": [],
   "source": [
    "#Definir meta sobrepeso\n",
    "df_Emp2_2['Meta'] = 0.015"
   ]
  },
  {
   "cell_type": "code",
   "execution_count": 33,
   "id": "8dfabe3f",
   "metadata": {},
   "outputs": [],
   "source": [
    "#Calcular columna 'Ahorros/Perdidas'\n",
    "df_Emp2_2 = fc.calcular_ahorros_perdidas(df_Emp2_2)\n",
    "# df_Emp2_2.head()"
   ]
  },
  {
   "cell_type": "code",
   "execution_count": 34,
   "id": "f014ce9b",
   "metadata": {},
   "outputs": [],
   "source": [
    "# df_Emp2_2.dtypes"
   ]
  },
  {
   "cell_type": "markdown",
   "id": "230f3eb2",
   "metadata": {},
   "source": [
    "**Unión de los DataFrames en un DataFrame totalizado**"
   ]
  },
  {
   "cell_type": "code",
   "execution_count": 35,
   "id": "688704b0",
   "metadata": {},
   "outputs": [],
   "source": [
    "#Crear copia de df_Emp_2_Mes\n",
    "df_totalizado_Mes = df_Emp_2_Mes.copy(deep=True)"
   ]
  },
  {
   "cell_type": "code",
   "execution_count": 36,
   "id": "078d7ae9",
   "metadata": {},
   "outputs": [
    {
     "name": "stdout",
     "output_type": "stream",
     "text": [
      "No hay filas duplicadas.\n"
     ]
    }
   ],
   "source": [
    "#Validar que no hay filas repetidas en df_totalizado_Mes\n",
    "fc.filas_repetidas(df_totalizado_Mes)"
   ]
  },
  {
   "cell_type": "code",
   "execution_count": 37,
   "id": "9269119a",
   "metadata": {},
   "outputs": [],
   "source": [
    "#Fusionar los DataFrames en base a 'Año:', 'Codigo' y 'Mes:'\n",
    "df_totalizado_Mes = fc.unir_dataframes(df_totalizado_Mes, df_costo_semi_Mes)"
   ]
  },
  {
   "cell_type": "code",
   "execution_count": 38,
   "id": "fe484353",
   "metadata": {},
   "outputs": [],
   "source": [
    "#Metodo calcular_columnas_totalizado con meta fija\n",
    "df_totalizado_Mes = fc.calcular_columnas_totalizado(df_totalizado_Mes, 0.015)\n",
    "# df_totalizado_Mes.head()"
   ]
  },
  {
   "cell_type": "code",
   "execution_count": 39,
   "id": "97c71870",
   "metadata": {},
   "outputs": [],
   "source": [
    "#Obtener Codigos unicos | Cod. Descrip. | Maquina con un merge\n",
    "df_Codigos_Emp_2 = fc.obtener_cod_descrip(df_costo_semi, df_Emp_2_Mes)"
   ]
  },
  {
   "cell_type": "code",
   "execution_count": 40,
   "id": "0f338305",
   "metadata": {},
   "outputs": [],
   "source": [
    "#Obtener Maquinas únicas de TPM o df_codigos_desc_maq_Mezclas\n",
    "df_Maquinas_Emp_2 = fc.eliminar_duplicados_columna(df_Codigos_Emp_2, 'Máquina / Equipo:')"
   ]
  },
  {
   "cell_type": "code",
   "execution_count": 41,
   "id": "06110a77",
   "metadata": {},
   "outputs": [],
   "source": [
    "#Unión de los dataframes de no convertibles (validar_y_convertir_datos)\n",
    "df_non_conver = pd.concat([df_non_conver_a, df_non_conver_b], ignore_index=True)"
   ]
  },
  {
   "cell_type": "markdown",
   "id": "2209f33e",
   "metadata": {},
   "source": [
    "**Generación de un archivo de fechas Automáticas**"
   ]
  },
  {
   "cell_type": "code",
   "execution_count": 42,
   "id": "e8aa0d23",
   "metadata": {},
   "outputs": [],
   "source": [
    "#Generar dataframe con fechas dese 2024-01-01 hasta el dia actual\n",
    "df_Fechas = fc.generar_fechas(\"2024-01-01\")"
   ]
  },
  {
   "cell_type": "code",
   "execution_count": 43,
   "id": "535014c8",
   "metadata": {},
   "outputs": [],
   "source": [
    "# print(df_Emp_2.shape)\n",
    "# print(df_COOISPI_COMB.shape)\n",
    "# print(df_Emp_2_Mes.shape)\n",
    "# print(df_Codigos_Emp_2.shape)\n",
    "# print(df_Maquinas_Emp_2.shape)\n",
    "# print(df_totalizado_Mes.shape)\n",
    "# print(df_Fechas.shape)\n",
    "# print(df_Emp2_2.shape)\n",
    "# print()\n",
    "# print(df_Emp_2_Nov_Sobrepeso.shape)\n",
    "# print(df_Emp_2_Codigos_nan.shape)\n",
    "# #print(df_Mol_Codigos_unicos.shape)\n",
    "# print(df_Emp_2_nan_ceros.shape)\n",
    "# print(df_non_conver.shape)"
   ]
  },
  {
   "cell_type": "markdown",
   "id": "7a54586f",
   "metadata": {},
   "source": [
    "**Consolidado csv**"
   ]
  },
  {
   "cell_type": "code",
   "execution_count": 44,
   "id": "706feb31",
   "metadata": {},
   "outputs": [],
   "source": [
    "# Ruta para consolidado df_Emp2_2\n",
    "# df_Emp2_2.to_csv(Ruta_Emp_2 + \"DB_Emp2_Out_vf.csv\", index=False)"
   ]
  },
  {
   "cell_type": "markdown",
   "id": "1462d045",
   "metadata": {},
   "source": [
    "**Archivo de consolidado**"
   ]
  },
  {
   "cell_type": "code",
   "execution_count": 45,
   "id": "aa6f25c3",
   "metadata": {},
   "outputs": [
    {
     "name": "stdout",
     "output_type": "stream",
     "text": [
      "Procesando Consolidado...\n",
      "✅ Las hojas en el Archivo de Consolidado han sido limpiadas y actualizadas correctamente.\n"
     ]
    }
   ],
   "source": [
    "#Diccionario de hojas para el archivo de consolidado\n",
    "dataframes_consolidado = {\n",
    "    \"Hoja1\": df_Emp_2,\n",
    "    \"Hoja2\": df_COOISPI_COMB,\n",
    "    \"Hoja3\": df_Emp_2_Mes,\n",
    "    \"Hoja4\": df_Codigos_Emp_2,  #df_merged\n",
    "    \"Hoja5\": df_Maquinas_Emp_2,\n",
    "    \"Hoja6\": df_totalizado_Mes,\n",
    "    \"Hoja7\": df_Fechas,\n",
    "    \"Hoja8\": df_Emp2_2,\n",
    "}\n",
    "#Actualizar hojas del excel de Consolidado_V2\n",
    "fc.actualizar_hojas_excel(Ruta_Consolidados, dataframes_consolidado)"
   ]
  },
  {
   "cell_type": "markdown",
   "id": "0be67501",
   "metadata": {},
   "source": [
    "**Archivo de novedades : Este archivo compila las diferentes novedades presentes en los archivos de TPM**"
   ]
  },
  {
   "cell_type": "code",
   "execution_count": 46,
   "id": "2ec2ea92",
   "metadata": {},
   "outputs": [
    {
     "name": "stdout",
     "output_type": "stream",
     "text": [
      "Procesando Novedades...\n",
      "✅ El Archivo de Novedades guardado exitosamente con 4 hojas guardadas correctamente.\n"
     ]
    }
   ],
   "source": [
    "#Diccionario de hojas para el archivo de novedades\n",
    "dataframes_novedades = {\n",
    "    \"Sobrepeso mayor 10%\": df_Emp_2_Nov_Sobrepeso,            #Novedades sobrepeso\n",
    "    \"Codigos Nulo TPM\": df_Emp_2_Codigos_nan,                 #Novedades codigos nulos\n",
    "    #\"Codigos unicos en TPM\": df_Emp_2_Codigos_unicos,        #Codigos presentes en TPM y no en COOISPI\n",
    "    \"Codigos NA,Vacio, 0\": df_Emp_2_nan_ceros,                #Valores nulos o ceros para gramaje, unidades producidas y promedio peso unidad\n",
    "    \"Errores\": df_non_conver                                  #Valores no convertibles (NaN)\n",
    "}\n",
    "#Guardar el archivo de Novedades\n",
    "fc.crear_archivo_novedades(Ruta_Novedades, dataframes_novedades)"
   ]
  }
 ],
 "metadata": {
  "kernelspec": {
   "display_name": "Python 3",
   "language": "python",
   "name": "python3"
  },
  "language_info": {
   "codemirror_mode": {
    "name": "ipython",
    "version": 3
   },
   "file_extension": ".py",
   "mimetype": "text/x-python",
   "name": "python",
   "nbconvert_exporter": "python",
   "pygments_lexer": "ipython3",
   "version": "3.13.2"
  }
 },
 "nbformat": 4,
 "nbformat_minor": 5
}
