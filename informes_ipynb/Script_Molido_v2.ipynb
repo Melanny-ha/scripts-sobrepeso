{
 "cells": [
  {
   "cell_type": "code",
   "execution_count": 1,
   "id": "f1a1a864",
   "metadata": {},
   "outputs": [],
   "source": [
    "import os\n",
    "import pandas as pd\n",
    "import warnings\n",
    "import functions as fc"
   ]
  },
  {
   "cell_type": "code",
   "execution_count": 2,
   "id": "0cf2258e",
   "metadata": {},
   "outputs": [],
   "source": [
    "#Ocultar advertencias/warnings mas no los borra\n",
    "warnings.filterwarnings(\"ignore\", category=pd.errors.DtypeWarning)"
   ]
  },
  {
   "cell_type": "code",
   "execution_count": 3,
   "id": "1aed7602",
   "metadata": {},
   "outputs": [],
   "source": [
    "#Año evaluado\n",
    "Añoeval = 2025"
   ]
  },
  {
   "cell_type": "markdown",
   "id": "0833cfd6",
   "metadata": {},
   "source": [
    "**Variables globales de las rutas necesarias**"
   ]
  },
  {
   "cell_type": "code",
   "execution_count": 4,
   "id": "5ac92978",
   "metadata": {},
   "outputs": [
    {
     "name": "stdout",
     "output_type": "stream",
     "text": [
      "Ruta 'Ruta_COOISPI' encontrada.\n",
      "Ruta 'Ruta_Archivo_EGE' encontrada.\n",
      "Ruta 'Ruta_Novedades' encontrada.\n",
      "Ruta 'Ruta_Consolidados' encontrada.\n",
      "Ruta 'Ruta_Mol' encontrada.\n"
     ]
    }
   ],
   "source": [
    "#Rutas del archivo de la COOISPI\n",
    "Ruta_COOISPI = \"G:/.shortcut-targets-by-id/1rqpfbdZ6z51epFv6ZwognhckW7HqBMjN/SIRI_2024_INFORMES_SOBREPESO/DATOS/Datos_COOISPI_Molido.csv\"           # Ruta COOISPI en csv\n",
    "#Ruta_COOISPI_2024=\"/content/drive/MyDrive/Consolidado COOISPI/2024/Z10.xlsx\"                                                                        # Ruta COOISPI en el 2024\n",
    "#Ruta_COOISPI_2025=\"/content/drive/MyDrive/Consolidado COOISPI/2025/Z10.xlsx\"                                                                        # Ruta COOISPI en el drive de Jesse Mauricio Beltran\n",
    "\n",
    "#Rutas del archivo del EGE\n",
    "Ruta_Archivo_EGE = \"G:/.shortcut-targets-by-id/1rqpfbdZ6z51epFv6ZwognhckW7HqBMjN/SIRI_2024_INFORMES_SOBREPESO/DATOS/Datos_Molido_2021.csv\"\n",
    "#Ruta_Archivo_EGE = \"/content/drive/MyDrive/SIRI_2024_INFORMES_SOBREPESO/DATOS/Datos_Molido_2021.csv\"                                                # En formato csv en el drive de Melanny Herrera\n",
    "#Ruta_Archivo_EGE = \"/content/drive/MyDrive/appsheet/Coolab/Documentos/Molido/DB Empaque de Molido 2021 MES_Copia.xlsm\"                              # Ruta EGE pruebas Melanny Herrera\n",
    "#Ruta_Archivo_EGE = \"/content/drive/MyDrive/EGE Colcafé Medellín 2018 - 2024/Data historica/2021-2024/DB Empaque de Molido 2021 MES.xlsm\"            # Ruta EGE en el drive de Jesse Mauricio Beltran\n",
    "\n",
    "#Rutas del archivo de Novedades\n",
    "Ruta_Novedades = \"G:/.shortcut-targets-by-id/1rqpfbdZ6z51epFv6ZwognhckW7HqBMjN/SIRI_2024_INFORMES_SOBREPESO/INFORME_MOLIDO/Molido_Novedades.xlsx\"\n",
    "#Ruta_Novedades = \"/content/drive/MyDrive/SIRI_2024_INFORMES_SOBREPESO/INFORME_MOLIDO/Molido_Novedades.xlsx\"                                         # Ruta del archivo de Novedades en el drive de Melanny Herrera\n",
    "#Ruta_novedades = '/content/drive/MyDrive/Proyectos/2024/SIRI_2024_INFORMES_SOBREPESO/INFORME_MOLIDO/Molido_Novedades.xlsx'                          # Ruta del archivo de Novedades en el drive de Jesse Mauricio Beltran\n",
    "\n",
    "#Rutas del archivo de Consolidados\n",
    "Ruta_Consolidados = \"G:/.shortcut-targets-by-id/1rqpfbdZ6z51epFv6ZwognhckW7HqBMjN/SIRI_2024_INFORMES_SOBREPESO/INFORME_MOLIDO/Consolidado_V2.xlsx\"\n",
    "#Ruta_Consolidados = \"/content/drive/MyDrive/SIRI_2024_INFORMES_SOBREPESO/INFORME_MOLIDO/Consolidado_V2.xlsx\"                                        # Ruta del archivo de Consolidados en el drive de Melanny Herrera\n",
    "#Ruta_Consolidados = \"/content/drive/MyDrive/Proyectos/2024/SIRI_2024_INFORMES_SOBREPESO/INFORME_MOLIDO/Consolidado.xlsx\"                            # Ruta del archivo de Novedades en el drive de Jesse Mauricio Beltran\n",
    "\n",
    "#Ruta de salida\n",
    "Ruta_Mol = \"G:/.shortcut-targets-by-id/1rqpfbdZ6z51epFv6ZwognhckW7HqBMjN/SIRI_2024_INFORMES_SOBREPESO/INFORME_MOLIDO/\"\n",
    "#Ruta_Mol = \"/content/drive/MyDrive/SIRI_2024_INFORMES_SOBREPESO/INFORME_MOLIDO/\"                                                                    # Ruta del archivo consolidado csv en el drive de Melanny Herrera\n",
    "#Ruta_Mol = \"/content/drive/MyDrive/Proyectos/2024/SIRI_2024_INFORMES_SOBREPESO/INFORME_MOLIDO/\"                                                     # Ruta del archivo consolidado csv en el drive de Jesse Mauricio Beltran\n",
    "\n",
    "#Validacion de existencia de las rutas\n",
    "for nombre, ruta in {\n",
    "  \"Ruta_COOISPI\": Ruta_COOISPI,\n",
    "  \"Ruta_Archivo_EGE\": Ruta_Archivo_EGE,\n",
    "  \"Ruta_Novedades\": Ruta_Novedades,\n",
    "  \"Ruta_Consolidados\": Ruta_Consolidados,\n",
    "  \"Ruta_Mol\": Ruta_Mol,\n",
    "}.items():\n",
    "  if not os.path.exists(ruta):\n",
    "    raise FileNotFoundError(f\"La ruta '{nombre}' no fue encontrada.\")\n",
    "  else:\n",
    "    print(f\"Ruta '{nombre}' encontrada.\")"
   ]
  },
  {
   "cell_type": "code",
   "execution_count": 5,
   "id": "0c6c9a6f",
   "metadata": {},
   "outputs": [
    {
     "name": "stdout",
     "output_type": "stream",
     "text": [
      "Leyendo archivo...\n"
     ]
    }
   ],
   "source": [
    "#Leer_archivo COOISPI csv\n",
    "df_COOISPI_COMB = fc.leer_archivo(Ruta_COOISPI)"
   ]
  },
  {
   "cell_type": "code",
   "execution_count": 6,
   "id": "943272df",
   "metadata": {},
   "outputs": [],
   "source": [
    "#Convertir columna 'Codigo' a str para futuros procesor (merge y tabla pivote)\n",
    "df_COOISPI_COMB['Codigo'] = df_COOISPI_COMB['Codigo'].astype(str)"
   ]
  },
  {
   "cell_type": "code",
   "execution_count": 7,
   "id": "6faebf61",
   "metadata": {},
   "outputs": [
    {
     "name": "stdout",
     "output_type": "stream",
     "text": [
      "Leyendo archivo...\n"
     ]
    }
   ],
   "source": [
    "#Funcion para leer archivo el EGE/TPM\n",
    "df_Mol = fc.leer_archivo(Ruta_Archivo_EGE, 'Datos')"
   ]
  },
  {
   "cell_type": "code",
   "execution_count": 8,
   "id": "c21ee65d",
   "metadata": {},
   "outputs": [],
   "source": [
    "#Reemplazar el nombre de la columna \"Día:\" para estandarizar los scripts\n",
    "df_Mol.rename(columns={\"Día:\":\"Dia\"}, inplace=True)"
   ]
  },
  {
   "cell_type": "code",
   "execution_count": 9,
   "id": "6f41a3d1",
   "metadata": {},
   "outputs": [],
   "source": [
    "#Eliminar_filas_vacias\n",
    "numeros_vacios_filtrados = fc.eliminar_filas_vacias(df_Mol, 'Número')"
   ]
  },
  {
   "cell_type": "code",
   "execution_count": 10,
   "id": "1b9021f2",
   "metadata": {},
   "outputs": [],
   "source": [
    "#crear_fecha\n",
    "df_Mol = fc.crear_fecha(df_Mol)"
   ]
  },
  {
   "cell_type": "code",
   "execution_count": 11,
   "id": "c465c381",
   "metadata": {},
   "outputs": [],
   "source": [
    "#Tomar solo las columnas de interes del informe de Molido para el sobrepeso\n",
    "columnas=['Número','Dia','Fecha','Mes:','IdMes','Año:','Máquina / Equipo:','Semana:','Turno:','Código y Descrip. / Producto:','Unidades Producidas (Conformes) :', 'Peso Promedio de la unidad (K):','Gramaje (K):']\n",
    "df_Mol = df_Mol[columnas]"
   ]
  },
  {
   "cell_type": "code",
   "execution_count": 12,
   "id": "fb079751",
   "metadata": {},
   "outputs": [],
   "source": [
    "#Filtrar_desde_anio\n",
    "df_Mol = fc.filtrar_desde_anio(df_Mol, 2024)"
   ]
  },
  {
   "cell_type": "code",
   "execution_count": 13,
   "id": "43ff5ebd",
   "metadata": {},
   "outputs": [],
   "source": [
    "#Especificar las columnas en las que deseas aplicar el filtro para eliminar los valores nulos de las columnas de Gramaje, Unidades producidas y Peso promedio\n",
    "columnas_filtrar_nulos = ['Gramaje (K):', 'Unidades Producidas (Conformes) :', 'Peso Promedio de la unidad (K):']"
   ]
  },
  {
   "cell_type": "code",
   "execution_count": 14,
   "id": "74c028b7",
   "metadata": {},
   "outputs": [],
   "source": [
    "#Filtrar_nulos\n",
    "df_Mol_nan_ceros, df_Mol = fc.filtrar_nulos(df_Mol, columnas_filtrar_nulos)\n",
    "df_Mol_nan_ceros = df_Mol_nan_ceros[df_Mol_nan_ceros['Año:']==Añoeval] # Buscando solo los del 2025 en adelante"
   ]
  },
  {
   "cell_type": "markdown",
   "id": "7a88928b",
   "metadata": {},
   "source": [
    "**Modificación de los tipos de datos del archivo de Molido de TPM**"
   ]
  },
  {
   "cell_type": "code",
   "execution_count": 15,
   "id": "f17c179f",
   "metadata": {},
   "outputs": [],
   "source": [
    "#Validar_numericos\n",
    "df_non_conver, df_Mol = fc.validar_numericos(df_Mol, 'Peso Promedio de la unidad (K):')"
   ]
  },
  {
   "cell_type": "code",
   "execution_count": 16,
   "id": "fae2e63b",
   "metadata": {},
   "outputs": [],
   "source": [
    "#Extraer_codigo\n",
    "df_Mol = fc.extraer_codigo(df_Mol)"
   ]
  },
  {
   "cell_type": "markdown",
   "id": "3b004111",
   "metadata": {},
   "source": [
    "**Identificación y supresión de aquellos códigos con valores nulos**"
   ]
  },
  {
   "cell_type": "code",
   "execution_count": 17,
   "id": "030845dd",
   "metadata": {},
   "outputs": [],
   "source": [
    "#Eliminar_codigos_nan\n",
    "df_Mol, df_Mol_Codigos_nan = fc.eliminar_codigos_nan(df_Mol)\n",
    "df_Mol_Codigos_nan = df_Mol_Codigos_nan[df_Mol_Codigos_nan['Año:'] == Añoeval]"
   ]
  },
  {
   "cell_type": "code",
   "execution_count": 18,
   "id": "38e1cce2",
   "metadata": {},
   "outputs": [],
   "source": [
    "#Calcular_columnas\n",
    "df_Mol = fc.calcular_columnas(df_Mol)"
   ]
  },
  {
   "cell_type": "markdown",
   "id": "288edbf8",
   "metadata": {},
   "source": [
    "**Generación de Novedades**"
   ]
  },
  {
   "cell_type": "code",
   "execution_count": 19,
   "id": "318453e2",
   "metadata": {},
   "outputs": [],
   "source": [
    "Sobrepeso_Novedades = 0.20  #20% de Sobrepeso"
   ]
  },
  {
   "cell_type": "code",
   "execution_count": 20,
   "id": "2d353137",
   "metadata": {},
   "outputs": [],
   "source": [
    "#Generar_novedades\n",
    "df_Mol_Nov_Sobrepeso = fc.generar_novedades(df_Mol, Sobrepeso_Novedades)"
   ]
  },
  {
   "cell_type": "code",
   "execution_count": 21,
   "id": "ac3926c7",
   "metadata": {},
   "outputs": [],
   "source": [
    "#Agregar columna 'Costo/kg'\n",
    "df_Mol['Costo/kg'] = 0.0"
   ]
  },
  {
   "cell_type": "markdown",
   "id": "d7e99004",
   "metadata": {},
   "source": [
    "**Tabla de Consolidado Mensual**"
   ]
  },
  {
   "cell_type": "code",
   "execution_count": 22,
   "id": "d2b34714",
   "metadata": {},
   "outputs": [],
   "source": [
    "#Pivote_consolidado\n",
    "df_Mol_Mes = fc.pivote_consolidado(df_Mol)"
   ]
  },
  {
   "cell_type": "code",
   "execution_count": 23,
   "id": "0671e5d4",
   "metadata": {},
   "outputs": [],
   "source": [
    "#Tomar datos desde el año 2024 en adelante\n",
    "df_Mol_Mes = fc.filtrar_desde_anio(df_Mol_Mes, 2024)"
   ]
  },
  {
   "cell_type": "markdown",
   "id": "7bcafda2",
   "metadata": {},
   "source": [
    "**Creación de la agrupación Mensual del archivo de semielaborados**"
   ]
  },
  {
   "cell_type": "code",
   "execution_count": 24,
   "id": "d3d56a7a",
   "metadata": {},
   "outputs": [],
   "source": [
    "df_costo_semi = df_COOISPI_COMB.copy(deep=True)"
   ]
  },
  {
   "cell_type": "code",
   "execution_count": 25,
   "id": "a0683bfc",
   "metadata": {},
   "outputs": [],
   "source": [
    "#Creacion de la agrupacion mensual del archivo semielaborado\n",
    "df_costo_semi_Mes = fc.pivote_semielaborados(df_costo_semi)"
   ]
  },
  {
   "cell_type": "markdown",
   "id": "f390eb83",
   "metadata": {},
   "source": [
    "**Generación del nuevo archivo consolidado v2**"
   ]
  },
  {
   "cell_type": "code",
   "execution_count": 26,
   "id": "ea6c139c",
   "metadata": {},
   "outputs": [],
   "source": [
    "df_Mol_2 = df_Mol.copy(deep=True)"
   ]
  },
  {
   "cell_type": "code",
   "execution_count": 27,
   "id": "8119d7fd",
   "metadata": {},
   "outputs": [],
   "source": [
    "#Traer la columna 'Costo/kg' al dataframe original\n",
    "df_Mol_2 = fc.merge_costo(df_Mol_2, df_costo_semi_Mes)"
   ]
  },
  {
   "cell_type": "code",
   "execution_count": 28,
   "id": "767b6f65",
   "metadata": {},
   "outputs": [],
   "source": [
    "#Eliminar la columna Costo/kg antigua y renombrar la nueva\n",
    "df_Mol_2 = fc.modificar_costo(df_Mol_2)"
   ]
  },
  {
   "cell_type": "code",
   "execution_count": 29,
   "id": "fb56431f",
   "metadata": {},
   "outputs": [],
   "source": [
    "#Definir meta\n",
    "df_Mol_2['Meta'] = 0.005"
   ]
  },
  {
   "cell_type": "code",
   "execution_count": null,
   "id": "db735ab4",
   "metadata": {},
   "outputs": [
    {
     "data": {
      "text/html": [
       "<div>\n",
       "<style scoped>\n",
       "    .dataframe tbody tr th:only-of-type {\n",
       "        vertical-align: middle;\n",
       "    }\n",
       "\n",
       "    .dataframe tbody tr th {\n",
       "        vertical-align: top;\n",
       "    }\n",
       "\n",
       "    .dataframe thead th {\n",
       "        text-align: right;\n",
       "    }\n",
       "</style>\n",
       "<table border=\"1\" class=\"dataframe\">\n",
       "  <thead>\n",
       "    <tr style=\"text-align: right;\">\n",
       "      <th></th>\n",
       "      <th>Número</th>\n",
       "      <th>Dia</th>\n",
       "      <th>Fecha</th>\n",
       "      <th>Mes:</th>\n",
       "      <th>IdMes</th>\n",
       "      <th>Año:</th>\n",
       "      <th>Máquina / Equipo:</th>\n",
       "      <th>Semana:</th>\n",
       "      <th>Turno:</th>\n",
       "      <th>Código y Descrip. / Producto:</th>\n",
       "      <th>...</th>\n",
       "      <th>Peso Promedio de la unidad (K):</th>\n",
       "      <th>Gramaje (K):</th>\n",
       "      <th>Codigo</th>\n",
       "      <th>Real_empaque_calculado</th>\n",
       "      <th>Debe_ser_empaque_calculado</th>\n",
       "      <th>Diferencia_calculado</th>\n",
       "      <th>Sobrepeso_calculado</th>\n",
       "      <th>Costo/kg</th>\n",
       "      <th>Meta</th>\n",
       "      <th>Ahorros_Perdidas</th>\n",
       "    </tr>\n",
       "  </thead>\n",
       "  <tbody>\n",
       "    <tr>\n",
       "      <th>0</th>\n",
       "      <td>61132</td>\n",
       "      <td>3</td>\n",
       "      <td>2024-01-03</td>\n",
       "      <td>Enero</td>\n",
       "      <td>1</td>\n",
       "      <td>2024</td>\n",
       "      <td>ICA 1</td>\n",
       "      <td>1</td>\n",
       "      <td>1</td>\n",
       "      <td>1069854 Cafe SELLO ROJO TyM 10x425g Yuyo Corr</td>\n",
       "      <td>...</td>\n",
       "      <td>0.428980</td>\n",
       "      <td>0.425</td>\n",
       "      <td>1069854</td>\n",
       "      <td>1780.26700</td>\n",
       "      <td>1763.750</td>\n",
       "      <td>16.51700</td>\n",
       "      <td>0.009365</td>\n",
       "      <td>19543.999934</td>\n",
       "      <td>0.005</td>\n",
       "      <td>-151863.560546</td>\n",
       "    </tr>\n",
       "    <tr>\n",
       "      <th>1</th>\n",
       "      <td>61133</td>\n",
       "      <td>3</td>\n",
       "      <td>2024-01-03</td>\n",
       "      <td>Enero</td>\n",
       "      <td>1</td>\n",
       "      <td>2024</td>\n",
       "      <td>WOLF</td>\n",
       "      <td>1</td>\n",
       "      <td>1</td>\n",
       "      <td>1031532 Cafe MM en grano Colombia FT 40 Oz</td>\n",
       "      <td>...</td>\n",
       "      <td>1.159650</td>\n",
       "      <td>1.158</td>\n",
       "      <td>1031532</td>\n",
       "      <td>2143.03320</td>\n",
       "      <td>2139.984</td>\n",
       "      <td>3.04920</td>\n",
       "      <td>0.001425</td>\n",
       "      <td>33540.000000</td>\n",
       "      <td>0.005</td>\n",
       "      <td>256970.777898</td>\n",
       "    </tr>\n",
       "    <tr>\n",
       "      <th>2</th>\n",
       "      <td>61134</td>\n",
       "      <td>3</td>\n",
       "      <td>2024-01-03</td>\n",
       "      <td>Enero</td>\n",
       "      <td>1</td>\n",
       "      <td>2024</td>\n",
       "      <td>WOLF</td>\n",
       "      <td>1</td>\n",
       "      <td>1</td>\n",
       "      <td>1031532 Cafe MM en grano Colombia FT 40 Oz</td>\n",
       "      <td>...</td>\n",
       "      <td>1.158150</td>\n",
       "      <td>1.158</td>\n",
       "      <td>1031532</td>\n",
       "      <td>794.49090</td>\n",
       "      <td>794.388</td>\n",
       "      <td>0.10290</td>\n",
       "      <td>0.000130</td>\n",
       "      <td>33540.000000</td>\n",
       "      <td>0.005</td>\n",
       "      <td>129784.410875</td>\n",
       "    </tr>\n",
       "    <tr>\n",
       "      <th>3</th>\n",
       "      <td>61135</td>\n",
       "      <td>3</td>\n",
       "      <td>2024-01-03</td>\n",
       "      <td>Enero</td>\n",
       "      <td>1</td>\n",
       "      <td>2024</td>\n",
       "      <td>TWH</td>\n",
       "      <td>1</td>\n",
       "      <td>2</td>\n",
       "      <td>1037671 Cafe BASTILLA medio 125g 40pqt.</td>\n",
       "      <td>...</td>\n",
       "      <td>0.125321</td>\n",
       "      <td>0.125</td>\n",
       "      <td>1037671</td>\n",
       "      <td>260.66768</td>\n",
       "      <td>260.000</td>\n",
       "      <td>0.66768</td>\n",
       "      <td>0.002568</td>\n",
       "      <td>15851.000567</td>\n",
       "      <td>0.005</td>\n",
       "      <td>10048.643497</td>\n",
       "    </tr>\n",
       "    <tr>\n",
       "      <th>4</th>\n",
       "      <td>61136</td>\n",
       "      <td>3</td>\n",
       "      <td>2024-01-03</td>\n",
       "      <td>Enero</td>\n",
       "      <td>1</td>\n",
       "      <td>2024</td>\n",
       "      <td>TWH</td>\n",
       "      <td>1</td>\n",
       "      <td>1</td>\n",
       "      <td>1037671 Cafe BASTILLA medio 125g 40pqt.</td>\n",
       "      <td>...</td>\n",
       "      <td>0.125500</td>\n",
       "      <td>0.125</td>\n",
       "      <td>1037671</td>\n",
       "      <td>1310.22000</td>\n",
       "      <td>1305.000</td>\n",
       "      <td>5.22000</td>\n",
       "      <td>0.004000</td>\n",
       "      <td>15851.000567</td>\n",
       "      <td>0.005</td>\n",
       "      <td>20768.297962</td>\n",
       "    </tr>\n",
       "  </tbody>\n",
       "</table>\n",
       "<p>5 rows × 21 columns</p>\n",
       "</div>"
      ],
      "text/plain": [
       "   Número  Dia       Fecha   Mes:  IdMes  Año: Máquina / Equipo:  Semana:  \\\n",
       "0   61132    3  2024-01-03  Enero      1  2024             ICA 1        1   \n",
       "1   61133    3  2024-01-03  Enero      1  2024              WOLF        1   \n",
       "2   61134    3  2024-01-03  Enero      1  2024              WOLF        1   \n",
       "3   61135    3  2024-01-03  Enero      1  2024               TWH        1   \n",
       "4   61136    3  2024-01-03  Enero      1  2024               TWH        1   \n",
       "\n",
       "   Turno:                  Código y Descrip. / Producto:  ...  \\\n",
       "0       1  1069854 Cafe SELLO ROJO TyM 10x425g Yuyo Corr  ...   \n",
       "1       1     1031532 Cafe MM en grano Colombia FT 40 Oz  ...   \n",
       "2       1     1031532 Cafe MM en grano Colombia FT 40 Oz  ...   \n",
       "3       2        1037671 Cafe BASTILLA medio 125g 40pqt.  ...   \n",
       "4       1        1037671 Cafe BASTILLA medio 125g 40pqt.  ...   \n",
       "\n",
       "   Peso Promedio de la unidad (K):  Gramaje (K):   Codigo  \\\n",
       "0                         0.428980         0.425  1069854   \n",
       "1                         1.159650         1.158  1031532   \n",
       "2                         1.158150         1.158  1031532   \n",
       "3                         0.125321         0.125  1037671   \n",
       "4                         0.125500         0.125  1037671   \n",
       "\n",
       "  Real_empaque_calculado  Debe_ser_empaque_calculado  Diferencia_calculado  \\\n",
       "0             1780.26700                    1763.750              16.51700   \n",
       "1             2143.03320                    2139.984               3.04920   \n",
       "2              794.49090                     794.388               0.10290   \n",
       "3              260.66768                     260.000               0.66768   \n",
       "4             1310.22000                    1305.000               5.22000   \n",
       "\n",
       "   Sobrepeso_calculado      Costo/kg   Meta  Ahorros_Perdidas  \n",
       "0             0.009365  19543.999934  0.005    -151863.560546  \n",
       "1             0.001425  33540.000000  0.005     256970.777898  \n",
       "2             0.000130  33540.000000  0.005     129784.410875  \n",
       "3             0.002568  15851.000567  0.005      10048.643497  \n",
       "4             0.004000  15851.000567  0.005      20768.297962  \n",
       "\n",
       "[5 rows x 21 columns]"
      ]
     },
     "execution_count": 30,
     "metadata": {},
     "output_type": "execute_result"
    }
   ],
   "source": [
    "#Calcular columna 'Ahorros/Perdidas'\n",
    "df_Mol_2 = fc.calcular_ahorros_perdidas(df_Mol_2)\n",
    "# df_Mol_2.head()"
   ]
  },
  {
   "cell_type": "markdown",
   "id": "9eacf43d",
   "metadata": {},
   "source": [
    "**Unión de los DataFrames en un DataFrame totalizado**"
   ]
  },
  {
   "cell_type": "code",
   "execution_count": 31,
   "id": "6468ef00",
   "metadata": {},
   "outputs": [],
   "source": [
    "df_totalizado_Mes = df_Mol_Mes.copy(deep=True)"
   ]
  },
  {
   "cell_type": "code",
   "execution_count": 32,
   "id": "7dca1279",
   "metadata": {},
   "outputs": [
    {
     "name": "stdout",
     "output_type": "stream",
     "text": [
      "No hay filas duplicadas.\n"
     ]
    }
   ],
   "source": [
    "#Validar que no hay filas repetidas en df_totalizado_Mes\n",
    "fc.filas_repetidas(df_totalizado_Mes)"
   ]
  },
  {
   "cell_type": "code",
   "execution_count": 33,
   "id": "1d1a1528",
   "metadata": {},
   "outputs": [],
   "source": [
    "#Fusionar los DataFrames en base a 'Año:', 'Codigo' y 'Mes:'\n",
    "df_totalizado_Mes = fc.unir_dataframes(df_totalizado_Mes, df_costo_semi_Mes)"
   ]
  },
  {
   "cell_type": "code",
   "execution_count": null,
   "id": "11be25a1",
   "metadata": {},
   "outputs": [
    {
     "data": {
      "text/html": [
       "<div>\n",
       "<style scoped>\n",
       "    .dataframe tbody tr th:only-of-type {\n",
       "        vertical-align: middle;\n",
       "    }\n",
       "\n",
       "    .dataframe tbody tr th {\n",
       "        vertical-align: top;\n",
       "    }\n",
       "\n",
       "    .dataframe thead th {\n",
       "        text-align: right;\n",
       "    }\n",
       "</style>\n",
       "<table border=\"1\" class=\"dataframe\">\n",
       "  <thead>\n",
       "    <tr style=\"text-align: right;\">\n",
       "      <th></th>\n",
       "      <th>Año:</th>\n",
       "      <th>Mes:</th>\n",
       "      <th>Codigo</th>\n",
       "      <th>Máquina / Equipo:</th>\n",
       "      <th>Debe_ser_empaque_calculado</th>\n",
       "      <th>Diferencia_calculado</th>\n",
       "      <th>Gramaje (K):</th>\n",
       "      <th>Peso Promedio de la unidad (K):</th>\n",
       "      <th>Real_empaque_calculado</th>\n",
       "      <th>Unidades Producidas (Conformes) :</th>\n",
       "      <th>Ctd.</th>\n",
       "      <th>Impte.ML</th>\n",
       "      <th>Real_empaque</th>\n",
       "      <th>Debe_ser_empaque</th>\n",
       "      <th>Diferencia</th>\n",
       "      <th>Sobrepeso</th>\n",
       "      <th>Meta</th>\n",
       "      <th>Costo/kg</th>\n",
       "      <th>Ahorros_Perdidas</th>\n",
       "    </tr>\n",
       "  </thead>\n",
       "  <tbody>\n",
       "    <tr>\n",
       "      <th>0</th>\n",
       "      <td>2024</td>\n",
       "      <td>Abril</td>\n",
       "      <td>1003296</td>\n",
       "      <td>BOSCH</td>\n",
       "      <td>50484.0</td>\n",
       "      <td>179.3016</td>\n",
       "      <td>0.05</td>\n",
       "      <td>0.050274</td>\n",
       "      <td>50663.3016</td>\n",
       "      <td>1009680.0</td>\n",
       "      <td>54573.00</td>\n",
       "      <td>7.859603e+08</td>\n",
       "      <td>50663.3016</td>\n",
       "      <td>50484.0</td>\n",
       "      <td>179.3016</td>\n",
       "      <td>0.003552</td>\n",
       "      <td>0.005</td>\n",
       "      <td>14402.000018</td>\n",
       "      <td>1.056791e+06</td>\n",
       "    </tr>\n",
       "    <tr>\n",
       "      <th>1</th>\n",
       "      <td>2024</td>\n",
       "      <td>Abril</td>\n",
       "      <td>1003304</td>\n",
       "      <td>ICA 3</td>\n",
       "      <td>2995.0</td>\n",
       "      <td>85.9894</td>\n",
       "      <td>0.50</td>\n",
       "      <td>0.515695</td>\n",
       "      <td>3080.9894</td>\n",
       "      <td>5990.0</td>\n",
       "      <td>2848.96</td>\n",
       "      <td>5.197643e+07</td>\n",
       "      <td>3080.9894</td>\n",
       "      <td>2995.0</td>\n",
       "      <td>85.9894</td>\n",
       "      <td>0.028711</td>\n",
       "      <td>0.005</td>\n",
       "      <td>18243.999916</td>\n",
       "      <td>-1.332784e+06</td>\n",
       "    </tr>\n",
       "    <tr>\n",
       "      <th>2</th>\n",
       "      <td>2024</td>\n",
       "      <td>Abril</td>\n",
       "      <td>1003320</td>\n",
       "      <td>BOSCH</td>\n",
       "      <td>575088.0</td>\n",
       "      <td>2633.5032</td>\n",
       "      <td>0.05</td>\n",
       "      <td>0.050242</td>\n",
       "      <td>577721.5032</td>\n",
       "      <td>11501760.0</td>\n",
       "      <td>551294.11</td>\n",
       "      <td>7.971969e+09</td>\n",
       "      <td>577721.5032</td>\n",
       "      <td>575088.0</td>\n",
       "      <td>2633.5032</td>\n",
       "      <td>0.004579</td>\n",
       "      <td>0.005</td>\n",
       "      <td>14460.465286</td>\n",
       "      <td>3.514539e+06</td>\n",
       "    </tr>\n",
       "    <tr>\n",
       "      <th>3</th>\n",
       "      <td>2024</td>\n",
       "      <td>Abril</td>\n",
       "      <td>1003329</td>\n",
       "      <td>TWH</td>\n",
       "      <td>5337.6</td>\n",
       "      <td>49.0584</td>\n",
       "      <td>0.12</td>\n",
       "      <td>0.121165</td>\n",
       "      <td>5386.6584</td>\n",
       "      <td>44480.0</td>\n",
       "      <td>NaN</td>\n",
       "      <td>NaN</td>\n",
       "      <td>5386.6584</td>\n",
       "      <td>5337.6</td>\n",
       "      <td>49.0584</td>\n",
       "      <td>0.009191</td>\n",
       "      <td>0.005</td>\n",
       "      <td>NaN</td>\n",
       "      <td>NaN</td>\n",
       "    </tr>\n",
       "    <tr>\n",
       "      <th>4</th>\n",
       "      <td>2024</td>\n",
       "      <td>Abril</td>\n",
       "      <td>1006557</td>\n",
       "      <td>ICA 3</td>\n",
       "      <td>2880.0</td>\n",
       "      <td>78.8544</td>\n",
       "      <td>0.50</td>\n",
       "      <td>0.513690</td>\n",
       "      <td>2958.8544</td>\n",
       "      <td>5760.0</td>\n",
       "      <td>2959.40</td>\n",
       "      <td>6.741217e+07</td>\n",
       "      <td>2958.8544</td>\n",
       "      <td>2880.0</td>\n",
       "      <td>78.8544</td>\n",
       "      <td>0.027380</td>\n",
       "      <td>0.005</td>\n",
       "      <td>22779.000473</td>\n",
       "      <td>-1.508406e+06</td>\n",
       "    </tr>\n",
       "  </tbody>\n",
       "</table>\n",
       "</div>"
      ],
      "text/plain": [
       "   Año:   Mes:   Codigo Máquina / Equipo:  Debe_ser_empaque_calculado  \\\n",
       "0  2024  Abril  1003296             BOSCH                     50484.0   \n",
       "1  2024  Abril  1003304             ICA 3                      2995.0   \n",
       "2  2024  Abril  1003320             BOSCH                    575088.0   \n",
       "3  2024  Abril  1003329               TWH                      5337.6   \n",
       "4  2024  Abril  1006557             ICA 3                      2880.0   \n",
       "\n",
       "   Diferencia_calculado  Gramaje (K):  Peso Promedio de la unidad (K):  \\\n",
       "0              179.3016          0.05                         0.050274   \n",
       "1               85.9894          0.50                         0.515695   \n",
       "2             2633.5032          0.05                         0.050242   \n",
       "3               49.0584          0.12                         0.121165   \n",
       "4               78.8544          0.50                         0.513690   \n",
       "\n",
       "   Real_empaque_calculado  Unidades Producidas (Conformes) :       Ctd.  \\\n",
       "0              50663.3016                          1009680.0   54573.00   \n",
       "1               3080.9894                             5990.0    2848.96   \n",
       "2             577721.5032                         11501760.0  551294.11   \n",
       "3               5386.6584                            44480.0        NaN   \n",
       "4               2958.8544                             5760.0    2959.40   \n",
       "\n",
       "       Impte.ML  Real_empaque  Debe_ser_empaque  Diferencia  Sobrepeso   Meta  \\\n",
       "0  7.859603e+08    50663.3016           50484.0    179.3016   0.003552  0.005   \n",
       "1  5.197643e+07     3080.9894            2995.0     85.9894   0.028711  0.005   \n",
       "2  7.971969e+09   577721.5032          575088.0   2633.5032   0.004579  0.005   \n",
       "3           NaN     5386.6584            5337.6     49.0584   0.009191  0.005   \n",
       "4  6.741217e+07     2958.8544            2880.0     78.8544   0.027380  0.005   \n",
       "\n",
       "       Costo/kg  Ahorros_Perdidas  \n",
       "0  14402.000018      1.056791e+06  \n",
       "1  18243.999916     -1.332784e+06  \n",
       "2  14460.465286      3.514539e+06  \n",
       "3           NaN               NaN  \n",
       "4  22779.000473     -1.508406e+06  "
      ]
     },
     "execution_count": 34,
     "metadata": {},
     "output_type": "execute_result"
    }
   ],
   "source": [
    "#Metodo calcular_columnas_totalizado con meta fija\n",
    "df_totalizado_Mes = fc.calcular_columnas_totalizado(df_totalizado_Mes, 0.005)\n",
    "# df_totalizado_Mes.head()"
   ]
  },
  {
   "cell_type": "code",
   "execution_count": 35,
   "id": "af3633b1",
   "metadata": {},
   "outputs": [],
   "source": [
    "#Obtener Codigos unicos | Cod. Descrip. | Maquina con un merge\n",
    "df_Codigos_Mol = fc.obtener_cod_descrip(df_costo_semi, df_Mol_Mes)"
   ]
  },
  {
   "cell_type": "code",
   "execution_count": 36,
   "id": "d96254f5",
   "metadata": {},
   "outputs": [],
   "source": [
    "#Eliminar_duplicados_columna\n",
    "df_Maquinas_Mol = fc.eliminar_duplicados_columna(df_Codigos_Mol, 'Máquina / Equipo:')"
   ]
  },
  {
   "cell_type": "markdown",
   "id": "a249b4d3",
   "metadata": {},
   "source": [
    "**Generación de un archivo de fechas Automáticas**"
   ]
  },
  {
   "cell_type": "code",
   "execution_count": 37,
   "id": "0e08832a",
   "metadata": {},
   "outputs": [],
   "source": [
    "#Generar dataframe con fechas dese 2024-01-01 hasta el dia actual\n",
    "df_Fechas = fc.generar_fechas(\"2024-01-01\")"
   ]
  },
  {
   "cell_type": "code",
   "execution_count": 38,
   "id": "a374d366",
   "metadata": {},
   "outputs": [],
   "source": [
    "# print(df_Mol.shape)\n",
    "# print(df_COOISPI_COMB.shape)\n",
    "# print(df_Mol_Mes.shape)\n",
    "# print(df_Codigos_Mol.shape)\n",
    "# print(df_Maquinas_Mol.shape)\n",
    "# print(df_totalizado_Mes.shape)\n",
    "# print(df_Fechas.shape)\n",
    "# print(df_Mol_2.shape)\n",
    "# print()\n",
    "# print(df_Mol_Nov_Sobrepeso.shape)\n",
    "# print(df_Mol_Codigos_nan.shape)\n",
    "# #print(df_Env_Sol_Codigos_unicos.shape)\n",
    "# print(df_Mol_nan_ceros.shape)\n",
    "# print(df_non_conver.shape)"
   ]
  },
  {
   "cell_type": "markdown",
   "id": "6d489d78",
   "metadata": {},
   "source": [
    "**Consolidado csv**"
   ]
  },
  {
   "cell_type": "code",
   "execution_count": 39,
   "id": "b2580a92",
   "metadata": {},
   "outputs": [],
   "source": [
    "#Ruta para consolidado df_Mol_2\n",
    "df_Mol_2.to_csv(Ruta_Mol + \"DB_Molido_Out_vf.csv\", index=True)"
   ]
  },
  {
   "cell_type": "markdown",
   "id": "78e764fa",
   "metadata": {},
   "source": [
    "**Archivo de consolidado**"
   ]
  },
  {
   "cell_type": "code",
   "execution_count": 40,
   "id": "fed8989d",
   "metadata": {},
   "outputs": [
    {
     "name": "stdout",
     "output_type": "stream",
     "text": [
      "Procesando Consolidado...\n",
      "✅ Las hojas en el Archivo de Consolidado han sido limpiadas y actualizadas correctamente.\n"
     ]
    }
   ],
   "source": [
    "#Diccionario de hojas para el archivo de consolidado\n",
    "dataframes_consolidado = {\n",
    "    \"Hoja1\": df_Mol,\n",
    "    \"Hoja2\": df_COOISPI_COMB,\n",
    "    \"Hoja3\": df_Mol_Mes,\n",
    "    \"Hoja4\": df_Codigos_Mol,         #df_merged\n",
    "    \"Hoja5\": df_Maquinas_Mol,\n",
    "    \"Hoja6\": df_totalizado_Mes,\n",
    "    \"Hoja7\": df_Fechas,\n",
    "    \"Hoja8\": df_Mol_2,\n",
    "    \"Hoja9\": df_Mol_2\n",
    "}\n",
    "#Actualizar hojas del excel de Consolidado_V2\n",
    "fc.actualizar_hojas_excel(Ruta_Consolidados, dataframes_consolidado)"
   ]
  },
  {
   "cell_type": "markdown",
   "id": "60af6145",
   "metadata": {},
   "source": [
    "**Archivo de novedades: este archivo compila las diferentes novedades presentes en los archivos de TPM**"
   ]
  },
  {
   "cell_type": "code",
   "execution_count": 41,
   "id": "e6db9ff5",
   "metadata": {},
   "outputs": [
    {
     "name": "stdout",
     "output_type": "stream",
     "text": [
      "Procesando Novedades...\n",
      "✅ El Archivo de Novedades guardado exitosamente con 4 hojas guardadas correctamente.\n"
     ]
    }
   ],
   "source": [
    "#Diccionario de hojas para el archivo de novedades\n",
    "dataframes_novedades = {\n",
    "    \"Hoja1\": df_Mol_Nov_Sobrepeso,          #Novedades sobrepeso\n",
    "    \"Hoja2\": df_Mol_Codigos_nan,            #Novedades codigos nulos\n",
    "    #\"Hoja3\": df_Mol_Codigos_unicos,        #Codigos presentes en TPM y no en COOISPI\n",
    "    \"Hoja4\": df_Mol_nan_ceros,              #Valores nulos o ceros para gramaje, unidades producidas y promedio peso unidad\n",
    "    \"Hoja5\": df_non_conver                  #Valores no convertibles\n",
    "}\n",
    "#Guardar el archivo de Novedades\n",
    "fc.crear_archivo_novedades(Ruta_Novedades, dataframes_novedades)"
   ]
  }
 ],
 "metadata": {
  "kernelspec": {
   "display_name": "Python 3",
   "language": "python",
   "name": "python3"
  },
  "language_info": {
   "codemirror_mode": {
    "name": "ipython",
    "version": 3
   },
   "file_extension": ".py",
   "mimetype": "text/x-python",
   "name": "python",
   "nbconvert_exporter": "python",
   "pygments_lexer": "ipython3",
   "version": "3.13.2"
  }
 },
 "nbformat": 4,
 "nbformat_minor": 5
}
