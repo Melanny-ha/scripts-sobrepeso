{
 "cells": [
  {
   "cell_type": "code",
   "execution_count": 83,
   "id": "f1a1a864",
   "metadata": {},
   "outputs": [],
   "source": [
    "import os\n",
    "import pandas as pd\n",
    "import warnings\n",
    "import funciones_tpm as fc"
   ]
  },
  {
   "cell_type": "code",
   "execution_count": 84,
   "id": "0cf2258e",
   "metadata": {},
   "outputs": [],
   "source": [
    "#Ocultar advertencias/warnings mas no los borra\n",
    "warnings.filterwarnings(\"ignore\", category=pd.errors.DtypeWarning)"
   ]
  },
  {
   "cell_type": "code",
   "execution_count": 85,
   "id": "1aed7602",
   "metadata": {},
   "outputs": [],
   "source": [
    "#Año evaluado\n",
    "Añoeval = 2025"
   ]
  },
  {
   "cell_type": "markdown",
   "id": "0833cfd6",
   "metadata": {},
   "source": [
    "**Variables globales de las rutas necesarias**"
   ]
  },
  {
   "cell_type": "code",
   "execution_count": 86,
   "id": "5ac92978",
   "metadata": {},
   "outputs": [
    {
     "name": "stdout",
     "output_type": "stream",
     "text": [
      "Ruta 'Ruta_COOISPI' encontrada.\n",
      "Ruta 'Ruta_Archivo_EGE' encontrada.\n",
      "Ruta 'Ruta_Novedades' encontrada.\n",
      "Ruta 'Ruta_Consolidados' encontrada.\n"
     ]
    }
   ],
   "source": [
    "#Rutas del archivo de la COOISPI\n",
    "Ruta_COOISPI = r'\\\\10.28.5.232\\s3-1colcafeci-servicios-jtc\\TPM\\Colcafé Formularios\\BD Sobrepeso\\COOISPI\\Datos_COOISPI_Molido.csv'                         # Ruta COOISPI en csv\n",
    "\n",
    "#Rutas del archivo del EGE\n",
    "Ruta_Archivo_EGE = r'\\\\10.28.5.232\\s3-1colcafeci-servicios-jtc\\TPM\\Colcafé Formularios\\BD Sobrepeso\\Backup_BD_Salones\\Datos_Molido_2021.csv'              # Ruta Molido\n",
    "\n",
    "#Rutas del archivo de Novedades\n",
    "Ruta_Novedades = r'\\\\10.28.5.232\\s3-1colcafeci-servicios-jtc\\TPM\\Colcafé Formularios\\BD Sobrepeso\\Consolidados_Salones\\Molido\\Molido_Novedades_V2.xlsx'   # Ruta del archivo de Novedades\n",
    "\n",
    "#Rutas del archivo de Consolidados\n",
    "Ruta_Consolidados = r'\\\\10.28.5.232\\s3-1colcafeci-servicios-jtc\\TPM\\Colcafé Formularios\\BD Sobrepeso\\Consolidados_Salones\\Molido\\Consolidado_V2.xlsx'     # Ruta del archivo de Consolidados\n",
    "\n",
    "# Ruta de salida\n",
    "# Ruta_Mol = r'\\\\10.28.5.232\\s3-1colcafeci-servicios-jtc\\TPM\\Colcafé Formularios\\BD Sobrepeso\\Consolidados_Salones\\Molido'                                # DB_Molido_Out_vf.csv\n",
    "\n",
    "#Validacion de existencia de las rutas\n",
    "for nombre, ruta in {\n",
    "  \"Ruta_COOISPI\": Ruta_COOISPI,\n",
    "  \"Ruta_Archivo_EGE\": Ruta_Archivo_EGE,\n",
    "  \"Ruta_Novedades\": Ruta_Novedades,\n",
    "  \"Ruta_Consolidados\": Ruta_Consolidados,\n",
    "  # \"Ruta_Mol\": Ruta_Mol,\n",
    "}.items():\n",
    "  if not os.path.exists(ruta):\n",
    "    raise FileNotFoundError(f\"La ruta '{nombre}' no fue encontrada.\")\n",
    "  else:\n",
    "    print(f\"Ruta '{nombre}' encontrada.\")"
   ]
  },
  {
   "cell_type": "code",
   "execution_count": 87,
   "id": "0c6c9a6f",
   "metadata": {},
   "outputs": [
    {
     "name": "stdout",
     "output_type": "stream",
     "text": [
      "Leyendo archivo...\n"
     ]
    }
   ],
   "source": [
    "#Leer_archivo COOISPI csv\n",
    "df_COOISPI_COMB = fc.leer_archivo(Ruta_COOISPI)"
   ]
  },
  {
   "cell_type": "code",
   "execution_count": 88,
   "id": "943272df",
   "metadata": {},
   "outputs": [],
   "source": [
    "#Convertir columna 'Codigo' a str para futuros procesor (merge y tabla pivote)\n",
    "df_COOISPI_COMB['Codigo'] = df_COOISPI_COMB['Codigo'].astype(str)"
   ]
  },
  {
   "cell_type": "code",
   "execution_count": 89,
   "id": "6faebf61",
   "metadata": {},
   "outputs": [
    {
     "name": "stdout",
     "output_type": "stream",
     "text": [
      "Leyendo archivo...\n"
     ]
    }
   ],
   "source": [
    "#Funcion para leer archivo el EGE/TPM\n",
    "df_Mol = fc.leer_archivo(Ruta_Archivo_EGE, 'Datos')"
   ]
  },
  {
   "cell_type": "code",
   "execution_count": 90,
   "id": "c21ee65d",
   "metadata": {},
   "outputs": [],
   "source": [
    "#Reemplazar el nombre de la columna \"Día:\" para estandarizar los scripts\n",
    "df_Mol.rename(columns={\"Día:\":\"Dia\"}, inplace=True)"
   ]
  },
  {
   "cell_type": "code",
   "execution_count": 91,
   "id": "6f41a3d1",
   "metadata": {},
   "outputs": [],
   "source": [
    "#Eliminar_filas_vacias\n",
    "numeros_vacios_filtrados = fc.eliminar_filas_vacias(df_Mol, 'Número')"
   ]
  },
  {
   "cell_type": "code",
   "execution_count": 92,
   "id": "1b9021f2",
   "metadata": {},
   "outputs": [],
   "source": [
    "#crear_fecha\n",
    "df_Mol = fc.crear_fecha(df_Mol)"
   ]
  },
  {
   "cell_type": "code",
   "execution_count": 93,
   "id": "c465c381",
   "metadata": {},
   "outputs": [],
   "source": [
    "#Tomar solo las columnas de interes del informe de Molido para el sobrepeso\n",
    "columnas=['Número','Dia','Fecha','Mes:','IdMes','Año:','Máquina / Equipo:','Semana:','Turno:','Código y Descrip. / Producto:','Unidades Producidas (Conformes) :', 'Peso Promedio de la unidad (K):','Gramaje (K):']\n",
    "df_Mol = df_Mol[columnas]"
   ]
  },
  {
   "cell_type": "code",
   "execution_count": 94,
   "id": "fb079751",
   "metadata": {},
   "outputs": [],
   "source": [
    "#Filtrar_desde_anio\n",
    "df_Mol = fc.filtrar_desde_anio(df_Mol, 2024)"
   ]
  },
  {
   "cell_type": "code",
   "execution_count": 95,
   "id": "43ff5ebd",
   "metadata": {},
   "outputs": [],
   "source": [
    "#Especificar las columnas en las que deseas aplicar el filtro para eliminar los valores nulos de las columnas de Gramaje, Unidades producidas y Peso promedio\n",
    "columnas_filtrar_nulos = ['Gramaje (K):', 'Unidades Producidas (Conformes) :', 'Peso Promedio de la unidad (K):']"
   ]
  },
  {
   "cell_type": "code",
   "execution_count": 96,
   "id": "74c028b7",
   "metadata": {},
   "outputs": [],
   "source": [
    "#Filtrar_nulos\n",
    "df_Mol_nan_ceros, df_Mol = fc.filtrar_nulos(df_Mol, columnas_filtrar_nulos)\n",
    "df_Mol_nan_ceros = df_Mol_nan_ceros[df_Mol_nan_ceros['Año:']==Añoeval] # Buscando solo los del 2025 en adelante"
   ]
  },
  {
   "cell_type": "markdown",
   "id": "7a88928b",
   "metadata": {},
   "source": [
    "**Modificación de los tipos de datos del archivo de Molido de TPM**"
   ]
  },
  {
   "cell_type": "code",
   "execution_count": 97,
   "id": "f17c179f",
   "metadata": {},
   "outputs": [],
   "source": [
    "#Validar_numericos\n",
    "df_non_conver, df_Mol = fc.validar_numericos(df_Mol, 'Peso Promedio de la unidad (K):')"
   ]
  },
  {
   "cell_type": "code",
   "execution_count": 98,
   "id": "fae2e63b",
   "metadata": {},
   "outputs": [],
   "source": [
    "#Extraer_codigo\n",
    "df_Mol = fc.extraer_codigo(df_Mol)"
   ]
  },
  {
   "cell_type": "markdown",
   "id": "3b004111",
   "metadata": {},
   "source": [
    "**Identificación y supresión de aquellos códigos con valores nulos**"
   ]
  },
  {
   "cell_type": "code",
   "execution_count": 99,
   "id": "030845dd",
   "metadata": {},
   "outputs": [],
   "source": [
    "#Eliminar_codigos_nan\n",
    "df_Mol, df_Mol_Codigos_nan = fc.eliminar_codigos_nan(df_Mol)\n",
    "df_Mol_Codigos_nan = df_Mol_Codigos_nan[df_Mol_Codigos_nan['Año:'] == Añoeval]"
   ]
  },
  {
   "cell_type": "code",
   "execution_count": 100,
   "id": "38e1cce2",
   "metadata": {},
   "outputs": [],
   "source": [
    "#Calcular_columnas\n",
    "df_Mol = fc.calcular_columnas(df_Mol)"
   ]
  },
  {
   "cell_type": "markdown",
   "id": "288edbf8",
   "metadata": {},
   "source": [
    "**Generación de Novedades**"
   ]
  },
  {
   "cell_type": "code",
   "execution_count": 101,
   "id": "318453e2",
   "metadata": {},
   "outputs": [],
   "source": [
    "Sobrepeso_Novedades = 0.20  #20% de Sobrepeso"
   ]
  },
  {
   "cell_type": "code",
   "execution_count": 102,
   "id": "2d353137",
   "metadata": {},
   "outputs": [],
   "source": [
    "#Generar_novedades\n",
    "df_Mol_Nov_Sobrepeso = fc.generar_novedades(df_Mol, Sobrepeso_Novedades)"
   ]
  },
  {
   "cell_type": "code",
   "execution_count": 103,
   "id": "ac3926c7",
   "metadata": {},
   "outputs": [],
   "source": [
    "#Agregar columna 'Costo/kg'\n",
    "df_Mol['Costo/kg'] = 0.0"
   ]
  },
  {
   "cell_type": "markdown",
   "id": "d7e99004",
   "metadata": {},
   "source": [
    "**Tabla de Consolidado Mensual**"
   ]
  },
  {
   "cell_type": "code",
   "execution_count": 104,
   "id": "d2b34714",
   "metadata": {},
   "outputs": [],
   "source": [
    "#Pivote_consolidado\n",
    "df_Mol_Mes = fc.pivote_consolidado(df_Mol)"
   ]
  },
  {
   "cell_type": "code",
   "execution_count": 105,
   "id": "0671e5d4",
   "metadata": {},
   "outputs": [],
   "source": [
    "#Tomar datos desde el año 2024 en adelante\n",
    "df_Mol_Mes = fc.filtrar_desde_anio(df_Mol_Mes, 2024)"
   ]
  },
  {
   "cell_type": "markdown",
   "id": "7bcafda2",
   "metadata": {},
   "source": [
    "**Creación de la agrupación Mensual del archivo de semielaborados**"
   ]
  },
  {
   "cell_type": "code",
   "execution_count": 106,
   "id": "d3d56a7a",
   "metadata": {},
   "outputs": [],
   "source": [
    "df_costo_semi = df_COOISPI_COMB.copy(deep=True)"
   ]
  },
  {
   "cell_type": "code",
   "execution_count": 107,
   "id": "a0683bfc",
   "metadata": {},
   "outputs": [],
   "source": [
    "#Creacion de la agrupacion mensual del archivo semielaborado\n",
    "df_costo_semi_Mes = fc.pivote_semielaborados(df_costo_semi)"
   ]
  },
  {
   "cell_type": "markdown",
   "id": "f390eb83",
   "metadata": {},
   "source": [
    "**Generación del nuevo archivo consolidado v2**"
   ]
  },
  {
   "cell_type": "code",
   "execution_count": 108,
   "id": "ea6c139c",
   "metadata": {},
   "outputs": [],
   "source": [
    "df_Mol_2 = df_Mol.copy(deep=True)"
   ]
  },
  {
   "cell_type": "code",
   "execution_count": 109,
   "id": "8119d7fd",
   "metadata": {},
   "outputs": [],
   "source": [
    "#Traer la columna 'Costo/kg' al dataframe original\n",
    "df_Mol_2 = fc.merge_costo(df_Mol_2, df_costo_semi_Mes)"
   ]
  },
  {
   "cell_type": "code",
   "execution_count": 110,
   "id": "767b6f65",
   "metadata": {},
   "outputs": [],
   "source": [
    "#Eliminar la columna Costo/kg antigua y renombrar la nueva\n",
    "df_Mol_2 = fc.modificar_costo(df_Mol_2)"
   ]
  },
  {
   "cell_type": "code",
   "execution_count": 111,
   "id": "fb56431f",
   "metadata": {},
   "outputs": [],
   "source": [
    "#Definir meta\n",
    "df_Mol_2['Meta'] = 0.005"
   ]
  },
  {
   "cell_type": "code",
   "execution_count": 112,
   "id": "db735ab4",
   "metadata": {},
   "outputs": [],
   "source": [
    "#Calcular columna 'Ahorros/Perdidas'\n",
    "df_Mol_2 = fc.calcular_ahorros_perdidas(df_Mol_2)\n",
    "# df_Mol_2.head()"
   ]
  },
  {
   "cell_type": "markdown",
   "id": "9eacf43d",
   "metadata": {},
   "source": [
    "**Unión de los DataFrames en un DataFrame totalizado**"
   ]
  },
  {
   "cell_type": "code",
   "execution_count": 113,
   "id": "6468ef00",
   "metadata": {},
   "outputs": [],
   "source": [
    "df_totalizado_Mes = df_Mol_Mes.copy(deep=True)"
   ]
  },
  {
   "cell_type": "code",
   "execution_count": 114,
   "id": "7dca1279",
   "metadata": {},
   "outputs": [
    {
     "name": "stdout",
     "output_type": "stream",
     "text": [
      "No hay filas duplicadas.\n"
     ]
    }
   ],
   "source": [
    "#Validar que no hay filas repetidas en df_totalizado_Mes\n",
    "fc.filas_repetidas(df_totalizado_Mes)"
   ]
  },
  {
   "cell_type": "code",
   "execution_count": 115,
   "id": "1d1a1528",
   "metadata": {},
   "outputs": [],
   "source": [
    "#Fusionar los DataFrames en base a 'Año:', 'Codigo' y 'Mes:'\n",
    "df_totalizado_Mes = fc.unir_dataframes(df_totalizado_Mes, df_costo_semi_Mes)"
   ]
  },
  {
   "cell_type": "code",
   "execution_count": 116,
   "id": "11be25a1",
   "metadata": {},
   "outputs": [],
   "source": [
    "#Metodo calcular_columnas_totalizado con meta fija\n",
    "df_totalizado_Mes = fc.calcular_columnas_totalizado(df_totalizado_Mes, 0.005)\n",
    "# df_totalizado_Mes.head()"
   ]
  },
  {
   "cell_type": "code",
   "execution_count": 117,
   "id": "af3633b1",
   "metadata": {},
   "outputs": [],
   "source": [
    "#Obtener Codigos unicos | Cod. Descrip. | Maquina con un merge\n",
    "df_Codigos_Mol = fc.obtener_cod_descrip(df_costo_semi, df_Mol_Mes)"
   ]
  },
  {
   "cell_type": "code",
   "execution_count": 118,
   "id": "d96254f5",
   "metadata": {},
   "outputs": [],
   "source": [
    "#Eliminar_duplicados_columna\n",
    "df_Maquinas_Mol = fc.eliminar_duplicados_columna(df_Codigos_Mol, 'Máquina / Equipo:')"
   ]
  },
  {
   "cell_type": "markdown",
   "id": "a249b4d3",
   "metadata": {},
   "source": [
    "**Generación de un archivo de fechas Automáticas**"
   ]
  },
  {
   "cell_type": "code",
   "execution_count": 119,
   "id": "0e08832a",
   "metadata": {},
   "outputs": [],
   "source": [
    "#Generar dataframe con fechas dese 2024-01-01 hasta el dia actual\n",
    "df_Fechas = fc.generar_fechas(\"2024-01-01\")"
   ]
  },
  {
   "cell_type": "code",
   "execution_count": 120,
   "id": "a374d366",
   "metadata": {},
   "outputs": [],
   "source": [
    "# print(df_Mol.shape)\n",
    "# print(df_COOISPI_COMB.shape)\n",
    "# print(df_Mol_Mes.shape)\n",
    "# print(df_Codigos_Mol.shape)\n",
    "# print(df_Maquinas_Mol.shape)\n",
    "# print(df_totalizado_Mes.shape)\n",
    "# print(df_Fechas.shape)\n",
    "# print(df_Mol_2.shape)\n",
    "# print()\n",
    "# print(df_Mol_Nov_Sobrepeso.shape)\n",
    "# print(df_Mol_Codigos_nan.shape)\n",
    "# #print(df_Env_Sol_Codigos_unicos.shape)\n",
    "# print(df_Mol_nan_ceros.shape)\n",
    "# print(df_non_conver.shape)"
   ]
  },
  {
   "cell_type": "markdown",
   "id": "6d489d78",
   "metadata": {},
   "source": [
    "**Consolidado csv**"
   ]
  },
  {
   "cell_type": "code",
   "execution_count": 121,
   "id": "b2580a92",
   "metadata": {},
   "outputs": [],
   "source": [
    "# Ruta para consolidado df_Mol_2\n",
    "# df_Mol_2.to_csv(Ruta_Mol + \"DB_Molido_Out_vf.csv\", index=True)"
   ]
  },
  {
   "cell_type": "markdown",
   "id": "78e764fa",
   "metadata": {},
   "source": [
    "**Archivo de consolidado**"
   ]
  },
  {
   "cell_type": "code",
   "execution_count": null,
   "id": "fed8989d",
   "metadata": {},
   "outputs": [
    {
     "name": "stdout",
     "output_type": "stream",
     "text": [
      "Procesando Consolidado...\n"
     ]
    },
    {
     "name": "stdout",
     "output_type": "stream",
     "text": [
      "✅ Las hojas en el Archivo de Consolidado han sido limpiadas y actualizadas correctamente.\n"
     ]
    }
   ],
   "source": [
    "#Diccionario de hojas para el archivo de consolidado\n",
    "dataframes_consolidado = {\n",
    "    \"Hoja1\": df_Mol,\n",
    "    \"Hoja2\": df_COOISPI_COMB,\n",
    "    \"Hoja3\": df_Mol_Mes,\n",
    "    \"Hoja4\": df_Codigos_Mol,         #df_merged\n",
    "    \"Hoja5\": df_Maquinas_Mol,\n",
    "    \"Hoja6\": df_totalizado_Mes,\n",
    "    \"Hoja7\": df_Fechas,\n",
    "    \"Hoja8\": df_Mol_2,\n",
    "}\n",
    "#Actualizar hojas del excel de Consolidado_V2\n",
    "fc.actualizar_hojas_excel(Ruta_Consolidados, dataframes_consolidado)"
   ]
  },
  {
   "cell_type": "markdown",
   "id": "60af6145",
   "metadata": {},
   "source": [
    "**Archivo de novedades: este archivo compila las diferentes novedades presentes en los archivos de TPM**"
   ]
  },
  {
   "cell_type": "code",
   "execution_count": null,
   "id": "e6db9ff5",
   "metadata": {},
   "outputs": [
    {
     "name": "stdout",
     "output_type": "stream",
     "text": [
      "Procesando Novedades...\n",
      "✅ El Archivo de Novedades guardado exitosamente con 4 hojas guardadas correctamente.\n"
     ]
    }
   ],
   "source": [
    "#Diccionario de hojas para el archivo de novedades\n",
    "dataframes_novedades = {\n",
    "    \"Sobrepeso mayor  20%\": df_Mol_Nov_Sobrepeso,           #Novedades sobrepeso\n",
    "    \"Codigos Nulo TPM\": df_Mol_Codigos_nan,                 #Novedades codigos nulos\n",
    "    #\"Codigos unicos en TPM\": df_Mol_Codigos_unicos,        #Codigos presentes en TPM y no en COOISPI\n",
    "    \"Codigos NA,Vacio, 0\": df_Mol_nan_ceros,                #Valores nulos o ceros para gramaje, unidades producidas y promedio peso unidad\n",
    "    \"Errores\": df_non_conver                                #Valores no convertibles\n",
    "}\n",
    "#Guardar el archivo de Novedades\n",
    "fc.crear_archivo_novedades(Ruta_Novedades, dataframes_novedades)"
   ]
  }
 ],
 "metadata": {
  "kernelspec": {
   "display_name": "Python 3",
   "language": "python",
   "name": "python3"
  },
  "language_info": {
   "codemirror_mode": {
    "name": "ipython",
    "version": 3
   },
   "file_extension": ".py",
   "mimetype": "text/x-python",
   "name": "python",
   "nbconvert_exporter": "python",
   "pygments_lexer": "ipython3",
   "version": "3.13.2"
  }
 },
 "nbformat": 4,
 "nbformat_minor": 5
}
